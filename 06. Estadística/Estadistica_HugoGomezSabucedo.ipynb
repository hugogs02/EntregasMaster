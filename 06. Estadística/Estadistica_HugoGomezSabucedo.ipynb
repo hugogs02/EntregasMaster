{
 "cells": [
  {
   "cell_type": "code",
   "execution_count": 1,
   "metadata": {},
   "outputs": [],
   "source": [
    "import pandas as pd\n",
    "import matplotlib.pyplot as plt\n",
    "import seaborn as sns\n",
    "import math\n",
    "import warnings\n",
    "from scipy import stats\n",
    "import numpy as np\n",
    "from sklearn.preprocessing import StandardScaler\n",
    "\n",
    "warnings.filterwarnings('ignore')"
   ]
  },
  {
   "cell_type": "code",
   "execution_count": 2,
   "metadata": {},
   "outputs": [],
   "source": [
    "df = pd.read_excel('datosejercicioevaluacionanchuras.xlsx')\n",
    "df_1 = df[df['Época histórica']==1] # Predinástico temprano\n",
    "df_2 = df[df['Época histórica']==2] # Predinástico tardío"
   ]
  },
  {
   "cell_type": "markdown",
   "metadata": {},
   "source": [
    "# Ejercicio 1-a)"
   ]
  },
  {
   "cell_type": "markdown",
   "metadata": {},
   "source": [
    "En primer lugar, vamos a obtener las diferentes medidas de centralización, dispersión, asimetría y curtosis para la anchura de los cráneos del periodo predinástico temprano."
   ]
  },
  {
   "cell_type": "code",
   "execution_count": 3,
   "metadata": {},
   "outputs": [
    {
     "data": {
      "text/html": [
       "<div>\n",
       "<style scoped>\n",
       "    .dataframe tbody tr th:only-of-type {\n",
       "        vertical-align: middle;\n",
       "    }\n",
       "\n",
       "    .dataframe tbody tr th {\n",
       "        vertical-align: top;\n",
       "    }\n",
       "\n",
       "    .dataframe thead th {\n",
       "        text-align: right;\n",
       "    }\n",
       "</style>\n",
       "<table border=\"1\" class=\"dataframe\">\n",
       "  <thead>\n",
       "    <tr style=\"text-align: right;\">\n",
       "      <th></th>\n",
       "      <th>Medida</th>\n",
       "      <th>Anchura del cráneo</th>\n",
       "    </tr>\n",
       "  </thead>\n",
       "  <tbody>\n",
       "    <tr>\n",
       "      <th>0</th>\n",
       "      <td>count</td>\n",
       "      <td>30.000000</td>\n",
       "    </tr>\n",
       "    <tr>\n",
       "      <th>1</th>\n",
       "      <td>mean</td>\n",
       "      <td>131.533333</td>\n",
       "    </tr>\n",
       "    <tr>\n",
       "      <th>2</th>\n",
       "      <td>std</td>\n",
       "      <td>0.819307</td>\n",
       "    </tr>\n",
       "    <tr>\n",
       "      <th>3</th>\n",
       "      <td>min</td>\n",
       "      <td>130.000000</td>\n",
       "    </tr>\n",
       "    <tr>\n",
       "      <th>4</th>\n",
       "      <td>25%</td>\n",
       "      <td>131.000000</td>\n",
       "    </tr>\n",
       "    <tr>\n",
       "      <th>5</th>\n",
       "      <td>50%</td>\n",
       "      <td>131.500000</td>\n",
       "    </tr>\n",
       "    <tr>\n",
       "      <th>6</th>\n",
       "      <td>75%</td>\n",
       "      <td>132.000000</td>\n",
       "    </tr>\n",
       "    <tr>\n",
       "      <th>7</th>\n",
       "      <td>max</td>\n",
       "      <td>134.000000</td>\n",
       "    </tr>\n",
       "  </tbody>\n",
       "</table>\n",
       "</div>"
      ],
      "text/plain": [
       "  Medida  Anchura del cráneo\n",
       "0  count           30.000000\n",
       "1   mean          131.533333\n",
       "2    std            0.819307\n",
       "3    min          130.000000\n",
       "4    25%          131.000000\n",
       "5    50%          131.500000\n",
       "6    75%          132.000000\n",
       "7    max          134.000000"
      ]
     },
     "execution_count": 3,
     "metadata": {},
     "output_type": "execute_result"
    }
   ],
   "source": [
    "valores_1 = pd.DataFrame(df_1['Anchura del cráneo'].describe())\n",
    "valores_1.reset_index(inplace=True)\n",
    "valores_1.rename(columns={'index':'Medida'},inplace = True)\n",
    "valores_1"
   ]
  },
  {
   "cell_type": "code",
   "execution_count": 4,
   "metadata": {},
   "outputs": [
    {
     "data": {
      "text/plain": [
       "0    131\n",
       "1    132\n",
       "Name: Anchura del cráneo, dtype: int64"
      ]
     },
     "execution_count": 4,
     "metadata": {},
     "output_type": "execute_result"
    }
   ],
   "source": [
    "moda = df_1['Anchura del cráneo'].mode()\n",
    "moda"
   ]
  },
  {
   "cell_type": "code",
   "execution_count": 5,
   "metadata": {},
   "outputs": [
    {
     "data": {
      "text/plain": [
       "4"
      ]
     },
     "execution_count": 5,
     "metadata": {},
     "output_type": "execute_result"
    }
   ],
   "source": [
    "rango = df_1['Anchura del cráneo'].max() - df_1['Anchura del cráneo'].min()\n",
    "rango"
   ]
  },
  {
   "cell_type": "code",
   "execution_count": 6,
   "metadata": {},
   "outputs": [
    {
     "data": {
      "text/plain": [
       "0.6712643678160921"
      ]
     },
     "execution_count": 6,
     "metadata": {},
     "output_type": "execute_result"
    }
   ],
   "source": [
    "varianza = df_1['Anchura del cráneo'].var()\n",
    "varianza"
   ]
  },
  {
   "cell_type": "code",
   "execution_count": 7,
   "metadata": {},
   "outputs": [
    {
     "data": {
      "text/plain": [
       "0.006228894440395486"
      ]
     },
     "execution_count": 7,
     "metadata": {},
     "output_type": "execute_result"
    }
   ],
   "source": [
    "# Coeficiente de variacion de Pearson = desv. estandar / media\n",
    "pearson = valores_1.loc[2][1]/valores_1.loc[1][1]\n",
    "pearson"
   ]
  },
  {
   "cell_type": "code",
   "execution_count": 8,
   "metadata": {},
   "outputs": [],
   "source": [
    "# Pre-calculo de asimetria y curtosis\n",
    "df_1['Xi - Media'] = df_1['Anchura del cráneo'] - valores_1.loc[1][1]\n",
    "df_1['(Xi - Media)*3'] = df_1['Xi - Media']**3\n",
    "df_1['(Xi - Media)*4'] = df_1['Xi - Media']**4"
   ]
  },
  {
   "cell_type": "code",
   "execution_count": 9,
   "metadata": {},
   "outputs": [
    {
     "data": {
      "text/plain": [
       "0.6459405126888941"
      ]
     },
     "execution_count": 9,
     "metadata": {},
     "output_type": "execute_result"
    }
   ],
   "source": [
    "fischer = df_1['(Xi - Media)*3'].sum()/((df_1['Época histórica'].count()-1)*math.pow(valores_1.loc[2][1],3))\n",
    "fischer"
   ]
  },
  {
   "cell_type": "code",
   "execution_count": 10,
   "metadata": {},
   "outputs": [
    {
     "data": {
      "text/plain": [
       "1.1608932257459212"
      ]
     },
     "execution_count": 10,
     "metadata": {},
     "output_type": "execute_result"
    }
   ],
   "source": [
    "curtosis = df_1['(Xi - Media)*4'].sum()/((df_1['Época histórica'].count()-1)*math.pow(valores_1.loc[2][1],4)) -3\n",
    "curtosis"
   ]
  },
  {
   "cell_type": "markdown",
   "metadata": {},
   "source": [
    "Ahora obtendremos el histograma y el diagrama de caja y bigotes."
   ]
  },
  {
   "cell_type": "code",
   "execution_count": 11,
   "metadata": {},
   "outputs": [
    {
     "data": {
      "image/png": "[encoded data removed]",
      "text/plain": [
       "<Figure size 640x480 with 1 Axes>"
      ]
     },
     "metadata": {},
     "output_type": "display_data"
    }
   ],
   "source": [
    "sns.histplot(data=df_1['Anchura del cráneo'])\n",
    "plt.axvline(x=valores_1.loc[5][1], color='red', linestyle='--')\n",
    "plt.title('Histograma - Periodo Temprano')\n",
    "plt.show()"
   ]
  },
  {
   "cell_type": "code",
   "execution_count": 12,
   "metadata": {},
   "outputs": [
    {
     "data": {
      "image/png": "[encoded data removed]",
      "text/plain": [
       "<Figure size 511.111x500 with 1 Axes>"
      ]
     },
     "metadata": {},
     "output_type": "display_data"
    }
   ],
   "source": [
    "sns.catplot(data=df_1, y='Anchura del cráneo', col='Época histórica', kind='box', color='skyblue', medianprops={'color':'red'} )\n",
    "plt.show()"
   ]
  },
  {
   "cell_type": "markdown",
   "metadata": {},
   "source": [
    "Ahora repetimos los procesos anteriores para el periodo predinástico tardío."
   ]
  },
  {
   "cell_type": "code",
   "execution_count": 13,
   "metadata": {},
   "outputs": [
    {
     "data": {
      "text/html": [
       "<div>\n",
       "<style scoped>\n",
       "    .dataframe tbody tr th:only-of-type {\n",
       "        vertical-align: middle;\n",
       "    }\n",
       "\n",
       "    .dataframe tbody tr th {\n",
       "        vertical-align: top;\n",
       "    }\n",
       "\n",
       "    .dataframe thead th {\n",
       "        text-align: right;\n",
       "    }\n",
       "</style>\n",
       "<table border=\"1\" class=\"dataframe\">\n",
       "  <thead>\n",
       "    <tr style=\"text-align: right;\">\n",
       "      <th></th>\n",
       "      <th>Medida</th>\n",
       "      <th>Anchura del cráneo</th>\n",
       "    </tr>\n",
       "  </thead>\n",
       "  <tbody>\n",
       "    <tr>\n",
       "      <th>0</th>\n",
       "      <td>count</td>\n",
       "      <td>30.000000</td>\n",
       "    </tr>\n",
       "    <tr>\n",
       "      <th>1</th>\n",
       "      <td>mean</td>\n",
       "      <td>132.466667</td>\n",
       "    </tr>\n",
       "    <tr>\n",
       "      <th>2</th>\n",
       "      <td>std</td>\n",
       "      <td>1.008014</td>\n",
       "    </tr>\n",
       "    <tr>\n",
       "      <th>3</th>\n",
       "      <td>min</td>\n",
       "      <td>131.000000</td>\n",
       "    </tr>\n",
       "    <tr>\n",
       "      <th>4</th>\n",
       "      <td>25%</td>\n",
       "      <td>132.000000</td>\n",
       "    </tr>\n",
       "    <tr>\n",
       "      <th>5</th>\n",
       "      <td>50%</td>\n",
       "      <td>133.000000</td>\n",
       "    </tr>\n",
       "    <tr>\n",
       "      <th>6</th>\n",
       "      <td>75%</td>\n",
       "      <td>133.000000</td>\n",
       "    </tr>\n",
       "    <tr>\n",
       "      <th>7</th>\n",
       "      <td>max</td>\n",
       "      <td>135.000000</td>\n",
       "    </tr>\n",
       "  </tbody>\n",
       "</table>\n",
       "</div>"
      ],
      "text/plain": [
       "  Medida  Anchura del cráneo\n",
       "0  count           30.000000\n",
       "1   mean          132.466667\n",
       "2    std            1.008014\n",
       "3    min          131.000000\n",
       "4    25%          132.000000\n",
       "5    50%          133.000000\n",
       "6    75%          133.000000\n",
       "7    max          135.000000"
      ]
     },
     "execution_count": 13,
     "metadata": {},
     "output_type": "execute_result"
    }
   ],
   "source": [
    "valores_2 = pd.DataFrame(df_2['Anchura del cráneo'].describe())\n",
    "valores_2.reset_index(inplace=True)\n",
    "valores_2.rename(columns={'index':'Medida'},inplace = True)\n",
    "valores_2"
   ]
  },
  {
   "cell_type": "code",
   "execution_count": 14,
   "metadata": {},
   "outputs": [
    {
     "data": {
      "text/plain": [
       "0    133\n",
       "Name: Anchura del cráneo, dtype: int64"
      ]
     },
     "execution_count": 14,
     "metadata": {},
     "output_type": "execute_result"
    }
   ],
   "source": [
    "moda = df_2['Anchura del cráneo'].mode()\n",
    "moda"
   ]
  },
  {
   "cell_type": "code",
   "execution_count": 15,
   "metadata": {},
   "outputs": [
    {
     "data": {
      "text/plain": [
       "4"
      ]
     },
     "execution_count": 15,
     "metadata": {},
     "output_type": "execute_result"
    }
   ],
   "source": [
    "rango = df_2['Anchura del cráneo'].max() - df_2['Anchura del cráneo'].min()\n",
    "rango"
   ]
  },
  {
   "cell_type": "code",
   "execution_count": 16,
   "metadata": {},
   "outputs": [
    {
     "data": {
      "text/plain": [
       "1.0160919540229887"
      ]
     },
     "execution_count": 16,
     "metadata": {},
     "output_type": "execute_result"
    }
   ],
   "source": [
    "varianza = df_2['Anchura del cráneo'].var()\n",
    "varianza"
   ]
  },
  {
   "cell_type": "code",
   "execution_count": 17,
   "metadata": {},
   "outputs": [
    {
     "data": {
      "text/plain": [
       "0.007609566175043748"
      ]
     },
     "execution_count": 17,
     "metadata": {},
     "output_type": "execute_result"
    }
   ],
   "source": [
    "pearson = valores_2.loc[2][1]/valores_2.loc[1][1]\n",
    "pearson"
   ]
  },
  {
   "cell_type": "code",
   "execution_count": 18,
   "metadata": {},
   "outputs": [],
   "source": [
    "df_2['Xi - Media'] = df_2['Anchura del cráneo'] - valores_2.loc[1][1]\n",
    "df_2['(Xi - Media)*3'] = df_2['Xi - Media']**3\n",
    "df_2['(Xi - Media)*4'] = df_2['Xi - Media']**4"
   ]
  },
  {
   "cell_type": "code",
   "execution_count": 19,
   "metadata": {},
   "outputs": [
    {
     "data": {
      "text/plain": [
       "0.1918262295493577"
      ]
     },
     "execution_count": 19,
     "metadata": {},
     "output_type": "execute_result"
    }
   ],
   "source": [
    "fischer = df_2['(Xi - Media)*3'].sum()/((df_2['Época histórica'].count()-1)*math.pow(valores_2.loc[2][1],3))\n",
    "fischer"
   ]
  },
  {
   "cell_type": "code",
   "execution_count": 20,
   "metadata": {},
   "outputs": [
    {
     "data": {
      "text/plain": [
       "-0.2800290739337874"
      ]
     },
     "execution_count": 20,
     "metadata": {},
     "output_type": "execute_result"
    }
   ],
   "source": [
    "curtosis = df_2['(Xi - Media)*4'].sum()/((df_2['Época histórica'].count()-1)*math.pow(valores_2.loc[2][1],4)) -3\n",
    "curtosis"
   ]
  },
  {
   "cell_type": "code",
   "execution_count": 21,
   "metadata": {},
   "outputs": [
    {
     "data": {
      "image/png": "[encoded data removed]",
      "text/plain": [
       "<Figure size 640x480 with 1 Axes>"
      ]
     },
     "metadata": {},
     "output_type": "display_data"
    }
   ],
   "source": [
    "sns.histplot(data=df_2['Anchura del cráneo'])\n",
    "plt.axvline(x=valores_2.loc[5][1], color='red', linestyle='--')\n",
    "plt.title('Histograma - Periodo Temprano')\n",
    "plt.show()"
   ]
  },
  {
   "cell_type": "code",
   "execution_count": 22,
   "metadata": {},
   "outputs": [
    {
     "data": {
      "image/png": "[encoded data removed]",
      "text/plain": [
       "<Figure size 511.111x500 with 1 Axes>"
      ]
     },
     "metadata": {},
     "output_type": "display_data"
    }
   ],
   "source": [
    "sns.catplot(data=df_2, y='Anchura del cráneo', col='Época histórica', kind='box', color='skyblue', medianprops={'color':'red'} )\n",
    "plt.show()"
   ]
  },
  {
   "cell_type": "markdown",
   "metadata": {},
   "source": [
    "#### **Análisis de las muestras**\n",
    "##### Predinástico temprano\n",
    "\n",
    "Respecto al periodo predinástico temprano, las medidas de centralización nos indican que la muestra es relativamente simétrica, ya que tenemos una media de 131.53 y una mediana muy similar, de 131.5. Además, tenemos dos modas, es decir, dos valores que son los más frecuentes, que son justamente 131 y 132, los valores alrededor de la media. Esta tesis se refuerza analizando las medidades de la dispersión, con una desviación estándar de 0.82, una varianza de 0.67 y un rango de 4mm, lo cual indica que la variabilidad es pequeña.\n",
    "\n",
    "Si analizamos la simetría con el coeficiente de variación de Pearson, obtenemos un valor de 0.006, muy próximo a 0, y que compararemos posteriormente con el de la segunda muestra. El coeficiente de asimetría de Fischer es de 0.65 que, si bien es mayor que 0 (lo cual indicaría una distribución ligeramente ladeada a la derecha), es tan cercano a 0 que podríamos considerar que es una distribución simétrica. Por último, el coeficiente de curtosis nos da una idea de como de \"achatada\" es la distribución. En este caso, un valor de 1.16 nos indica que es leptocúrtica, es decir, que los valores se concentran en torno al eje de simetría.\n",
    "\n",
    "##### Predinástico tardío\n",
    "En este caso, tenemos unos resultados similares al anterior caso en lo que a las medidas de centralización se refiere. Con una media de 132.47 y una mediana de 133, coincidente con la moda también, nos indica que la muestra es simétrica. La desviación estándar es ligeramente superior, de 1.01, y similar a la varianza, de 1.02, pero el rango es el mismo, 4mm en ambos casos.\n",
    "\n",
    "Respecto a la asimetría, tenemos un coeficiente de variación de Pearson de 0.0076, indicando de nuevo una variable simétrica; y un coeficiente de Fischer de 0.19, que nos indica que, si bien la distribución está muy ligeramente ladeada hacia la derecha, es casi simétrica. Por último, el coeficiente de curtosis es en este caso -0.28, es decir, una distribución mesocúrtica, más abierta, donde los valores no se concentran tanto en torno al eje de simetría.\n",
    "\n",
    "##### Comparación\n",
    "En ambos casos, se trata de distribuciones muy simétricas, ya que todas las medidas de dispersión son bastante similares entre sí. Se puede observar que tanto la media como la mediana del predinástico tardío son superiores a las del predinástico temprano. Esto nos indica que los cráneos eran en general más anchos en este período. Además, tenemos también una mayor desviación estándar, lo cual nos indica que, aunque el rango es el mismo en ambos casos, hay más variabilidad en las medidas en este período más reciente. \n",
    "\n",
    "Por último, tenemos en ambos casos distribuciones simétricas, aunque es cierto que la del predinástico tardío tiende a ser menos concentrada en torno a la media, como es indicado por el coeficiente de curtosis, y por un coeficiente de Pearson ligeramente superior. Aún así, y como se observa también en el histograma y en el diagrama de caja y bigotes, tenemos dos muestras igualmente simétricas, y ambas con unos valores y formas prácticamente iguales."
   ]
  },
  {
   "cell_type": "markdown",
   "metadata": {},
   "source": [
    "# Ejercicio 1-b)\n",
    "\n",
    "A continuación usaremos el test de Kolmogorov-Smirnov para determinar si las muestras siguen una distribución normal."
   ]
  },
  {
   "cell_type": "code",
   "execution_count": 23,
   "metadata": {},
   "outputs": [
    {
     "name": "stdout",
     "output_type": "stream",
     "text": [
      "Resultados de la muestra del período predinástico temprano:\n",
      "\tEstadístico: 0.2460415331404474, Valor p: 0.04379464338101191\n",
      "\n",
      "Resultados de la muestra del período predinástico tardío:\n",
      "\tEstadístico: 0.23809252465886277, Valor p: 0.05572704984817678\n"
     ]
    }
   ],
   "source": [
    "sm1 = np.array(df_1['Anchura del cráneo'])\n",
    "sm1 = sm1.reshape(-1, 1)\n",
    "sm2 = np.array(df_2['Anchura del cráneo'])\n",
    "sm2 = sm2.reshape(-1, 1)\n",
    "\n",
    "\n",
    "scaler1 = StandardScaler()\n",
    "scaler2 = StandardScaler()\n",
    "\n",
    "# Normalizamos las muestras y las llevamos a una matriz unidimensional\n",
    "sm1 = scaler1.fit_transform(sm1)\n",
    "sm1=sm1.flatten()\n",
    "sm2 = scaler2.fit_transform(sm2)\n",
    "sm2=sm2.flatten()\n",
    "\n",
    "# Aplicamos la prueba de Kolmogorov-Smirnov\n",
    "statistic1, pvalue1 = stats.kstest(sm1, 'norm')\n",
    "statistic2, pvalue2 = stats.kstest(sm2, 'norm')\n",
    "\n",
    "# Imprimir los resultados\n",
    "print(\"Resultados de la muestra del período predinástico temprano:\")\n",
    "print(f\"\\tEstadístico: {statistic1}, Valor p: {pvalue1}\")\n",
    "\n",
    "print(\"\\nResultados de la muestra del período predinástico tardío:\")\n",
    "print(f\"\\tEstadístico: {statistic2}, Valor p: {pvalue2}\")"
   ]
  },
  {
   "cell_type": "markdown",
   "metadata": {},
   "source": [
    "Para evaluar si las muestras siguen o no la distribución normal, aplicaremos el test de Kolmogorov-Smirnov. En este caso, tenemos la hipótesis H0, que dice que la muestra en cuestión sigue una distribución normal; y la hipótesis H1, que nos indica que la muestra no sigue dicha distribución. Queremos ver si rechazamos la hipótesis H0 (es decir, los datos no siguen la distribución normal) o si no la rechazamos. Para ello calcularemos el estadísticos, el cual compararemos con el valor en cuestión de la tabla, para determinar si rechazar o no la hipótesis. En nuestro caso, para una muestra de tamaño 30, y a un intervalo de confianza del 95%, el valor del estadístico es de 0.24170: es decir, si el valor que obtengamos es mayor que este, la muestra no sigue una distribución normal, y se rechaza la hipótesis. En caso contrario, se acepta. Alternativa, podría usarse el p-valor, que nos indica si hay suficiente evidencia o no para rechazar la hipótesis: si es menor que 0.05 (considerando nuestro intervalo de confianza al 95%), entonces podemos rechazar la hipótesis nula.\n",
    "\n",
    "En nuestro caso, analizando el p-valor, vemos que en el caso de la primera muestra tiene un valor de 0.0438. Ya que es menor que 0.05, podemos rechazar la hipótesis nula, concluyendo que los datos de la primera muestra, del predinástico temprano, no siguen una distribución normal.\n",
    "\n",
    "En el caso de la segunda muestra, el p-valor es de 0.0557, superior a 0.05, por lo que se acepta la hipótesis H0 y se concluye que la muestra del predinástico tardío sigue efectivamente una distribución normal."
   ]
  },
  {
   "cell_type": "markdown",
   "metadata": {},
   "source": [
    "# Ejercicio 2-a)"
   ]
  },
  {
   "cell_type": "code",
   "execution_count": 24,
   "metadata": {},
   "outputs": [
    {
     "name": "stdout",
     "output_type": "stream",
     "text": [
      "Intervalo de confianza para la diferencia de medias al 90%: (-1.3362995352745775, -0.5303671313920968)\n",
      "Intervalo de confianza para la diferencia de medias al 95%: (-1.4183814834232562, -0.44828518324341815)\n",
      "Intervalo de confianza para la diferencia de medias al 99%: (-1.5870398198651203, -0.2796268468015539)\n"
     ]
    }
   ],
   "source": [
    "m1 = np.array(df_1['Anchura del cráneo'])\n",
    "m2 = np.array(df_2['Anchura del cráneo'])\n",
    "\n",
    "# Calculamos medias y desviaciones estándar\n",
    "mean1 = np.mean(m1)\n",
    "mean2 = np.mean(m2)\n",
    "diffm = mean1 - mean2\n",
    "std1 = np.std(m1, ddof=1)\n",
    "std2 = np.std(m2, ddof=1)\n",
    "n1 = len(sm1)\n",
    "n2 = len(sm2)\n",
    "\n",
    "# Grados de libertad para la t de student\n",
    "gl = min(n1-1, n2-1)\n",
    "\n",
    "# Definimos los intervalos de confianza\n",
    "confint = [0.90, 0.95, 0.99]\n",
    "intervals = {}\n",
    "\n",
    "for conf in confint:\n",
    "    alpha = 1-conf\n",
    "    t_crit = stats.t.ppf(1-alpha/2, gl)\n",
    "\n",
    "    margen = t_crit*np.sqrt((std1**2/n1)+(std2**2/n2))\n",
    "\n",
    "    lim_inf = diffm-margen\n",
    "    lim_sup = diffm+margen\n",
    "    intervals[conf] = (lim_inf, lim_sup)\n",
    "\n",
    "for conf, (low, up) in intervals.items():\n",
    "    print(f\"Intervalo de confianza para la diferencia de medias al {conf*100:.0f}%: ({low}, {up})\")"
   ]
  },
  {
   "cell_type": "markdown",
   "metadata": {},
   "source": [
    "Vistos los resultados de los intervalos de confianza, observamos que ninguno incluye al 0, por lo que podemos concluir que la diferencia entre las medias de las anchuras de cráneos es estadísticamente significativa. Además, el hecho de que todos los intervalos sean negativos nos sugiere que la anchura de los cráneos ha ido decreciendo; es decir, que en el predinástico temprano los cráneos eran más anchos que en el predinástico tardío.\n",
    "\n",
    "En relación con los resultados obtenidos del test de Kolmogorov-Smirnov, en el que vimos que la primera muestra no seguía una distribución normal, mientras que la segunda sí, esto podría influir en los resultados de los intervalos de confianza. Ya que la primera muestra no sigue una distribución normal, los intervalos de confianza podrían no ser tan fiables o precisos, ya que la distribución t de student supone muestras normales. Sin embargo, aunque los datos no sigan perfectamente una distribución normal, tenemos una muestra relativamente grande, y los resultaods de los intervalos de confianza nos indican que la diferencia de medias es significativa.\n",
    "\n",
    "Esto además coincide con lo observado en las gráficas y las diferentes medidas analizadas en el primer apartado, donde ya vimos que la anchura de los cráneos en el período tardío era menor que en el período temprano: es decir, que los cráneos decrecieron. Esto son datos objetivos, que nos podrían llevar a hacer una reflexión mucho más profunda, también analizando una muestra con un mayor número de observaciones, para contar con unos resultados más sólidos, sobre los diferentes motivos por los que los cráneos parecen haber ido decreciendo en tamaño, y si eso se podría deber a los cambios en las costumbres y condiciones de las personas de aquella época."
   ]
  },
  {
   "cell_type": "markdown",
   "metadata": {},
   "source": [
    "# Ejercicio 2-b)"
   ]
  },
  {
   "cell_type": "code",
   "execution_count": 25,
   "metadata": {},
   "outputs": [
    {
     "name": "stdout",
     "output_type": "stream",
     "text": [
      "Estadístico de Levene: 0.012638286168024683, Valor p: 0.9108784802616202\n",
      "Las varianzas son iguales.\n"
     ]
    }
   ],
   "source": [
    "# Comprobamos si las varianzas son o no iguales aplicando el test de Levene\n",
    "statistic, p_value = stats.levene(sm1, sm2)\n",
    "\n",
    "print(f\"Estadístico de Levene: {statistic}, Valor p: {p_value}\")\n",
    "if p_value < 0.05:\n",
    "    print(\"Las varianzas son diferentes.\")\n",
    "else:\n",
    "    print(\"Las varianzas son iguales.\")"
   ]
  },
  {
   "cell_type": "code",
   "execution_count": 26,
   "metadata": {},
   "outputs": [
    {
     "name": "stdout",
     "output_type": "stream",
     "text": [
      "Estadístico t: 1.6276272805968468e-14, Valor p: 0.9999999999999871\n"
     ]
    }
   ],
   "source": [
    "# Aplicamos el test t\n",
    "t_stat, p_value = stats.ttest_ind(sm1, sm2, equal_var=True)\n",
    "print(f\"Estadístico t: {t_stat}, Valor p: {p_value}\")"
   ]
  },
  {
   "cell_type": "markdown",
   "metadata": {},
   "source": [
    "Para poder aplicar el test, los dos requisitos a cumplir son que las muestras sean normales (ya hemos visto que no lo son, pero se pide realizar el ejercicio igualmente, asumiendo que son normales) y que las varianzas sean homogéneas. Para comprobar esto, establecemos una hipótesis H0 que nos dice que las varianzas son iguales; mientras que la hipótesis H1 nos dice que son diferentes. Calculamos el p-valor, que nos da 0.91, lo cual, para un nivel de confianza de 95% como hemos establecido, nos indica que la hipótesis es cierta y que, por tanto, las varianzas son iguales y se puede aplicar el test t.\n",
    "\n",
    "Usamos la funcion ttest_ind de stats para calcular el test t, y obtenemos un valor de 1.627627, y un p-valor de 0.99. Esto nos indica que no hay suficiente evidencia para afirmar que la diferencia entre medias sea significativa. Aún así, cabe destacar que estes resultados pueden no ser correctos o válidos, ya que como comentamos anteriormente, uno de los requisitos que debe cumplirse para aplicar este test es que las muestras sean normales, y en este caso una de ellas no lo es."
   ]
  }
 ],
 "metadata": {
  "kernelspec": {
   "display_name": "testvenv",
   "language": "python",
   "name": "python3"
  },
  "language_info": {
   "codemirror_mode": {
    "name": "ipython",
    "version": 3
   },
   "file_extension": ".py",
   "mimetype": "text/x-python",
   "name": "python",
   "nbconvert_exporter": "python",
   "pygments_lexer": "ipython3",
   "version": "3.11.10"
  }
 },
 "nbformat": 4,
 "nbformat_minor": 2
}
