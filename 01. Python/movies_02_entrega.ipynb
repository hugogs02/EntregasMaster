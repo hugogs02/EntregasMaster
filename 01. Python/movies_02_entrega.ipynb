{
 "cells": [
  {
   "cell_type": "markdown",
   "metadata": {
    "collapsed": true,
    "jupyter": {
     "outputs_hidden": true
    }
   },
   "source": [
    "<h1 style=\"text-align:center\">\n",
    "    Movies\n",
    "</h1>\n",
    "\n",
    "<br>\n",
    "\n",
    "<font color=\"darkblue\">\n",
    "\n",
    "<h3 style=\"text-align:center\">\n",
    "    Hugo Gómez Sabucedo\n",
    "</h3>\n",
    "    \n",
    "<h3 style=\"text-align:center\">\n",
    "    26 de octubre de 2024\n",
    "</h3>\n",
    "\n",
    "<hr>"
   ]
  },
  {
   "cell_type": "markdown",
   "metadata": {},
   "source": [
    "# Introducción\n",
    "\n",
    "<br>\n",
    "\n",
    "En este proyecto se desarrolla en Python un análisis básico de datos sobre películas de cine de IMDB.\n",
    "El set de datos que vamos a usar inicialmente se encuentra en la siguiente página:\n",
    "\n",
    "https://www.kaggle.com/datasets/carolzhangdc/imdb-5000-movie-dataset\n",
    "\n",
    "En ella puede encontrarse información más detallada, así como una descripción precisa de cada columna.\n",
    "\n",
    "<font color=\"green\">\n",
    "Seguidamente, te toca a ti hacer una breve introducción, completando el fragmento de letra en azul y desarrollándolo a tu antojo. Suprime después este fragmento en verde.\n",
    "</font>\n",
    "\n",
    "<br>\n",
    "\n",
    "Se plantean los apartados iniciales para su resolución *sin usar la libreria pandas*. Esto se propone así para forzar a practicar con las técnicas, herramientas y conceptos básicos de Python. Más adelante, hay otros apartados propuestos para su resolución con esta librería y otras.\n",
    "\n",
    "<br>\n",
    "\n",
    "<font color=\"darkblue\">\n",
    "A partir de los datos proporcionados, he conseguido ... pero no he podido ...\n",
    "\n",
    "<br>\n",
    "\n",
    "Aunque al final de este notebook detallaré la calificación que calculo honestamente, globalmente, siguiendo las puntuaciones que se asigna a cada apartado, diría que he obtenido una nota de *** sobre 10.\n",
    "</font>\n",
    "\n",
    "<br>\n",
    "\n",
    "<font color=\"green\">\n",
    "Completa tus datos personales en la cabecera, bajo el rótulo inicial. Completa también el breve apartado anterior, con texto  azul, y pon en azul todos los comentarios tuyos, dejando en negro los míos, del enunciado. También, suprime los fragmentos en verde, como éste, que son indicaciones pero que, una vez atendidas, deben desaparecer de la solución que entregas.\n",
    "</font>"
   ]
  },
  {
   "cell_type": "markdown",
   "metadata": {},
   "source": [
    "# Datos de partida\n",
    "\n",
    "(**Nota previa:** hasta el apartado específico de dataframes, se deben desarrollar las soluciones a los ejercicios propuestos sin usar la librería `pandas`, justamente para obligar a practicar con conceptos básicos de Python.)\n",
    "\n",
    "Nuestra tabla de datos es el archivo de texto `movie_data.csv` que se encuentra en la carpeta `data_in`, y puede verse así con cualquier editor:\n",
    "\n",
    "<br>\n",
    "\n",
    "<center>\n",
    "    <img src=\"./images/texto.png\" width=\"100%\">\n",
    "</center>\n",
    "\n",
    "La primera fila es la cabecera.\n",
    "Esta fila cabecera contiene los nombres de los campos, separados por comas.\n",
    "Yo la he marcado en azul para distinguirla fácilmente de las demás filas, que contienen los datos propiamente dichos,\n",
    "esto es, los valores de dichos campos, consignando los datos de cada película en cada línea.\n",
    "\n",
    "Si abrimos esta tabla con *excell* (importar datos csv con el separador `,`), vemos cada dato en una celda.\n",
    "\n",
    "<br>\n",
    "\n",
    "<center>\n",
    "    <img src=\"./images/csv_1.png\" width=\"100%\">\n",
    "</center>\n",
    "\n",
    "<br>\n",
    "\n",
    "Mostramos la hoja excell en dos imágenes por ser muy ancha.\n",
    "\n",
    "<br>\n",
    "\n",
    "<center>\n",
    "    <img src=\"./images/csv_2.png\" width=\"100%\">\n",
    "</center>"
   ]
  },
  {
   "cell_type": "markdown",
   "metadata": {},
   "source": [
    "# Librerías y constantes globales\n",
    "\n",
    "<br>\n",
    "\n",
    "Pongamos todas las librerías necesarias al principio, tal como propone el estilo `pep-8`. Ej.:\n",
    "<a href=\"https://www.python.org/dev/peps/pep-0008/\">PEP 8 -- Style Guide for Python Code</a>.\n",
    "    \n",
    "De paso, en éste y otros lugares de Internet podrás encontrar detalles sobre estilo y presentación de código con un estilo estándar y cuidado. Examina esta página y trata de seguir esas indicaciones."
   ]
  },
  {
   "cell_type": "code",
   "execution_count": 147,
   "metadata": {},
   "outputs": [],
   "source": [
    "# Librerías:\n",
    "\n",
    "import csv\n",
    "import gc\n",
    "from collections import defaultdict\n",
    "import matplotlib"
   ]
  },
  {
   "cell_type": "code",
   "execution_count": 148,
   "metadata": {},
   "outputs": [],
   "source": [
    "# Constantes globales:\n",
    "MOVIES_DATA = 'data_in/movie_data.csv'\n",
    "CAMPOS_INTERES = {\n",
    "    'movie_title': 11, 'title_year': 23, 'director_name': 1,\n",
    "    'actor_1_name': 10, 'language': 19, 'country': 20, 'color': 0,\n",
    "    'budget': 22, 'imdb_score': 25, 'movie_imdb_link': 17\n",
    "}\n",
    "FEW_FIELDS = \"algunos_campos.txt\""
   ]
  },
  {
   "cell_type": "markdown",
   "metadata": {},
   "source": [
    "# Parte A. Ejercicios básicos sin usar `pandas` [2 puntos]"
   ]
  },
  {
   "cell_type": "markdown",
   "metadata": {},
   "source": [
    "Esta parte inicial debe realizarse sin usar la librería `pandas`. Para practicar con esta librería, se plantean otros apartados más abajo."
   ]
  },
  {
   "cell_type": "markdown",
   "metadata": {},
   "source": [
    "### A.1. Exploración inicial básica del archivo de datos"
   ]
  },
  {
   "cell_type": "markdown",
   "metadata": {},
   "source": [
    "Deseamos cargar el archivo de datos, que tiene un formato `csv`.\n",
    "En este apartado, te recomiendo fuertemente usar la librería `cvs`,\n",
    "que deberás importar en la primera celda del script, más arriba, no aquí.\n",
    "(En los siguientes apartados, ya no mencionaré qué librerías usar\n",
    "ni recordaré dónde se han de importar.)\n",
    "\n",
    "Observa también que el test de funcionamiento te da el nombre de la función que deber definir\n",
    "y algún otro identificador como es, por ejemplo, la constante `MOVIES_DATA`,\n",
    "que debes definir también más arriba, en la segunda celda de este script.\n",
    "\n",
    "Finalmente, observando el test, verás que se carga por separado la cabecera y las filas de datos."
   ]
  },
  {
   "cell_type": "code",
   "execution_count": 149,
   "metadata": {},
   "outputs": [],
   "source": [
    "def load_full_data(archivo_csv):\n",
    "    \"\"\"\n",
    "    Funcion que lee el archivo CSV, separa la cabecera de las filas de datos\n",
    "    y devuelve ambas como una tupla\n",
    "\n",
    "    Parameters\n",
    "    ----------\n",
    "    archivo_csv : str\n",
    "        Ruta al archivo CSV desde el que se cargaran los datos.\n",
    "\n",
    "    Returns:\n",
    "    ----------\n",
    "    tuple\n",
    "        Una tupla con dos elementos:\n",
    "            -cabecera (list): Lista de nombres de las columnas.\n",
    "            -datos (list): Lista de listas, cada sublista es una fila de datos.\n",
    "    \"\"\"\n",
    "    with open(archivo_csv, encoding='utf-8') as archivo:\n",
    "        lector = csv.reader(archivo)\n",
    "        cabecera = next(lector) # Extraemos la primera fila como cabecera\n",
    "        datos = [fila for fila in lector] # Extraemos el resto de filas\n",
    "    \n",
    "\n",
    "    return cabecera, datos"
   ]
  },
  {
   "cell_type": "code",
   "execution_count": 150,
   "metadata": {},
   "outputs": [
    {
     "name": "stdout",
     "output_type": "stream",
     "text": [
      "['color', 'director_name', 'num_critic_for_reviews', 'duration', 'director_facebook_likes', 'actor_3_facebook_likes', 'actor_2_name', 'actor_1_facebook_likes', 'gross', 'genres', 'actor_1_name', 'movie_title', 'num_voted_users', 'cast_total_facebook_likes', 'actor_3_name', 'facenumber_in_poster', 'plot_keywords', 'movie_imdb_link', 'num_user_for_reviews', 'language', 'country', 'content_rating', 'budget', 'title_year', 'actor_2_facebook_likes', 'imdb_score', 'aspect_ratio', 'movie_facebook_likes']\n",
      "\n",
      "[['Color', 'James Cameron', '723', '178', '0', '855', 'Joel David Moore', '1000', '760505847', 'Action|Adventure|Fantasy|Sci-Fi', 'CCH Pounder', 'Avatar\\xa0', '886204', '4834', 'Wes Studi', '0', 'avatar|future|marine|native|paraplegic', 'http://www.imdb.com/title/tt0499549/?ref_=fn_tt_tt_1', '3054', 'English', 'USA', 'PG-13', '237000000', '2009', '936', '7.9', '1.78', '33000'], ['Color', 'Gore Verbinski', '302', '169', '563', '1000', 'Orlando Bloom', '40000', '309404152', 'Action|Adventure|Fantasy', 'Johnny Depp', \"Pirates of the Caribbean: At World's End\\xa0\", '471220', '48350', 'Jack Davenport', '0', 'goddess|marriage ceremony|marriage proposal|pirate|singapore', 'http://www.imdb.com/title/tt0449088/?ref_=fn_tt_tt_1', '1238', 'English', 'USA', 'PG-13', '300000000', '2007', '5000', '7.1', '2.35', '0'], ['Color', 'Sam Mendes', '602', '148', '0', '161', 'Rory Kinnear', '11000', '200074175', 'Action|Adventure|Thriller', 'Christoph Waltz', 'Spectre\\xa0', '275868', '11700', 'Stephanie Sigman', '1', 'bomb|espionage|sequel|spy|terrorist', 'http://www.imdb.com/title/tt2379713/?ref_=fn_tt_tt_1', '994', 'English', 'UK', 'PG-13', '245000000', '2015', '393', '6.8', '2.35', '85000'], ['Color', 'Christopher Nolan', '813', '164', '22000', '23000', 'Christian Bale', '27000', '448130642', 'Action|Thriller', 'Tom Hardy', 'The Dark Knight Rises\\xa0', '1144337', '106759', 'Joseph Gordon-Levitt', '0', 'deception|imprisonment|lawlessness|police officer|terrorist plot', 'http://www.imdb.com/title/tt1345836/?ref_=fn_tt_tt_1', '2701', 'English', 'USA', 'PG-13', '250000000', '2012', '23000', '8.5', '2.35', '164000'], ['', 'Doug Walker', '', '', '131', '', 'Rob Walker', '131', '', 'Documentary', 'Doug Walker', 'Star Wars: Episode VII - The Force Awakens\\xa0            ', '8', '143', '', '0', '', 'http://www.imdb.com/title/tt5289954/?ref_=fn_tt_tt_1', '', '', '', '', '', '', '12', '7.1', '', '0']]\n"
     ]
    }
   ],
   "source": [
    "# Test de funcionamiento\n",
    "\n",
    "full_header, full_list_data = load_full_data(MOVIES_DATA)\n",
    "\n",
    "print(full_header)\n",
    "print()\n",
    "print(full_list_data[0:5])"
   ]
  },
  {
   "cell_type": "markdown",
   "metadata": {},
   "source": [
    "Ahora, querríamos ver las posiciones de los identificadores de los campos, dados en la línea cabecera."
   ]
  },
  {
   "cell_type": "code",
   "execution_count": 151,
   "metadata": {},
   "outputs": [],
   "source": [
    "# Obtenemos las posiciones empleando enumerate, para obtener pares con el índice y el encabezado\n",
    "list_of_enumerated_headers=[(i, header) for i, header in enumerate(full_header)]"
   ]
  },
  {
   "cell_type": "code",
   "execution_count": 152,
   "metadata": {},
   "outputs": [
    {
     "name": "stdout",
     "output_type": "stream",
     "text": [
      "[(0, 'color'), (1, 'director_name'), (2, 'num_critic_for_reviews'), (3, 'duration'), (4, 'director_facebook_likes'), (5, 'actor_3_facebook_likes'), (6, 'actor_2_name'), (7, 'actor_1_facebook_likes'), (8, 'gross'), (9, 'genres'), (10, 'actor_1_name'), (11, 'movie_title'), (12, 'num_voted_users'), (13, 'cast_total_facebook_likes'), (14, 'actor_3_name'), (15, 'facenumber_in_poster'), (16, 'plot_keywords'), (17, 'movie_imdb_link'), (18, 'num_user_for_reviews'), (19, 'language'), (20, 'country'), (21, 'content_rating'), (22, 'budget'), (23, 'title_year'), (24, 'actor_2_facebook_likes'), (25, 'imdb_score'), (26, 'aspect_ratio'), (27, 'movie_facebook_likes')]\n"
     ]
    }
   ],
   "source": [
    "# Test de funcionamiento\n",
    "\n",
    "print(list_of_enumerated_headers)"
   ]
  },
  {
   "cell_type": "markdown",
   "metadata": {},
   "source": [
    "### A.2. Campos principales de una película\n",
    "\n",
    "Los campos (columnas) del archivo son demasiados. No nos interesan todos ellos. Dada una lista con todos los campos, se pide extraer otra lista sólo con los campos con los que vamos a trabajar en los siguientes apartados: `movie_title`, `title_year`, `director_name`, `actor_1_name`, `language`, `country`, `color`, `budget`, `imdb_score` y `movie_imdb_link`."
   ]
  },
  {
   "cell_type": "code",
   "execution_count": 153,
   "metadata": {},
   "outputs": [],
   "source": [
    "# Esta celda debe ser completada por el estudiante\n",
    "\n",
    "def main_data_from_item(lista_datos):\n",
    "    return [lista_datos[ind] for ind in CAMPOS_INTERES.values()]"
   ]
  },
  {
   "cell_type": "code",
   "execution_count": 154,
   "metadata": {},
   "outputs": [
    {
     "name": "stdout",
     "output_type": "stream",
     "text": [
      "['movie_title', 'title_year', 'director_name', 'actor_1_name', 'language', 'country', 'color', 'budget', 'imdb_score', 'movie_imdb_link']\n",
      "\n",
      "['Avatar\\xa0', '2009', 'James Cameron', 'CCH Pounder', 'English', 'USA', 'Color', '237000000', '7.9', 'http://www.imdb.com/title/tt0499549/?ref_=fn_tt_tt_1']\n",
      "\n",
      "['Star Wars: Episode VII - The Force Awakens\\xa0            ', '', 'Doug Walker', 'Doug Walker', '', '', '', '', '7.1', 'http://www.imdb.com/title/tt5289954/?ref_=fn_tt_tt_1']\n"
     ]
    }
   ],
   "source": [
    "# Test de funcionamiento\n",
    "\n",
    "print(main_data_from_item(full_header))\n",
    "\n",
    "print()\n",
    "\n",
    "datos_avatar_2009 = main_data_from_item(full_list_data[0])\n",
    "print(datos_avatar_2009)\n",
    "\n",
    "print()\n",
    "\n",
    "datos_star_wars_7 = main_data_from_item(full_list_data[4])\n",
    "print(datos_star_wars_7)"
   ]
  },
  {
   "cell_type": "markdown",
   "metadata": {},
   "source": [
    "### A.3. Algunos ajustes en los campos"
   ]
  },
  {
   "cell_type": "markdown",
   "metadata": {},
   "source": [
    "Observa la anomalía en el string del título de la película. También, queremos tratar algunos campos como numéricos, ya sea enteros (el año y el presupuesto) o reales (la valoración). (Algunos campos numéricos enteros están vacíos en el archivo de datos; para ellos, el valor imputado será `-1`.) Además, en las urls de las películas no necesitaremos el fragmento final, iniciado con `?ref_`."
   ]
  },
  {
   "cell_type": "code",
   "execution_count": 155,
   "metadata": {},
   "outputs": [],
   "source": [
    "# Esta celda debe ser completada por el estudiante\n",
    "def convierteNumero(valor:str, esInt:bool):\n",
    "    try:\n",
    "        return int(valor) if esInt else float(valor)\n",
    "    except ValueError:\n",
    "        return -1\n",
    "\n",
    "def cleanTitle(titulo:str):\n",
    "    return titulo.strip().replace('\\xa0', '')\n",
    "\n",
    "def correctURL(url:str):\n",
    "    return url.strip().split('?ref')[0]\n",
    "\n",
    "def datatypes_arranged(lista_datos):\n",
    "    lista_datos[0]=cleanTitle(lista_datos[0]) #title\n",
    "    lista_datos[1]=convierteNumero(lista_datos[1],True) #year\n",
    "    lista_datos[7]=convierteNumero(lista_datos[7],True) #budget\n",
    "    lista_datos[8]=convierteNumero(lista_datos[8],False) #score\n",
    "    lista_datos[9]=correctURL(lista_datos[9]) #url\n",
    "\n",
    "    return lista_datos\n"
   ]
  },
  {
   "cell_type": "code",
   "execution_count": 156,
   "metadata": {
    "scrolled": true
   },
   "outputs": [
    {
     "name": "stdout",
     "output_type": "stream",
     "text": [
      "['Avatar', 2009, 'James Cameron', 'CCH Pounder', 'English', 'USA', 'Color', 237000000, 7.9, 'http://www.imdb.com/title/tt0499549/']\n",
      "['Star Wars: Episode VII - The Force Awakens', -1, 'Doug Walker', 'Doug Walker', '', '', '', -1, 7.1, 'http://www.imdb.com/title/tt5289954/']\n"
     ]
    }
   ],
   "source": [
    "# Test de funcionamiento\n",
    "\n",
    "print(datatypes_arranged(datos_avatar_2009))\n",
    "\n",
    "print(datatypes_arranged(datos_star_wars_7))\n"
   ]
  },
  {
   "cell_type": "markdown",
   "metadata": {},
   "source": [
    "### A.4. Recuperación de alguna información básica\n",
    "\n",
    "<br>\n",
    "\n",
    "Diseña funciones para recuperar la siguiente información:\n",
    "\n",
    "<itemize>\n",
    "    <li> El conjunto de valores posibles del campo `Color`.\n",
    "    <li> Los títulos de película de nuestro archivo (limpios de caracteres extraños),\n",
    "        junto con la cantidad de calificadores (un entero), que contengan la subcadena \"Victor\".\n",
    "</itemize>"
   ]
  },
  {
   "cell_type": "code",
   "execution_count": 157,
   "metadata": {},
   "outputs": [],
   "source": [
    "# Esta celda debe ser completada por el estudiante\n",
    "\n",
    "def getColores(lista_peliculas):\n",
    "    colores=set()\n",
    "    for movie in lista_peliculas:\n",
    "        colores.add(movie[0])\n",
    "    return colores\n",
    "\n",
    "def getPelisVictor(lista_peliculas):\n",
    "    victors=list()\n",
    "    for movie in lista_peliculas:\n",
    "        if \"Victor\" in cleanTitle(movie[11]):\n",
    "            victors.append((cleanTitle(movie[11]), int(movie[2])))\n",
    "    \n",
    "    return victors\n",
    "\n",
    "colores=getColores(full_list_data)\n",
    "pelis_victor=getPelisVictor(full_list_data)"
   ]
  },
  {
   "cell_type": "code",
   "execution_count": 158,
   "metadata": {},
   "outputs": [
    {
     "name": "stdout",
     "output_type": "stream",
     "text": [
      "{'', ' Black and White', 'Color'}\n",
      "[('Victor Frankenstein', 159), ('Victor Frankenstein', 159), ('The Young Victoria', 188), ('Victor Frankenstein', 159), ('Raising Victor Vargas', 59)]\n"
     ]
    }
   ],
   "source": [
    "# Test de funcionamiento\n",
    "\n",
    "print(colores)\n",
    "print(pelis_victor)"
   ]
  },
  {
   "cell_type": "markdown",
   "metadata": {},
   "source": [
    "# B Datos en un diccionario [2 puntos]\n",
    "\n",
    "### B.1. Carga únicamente de datos que vamos a usar\n",
    "\n",
    "En lugar de cargar *todos* los datos del archivo, luego generar otro archivo con los datos que nos interesan y luego ajustarlos, es mejor diseñar una función que recorre el archivo de datos y, de cada línea del archivo, *únicamente* retiene la parte que nos interesa, cargando la cabecera por un lado y, por otro, la lista de datos de interés, ajustados como ya hemos dicho.\n",
    "\n",
    "Cargaremos esta información en un diccionario, cuyas claves serán pares `(título, año)` y cuyos valores se recogen en una lista con el resto de los campos.\n",
    "\n",
    "Además, los datos de cada película tras la clave `(título, año)` están repetidas en el archivo de datos, con todos los datos idénticos; y lo que es peor: alguna que está repetida, pero con algún dato distinto. En ambos casos, para simplificar, adoptamos el criterio de registrar únicamente la primera aparición de los datos de una misma película y año."
   ]
  },
  {
   "cell_type": "code",
   "execution_count": 159,
   "metadata": {},
   "outputs": [],
   "source": [
    "# Esta celda debe ser completada por el estudiante\n",
    "\n",
    "def load_main_data(ruta_archivo):\n",
    "    \"\"\" -------------------------CAMBIAR COMENTARIO------------------------------------------------------------------\n",
    "        Lee un archivo CSV con datos de películas y guarda los datos en un diccionario.\n",
    "        La clave del diccionario es una tupla (título, año).\n",
    "        En caso de claves duplicadas, se conserva el primer registro encontrado.\n",
    "        \n",
    "        Devuelve el encabezado y el diccionario de datos.\n",
    "\n",
    "        Parameters:\n",
    "        file_path (str): La ruta al archivo CSV.\n",
    "        fields (list): Lista de campos que se desean extraer del archivo CSV.\n",
    "\n",
    "        Returns:\n",
    "        tuple: Una tupla que contiene el encabezado y el diccionario de datos.\n",
    "    \"\"\"\n",
    "    campos_interes=list(CAMPOS_INTERES.keys())\n",
    "    peliculas = {}\n",
    "    \n",
    "    with open(ruta_archivo, encoding='utf-8') as archivo:\n",
    "        lector=csv.DictReader(archivo)\n",
    "        for row in lector:\n",
    "            key = (cleanTitle(row['movie_title']), convierteNumero(row['title_year'],True))\n",
    "            if key not in peliculas:\n",
    "                datos = [row[campo] for campo in campos_interes if campo not in ['movie_title', 'title_year']]\n",
    "                datos[5]=convierteNumero(datos[5],True) #budget\n",
    "                datos[6]=convierteNumero(datos[6],False) #score\n",
    "                datos[7]=correctURL(datos[7])\n",
    "                peliculas[key] = datos\n",
    "    \n",
    "    return campos_interes, peliculas"
   ]
  },
  {
   "cell_type": "code",
   "execution_count": 160,
   "metadata": {},
   "outputs": [
    {
     "name": "stdout",
     "output_type": "stream",
     "text": [
      "['movie_title', 'title_year', 'director_name', 'actor_1_name', 'language', 'country', 'color', 'budget', 'imdb_score', 'movie_imdb_link']\n",
      "\n",
      "('Avatar', 2009)  ->  ['James Cameron', 'CCH Pounder', 'English', 'USA', 'Color', 237000000, 7.9, 'http://www.imdb.com/title/tt0499549/']\n",
      "(\"Pirates of the Caribbean: At World's End\", 2007)  ->  ['Gore Verbinski', 'Johnny Depp', 'English', 'USA', 'Color', 300000000, 7.1, 'http://www.imdb.com/title/tt0449088/']\n",
      "('Spectre', 2015)  ->  ['Sam Mendes', 'Christoph Waltz', 'English', 'UK', 'Color', 245000000, 6.8, 'http://www.imdb.com/title/tt2379713/']\n",
      "('The Dark Knight Rises', 2012)  ->  ['Christopher Nolan', 'Tom Hardy', 'English', 'USA', 'Color', 250000000, 8.5, 'http://www.imdb.com/title/tt1345836/']\n",
      "('Star Wars: Episode VII - The Force Awakens', -1)  ->  ['Doug Walker', 'Doug Walker', '', '', '', -1, 7.1, 'http://www.imdb.com/title/tt5289954/']\n"
     ]
    }
   ],
   "source": [
    "# Test de funcionamiento\n",
    "\n",
    "main_header, main_dict_data = load_main_data(MOVIES_DATA)\n",
    "\n",
    "print(main_header)\n",
    "print()\n",
    "for title_year, pieces in list(main_dict_data.items())[:5]:\n",
    "    print(title_year, \" -> \", pieces)"
   ]
  },
  {
   "cell_type": "markdown",
   "metadata": {},
   "source": [
    "Y ahora podemos suprimir la variable `full_list_data`"
   ]
  },
  {
   "cell_type": "code",
   "execution_count": 161,
   "metadata": {},
   "outputs": [
    {
     "data": {
      "text/plain": [
       "11367"
      ]
     },
     "execution_count": 161,
     "metadata": {},
     "output_type": "execute_result"
    }
   ],
   "source": [
    "# Esta celda debe ser completada por el estudiante\n",
    "\n",
    "del full_list_data\n",
    "gc.collect()"
   ]
  },
  {
   "cell_type": "code",
   "execution_count": 162,
   "metadata": {},
   "outputs": [
    {
     "name": "stdout",
     "output_type": "stream",
     "text": [
      "La variable full_list_data está suprimida correctamente\n"
     ]
    }
   ],
   "source": [
    "# Test de funcionamiento\n",
    "\n",
    "try:\n",
    "    print(full_list_data)\n",
    "except:\n",
    "    print('La variable full_list_data está suprimida correctamente')"
   ]
  },
  {
   "cell_type": "markdown",
   "metadata": {},
   "source": [
    "### B.2. Recuperación de alguna información \n",
    "\n",
    "Diseña funciones para averiguar la siguiente información:\n",
    "\n",
    "- ¿Qué títulos de películas han sido dirigidas por \"James Cameron\" (o por el director que se desee)?"
   ]
  },
  {
   "cell_type": "code",
   "execution_count": 163,
   "metadata": {},
   "outputs": [],
   "source": [
    "# Esta celda debe ser completada por el estudiante\n",
    "def movies_anno_for_director(diccionario_peliculas, director):\n",
    "    peliculas = []\n",
    "\n",
    "    for pelicula, datos in diccionario_peliculas.items():\n",
    "        if datos[0] == director:\n",
    "            peliculas.append(pelicula)\n",
    "\n",
    "    return peliculas\n"
   ]
  },
  {
   "cell_type": "code",
   "execution_count": 164,
   "metadata": {},
   "outputs": [
    {
     "data": {
      "text/plain": [
       "[('Avatar', 2009),\n",
       " ('Titanic', 1997),\n",
       " ('Terminator 2: Judgment Day', 1991),\n",
       " ('True Lies', 1994),\n",
       " ('The Abyss', 1989),\n",
       " ('Aliens', 1986),\n",
       " ('The Terminator', 1984)]"
      ]
     },
     "execution_count": 164,
     "metadata": {},
     "output_type": "execute_result"
    }
   ],
   "source": [
    "# Test de funcionamiento\n",
    "    \n",
    "movies_anno_for_director(main_dict_data, \"James Cameron\")"
   ]
  },
  {
   "cell_type": "markdown",
   "metadata": {},
   "source": [
    "- ¿Qué directores han dirigido el número máximo de películas?"
   ]
  },
  {
   "cell_type": "code",
   "execution_count": 165,
   "metadata": {},
   "outputs": [],
   "source": [
    "# Esta celda debe ser completada por el estudiante\n",
    "\n",
    "def directors_max_movies(diccionario_peliculas):\n",
    "    directores={}\n",
    "\n",
    "    for pelicula in diccionario_peliculas.values():\n",
    "        director = pelicula[0]\n",
    "        if director!='' and director in directores:\n",
    "            directores[director]+=1\n",
    "        else:\n",
    "            directores[director]=1\n",
    "\n",
    "    maximo = max(directores.values())\n",
    "    director = [dir for dir, count in directores.items() if count==maximo]\n",
    "\n",
    "    return (director, maximo)"
   ]
  },
  {
   "cell_type": "code",
   "execution_count": 166,
   "metadata": {},
   "outputs": [
    {
     "name": "stdout",
     "output_type": "stream",
     "text": [
      "(['Steven Spielberg'], 26)\n"
     ]
    }
   ],
   "source": [
    "# Test de funcionamiento\n",
    "    \n",
    "print(directors_max_movies(main_dict_data))"
   ]
  },
  {
   "cell_type": "markdown",
   "metadata": {},
   "source": [
    "- Para cada año de un intervalo dado de años, ¿cuántas películas se han realizado? Esta información debe recuperrase en un diccionario convencional (no por defecto), y luego debe mostrarse en una lista con los años en orden ascendente.."
   ]
  },
  {
   "cell_type": "code",
   "execution_count": 167,
   "metadata": {},
   "outputs": [],
   "source": [
    "# Esta celda debe ser completada por el estudiante\n",
    "def years_num_movies(diccionario_peliculas, inicio, fin):\n",
    "    # Inicializamos el diccionario con los años en el rango (inicio, fin+) y\n",
    "    # el conteo de películas a 0\n",
    "    anhos = {anho:0 for anho in range(inicio, fin+1)}\n",
    "\n",
    "    for pelicula in diccionario_peliculas.keys():\n",
    "        anho_pelicula=pelicula[1]\n",
    "        if inicio<=anho_pelicula<=fin:\n",
    "            anhos[anho_pelicula] += 1\n",
    "\n",
    "    return anhos"
   ]
  },
  {
   "cell_type": "code",
   "execution_count": 168,
   "metadata": {},
   "outputs": [
    {
     "name": "stdout",
     "output_type": "stream",
     "text": [
      "{2000: 169, 2001: 183, 2002: 204, 2003: 169, 2004: 207, 2005: 216, 2006: 235, 2007: 198, 2008: 223, 2009: 253, 2010: 225, 2011: 224, 2012: 214, 2013: 231, 2014: 243, 2015: 211}\n"
     ]
    }
   ],
   "source": [
    "# Test de funcionamiento\n",
    "    \n",
    "num_movies = years_num_movies(main_dict_data, 2000, 2015)\n",
    "\n",
    "print(num_movies)"
   ]
  },
  {
   "cell_type": "code",
   "execution_count": 169,
   "metadata": {},
   "outputs": [],
   "source": [
    "# Esta celda debe ser completada por el estudiante\n",
    "\n",
    "num_movies_sorted = years_num_movies(main_dict_data, 2000, 2015)"
   ]
  },
  {
   "cell_type": "code",
   "execution_count": 170,
   "metadata": {},
   "outputs": [
    {
     "name": "stdout",
     "output_type": "stream",
     "text": [
      "{2000: 169, 2001: 183, 2002: 204, 2003: 169, 2004: 207, 2005: 216, 2006: 235, 2007: 198, 2008: 223, 2009: 253, 2010: 225, 2011: 224, 2012: 214, 2013: 231, 2014: 243, 2015: 211}\n"
     ]
    }
   ],
   "source": [
    "# Test de funcionamiento\n",
    "    \n",
    "print(num_movies_sorted)"
   ]
  },
  {
   "cell_type": "markdown",
   "metadata": {},
   "source": [
    "- Diseña también una operación que, partiendo de nuestro diccionario de los datos principales, almacene en un archivo los datos siguientes de cada película, sin la cabecera: el título, el idioma, el año, el país y el presupuesto. El separador será en este caso el carácter `|`. El archivo usado para el almacenamiento es el siguiente:\n",
    "\n",
    "    ``` python\n",
    "    FEW_FIELDS = \"algunos_campos.txt\"\n",
    "    ```"
   ]
  },
  {
   "cell_type": "code",
   "execution_count": 171,
   "metadata": {},
   "outputs": [],
   "source": [
    "# Esta celda debe ser completada por el estudiante\n",
    "\n",
    "def store_file(diccionario_peliculas, archivo_destino):\n",
    "    with open(archivo_destino, \"w\") as archivo:\n",
    "        for pelicula in diccionario_peliculas.items():\n",
    "            titulo=pelicula[0][0]\n",
    "            anho=str(pelicula[0][1])\n",
    "            idioma=pelicula[1][2]\n",
    "            pais=pelicula[1][3]\n",
    "            presupuesto=str(pelicula[1][5])\n",
    "            out = titulo + '|' + anho + '|' + idioma + '|' + pais + '|' + presupuesto + '\\n'\n",
    "\n",
    "            archivo.write(out)"
   ]
  },
  {
   "cell_type": "code",
   "execution_count": 172,
   "metadata": {},
   "outputs": [
    {
     "name": "stdout",
     "output_type": "stream",
     "text": [
      " El volumen de la unidad C no tiene etiqueta.\n",
      " El n�mero de serie del volumen es: 98FE-7047\n",
      "\n",
      " Directorio de c:\\Users\\Hugo\\OneDrive\\Desktop\\Entregas\\EntregasMaster\\01. Python\n",
      "\n",
      "03/11/2024  18:38           210.855 algunos_campos.txt\n",
      "               1 archivos        210.855 bytes\n",
      "               0 dirs  488.545.894.400 bytes libres\n",
      "\n",
      "Avatar|2009|English|USA|237000000\n",
      "\n",
      "Pirates of the Caribbean: At World's End|2007|English|USA|300000000\n",
      "\n",
      "Spectre|2015|English|UK|245000000\n",
      "\n",
      "The Dark Knight Rises|2012|English|USA|250000000\n",
      "\n",
      "Star Wars: Episode VII - The Force Awakens|-1|||-1\n",
      "\n"
     ]
    }
   ],
   "source": [
    "# Test de funciomaniemto\n",
    "\n",
    "store_file(main_dict_data, FEW_FIELDS)\n",
    "\n",
    "! dir algunos*.*\n",
    "\n",
    "print()\n",
    "\n",
    "with open(FEW_FIELDS) as f:\n",
    "    for i in range(5):\n",
    "        print(f.readline())"
   ]
  },
  {
   "cell_type": "markdown",
   "metadata": {},
   "source": [
    "### B.3. Un conteo sencillo con `defaultdict`\n",
    "\n",
    "Deseamos saber con qué directores y número de veces ha actuado cada actor como actor principal. Se pide realizar este conteo en un `defaultdict` cuyas claves serán nombres de los actores y cuyos valores tendrán la estructura de un `defaultdict`, cuyas claves serán los nombres de los directores y cuyos valores serán los núneros contabilizados."
   ]
  },
  {
   "cell_type": "code",
   "execution_count": 173,
   "metadata": {},
   "outputs": [],
   "source": [
    "# Esta celda debe ser completada por el estudiante\n",
    "\n",
    "def actor_directors(diccionario_peliculas):\n",
    "    actores = defaultdict(lambda: defaultdict(int))\n",
    "\n",
    "    for clave, datos in diccionario_peliculas.items():\n",
    "        actores[datos[0]][datos[1]] += 1\n",
    "\n",
    "    return actores\n",
    "\n"
   ]
  },
  {
   "cell_type": "code",
   "execution_count": 174,
   "metadata": {},
   "outputs": [
    {
     "name": "stdout",
     "output_type": "stream",
     "text": [
      "<class 'collections.defaultdict'>\n",
      "<class 'str'> <class 'collections.defaultdict'>\n",
      "<class 'str'> <class 'int'>\n",
      "\n",
      "defaultdict(<function actor_directors.<locals>.<lambda> at 0x00000158A3B947C0>, {'James Cameron': defaultdict(<class 'int'>, {'CCH Pounder': 1, 'Leonardo DiCaprio': 1, 'Joe Morton': 1, 'Jamie Lee Curtis': 1, 'Michael Biehn': 3}), 'Gore Verbinski': defaultdict(<class 'int'>, {'Johnny Depp': 5, 'J.K. Simmons': 1, 'Nicolas Cage': 1}), 'Sam Mendes': defaultdict(<class 'int'>, {'Christoph Waltz': 1, 'Albert Finney': 1, 'Tom Hanks': 1, 'Jake Gyllenhaal': 1, 'Leonardo DiCaprio': 1, \"Catherine O'Hara\": 1, 'Kevin Spacey': 1}), 'Christopher Nolan': defaultdict(<class 'int'>, {'Tom Hardy': 1, 'Christian Bale': 3, 'Matthew McConaughey': 1, 'Leonardo DiCaprio': 1, 'Al Pacino': 1, 'Callum Rennie': 1}), 'Doug Walker': defaultdict(<class 'int'>, {'Doug Walker': 1}), 'Andrew Stanton': defaultdict(<class 'int'>, {'Daryl Sabara': 1, 'John Ratzenberger': 1, 'Alexander Gould': 1}), 'Sam Raimi': defaultdict(<class 'int'>, {'J.K. Simmons': 4, 'Tim Holmes': 1, 'Leonardo DiCaprio': 1, 'Bojana Novakovic': 1, 'Gary Cole': 1, 'Patricia Tallman': 1, 'Ted Raimi': 2}), 'Nathan Greno': defaultdict(<class 'int'>, {'Brad Garrett': 1}), 'Joss Whedon': defaultdict(<class 'int'>, {'Chris Hemsworth': 2, 'Adam Baldwin': 1}), 'David Yates': defaultdict(<class 'int'>, {'Alan Rickman': 1, 'Christoph Waltz': 1, 'Robert Pattinson': 1}), 'Zack Snyder': defaultdict(<class 'int'>, {'Henry Cavill': 2, 'Matt Frewer': 1, 'Abbie Cornish': 1, 'Jon Hamm': 1, 'Gerard Butler': 1, 'Ty Burrell': 1}), 'Bryan Singer': defaultdict(<class 'int'>, {'Kevin Spacey': 2, 'Jennifer Lawrence': 2, 'Eddie Marsan': 1, 'Hugh Jackman': 2, 'Tom Cruise': 1}), 'Marc Forster': defaultdict(<class 'int'>, {'Giancarlo Giannini': 1, 'Peter Capaldi': 1, 'Will Ferrell': 1, 'Gerard Butler': 1, 'Johnny Depp': 1, 'Mustafa Haidari': 1, 'Heath Ledger': 1, 'Radha Mitchell': 1}), 'Andrew Adamson': defaultdict(<class 'int'>, {'Peter Dinklage': 1, 'Jim Broadbent': 1, 'Rupert Everett': 1, 'Kathleen Freeman': 1, 'Dallas Barnett': 1}), 'Rob Marshall': defaultdict(<class 'int'>, {'Johnny Depp': 2, 'Li Gong': 1, 'Fergie': 1, 'Colm Feore': 1}), 'Barry Sonnenfeld': defaultdict(<class 'int'>, {'Will Smith': 4, 'Zooey Deschanel': 1, 'Delroy Lindo': 1, 'Anjelica Huston': 1}), 'Peter Jackson': defaultdict(<class 'int'>, {'Aidan Turner': 3, 'Naomi Watts': 1, 'Christopher Lee': 2, 'Michael Imperioli': 1, 'Orlando Bloom': 1, 'Kate Winslet': 1}), 'Marc Webb': defaultdict(<class 'int'>, {'Emma Stone': 2, 'Joseph Gordon-Levitt': 1}), 'Ridley Scott': defaultdict(<class 'int'>, {'Mark Addy': 1, 'Christian Bale': 1, 'Michael Fassbender': 2, 'Liam Neeson': 1, 'Matt Damon': 1, 'Djimon Hounsou': 1, 'Denzel Washington': 1, 'Ioan Gruffudd': 1, 'Leonardo DiCaprio': 1, 'Viggo Mortensen': 1, 'Jeff Bridges': 1, 'Archie Panjabi': 1, 'Stephen Root': 1, 'Harrison Ford': 1, 'Tom Skerritt': 1}), 'Chris Weitz': defaultdict(<class 'int'>, {'Christopher Lee': 1, 'Robert Pattinson': 1, 'Chazz Palminteri': 1, 'Sharon Small': 1, 'Demián Bichir': 1}), 'Anthony Russo': defaultdict(<class 'int'>, {'Robert Downey Jr.': 1, 'Scarlett Johansson': 1, 'Todd Stashwick': 1, 'Michael Jeter': 1}), 'Peter Berg': defaultdict(<class 'int'>, {'Liam Neeson': 1, 'Will Smith': 1, 'Dwayne Johnson': 1, 'Jennifer Garner': 1, 'Jerry Ferrara': 1, 'Jon Favreau': 1}), 'Colin Trevorrow': defaultdict(<class 'int'>, {'Bryce Dallas Howard': 1, 'Mary Lynn Rajskub': 1}), 'Shane Black': defaultdict(<class 'int'>, {'Robert Downey Jr.': 2}), 'Tim Burton': defaultdict(<class 'int'>, {'Johnny Depp': 6, 'Cary-Hiroyuki Tagawa': 1, 'Michael Gough': 2, 'Natalie Portman': 1, 'Steve Buscemi': 1, 'Martin Landau': 1, \"Catherine O'Hara\": 1, 'Christoph Waltz': 1}), 'Brett Ratner': defaultdict(<class 'int'>, {'Hugh Jackman': 1, 'Tzi Ma': 1, 'Dwayne Johnson': 1, 'Mei Melançon': 1, 'Matthew Broderick': 1, 'Philip Seymour Hoffman': 1, 'Nicolas Cage': 1, 'Salma Hayek': 1, 'Heather Locklear': 1}), 'Dan Scanlon': defaultdict(<class 'int'>, {'Steve Buscemi': 1}), 'Michael Bay': defaultdict(<class 'int'>, {'Glenn Morshower': 2, 'Bingbing Li': 1, 'Jennifer Garner': 1, 'Zack Ward': 1, 'Bruce Willis': 1, 'Will Smith': 2, 'Scarlett Johansson': 1, 'Nicolas Cage': 1, 'Toby Stephens': 1, 'Dwayne Johnson': 1}), 'Joseph Kosinski': defaultdict(<class 'int'>, {'Jeff Bridges': 1, 'Morgan Freeman': 1, 'Peter Dinklage': 1}), 'John Lasseter': defaultdict(<class 'int'>, {'Joe Mantegna': 1, 'Tom Hanks': 2, 'John Ratzenberger': 1, 'Kevin Spacey': 1}), 'Martin Campbell': defaultdict(<class 'int'>, {'Ryan Reynolds': 1, 'Eva Green': 1, 'Michael Emerson': 1, 'Nicholas Lea': 1, 'Anthony Hopkins': 1, 'Izabella Scorupco': 1, 'Bojana Novakovic': 1, 'Angelina Jolie Pitt': 1}), 'Lee Unkrich': defaultdict(<class 'int'>, {'Tom Hanks': 1}), 'McG': defaultdict(<class 'int'>, {'Christian Bale': 1, 'Demi Moore': 1, 'Bill Murray': 1, 'Tom Hardy': 1, 'Matthew McConaughey': 1, 'Connie Nielsen': 1}), 'James Wan': defaultdict(<class 'int'>, {'Jason Statham': 1, 'Javier Botet': 1, 'Mackenzie Foy': 1, 'Aisha Tyler': 1, 'Lin Shaye': 2, 'Michael Emerson': 1}), 'J.J. Abrams': defaultdict(<class 'int'>, {'Benedict Cumberbatch': 1, 'Philip Seymour Hoffman': 1, 'Chris Hemsworth': 1, 'Joel Courtney': 1}), 'Baz Luhrmann': defaultdict(<class 'int'>, {'Leonardo DiCaprio': 2, 'Essie Davis': 1, 'Jim Broadbent': 1}), 'Mike Newell': defaultdict(<class 'int'>, {'Jake Gyllenhaal': 1, 'Robert Pattinson': 1, 'Julia Roberts': 1, 'Marcela Mar': 1, 'Johnny Depp': 1, 'Angelina Jolie Pitt': 1, 'Kristin Scott Thomas': 1}), 'Guillermo del Toro': defaultdict(<class 'int'>, {'Charlie Hunnam': 1, 'Seth MacFarlane': 1, 'James Babson': 1, 'Norman Reedus': 1, 'Ivana Baquero': 1}), 'Steven Spielberg': defaultdict(<class 'int'>, {'Harrison Ford': 4, 'Mark Rylance': 1, 'Tom Cruise': 2, 'Toby Jones': 1, 'Haley Joel Osment': 1, 'Ariana Richards': 1, 'Tom Hanks': 3, 'Ayelet Zurer': 1, 'Robin Williams': 1, 'Jeremy Irvine': 1, 'Joseph Gordon-Levitt': 1, 'Wayne Knight': 1, 'Leonardo DiCaprio': 1, 'Anthony Hopkins': 1, 'Christopher Lee': 1, 'Liam Neeson': 1, 'Bob Balaban': 1, 'Oprah Winfrey': 1, 'Roy Scheider': 1, 'Henry Thomas': 1}), 'Peter Sohn': defaultdict(<class 'int'>, {'A.J. Buckley': 1}), 'Mark Andrews': defaultdict(<class 'int'>, {'Kelly Macdonald': 1}), 'Justin Lin': defaultdict(<class 'int'>, {'Sofia Boutella': 1, 'Paul Walker': 1, 'Amber Stevens West': 1, 'Monique Gabriela Curnen': 1, 'Parry Shen': 1}), 'Roland Emmerich': defaultdict(<class 'int'>, {'Oliver Platt': 1, 'Vivica A. Fox': 1, 'Channing Tatum': 1, 'Jake Gyllenhaal': 1, 'Heath Ledger': 1, 'Will Smith': 1, 'Vanessa Redgrave': 1, 'Jeremy Irvine': 1}), 'Robert Zemeckis': defaultdict(<class 'int'>, {'Robin Wright': 2, 'Tom Hanks': 3, 'Harrison Ford': 1, 'Matthew McConaughey': 1, 'Bruce Willis': 1, 'Lea Thompson': 3, 'Joseph Gordon-Levitt': 1, 'Denzel Washington': 1}), 'Lana Wachowski': defaultdict(<class 'int'>, {'Channing Tatum': 1, 'Essie Davis': 1, 'Steve Bastoni': 1, 'Scott Porter': 1, 'Keanu Reeves': 1, 'Christopher Meloni': 1}), 'Pete Docter': defaultdict(<class 'int'>, {'John Ratzenberger': 1, 'Amy Poehler': 1, 'Steve Buscemi': 1}), 'Rob Letterman': defaultdict(<class 'int'>, {'Amy Poehler': 1, 'James Corden': 1, 'Odeya Rush': 1}), 'Jon Favreau': defaultdict(<class 'int'>, {'Robert Downey Jr.': 2, 'Scarlett Johansson': 1, 'Kristen Stewart': 1, 'Peter Dinklage': 1, 'Jon Favreau': 1}), 'Martin Scorsese': defaultdict(<class 'int'>, {'Chloë Grace Moretz': 1, 'Leonardo DiCaprio': 5, 'Robert De Niro': 7, 'Richard E. Grant': 1, 'Nicolas Cage': 1, 'Tenzin Thuthob Tsarong': 1, 'Tom Cruise': 1, 'Irvin Kershner': 1, 'Mick Jagger': 1, 'Ringo Starr': 1}), 'Rob Cohen': defaultdict(<class 'int'>, {'Jet Li': 1, 'Paul Walker': 2, 'Sam Shepard': 1, 'Sylvester Stallone': 1, 'Vin Diesel': 1, 'Dennis Quaid': 1, 'Cicely Tyson': 1, 'Ryan Guzman': 1}), 'David Ayer': defaultdict(<class 'int'>, {'Will Smith': 1, 'Brad Pitt': 1, 'Mireille Enos': 1, 'Keanu Reeves': 1, 'Jake Gyllenhaal': 1, 'J.K. Simmons': 1}), 'Tom Shadyac': defaultdict(<class 'int'>, {'Jimmy Bennett': 1, 'Morgan Freeman': 1, 'Joe Morton': 1, 'Jada Pinkett Smith': 1, 'Robin Williams': 1, 'Maura Tierney': 1, 'Sean Young': 1}), 'Doug Liman': defaultdict(<class 'int'>, {'Tom Cruise': 1, 'Brad Pitt': 1, 'Kristen Stewart': 1, 'Matt Damon': 1, 'Naomi Watts': 1, 'Sarah Polley': 1, 'Jon Favreau': 1}), 'Kevin Reynolds': defaultdict(<class 'int'>, {'Jeanne Tripplehorn': 1, 'Alan Rickman': 1, 'Henry Cavill': 1, 'Peter Firth': 1, 'Esai Morales': 1}), 'Stephen Sommers': defaultdict(<class 'int'>, {'Joseph Gordon-Levitt': 1, 'Dwayne Johnson': 1, 'Djimon Hounsou': 1, 'Curtis Armstrong': 1}), 'Rupert Sanders': defaultdict(<class 'int'>, {'Chris Hemsworth': 1}), 'Robert Stromberg': defaultdict(<class 'int'>, {'Angelina Jolie Pitt': 1}), 'Matt Reeves': defaultdict(<class 'int'>, {'Gary Oldman': 1, 'Mike Vogel': 1, 'Chloë Grace Moretz': 1, 'Mark Margolis': 1}), 'Roland Joffé': defaultdict(<class 'int'>, {'Tamsin Egerton': 1, 'Gary Oldman': 1, 'Jordi Mollà': 1}), 'Carl Rinsch': defaultdict(<class 'int'>, {'Keanu Reeves': 1}), 'Mike Mitchell': defaultdict(<class 'int'>, {'Jon Hamm': 1, 'Amy Poehler': 2, 'Michael Angarano': 1}), 'Brad Bird': defaultdict(<class 'int'>, {'Judy Greer': 1, 'Janeane Garofalo': 1, 'Tom Cruise': 1, 'Holly Hunter': 1, 'Vin Diesel': 1}), 'Don Hall': defaultdict(<class 'int'>, {'Damon Wayans Jr.': 1}), 'Rich Moore': defaultdict(<class 'int'>, {'Jack McBrayer': 1}), 'Dean DeBlois': defaultdict(<class 'int'>, {'Gerard Butler': 2, 'Tia Carrere': 1}), 'Jonathan Mostow': defaultdict(<class 'int'>, {'Nick Stahl': 1, 'Bruce Willis': 1, 'Matthew McConaughey': 1, 'Kathleen Quinlan': 1}), 'James Gunn': defaultdict(<class 'int'>, {'Bradley Cooper': 1, 'Dustin Milligan': 1, 'Linda Cardellini': 1}), 'Hideaki Anno': defaultdict(<class 'int'>, {'Mark Chinnery': 1}), 'David Fincher': defaultdict(<class 'int'>, {'Brad Pitt': 2, 'Robin Wright': 1, 'Robert Downey Jr.': 1, 'Patrick Fugit': 1, 'Charles S. Dutton': 1, 'Deborah Kara Unger': 1, 'Kristen Stewart': 1, 'Andrew Garfield': 1, 'Morgan Freeman': 1}), 'Matthew Vaughn': defaultdict(<class 'int'>, {'Jennifer Lawrence': 1, 'Henry Cavill': 1, 'Elizabeth McGovern': 1, 'Tom Hardy': 1}), 'Francis Lawrence': defaultdict(<class 'int'>, {'Jennifer Lawrence': 3, 'Will Smith': 1, 'Robert Pattinson': 1}), 'Jon Turteltaub': defaultdict(<class 'int'>, {'Nicolas Cage': 2, 'Bruce Willis': 1, 'Anthony Hopkins': 1, 'Robert Duvall': 1, 'Robert De Niro': 1, 'Doug E. Doug': 1}), 'Wolfgang Petersen': defaultdict(<class 'int'>, {'Jimmy Bennett': 1, 'Brad Pitt': 1, 'Karen Allen': 1, 'Harrison Ford': 1, 'Kevin Spacey': 1, 'Gerald McRaney': 1, 'Jürgen Prochnow': 1}), 'James Bobin': defaultdict(<class 'int'>, {'Johnny Depp': 1, 'Ty Burrell': 1, 'Bill Cobbs': 1}), 'Chris Miller': defaultdict(<class 'int'>, {'Justin Timberlake': 1, 'Salma Hayek': 1}), 'Duncan Jones': defaultdict(<class 'int'>, {'Dominic Cooper': 1, 'Jake Gyllenhaal': 1, 'Kevin Spacey': 1}), 'Alan Taylor': defaultdict(<class 'int'>, {'J.K. Simmons': 1, 'Chris Hemsworth': 1}), 'Michael Apted': defaultdict(<class 'int'>, {'Bruce Spence': 1, 'Colin Salmon': 1, 'Bill Cobbs': 1, 'J.K. Simmons': 1, 'Gerard Butler': 1, 'Sissy Spacek': 1}), 'Oliver Stone': defaultdict(<class 'int'>, {'Anthony Hopkins': 2, 'Frank Langella': 1, 'Nicolas Cage': 1, 'Al Pacino': 1, 'Demián Bichir': 1, 'Sally Kirkland': 1, 'Michael Wincott': 2, 'Toby Jones': 1, 'Hal Holbrook': 1, 'Tom Cruise': 1, 'Johnny Depp': 1, 'Jim Belushi': 1}), 'Eric Darnell': defaultdict(<class 'int'>, {'Bernie Mac': 1, 'Jada Pinkett Smith': 2, 'Benedict Cumberbatch': 1, 'Sylvester Stallone': 1}), 'Shawn Levy': defaultdict(<class 'int'>, {'Robin Williams': 3, 'Hugh Jackman': 1, 'Roger Rees': 1, 'Josh Gad': 1, 'Mila Kunis': 1, 'Tom Welling': 1, 'Tina Fey': 1, 'Taran Killam': 1, 'Frankie Muniz': 1}), 'Gavin Hood': defaultdict(<class 'int'>, {'Hugh Jackman': 1, 'Harrison Ford': 1, 'J.K. Simmons': 1, 'Terry Pheto': 1}), 'Chris Buck': defaultdict(<class 'int'>, {'Josh Gad': 1}), 'George Miller': defaultdict(<class 'int'>, {'Tom Hardy': 1, 'Robin Williams': 2, 'Adam Goldberg': 1, 'Tina Turner': 1, 'Tony Bonner': 1, 'Vernon Wells': 1, 'Hugh Keays-Byrne': 1}), 'Ron Howard': defaultdict(<class 'int'>, {'Tom Hanks': 4, 'Clint Howard': 1, 'Chris Hemsworth': 2, 'Paddy Considine': 1, 'Adam Goldberg': 1, 'Lili Taylor': 1, 'Channing Tatum': 1, 'Matthew McConaughey': 1, 'Toby Jones': 1}), 'Kenneth Branagh': defaultdict(<class 'int'>, {'Chris Hemsworth': 1, 'Hayley Atwell': 1, 'Colm Feore': 1, 'Kim-Marie Woodhouse': 1, 'Julie Christie': 1, 'Brian Blessed': 1, 'Keanu Reeves': 1}), 'Byron Howard': defaultdict(<class 'int'>, {'Chloë Grace Moretz': 1}), 'Hoyt Yeatman': defaultdict(<class 'int'>, {'Kelli Garner': 1}), 'Jonathan Liebesman': defaultdict(<class 'int'>, {'Liam Neeson': 1, 'Noel Fisher': 2, 'Matt Bomer': 1, 'Sullivan Stapleton': 1}), 'Christopher McQuarrie': defaultdict(<class 'int'>, {'Tom Cruise': 2, 'Kristin Lehman': 1}), 'Joe Johnston': defaultdict(<class 'int'>, {'Anthony Hopkins': 1, 'Chris Evans': 1, 'Michael Jeter': 1, 'J.K. Simmons': 1}), 'Steve Hickner': defaultdict(<class 'int'>, {'Matthew Broderick': 1}), 'Jennifer Yuh Nelson': defaultdict(<class 'int'>, {'Angelina Jolie Pitt': 1}), 'M. Night Shyamalan': defaultdict(<class 'int'>, {'Seychelle Gabriel': 1, 'Will Smith': 1, 'Robin Wright': 1, 'Bryce Dallas Howard': 2, 'Rory Culkin': 1, 'Zooey Deschanel': 1, 'Bruce Willis': 1, 'Ocean James': 1}), 'Simon Wells': defaultdict(<class 'int'>, {'Elisabeth Harnois': 1, 'Mark Addy': 1}), 'David Bowers': defaultdict(<class 'int'>, {'Hugh Jackman': 1, 'Nicolas Cage': 1, 'Zachary Gordon': 2}), 'Joe Wright': defaultdict(<class 'int'>, {'Hugh Jackman': 1, 'Robert Downey Jr.': 1, 'Kelly Macdonald': 1, 'Benedict Cumberbatch': 1, 'Jessica Barden': 1, 'Talulah Riley': 1}), 'Rob Minkoff': defaultdict(<class 'int'>, {'Ty Burrell': 1, 'Nathan Lane': 1, 'Chazz Palminteri': 1, 'Marsha Thomason': 1, 'Jet Li': 1}), 'Lee Tamahori': defaultdict(<class 'int'>, {'Toby Stephens': 1, 'Anthony Hopkins': 1, 'Sunny Mabrey': 1, 'Morgan Freeman': 1, 'Mem Ferda': 1}), 'Paul Feig': defaultdict(<class 'int'>, {'Ed Begley Jr.': 1, 'Michael Rapaport': 1, 'Matt Lucas': 1, 'Tyler James Williams': 1}), 'Alessandro Carloni': defaultdict(<class 'int'>, {'J.K. Simmons': 1}), 'Peter Ramsey': defaultdict(<class 'int'>, {'Hugh Jackman': 1}), 'Dean Parisot': defaultdict(<class 'int'>, {'John Michael Higgins': 1, 'Bruce Willis': 1, 'Alan Rickman': 1, \"Catherine O'Hara\": 1}), 'Edward Zwick': defaultdict(<class 'int'>, {'Tom Cruise': 1, 'Leonardo DiCaprio': 1, 'Denzel Washington': 3, 'Anthony Hopkins': 1, 'Jake Gyllenhaal': 1}), 'Alex Proyas': defaultdict(<class 'int'>, {'Gerard Butler': 1, 'Will Smith': 1, 'Nicolas Cage': 1, 'Michael Wincott': 1, 'Rufus Sewell': 1}), 'Richard Donner': defaultdict(<class 'int'>, {'Jet Li': 1, 'Julia Roberts': 1, 'Paul Walker': 1, 'Marlon Brando': 1, 'Muse Watson': 1, 'Bruce Willis': 1, 'Rene Russo': 1, 'Adam Baldwin': 1, 'Bill Murray': 1, 'Lee Remick': 1, 'Matthew Broderick': 1}), 'Ang Lee': defaultdict(<class 'int'>, {'Kevin Rankin': 1, 'Suraj Sharma': 1, 'Jeremy W. Auman': 1, 'Imelda Staunton': 1, 'Joan Allen': 1, 'Alan Rickman': 1, 'Chen Chang': 1, 'Jake Gyllenhaal': 1}), 'Jon M. Chu': defaultdict(<class 'int'>, {'Channing Tatum': 1, 'Daniel Radcliffe': 1, 'Alyson Stoner': 1, 'Cassie Ventura': 1, 'Usher Raymond': 1}), 'Breck Eisner': defaultdict(<class 'int'>, {'Matthew McConaughey': 1, 'Vin Diesel': 1, 'Radha Mitchell': 1}), 'Hironobu Sakaguchi': defaultdict(<class 'int'>, {'Steve Buscemi': 1}), 'Peter Weir': defaultdict(<class 'int'>, {\"James D'Arcy\": 1, 'Natascha McElhone': 1, 'Robin Williams': 1, 'Harrison Ford': 1}), 'Bill Condon': defaultdict(<class 'int'>, {'Robert Pattinson': 1, 'Loretta Devine': 1, 'Benedict Cumberbatch': 1, 'Liam Neeson': 1, 'Brendan Fraser': 1}), 'Louis Leterrier': defaultdict(<class 'int'>, {'Ty Burrell': 1, 'Liam Neeson': 1, 'Morgan Freeman': 2, 'Jason Statham': 2}), '': defaultdict(<class 'int'>, {'Don Johnson': 1, 'George Peppard': 1, 'Caroline Dhavernas': 1, 'Elden Henson': 1, 'Elizabeth Montgomery': 1, 'Harold Perrineau': 1, 'Adam Arkin': 1, 'Nicole Beharie': 1, 'Hector Elizondo': 1, 'Jason Flemyng': 1, 'Bianca Kajlich': 1, 'Nate Richert': 1, 'Chris Noth': 1, 'Barry Corbin': 1, 'Christopher Judge': 1, 'Bernard Hill': 1, 'David Jason': 1, 'Grey Damon': 1, 'Julie Benz': 1, 'Tobias Menzies': 1, 'Pierre Perrier': 1, 'Tim Conway': 1, 'Bruce Dinsmore': 1, 'Joseph Gordon-Levitt': 1, 'Jon Foo': 1, \"Jodi Lyn O'Keefe\": 1, 'Ruth Wilson': 1, 'Zach Gilford': 2, 'Debi Mazar': 1, 'Ólafur Darri Ólafsson': 1, 'Amanda Schull': 1, 'Colin Salmon': 1, 'Jackie Gleason': 1, 'Rob McElhenney': 1, 'Justin Fletcher': 1, 'Elizabeth Daily': 1, 'Cole Hauser': 1, 'Chris Harrison': 1, 'Lamman Rucker': 1, 'Pablo Sevilla': 1, 'Leah Remini': 1, 'LeVar Burton': 1, 'Peter Vaughan': 1, \"Nicole 'Snooki' Polizzi\": 1, 'Peter Gallagher': 1, 'Poppy Montgomery': 1, 'Edgar Ramírez': 1, 'Joel Courtney': 1, 'Steven Van Zandt': 1, 'Bex Taylor-Klaus': 1, 'David Ogden Stiers': 2, 'Anna Silk': 1, 'Amy Bruni': 1, 'Krystyna Janda': 1, 'Jacek Koman': 1, 'Peter Mensah': 1, 'Antonia Thomas': 1, 'Michaela Conlin': 1, 'Ronn Moss': 1, 'Dee Bradley Baker': 1, 'Nick Wechsler': 1, 'Dominic Cooper': 1, 'Tom Hardy': 1, 'Kirsten Dunst': 1, 'Sarah Michelle Gellar': 1, 'Melinda Clarke': 1, 'Jensen Ackles': 1, 'Maria Pia Calzone': 1, 'Jim Broadbent': 1, 'Francis Capra': 1, 'Romola Garai': 1, 'Simon Bird': 1, 'Holly Hunter': 1, 'Corbin Bernsen': 1, 'Dan Fogler': 1, 'Zack Ward': 1, 'Dorian Missick': 1, 'Doug Brochu': 1, \"Ta'Rhonda Jones\": 1, 'James Nesbitt': 1, 'Matthew Senreich': 1, 'Rachel Griffiths': 1, 'Craig T. Nelson': 1, 'Danny Pino': 1, 'Susan Hampshire': 1, \"Carroll O'Connor\": 1, 'Stephen Colbert': 1, 'Anne Hathaway': 1, 'Joe Morton': 1, 'Steven Weber': 1, 'Karl Malden': 1, 'James Morrison': 1, 'Mary Lynn Rajskub': 1, 'Richard Cawthorne': 1, 'Eric Lloyd': 1, 'Sendhil Ramamurthy': 1, 'Brendon Small': 1, 'Billy Burke': 1, 'Shirley Henderson': 1, 'Natalie Zea': 1}), 'Alejandro G. Iñárritu': defaultdict(<class 'int'>, {'Leonardo DiCaprio': 1, 'Maricel Álvarez': 1, 'Brad Pitt': 1, 'Naomi Watts': 1, 'Emma Stone': 1, 'Adriana Barraza': 1}), 'David Soren': defaultdict(<class 'int'>, {'Ryan Reynolds': 1}), 'Paul Greengrass': defaultdict(<class 'int'>, {'Matt Damon': 4, 'Tom Hanks': 1, 'Christian Clemenson': 1, 'James Nesbitt': 1}), 'Mark Osborne': defaultdict(<class 'int'>, {'Angelina Jolie Pitt': 1, 'Jeff Bridges': 1}), 'Peyton Reed': defaultdict(<class 'int'>, {'Judy Greer': 1, 'Jon Favreau': 1, 'Bradley Cooper': 1, 'Kirsten Dunst': 1}), 'Tim Johnson': defaultdict(<class 'int'>, {'Jim Parsons': 1, 'Bruce Willis': 1}), 'Phillip Noyce': defaultdict(<class 'int'>, {'Angelina Jolie Pitt': 1, 'Alun Armstrong': 1, 'Harrison Ford': 2, 'Denzel Washington': 1, 'Jeff Bridges': 1, 'Brendan Fraser': 1, 'Derek Luke': 1, 'Roy Billing': 1}), 'Darren Aronofsky': defaultdict(<class 'int'>, {'Anthony Hopkins': 1, 'Hugh Jackman': 1, 'Natalie Portman': 1, 'Mark Margolis': 2, 'Ellen Burstyn': 1}), 'Alfonso Cuarón': defaultdict(<class 'int'>, {'Daniel Radcliffe': 1, 'Phaldut Sharma': 1, 'Charlie Hunnam': 1, 'Maribel Verdú': 1}), 'Eric Leighton': defaultdict(<class 'int'>, {'Alfre Woodard': 1}), 'Matt Birch': defaultdict(<class 'int'>, {'Rupert Grint': 2}), 'Tom McGrath': defaultdict(<class 'int'>, {'J.K. Simmons': 1}), 'Chris Columbus': defaultdict(<class 'int'>, {'Daniel Radcliffe': 2, 'Logan Lerman': 1, 'Peter Dinklage': 1, 'Robin Williams': 2, 'Julia Roberts': 1, 'Rosario Dawson': 1, 'Macaulay Culkin': 2, 'Alan Ruck': 1}), 'Robert Schwentke': defaultdict(<class 'int'>, {'Ryan Reynolds': 1, 'Kate Winslet': 1, 'Naomi Watts': 1, 'Bruce Willis': 1, 'Erika Christensen': 1, 'Arliss Howard': 1}), 'Carlos Saldanha': defaultdict(<class 'int'>, {'Miguel Ferrer': 1, 'Denis Leary': 2, 'Anne Hathaway': 1}), 'Guy Ritchie': defaultdict(<class 'int'>, {'Robert Downey Jr.': 2, 'Henry Cavill': 1, 'Tom Hardy': 1, 'Jason Statham': 2, 'Bruce Greenwood': 1}), 'Paul Verhoeven': defaultdict(<class 'int'>, {'Ronny Cox': 1, 'Jake Busey': 1, 'Greg Grunberg': 1, 'Bobbie Phillips': 1, 'Michiel Huisman': 1}), 'John McTiernan': defaultdict(<class 'int'>, {'Tony Curran': 1, 'Bruce Willis': 1, 'F. Murray Abraham': 1, 'LL Cool J': 1, 'Connie Nielsen': 1, 'Mark Margolis': 1, 'Lorraine Bracco': 1, 'Scott Glenn': 1, 'Alan Rickman': 1, 'Shane Black': 1}), 'Tony Gilroy': defaultdict(<class 'int'>, {'Jeremy Renner': 1, 'Julia Roberts': 1, 'Tom Wilkinson': 1}), 'Joel Schumacher': defaultdict(<class 'int'>, {'Michael Gough': 2, 'Anthony Hopkins': 1, 'Gerard Butler': 1, 'Bradley Whitford': 1, 'Kevin Spacey': 1, 'Nicolas Cage': 1, 'Logan Lerman': 1, 'Robert De Niro': 1, 'Julia Roberts': 1, 'Brenda Fricker': 1, 'Radha Mitchell': 1, 'Dianne Wiest': 1}), 'John Woo': defaultdict(<class 'int'>, {'Tom Cruise': 1, 'Nicolas Cage': 2, 'Delroy Lindo': 1, 'Ivana Milicevic': 1, 'Takeshi Kaneshiro': 1}), 'Tim Story': defaultdict(<class 'int'>, {'Chris Evans': 1, 'Olivia Munn': 1, 'Bruce McGill': 1, 'Romany Malco': 1, 'Chris Brown': 1, 'Sean Patrick Thomas': 1}), 'Mark Steven Johnson': defaultdict(<class 'int'>, {'Nicolas Cage': 1, 'Oliver Platt': 1}), 'Neill Blomkamp': defaultdict(<class 'int'>, {'Matt Damon': 1, 'Hugh Jackman': 1, 'Sharlto Copley': 1}), 'David Twohy': defaultdict(<class 'int'>, {'Vin Diesel': 3, 'Chris Hemsworth': 1}), 'José Padilha': defaultdict(<class 'int'>, {'Gary Oldman': 1, 'Wagner Moura': 1}), 'James L. Brooks': defaultdict(<class 'int'>, {'Shelley Conn': 1, 'Adam Sandler': 1, 'Lupe Ontiveros': 1}), 'James Mangold': defaultdict(<class 'int'>, {'Tom Cruise': 1, 'Hugh Jackman': 2, 'Christian Bale': 1, 'Sandra Ellis Lafferty': 1, 'Clea DuVall': 1, 'Angelina Jolie Pitt': 1, 'Robert De Niro': 1}), 'George Lucas': defaultdict(<class 'int'>, {'Natalie Portman': 3, 'Harrison Ford': 2}), 'Kirk De Micco': defaultdict(<class 'int'>, {'Ryan Reynolds': 1, 'Cheryl Hines': 1}), 'Frédéric Forestier': defaultdict(<class 'int'>, {'Alain Delon': 1}), 'Cedric Nicolas-Troyan': defaultdict(<class 'int'>, {'Chris Hemsworth': 1}), 'Roger Donaldson': defaultdict(<class 'int'>, {'Jamie Renée Smith': 1, 'Bruce Greenwood': 1, 'Natasha Henstridge': 1, 'Anthony Hopkins': 1, 'Jason Statham': 1, 'Liam Neeson': 1, 'Luke Bracey': 1}), 'Dave Green': defaultdict(<class 'int'>, {'Stephen Amell': 1, 'Teo Halm': 1}), 'Josh Trank': defaultdict(<class 'int'>, {'Tim Blake Nelson': 1, 'Michael Kelly': 1}), 'Brad Peyton': defaultdict(<class 'int'>, {'Dwayne Johnson': 1, 'Jack McBrayer': 1, 'Josh Hutcherson': 1}), 'Roger Spottiswoode': defaultdict(<class 'int'>, {'Vincent Schiavelli': 1, 'Robert Duvall': 2, 'Radha Mitchell': 1}), 'Steven Soderbergh': defaultdict(<class 'int'>, {'Brad Pitt': 2, 'Al Pacino': 1, 'Matt Damon': 2, 'Julia Roberts': 2, \"Michael O'Neill\": 1, 'Don Cheadle': 1, 'Tony Curran': 1, 'Channing Tatum': 3, 'Peter Fonda': 1, 'Peter Gallagher': 1}), 'Michel Gondry': defaultdict(<class 'int'>, {'Christoph Waltz': 1, 'Kate Winslet': 1, 'Quinton Aaron': 1, 'Common': 1}), 'Noam Murro': defaultdict(<class 'int'>, {'Eva Green': 1}), 'Raja Gosnell': defaultdict(<class 'int'>, {'Mahadeo Shivraj': 1, 'Jacob Tremblay': 1, 'Sarah Michelle Gellar': 2, 'Nia Long': 1, 'Jamie Lee Curtis': 1}), 'Will Finn': defaultdict(<class 'int'>, {'Steve Buscemi': 1, 'Lea Michele': 1}), 'Jan de Bont': defaultdict(<class 'int'>, {'Jason Patric': 1, 'Gerard Butler': 1, 'Philip Seymour Hoffman': 1, 'Liam Neeson': 1, 'Keanu Reeves': 1}), 'Len Wiseman': defaultdict(<class 'int'>, {'Bruce Willis': 1, 'Sophia Myles': 2}), 'Frank Coraci': defaultdict(<class 'int'>, {'Jim Broadbent': 1, 'Adam Sandler': 2, 'Rosario Dawson': 1, 'Taylor Lautner': 1, 'Bella Thorne': 1, 'Salma Hayek': 1}), 'Michael Mann': defaultdict(<class 'int'>, {'Will Smith': 1, 'Johnny Depp': 1, 'Chris Hemsworth': 1, 'Al Pacino': 1, 'Tom Cruise': 1, 'Wes Studi': 1}), 'Bo Welch': defaultdict(<class 'int'>, {'Sean Hayes': 1}), 'Ron Clements': defaultdict(<class 'int'>, {'Oprah Winfrey': 1, 'Joseph Gordon-Levitt': 1, 'Robin Williams': 1}), 'Christopher Barnard': defaultdict(<class 'int'>, {'Mathew Buck': 1}), 'Peter Chelsom': defaultdict(<class 'int'>, {'Del Zamora': 1, 'Lisa Ann Walter': 1, 'Emily Osment': 1, 'Lilli Lavine': 1, 'Kieran Culkin': 1}), 'Dominic Sena': defaultdict(<class 'int'>, {'Nicolas Cage': 1, 'Hugh Jackman': 1, 'Tom Skerritt': 1}), 'Tony Scott': defaultdict(<class 'int'>, {'Denzel Washington': 4, 'Brad Pitt': 2, 'Will Smith': 1, 'Tom Cruise': 2, 'Robert De Niro': 1, 'Ian Ziering': 1, 'Dean Stockwell': 1}), 'Paul Weitz': defaultdict(<class 'int'>, {'Robert De Niro': 1, 'Josh Hutcherson': 1, 'Scarlett Johansson': 1, 'Judy Greer': 1, 'Tina Fey': 1, 'Alyson Hannigan': 1}), 'Adam McKay': defaultdict(<class 'int'>, {'Dwayne Johnson': 1, 'Will Ferrell': 2, 'Harrison Ford': 1, 'Ryan Gosling': 1, 'Darcy Donavan': 1}), 'Chuck Russell': defaultdict(<class 'int'>, {'Vanessa Williams': 1, 'Dwayne Johnson': 1, 'Rufus Sewell': 1, 'Peter Greene': 1, 'Sam Trammell': 1, 'John Saxon': 1}), 'Quentin Tarantino': defaultdict(<class 'int'>, {'Leonardo DiCaprio': 1, 'Michael Fassbender': 1, 'Craig Stark': 1, 'David Carradine': 1, 'Vivica A. Fox': 1, 'Robert De Niro': 1, 'Bruce Willis': 1, 'Quentin Tarantino': 1}), 'Gary Trousdale': defaultdict(<class 'int'>, {'Demi Moore': 1, 'Leonard Nimoy': 1}), 'Mark Dindal': defaultdict(<class 'int'>, {'Eartha Kitt': 1, \"Catherine O'Hara\": 1, 'George Kennedy': 1}), 'Simon West': defaultdict(<class 'int'>, {'Jason Statham': 3, 'Angelina Jolie Pitt': 1, 'Steve Buscemi': 1, 'Daniel von Bargen': 1, 'Nicolas Cage': 1, 'Madeline Carroll': 1}), 'Stefen Fangmeier': defaultdict(<class 'int'>, {'Djimon Hounsou': 1}), 'Spike Jonze': defaultdict(<class 'int'>, {\"Catherine O'Hara\": 1, 'Scarlett Johansson': 1, 'Nicolas Cage': 1, 'Willie Garson': 1}), 'Chris Wedge': defaultdict(<class 'int'>, {'Josh Hutcherson': 1, 'Jim Broadbent': 1, 'Goran Visnjic': 1}), 'Florian Henckel von Donnersmarck': defaultdict(<class 'int'>, {'Johnny Depp': 1, 'Sebastian Koch': 1}), 'Peter Hyams': defaultdict(<class 'int'>, {'CCH Pounder': 1, 'David Oyelowo': 1, 'John Kapelos': 1, 'Catherine Deneuve': 1, 'Mia Sara': 1, 'David Huddleston': 1}), 'Tom Tykwer': defaultdict(<class 'int'>, {'Tom Hanks': 1, 'Michael Smiley': 1, 'Naomi Watts': 1, 'Moritz Bleibtreu': 1, 'Devid Striesow': 1}), 'Pitof': defaultdict(<class 'int'>, {'Frances Conroy': 1}), 'Brad Silberling': defaultdict(<class 'int'>, {'Will Ferrell': 1, 'Eric Idle': 1, 'Nicolas Cage': 1, 'Jake Gyllenhaal': 1}), 'Patrick Hughes': defaultdict(<class 'int'>, {'Jason Statham': 1}), 'Ericson Core': defaultdict(<class 'int'>, {'Ray Winstone': 1}), 'Lawrence Guterman': defaultdict(<class 'int'>, {'Jamie Kennedy': 1, 'Carol Ann Susi': 1}), 'Ron Underwood': defaultdict(<class 'int'>, {'Rosario Dawson': 1, 'Charlize Theron': 1, 'Reba McEntire': 1}), 'Steve Martino': defaultdict(<class 'int'>, {'Francesca Capaldi': 1, 'Peter Dinklage': 1}), 'David Mamet': defaultdict(<class 'int'>, {'Ben Gazzara': 1, 'Alice Braga': 1}), 'Yimou Zhang': defaultdict(<class 'int'>, {'Christian Bale': 1, 'Li Gong': 2, 'Jet Li': 1, 'Takeshi Kaneshiro': 1, 'Honglei Sun': 1}), 'Ash Brannon': defaultdict(<class 'int'>, {'Jeff Bridges': 1}), 'Frank Oz': defaultdict(<class 'int'>, {'Jon Lovitz': 1, 'Robert De Niro': 1, 'Robert Downey Jr.': 1, 'Steve Coogan': 1, 'Tom Selleck': 1, 'Bill Murray': 1, 'Peter Dinklage': 1}), 'Jay Roach': defaultdict(<class 'int'>, {'Will Ferrell': 2, 'Steve Carell': 1, 'Verne Troyer': 1, 'Robert De Niro': 2, 'Muse Watson': 1, 'Scott Grimes': 1}), 'Luc Besson': defaultdict(<class 'int'>, {'Milla Jovovich': 1, 'Mia Farrow': 1, 'Paul Brooke': 1, 'Scarlett Johansson': 1, 'Christopher Lambert': 1}), 'Michael Patrick King': defaultdict(<class 'int'>, {'Chris Noth': 1}), 'Bibo Bergeron': defaultdict(<class 'int'>, {'Frank Welker': 1, 'Robert De Niro': 1, 'Adam Goldberg': 1}), 'Sergey Bodrov': defaultdict(<class 'int'>, {'Jeff Bridges': 1, 'Jay Hernandez': 1, 'Tadanobu Asano': 1}), 'Wally Pfister': defaultdict(<class 'int'>, {'Johnny Depp': 1}), 'Rupert Wyatt': defaultdict(<class 'int'>, {'James Franco': 1, 'George Kennedy': 1}), 'Mark Waters': defaultdict(<class 'int'>, {'Martin Short': 1, 'Jon Heder': 1, 'Madeline Carroll': 1, 'Jamie Lee Curtis': 1, 'Tina Fey': 1, 'Monica Potter': 1}), 'John Moore': defaultdict(<class 'int'>, {'Bruce Willis': 1, 'Dennis Quaid': 1, 'Joaquim de Almeida': 1, 'Mila Kunis': 1}), 'John Lee Hancock': defaultdict(<class 'int'>, {'Dennis Quaid': 2, 'Catherine Dyer': 1, 'Tom Hanks': 1}), 'Renny Harlin': defaultdict(<class 'int'>, {'Christopher Masterson': 1, \"James D'Arcy\": 1, 'Sylvester Stallone': 2, 'Bruce Willis': 1, 'Roxanne McKee': 1, 'Melina Kanakaredes': 1, 'LL Cool J': 2, 'Lauren Holly': 1, 'Laura Ramsey': 1, 'Taylor Cole': 1, 'Tuesday Knight': 1, 'Richard Coyle': 1, 'Viggo Mortensen': 1}), 'Phil Lord': defaultdict(<class 'int'>, {'Will Forte': 1, 'Morgan Freeman': 1, 'Channing Tatum': 2}), 'Ben Stiller': defaultdict(<class 'int'>, {'Adam Scott': 1, 'Robert Downey Jr.': 1, 'Milla Jovovich': 2, 'Matthew Broderick': 1}), 'Tony Bancroft': defaultdict(<class 'int'>, {'Ming-Na Wen': 1}), 'Timur Bekmambetov': defaultdict(<class 'int'>, {'Morgan Freeman': 1, 'Angelina Jolie Pitt': 1, 'Rufus Sewell': 1, 'Konstantin Khabenskiy': 1}), 'Walt Becker': defaultdict(<class 'int'>, {'Bella Thorne': 1, 'Jill Hennessy': 1, 'Robin Williams': 1, 'Ryan Reynolds': 1}), 'Dennis Dugan': defaultdict(<class 'int'>, {'Adam Sandler': 3, 'Steve Buscemi': 3, 'Al Pacino': 1, 'Jon Lovitz': 1, 'Amanda Detmer': 1}), 'Sydney Pollack': defaultdict(<class 'int'>, {'Curtiss Cook': 1, 'Harrison Ford': 1, 'Tom Cruise': 1, 'Meryl Streep': 1, 'Bill Murray': 1}), 'Thor Freudenthal': defaultdict(<class 'int'>, {'Logan Lerman': 1, 'Don Cheadle': 1, 'Chloë Grace Moretz': 1}), 'Brian De Palma': defaultdict(<class 'int'>, {'Don Cheadle': 1, 'Tom Cruise': 1, 'Nicolas Cage': 1, 'Scarlett Johansson': 1, 'Peter Coyote': 1, 'Robert De Niro': 1, 'Al Pacino': 1, 'Nancy Allen': 1, 'Steven Bauer': 1, 'Melanie Griffith': 1, 'Angie Dickinson': 1, 'Mike Figueroa': 1}), 'Mick Jackson': defaultdict(<class 'int'>, {'Don Cheadle': 1, 'Bill Cobbs': 1}), 'Alan J. Pakula': defaultdict(<class 'int'>, {'Harrison Ford': 1, 'Denzel Washington': 1}), 'Kathryn Bigelow': defaultdict(<class 'int'>, {'Liam Neeson': 1, 'Jennifer Ehle': 1, 'Jeremy Renner': 1}), 'John Milius': defaultdict(<class 'int'>, {'William Smith': 1, 'Lea Thompson': 1, 'Rosanna Arquette': 1}), 'Andrey Konchalovskiy': defaultdict(<class 'int'>, {'Shirley Henderson': 1, 'Sylvester Stallone': 1}), 'Gary Ross': defaultdict(<class 'int'>, {'Jeff Bridges': 1, 'Jennifer Lawrence': 1, 'Matthew McConaughey': 1}), 'Paul W.S. Anderson': defaultdict(<class 'int'>, {'Milla Jovovich': 4, 'Sasha Roiz': 1, 'Connie Nielsen': 1, 'Sanaa Lathan': 1, 'Jason Statham': 1, 'Sean Pertwee': 1, 'Christopher Lambert': 1}), 'Genndy Tartakovsky': defaultdict(<class 'int'>, {'Steve Buscemi': 2}), 'Kevin Lima': defaultdict(<class 'int'>, {'Jeff Bennett': 1, 'Ioan Gruffudd': 1}), 'Daniel Espinosa': defaultdict(<class 'int'>, {'Denzel Washington': 1, 'Tom Hardy': 1, 'Fabian Bolin': 1}), 'Nancy Meyers': defaultdict(<class 'int'>, {'Kate Winslet': 1, 'Meryl Streep': 1, 'Keanu Reeves': 1, 'Judy Greer': 1, 'Robert De Niro': 1}), 'Roger Allers': defaultdict(<class 'int'>, {'Jon Favreau': 1, 'Matthew Broderick': 1}), 'Neil Burger': defaultdict(<class 'int'>, {'Kate Winslet': 1, 'Rufus Sewell': 1, 'John Heard': 1, 'Raymond J. Barry': 1}), 'Jean-Jacques Annaud': defaultdict(<class 'int'>, {'Bob Hoskins': 1, 'David Gant': 1, 'Brad Pitt': 1, 'Rae Dawn Chong': 1}), 'Sarah Smith': defaultdict(<class 'int'>, {'Jim Broadbent': 1}), 'Martin Brest': defaultdict(<class 'int'>, {'Anthony Hopkins': 1, 'Todd Giebenhain': 1, 'Robert De Niro': 1, 'Judge Reinhold': 1}), 'Andrew Davis': defaultdict(<class 'int'>, {'Raymond Cruz': 1, 'Keanu Reeves': 1, 'Harrison Ford': 1, 'Tim Blake Nelson': 1}), 'Bob Fosse': defaultdict(<class 'int'>, {'Roy Scheider': 1, 'Sammy Davis Jr.': 1}), 'Tarsem Singh': defaultdict(<class 'int'>, {'Julia Roberts': 1, 'Henry Cavill': 1, 'Dylan Baker': 1, 'Ryan Reynolds': 1}), 'Edgar Wright': defaultdict(<class 'int'>, {'Anna Kendrick': 1, 'Michael Smiley': 1, 'Bill Bailey': 1, 'Peter Serafinowicz': 1}), 'Jon Amiel': defaultdict(<class 'int'>, {'Glenn Morshower': 1, 'Will Patton': 1, 'William McNamara': 1, 'Bill Murray': 1}), 'Peter Segal': defaultdict(<class 'int'>, {'Larry Miller': 1, 'Adam Sandler': 2, 'Bill Murray': 1, 'Robert De Niro': 1, 'George Kennedy': 1, 'Wilford Brimley': 1}), 'Pete Travis': defaultdict(<class 'int'>, {'Wood Harris': 1, 'Dennis Quaid': 1}), 'George A. Romero': defaultdict(<class 'int'>, {'Ted Danson': 1, 'Tony Nappo': 1, 'Greg Nicotero': 1, 'Julian Richings': 1, \"Judith O'Dea\": 1, 'Megan Park': 1}), 'Sylvester Stallone': defaultdict(<class 'int'>, {'Jason Statham': 1, 'Sylvester Stallone': 1}), 'Todd Phillips': defaultdict(<class 'int'>, {'Bradley Cooper': 2, 'Robert Downey Jr.': 1, 'Snoop Dogg': 1, 'Will Ferrell': 1, 'Jon Heder': 1, 'Ethan Suplee': 1}), 'Gary Winick': defaultdict(<class 'int'>, {'Steve Buscemi': 1, 'Anne Hathaway': 1, 'Jennifer Garner': 1, 'Vanessa Redgrave': 1, 'Bebe Neuwirth': 1}), 'Mimi Leder': defaultdict(<class 'int'>, {'Morgan Freeman': 1, 'Armin Mueller-Stahl': 1, 'Kevin Spacey': 1}), 'Seth Gordon': defaultdict(<class 'int'>, {'Jon Favreau': 2, 'Kevin Spacey': 1}), 'Adam Shankman': defaultdict(<class 'int'>, {'Adam Sandler': 1, 'Jerry Stiller': 1, 'James Martin Kelly': 1, 'Taylor Lautner': 1, 'Vin Diesel': 1, 'Matthew McConaughey': 1, 'Angus T. Jones': 1, 'Lauren German': 1}), 'D.J. Caruso': defaultdict(<class 'int'>, {'Rosario Dawson': 1, 'Alex Pettyfer': 1, 'Sarah Roemer': 1, 'Adam Goldberg': 1}), 'Anthony Minghella': defaultdict(<class 'int'>, {'Philip Seymour Hoffman': 2, 'Colin Firth': 1}), 'Albert Hughes': defaultdict(<class 'int'>, {'Denzel Washington': 1, 'Johnny Depp': 1, 'Jada Pinkett Smith': 1}), 'Les Mayfield': defaultdict(<class 'int'>, {'Robin Williams': 1, 'Peter Greene': 1, 'Gregory Smith': 1, 'Miguel Ferrer': 1, 'Callum Rennie': 1}), 'Joe Pytka': defaultdict(<class 'int'>, {'Bill Murray': 1}), 'Scott Derrickson': defaultdict(<class 'int'>, {'Keanu Reeves': 1, 'Olivia Munn': 1, 'Tom Wilkinson': 1, 'Danielle Kotch': 1}), 'Ivan Reitman': defaultdict(<class 'int'>, {'Harrison Ford': 1, 'Brian Dennehy': 1, 'Rainn Wilson': 1, 'Richard Tyson': 1, 'Natalie Portman': 1, 'Jennifer Garner': 1, 'Kelly Preston': 1, 'Bill Murray': 1}), 'Eric Brevig': defaultdict(<class 'int'>, {'Justin Timberlake': 1, 'Josh Hutcherson': 1}), 'Kelly Asbury': defaultdict(<class 'int'>, {'Matt Damon': 1}), 'Stephen Hopkins': defaultdict(<class 'int'>, {'Gary Oldman': 1, 'Tom Wilkinson': 1, 'Stephen Rea': 1, 'Adam Baldwin': 1, 'Lisa Wilcox': 1, 'William Hurt': 1}), 'Jonathan Demme': defaultdict(<class 'int'>, {'Denzel Washington': 2, 'Oprah Winfrey': 1, 'Anthony Hopkins': 1, 'Anne Hathaway': 1}), 'Henry Jaglom': defaultdict(<class 'int'>, {'Vanessa Redgrave': 1}), 'James Algar': defaultdict(<class 'int'>, {'Quincy Jones': 1, 'Leopold Stokowski': 1, 'Sam Edwards': 1}), 'Vincent Ward': defaultdict(<class 'int'>, {'Robin Williams': 1}), 'Steven Brill': defaultdict(<class 'int'>, {'Adam Sandler': 1, 'Steve Buscemi': 1, 'Lisa Ann Walter': 1, 'Antony Starr': 1}), 'Terry Gilliam': defaultdict(<class 'int'>, {'Matt Damon': 1, 'Andrew Garfield': 1, 'Jeff Bridges': 1, 'Johnny Depp': 1, 'Robert De Niro': 1, 'Shelley Duvall': 1, 'Eric Idle': 1}), 'Lucile Hadzihalilovic': defaultdict(<class 'int'>, {'Nissim Renard': 1}), 'Barry Cook': defaultdict(<class 'int'>, {'Charlie Rowe': 1}), 'Roger Christian': defaultdict(<class 'int'>, {'Richard Tyson': 1}), 'Joe Dante': defaultdict(<class 'int'>, {'Brendan Fraser': 1, 'Christopher Lee': 1, 'Kirsten Dunst': 1, 'Phoebe Cates': 1, 'Albert Brooks': 1, 'Bruce Dern': 1, 'Patrick Macnee': 1}), 'Kevin Costner': defaultdict(<class 'int'>, {'Olivia Williams': 1, 'Robert Duvall': 1, 'Mary McDonnell': 1}), 'Antony Hoffman': defaultdict(<class 'int'>, {'Bob Neill': 1}), 'Jacques Perrin': defaultdict(<class 'int'>, {'Pedro Armendáriz Jr.': 1, 'Jacques Perrin': 1}), 'Andrés Couturier': defaultdict(<class 'int'>, {'Sariann Monaco': 1}), 'Cody Cameron': defaultdict(<class 'int'>, {'Will Forte': 1}), 'John Singleton': defaultdict(<class 'int'>, {'Paul Walker': 1, 'Christian Bale': 1, 'Ken Arnold': 1, 'Josh Charles': 1, \"Mo'Nique\": 1, 'Janet Jackson': 1, 'John Cothran': 1}), 'Oliver Hirschbiegel': defaultdict(<class 'int'>, {'Roger Rees': 1, 'Thomas Kretschmann': 1}), 'Des McAnuff': defaultdict(<class 'int'>, {'Robert De Niro': 1}), 'Yarrow Cheney': defaultdict(<class 'int'>, {'Steve Coogan': 1}), 'Stephen Norrington': defaultdict(<class 'int'>, {'Jason Flemyng': 1, 'Sanaa Lathan': 1}), 'Pierre Coffin': defaultdict(<class 'int'>, {'Steve Carell': 2}), 'David Kellogg': defaultdict(<class 'int'>, {'Matthew Broderick': 1}), 'Mike Nichols': defaultdict(<class 'int'>, {'Philip Seymour Hoffman': 1, 'David Hyde Pierce': 1, 'Maura Tierney': 1, 'Judy Greer': 1, 'Natalie Portman': 1, 'Bob Newhart': 1}), 'F. Gary Gray': defaultdict(<class 'int'>, {'Dwayne Johnson': 1, 'Jason Statham': 1, 'Gerard Butler': 1, 'Kevin Spacey': 1, 'Vin Diesel': 1, 'Aldis Hodge': 1, 'Vivica A. Fox': 1, 'Nia Long': 1}), 'Antoine Fuqua': defaultdict(<class 'int'>, {'Bruce Willis': 1, 'Gerard Butler': 1, 'Tate Donovan': 1, 'Denzel Washington': 2, 'Jake Gyllenhaal': 1, 'Mira Sorvino': 1, 'Don Cheadle': 1}), 'Robert Luketic': defaultdict(<class 'int'>, {'Tom Selleck': 1, 'Adam Scott': 1, 'Gerard Butler': 1, 'Kevin Spacey': 1, 'Topher Grace': 1, 'Linda Cardellini': 1}), 'Gil Kenan': defaultdict(<class 'int'>, {'Steve Buscemi': 1, 'Bill Murray': 1}), 'Barry Levinson': defaultdict(<class 'int'>, {'Bruce Willis': 1, 'Peter Coyote': 1, 'Demi Moore': 1, 'Robert De Niro': 3, 'Tom Cruise': 1, 'Robin Williams': 2, 'Amy Poehler': 1, 'Nicholas Rowe': 1, 'Steve Guttenberg': 1, 'Anna Friel': 1}), 'Jerry Zucker': defaultdict(<class 'int'>, {'Julia Ormond': 1, 'Corinna Harney': 1, 'Demi Moore': 1}), 'Andy Tennant': defaultdict(<class 'int'>, {'Bai Ling': 1, 'Matthew McConaughey': 1, 'Will Smith': 1, 'Gerard Butler': 1, 'Ethan Embry': 1, 'Anjelica Huston': 1}), 'Florent-Emilio Siri': defaultdict(<class 'int'>, {'Jimmy Bennett': 1}), 'Don Bluth': defaultdict(<class 'int'>, {'Matt Damon': 1, 'Kirsten Dunst': 1, 'Judith Barsi': 1}), 'Ron Shelton': defaultdict(<class 'int'>, {'Harrison Ford': 1, 'Don Johnson': 1, 'Willie Garson': 1, 'Khandi Alexander': 1}), 'David Pastor': defaultdict(<class 'int'>, {'Christopher Meloni': 1}), 'Henry Selick': defaultdict(<class 'int'>, {'Brendan Fraser': 1, 'Jennifer Saunders': 1}), 'Kyle Balda': defaultdict(<class 'int'>, {'Steve Carell': 1}), 'Clay Kaytis': defaultdict(<class 'int'>, {'Peter Dinklage': 1}), 'Judd Apatow': defaultdict(<class 'int'>, {'Adam Sandler': 1, 'Amy Schumer': 1, 'Charlyne Yi': 1, 'Harold Ramis': 1, 'Steve Carell': 1}), 'Steve Carr': defaultdict(<class 'int'>, {'Raven-Symoné': 1, 'Anjelica Huston': 1, 'Erick Avari': 1, 'John Witherspoon': 1}), 'Mel Gibson': defaultdict(<class 'int'>, {'Mhairi Calvey': 1, 'Rudy Youngblood': 1, 'Christo Jivkov': 1}), 'David Silverman': defaultdict(<class 'int'>, {'Albert Brooks': 1}), 'Frank Darabont': defaultdict(<class 'int'>, {'Martin Landau': 1, 'Tom Hanks': 1, 'Morgan Freeman': 1, 'Toby Jones': 1}), 'Betty Thomas': defaultdict(<class 'int'>, {'Oliver Platt': 1, 'Amy Poehler': 1, 'Gary Cole': 1, 'Steve Buscemi': 1}), 'Garry Marshall': defaultdict(<class 'int'>, {'Julia Roberts': 2, 'Bradley Cooper': 1, 'Amber Valletta': 1, 'Anne Hathaway': 2, 'Robert De Niro': 1, 'Hector Elizondo': 1}), 'Paul Tibbitt': defaultdict(<class 'int'>, {'Tim Conway': 1}), 'Clark Johnson': defaultdict(<class 'int'>, {'Jeremy Renner': 1, 'Blair Brown': 1}), 'Cameron Crowe': defaultdict(<class 'int'>, {'Tom Cruise': 2, 'Philip Seymour Hoffman': 1, 'Orlando Bloom': 1, 'Scarlett Johansson': 1, 'Emma Stone': 1}), 'Randall Wallace': defaultdict(<class 'int'>, {'Jon Hamm': 1, 'Leonardo DiCaprio': 1, 'Scott Glenn': 1, 'Jacob Vargas': 1}), 'Jonathan Frakes': defaultdict(<class 'int'>, {'LeVar Burton': 2, 'Sophia Myles': 1, 'Michael Biehn': 1}), 'George Clooney': defaultdict(<class 'int'>, {'Bill Murray': 1, 'Robert Baker': 1, 'Dick Clark': 1, 'Ryan Gosling': 1, 'Robert Downey Jr.': 1}), 'Gary Shore': defaultdict(<class 'int'>, {'Dominic Cooper': 1}), 'Andrzej Bartkowiak': defaultdict(<class 'int'>, {'Dwayne Johnson': 1, 'Chris Klein': 1, 'Michael Jai White': 1, 'Jet Li': 2}), 'Måns Mårlind': defaultdict(<class 'int'>, {'Theo James': 1}), 'Gregory Hoblit': defaultdict(<class 'int'>, {'Bruce Willis': 1, 'Billy Burke': 1, 'Dennis Quaid': 1}), 'Gary McKendry': defaultdict(<class 'int'>, {'Jason Statham': 1}), 'Wych Kaosayananda': defaultdict(<class 'int'>, {'Talisa Soto': 1}), 'Mikael Salomon': defaultdict(<class 'int'>, {'Morgan Freeman': 1}), 'Bobby Farrelly': defaultdict(<class 'int'>, {'Ron Howard': 1, 'Jenna Fischer': 1, 'Matt Damon': 1, 'Robert Forster': 1, 'Bill Murray': 2, 'Jason Alexander': 1, 'Jimmy Fallon': 1, 'Kate Upton': 1, 'Sarah Silverman': 1}), 'Kerry Conran': defaultdict(<class 'int'>, {'Angelina Jolie Pitt': 1}), 'Michael Caton-Jones': defaultdict(<class 'int'>, {'Charlotte Rampling': 1, 'J.K. Simmons': 1, 'Robert De Niro': 1, 'Liam Neeson': 1}), 'Mikael Håfström': defaultdict(<class 'int'>, {'Sylvester Stallone': 1, 'Anthony Hopkins': 1, 'Drew Powell': 1, \"Denis O'Hare\": 1}), 'Phil Alden Robinson': defaultdict(<class 'int'>, {'Morgan Freeman': 1}), 'David Slade': defaultdict(<class 'int'>, {'Robert Pattinson': 1, 'Danny Huston': 1, 'Odessa Rae': 1}), 'Joseph Ruben': defaultdict(<class 'int'>, {'Vincent Pastore': 1}), 'Seth MacFarlane': defaultdict(<class 'int'>, {'Liam Neeson': 2, 'Mila Kunis': 1}), 'Alejandro Amenábar': defaultdict(<class 'int'>, {'Max Minghella': 1, 'Emma Watson': 1, 'Fionnula Flanagan': 1, 'Belén Rueda': 1}), 'Kinka Usher': defaultdict(<class 'int'>, {'Janeane Garofalo': 1}), 'Craig Gillespie': defaultdict(<class 'int'>, {'Michael Raymond-James': 1, 'Grace Phipps': 1, 'Jon Hamm': 1, 'Ryan Gosling': 1}), 'Rob Bowman': defaultdict(<class 'int'>, {'Martin Landau': 1, 'Jennifer Garner': 1, 'Christian Bale': 1, 'Alanna Ubach': 1}), 'Doug Lefler': defaultdict(<class 'int'>, {'Colin Firth': 1}), 'Scott Waugh': defaultdict(<class 'int'>, {'Rami Malek': 1}), 'Lawrence Kasdan': defaultdict(<class 'int'>, {'Morgan Freeman': 1, 'Dennis Quaid': 1, 'Zooey Deschanel': 1, 'Scott Glenn': 1, 'Dianne Wiest': 1}), 'Michael Lembeck': defaultdict(<class 'int'>, {'Judge Reinhold': 1, 'Debbie Reynolds': 1}), 'Tom Hooper': defaultdict(<class 'int'>, {'Hugh Jackman': 1, 'Colin Firth': 1, 'Stephen Graham': 1}), 'Nora Ephron': defaultdict(<class 'int'>, {'Tom Hanks': 1, 'Michael Rapaport': 1, 'Meryl Streep': 1}), 'Angelina Jolie Pitt': defaultdict(<class 'int'>, {'Finn Wittrock': 1, 'Brad Pitt': 1, 'Jelena Jovanova': 1}), 'Clint Eastwood': defaultdict(<class 'int'>, {'Clint Eastwood': 10, 'Matt Damon': 2, 'Bradley Cooper': 1, 'Angelina Jolie Pitt': 1, 'Paul Walker': 1, 'Johnny Cannizzaro': 1, 'Leonardo DiCaprio': 1, 'Kevin Spacey': 1, 'John Doman': 1, 'Yuki Matsuzaki': 1}), 'Larry Charles': defaultdict(<class 'int'>, {'Sayed Badreya': 1, 'Bono': 1, 'Luenell': 1, 'Jeff Bridges': 1, 'Bill Maher': 1}), 'Stanley Kubrick': defaultdict(<class 'int'>, {'Tom Cruise': 1, 'James Mason': 1, 'Scatman Crothers': 1, \"Ryan O'Neal\": 1, 'Keir Dullea': 1, 'George C. Scott': 1}), 'Will Gluck': defaultdict(<class 'int'>, {'Quvenzhané Wallis': 1, 'Mila Kunis': 1, 'Emma Stone': 1}), 'Glenn Ficarra': defaultdict(<class 'int'>, {'Will Smith': 1, 'Ryan Gosling': 1, 'Dameon Clarke': 1}), 'David S. Goyer': defaultdict(<class 'int'>, {'Ryan Reynolds': 1, 'Gary Oldman': 1}), 'Taylor Hackford': defaultdict(<class 'int'>, {'Pamela Reed': 1, 'Keanu Reeves': 1, 'Bokeem Woodbine': 1, 'Jason Statham': 1, 'Delroy Lindo': 1, 'Scout Taylor-Compton': 1}), 'Michael Lehmann': defaultdict(<class 'int'>, {'Bruce Willis': 1, 'Colin Ferguson': 1, 'Emmanuelle Vaugier': 1}), 'Stuart Beattie': defaultdict(<class 'int'>, {'Caitlin Stasey': 1}), 'Roman Polanski': defaultdict(<class 'int'>, {'Ian McNeice': 1, 'Jim Belushi': 1, 'Johnny Depp': 1, 'Emilia Fox': 1, 'Kate Winslet': 1, 'John Cassavetes': 1}), 'Frank Miller': defaultdict(<class 'int'>, {'Joseph Gordon-Levitt': 1, 'Scarlett Johansson': 1, 'Rosario Dawson': 1}), 'Baltasar Kormákur': defaultdict(<class 'int'>, {'Michael Kelly': 1, 'Denzel Washington': 1, 'J.K. Simmons': 1}), 'Daniel Lee': defaultdict(<class 'int'>, {'Si Won Choi': 1, 'Andy Lau': 1}), 'Keenen Ivory Wayans': defaultdict(<class 'int'>, {'Chazz Palminteri': 1, 'Natasha Lyonne': 1, 'Busy Philipps': 1, 'Jada Pinkett Smith': 1}), 'Rob Reiner': defaultdict(<class 'int'>, {'Shawna Waldron': 1, 'Bruce Willis': 1, 'Morgan Freeman': 1, 'Alexa PenaVega': 1, 'Tom Cruise': 1, 'David Paymer': 1, 'Yaya DaCosta': 1, 'Bruno Kirby': 1, 'Robin Wright': 1, 'Madeline Carroll': 1, 'Marshall Bell': 1}), 'Marco Schnabel': defaultdict(<class 'int'>, {'Justin Timberlake': 1}), 'Demian Lichtenstein': defaultdict(<class 'int'>, {'Jon Lovitz': 1}), 'Josh Gordon': defaultdict(<class 'int'>, {'Will Ferrell': 1, 'Caroline Dhavernas': 1}), 'Tim Hill': defaultdict(<class 'int'>, {'Gary Cole': 1, 'Bill Murray': 1, 'Jesse McCartney': 1, 'Josh Charles': 1, 'Noel Fisher': 1}), 'David Frankel': defaultdict(<class 'int'>, {'Eric Dane': 1, 'Joel McHale': 1, 'Meryl Streep': 2}), 'Brenda Chapman': defaultdict(<class 'int'>, {'Martin Short': 1}), 'Marc Lawrence': defaultdict(<class 'int'>, {'Dorian Missick': 1, 'Michael Kelly': 1, 'Brad Garrett': 1}), 'Peter Billingsley': defaultdict(<class 'int'>, {'Jon Favreau': 1}), 'Wes Ball': defaultdict(<class 'int'>, {'Ki Hong Lee': 2}), 'Ryan Murphy': defaultdict(<class 'int'>, {'James Franco': 1, 'Jill Clayburgh': 1}), 'Robert Redford': defaultdict(<class 'int'>, {'Scarlett Johansson': 1, 'Matt Damon': 1, 'Meryl Streep': 1, 'Robin Wright': 1, 'Adam Baldwin': 1}), 'Jay Russell': defaultdict(<class 'int'>, {'Billy Burke': 1, 'William Hurt': 1, 'Clint Howard': 1}), 'Kenny Ortega': defaultdict(<class 'int'>, {'Misha Gabriel Hamilton': 1, 'Vinessa Shaw': 1, 'Lucas Grabeel': 3}), 'David McNally': defaultdict(<class 'int'>, {'Estella Warren': 1, 'Adam Garcia': 1}), 'Brian Robbins': defaultdict(<class 'int'>, {'Robert Downey Jr.': 1, 'Marc Blucas': 1, 'John Gatins': 1, 'Oliver Platt': 1, 'Keanu Reeves': 1, 'Paul Walker': 1}), 'Brian Levant': defaultdict(<class 'int'>, {'Jim Belushi': 1, 'Taylor Negron': 1, 'Jonathan Winters': 1, 'James Coburn': 1, 'Madeline Carroll': 1, 'Nia Long': 1}), 'Steven Zaillian': defaultdict(<class 'int'>, {'Robert Duvall': 1, 'Kate Winslet': 1}), 'Chris Butler': defaultdict(<class 'int'>, {'Anna Kendrick': 1}), 'Jon Avnet': defaultdict(<class 'int'>, {'Joe Mantegna': 1, 'Robert De Niro': 1, 'Al Pacino': 1}), 'Sam Fell': defaultdict(<class 'int'>, {'Emma Watson': 1}), 'Kevin Donovan': defaultdict(<class 'int'>, {'Romany Malco': 1}), 'Geoff Murphy': defaultdict(<class 'int'>, {'Peter Greene': 1}), 'David O. Russell': defaultdict(<class 'int'>, {'Jennifer Lawrence': 3, 'Judy Greer': 1, 'Jake Gyllenhaal': 1, 'Naomi Watts': 1, 'Christian Bale': 1, 'Lily Tomlin': 1}), 'Babak Najafi': defaultdict(<class 'int'>, {'Gerard Butler': 1}), 'Jean-Pierre Jeunet': defaultdict(<class 'int'>, {'Gary Dourdan': 1, 'Denis Lavant': 1, 'Omar Sy': 1, 'Mathieu Kassovitz': 1, 'Callum Rennie': 1}), 'Graham Annable': defaultdict(<class 'int'>, {'Isaac Hempstead Wright': 1}), 'Griffin Dunne': defaultdict(<class 'int'>, {'Goran Visnjic': 1, 'Mira Sorvino': 1}), 'John Pasquin': defaultdict(<class 'int'>, {'Eileen Brennan': 1, 'Jim Belushi': 1, 'Judge Reinhold': 1}), 'Ruben Fleischer': defaultdict(<class 'int'>, {'Ryan Gosling': 1, 'Bianca Kajlich': 1, 'Emma Stone': 1}), 'Harold Ramis': defaultdict(<class 'int'>, {'Olivia Wilde': 1, 'Robert De Niro': 2, 'Brendan Fraser': 1, 'John de Lancie': 1, \"Beverly D'Angelo\": 1, 'Bill Murray': 2}), 'Kevin Macdonald': defaultdict(<class 'int'>, {'Robin Wright': 1, 'David Oyelowo': 1, 'Nicholas Aaron': 1}), 'Donald Petrie': defaultdict(<class 'int'>, {'Steven Anthony Lawrence': 1, 'Matthew McConaughey': 1, 'Candice Bergen': 1, 'Macaulay Culkin': 1, 'Samaire Armstrong': 1, 'Rip Torn': 1, 'Nia Vardalos': 1, 'Julia Roberts': 1}), 'Jorge Blanco': defaultdict(<class 'int'>, {'Dwayne Johnson': 1}), 'Stuart Baird': defaultdict(<class 'int'>, {'Tom Hardy': 1, 'Oliver Platt': 1}), 'Joel Coen': defaultdict(<class 'int'>, {'Cedric the Entertainer': 1, 'Jennifer Jason Leigh': 1, 'Holly Hunter': 1, 'Philip Seymour Hoffman': 1}), 'Robert Lorenz': defaultdict(<class 'int'>, {'Clint Eastwood': 1}), 'Harold Becker': defaultdict(<class 'int'>, {'Bruce Willis': 1, 'Steve Buscemi': 1, 'Al Pacino': 2}), 'Scott Stewart': defaultdict(<class 'int'>, {'Josh Wingate': 1, 'Dennis Quaid': 1}), 'Patrick Gilmore': defaultdict(<class 'int'>, {'Brad Pitt': 1}), 'Tony Bill': defaultdict(<class 'int'>, {'James Franco': 1}), 'Rod Lurie': defaultdict(<class 'int'>, {'Clifton Collins Jr.': 1, 'Alexander Skarsgård': 1, 'Harry Lennix': 1, 'Jeff Bridges': 1, 'Kevin Pollak': 1}), 'Walter Hill': defaultdict(<class 'int'>, {'Robert Forster': 1, 'Sylvester Stallone': 1, 'Fisher Stevens': 1, 'Dennis Quaid': 1}), 'Akiva Goldsman': defaultdict(<class 'int'>, {'Matt Bomer': 1}), 'Harald Zwart': defaultdict(<class 'int'>, {'Aidan Turner': 1, 'Daniel Roebuck': 1}), 'Walter Salles': defaultdict(<class 'int'>, {'Dougray Scott': 1, 'Kristen Stewart': 1, 'Fernanda Montenegro': 1}), 'Iain Softley': defaultdict(<class 'int'>, {'Brendan Fraser': 1, 'Kevin Spacey': 1, 'Gena Rowlands': 1, 'Angelina Jolie Pitt': 1}), 'David Koepp': defaultdict(<class 'int'>, {'Johnny Depp': 2, 'Joseph Gordon-Levitt': 1, 'Aasif Mandvi': 1, 'Illeana Douglas': 1}), 'Uwe Boll': defaultdict(<class 'int'>, {'Jason Statham': 1, 'Meat Loaf': 1, 'Catherine Lough Haggquist': 1, 'Bashar Rahal': 1, 'Matt Frewer': 1}), 'Pou-Soi Cheang': defaultdict(<class 'int'>, {'Li Gong': 1}), 'John Dahl': defaultdict(<class 'int'>, {'James Franco': 1, 'Paul Walker': 1, 'Matt Damon': 1, 'Philip Baker Hall': 1}), 'Tim Miller': defaultdict(<class 'int'>, {'Ryan Reynolds': 1}), 'Stephen Herek': defaultdict(<class 'int'>, {'Kelly Preston': 1, 'Christina Milian': 1, 'Angelina Jolie Pitt': 1, 'Beth Grant': 1, 'Alicia Witt': 1, 'Lane Smith': 1, 'Keanu Reeves': 1, 'Henry Ian Cusick': 1}), 'Peter MacDonald': defaultdict(<class 'int'>, {'Sylvester Stallone': 1}), 'Anthony Hemingway': defaultdict(<class 'int'>, {'David Oyelowo': 1}), 'Sean Anders': defaultdict(<class 'int'>, {'Adam Sandler': 1, 'Will Ferrell': 1, 'Kevin Spacey': 1, 'Katrina Bowden': 1}), 'Mark Neveldine': defaultdict(<class 'int'>, {'Nicolas Cage': 1, 'Gerard Butler': 1, 'Jason Statham': 2, 'Djimon Hounsou': 1}), 'John Madden': defaultdict(<class 'int'>, {'Christian Bale': 1, 'Tom Wilkinson': 3, 'Tina Desai': 1}), 'Kevin Bray': defaultdict(<class 'int'>, {'Dwayne Johnson': 1, 'Mike Epps': 1}), 'Mike Gabriel': defaultdict(<class 'int'>, {'Christian Bale': 1}), 'Sam Weisman': defaultdict(<class 'int'>, {'Brendan Fraser': 1, 'Oliver Hudson': 1, 'Bernie Mac': 1, 'Kevin Grevioux': 1}), 'Jesse Dylan': defaultdict(<class 'int'>, {'Alyson Hannigan': 1, 'Josh Hutcherson': 1, 'Hector Elizondo': 1}), 'Wayne Wang': defaultdict(<class 'int'>, {'Bob Hoskins': 1, 'LL Cool J': 1, 'Natalie Portman': 1, 'Cicely Tyson': 1, 'Bingbing Li': 1}), 'Gabriele Muccino': defaultdict(<class 'int'>, {'Will Smith': 2, 'Gerard Butler': 1, 'Laura Morante': 1}), 'Tom Dey': defaultdict(<class 'int'>, {'Xander Berkeley': 1, 'Bradley Cooper': 1, 'Emma Stone': 1}), 'Jimmy Hayward': defaultdict(<class 'int'>, {'Amy Poehler': 1, 'Michael Fassbender': 1}), 'Alan Parker': defaultdict(<class 'int'>, {'Andrea Corr': 1, 'Kevin Spacey': 1, 'Emily Watson': 1}), 'John Frankenheimer': defaultdict(<class 'int'>, {'Robert De Niro': 1, 'Marlon Brando': 1, 'Charlize Theron': 1, 'Talia Shire': 1, 'Jeanne Moreau': 1}), 'Paul King': defaultdict(<class 'int'>, {'Julie Walters': 1}), 'Akiva Schaffer': defaultdict(<class 'int'>, {'Will Forte': 1, 'Sissy Spacek': 1}), 'William Friedkin': defaultdict(<class 'int'>, {'Connie Nielsen': 1, 'Michael Biehn': 1, 'Roy Scheider': 2, 'Ellen Burstyn': 1, 'Matthew McConaughey': 1}), 'Kent Alterman': defaultdict(<class 'int'>, {'Will Ferrell': 1}), 'Peter Lord': defaultdict(<class 'int'>, {'Salma Hayek': 1, 'Imelda Staunton': 1}), 'Shekhar Kapur': defaultdict(<class 'int'>, {'Eddie Redmayne': 1, 'Djimon Hounsou': 1, 'Fanny Ardant': 1}), 'Karyn Kusama': defaultdict(<class 'int'>, {'Charlize Theron': 1, 'J.K. Simmons': 1}), 'Ron Maxwell': defaultdict(<class 'int'>, {'Billy Campbell': 1, 'Tom Berenger': 1}), 'Robert Butler': defaultdict(<class 'int'>, {'Hector Elizondo': 1}), 'Karey Kirkpatrick': defaultdict(<class 'int'>, {'Stephen Root': 1}), 'Steve Antin': defaultdict(<class 'int'>, {'Eric Dane': 1}), 'Jim Gillespie': defaultdict(<class 'int'>, {'Sylvester Stallone': 1, 'Muse Watson': 1}), 'Francis Ford Coppola': defaultdict(<class 'int'>, {'Al Pacino': 2, 'Nicolas Cage': 2, 'Keanu Reeves': 1, 'Matt Damon': 1, 'Harrison Ford': 2, 'Robert De Niro': 1, 'Tom Cruise': 1, 'Alden Ehrenreich': 1}), 'Richard Lester': defaultdict(<class 'int'>, {'Margot Kidder': 2, 'Robert Shaw': 1, 'Buster Keaton': 1, 'Paul McCartney': 1}), 'Scott Cooper': defaultdict(<class 'int'>, {'Johnny Depp': 1, 'Christian Bale': 1, 'Jeff Bridges': 1}), 'Robert Rodriguez': defaultdict(<class 'int'>, {'Quentin Tarantino': 3, 'Taylor Lautner': 1, 'Sylvester Stallone': 1, 'Steve Buscemi': 1, 'Alexa PenaVega': 3, 'Johnny Depp': 1, 'Jimmy Bennett': 1, 'Jordana Brewster': 1, 'Carlos Gallardo': 1}), 'Curtis Hanson': defaultdict(<class 'int'>, {'Robert Downey Jr.': 2, 'Meryl Streep': 1, 'Mekhi Phifer': 1, 'Kevin Spacey': 1, 'Tom Cruise': 1}), 'Phyllida Lloyd': defaultdict(<class 'int'>, {'Colin Firth': 1, 'Meryl Streep': 1}), 'Jay Chandrasekhar': defaultdict(<class 'int'>, {'Alice Greczyn': 1, 'Chris Moss': 1, 'Brittany Daniel': 1, 'Geoffrey Arend': 1}), 'Terrence Malick': defaultdict(<class 'int'>, {'Nick Stahl': 1, 'Brad Pitt': 1, 'Christian Bale': 1, 'Sam Shepard': 1}), 'David Dobkin': defaultdict(<class 'int'>, {'Ryan Reynolds': 1, 'Fann Wong': 1, 'Robert Downey Jr.': 1, 'Janeane Garofalo': 1}), 'Milos Forman': defaultdict(<class 'int'>, {'Matt Price': 1, 'Jeffrey Jones': 1, 'Scatman Crothers': 1}), 'Pierre Morel': defaultdict(<class 'int'>, {'Kasia Smutniak': 1, 'Ray Winstone': 1, 'Liam Neeson': 1, 'David Belle': 1}), 'Paul Hunter': defaultdict(<class 'int'>, {'Jaime King': 1}), 'Steve Oedekerk': defaultdict(<class 'int'>, {'Rob Paulsen': 1, 'Bruce Spence': 1, 'Kelly Preston': 1, 'Steve Oedekerk': 1}), 'John Whitesell': defaultdict(<class 'int'>, {'Matthew Broderick': 1, 'Chloë Grace Moretz': 1, 'Brandon T. Jackson': 1, 'Leslie Bibb': 1, 'Greg Grunberg': 1}), 'George Nolfi': defaultdict(<class 'int'>, {'Matt Damon': 1}), 'Neil Jordan': defaultdict(<class 'int'>, {'Brad Pitt': 1, 'Robert Downey Jr.': 1, 'Emir Kusturica': 1, 'Alan Rickman': 1, 'Stephen Rea': 1, 'Robert De Niro': 1, 'Tony Curran': 1, 'Jim Broadbent': 1}), 'Rawson Marshall Thurber': defaultdict(<class 'int'>, {'Dwayne Johnson': 1, 'Laura-Leigh': 1, 'Gary Cole': 1}), 'Spike Lee': defaultdict(<class 'int'>, {'Denzel Washington': 4, 'Joseph Gordon-Levitt': 1, 'Mira Sorvino': 1, 'Alfre Woodard': 1, 'Michael Imperioli': 1, 'Gillian White': 1, 'Tisha Campbell-Martin': 1, 'Ruby Dee': 1, 'Philip Seymour Hoffman': 1, 'Bernie Mac': 2, 'Rami Malek': 1, 'S. Epatha Merkerson': 1}), 'Brian Helgeland': defaultdict(<class 'int'>, {'Bill Duke': 1, 'Heath Ledger': 2, 'Harrison Ford': 1, 'Tom Hardy': 1}), 'Frank Marshall': defaultdict(<class 'int'>, {'Dylan Walsh': 1, 'Paul Walker': 1, 'Illeana Douglas': 1, 'Julian Sands': 1}), 'Hideo Nakata': defaultdict(<class 'int'>, {'Naomi Watts': 1}), 'Peter Hewitt': defaultdict(<class 'int'>, {'Bill Murray': 1, 'Kevin Zegers': 1, 'Jim Broadbent': 1, 'Keanu Reeves': 1}), 'Joe Roth': defaultdict(<class 'int'>, {'Jamie Lee Curtis': 1, 'Julia Roberts': 1}), 'Bennett Miller': defaultdict(<class 'int'>, {'Philip Seymour Hoffman': 2}), 'Jaume Collet-Serra': defaultdict(<class 'int'>, {'Liam Neeson': 3, \"Robert Ri'chard\": 1, 'Jimmy Bennett': 1, 'Óscar Jaenada': 1}), 'Andy Fickman': defaultdict(<class 'int'>, {'Dwayne Johnson': 2, 'D.B. Woodside': 1, 'Bailee Madison': 1, 'Channing Tatum': 1, 'Jamie Lee Curtis': 1}), 'James McTeigue': defaultdict(<class 'int'>, {'Natalie Portman': 1, 'Shô Kosugi': 1, 'Pam Ferris': 1, 'Milla Jovovich': 1}), \"Matthew O'Callaghan\": defaultdict(<class 'int'>, {'Will Ferrell': 1}), 'Angela Robinson': defaultdict(<class 'int'>, {'Scoot McNairy': 1, 'Jordana Brewster': 1}), 'Gary Fleder': defaultdict(<class 'int'>, {'Oliver Platt': 1, 'Gary Dourdan': 1, 'Dennis Quaid': 1, 'Morgan Freeman': 1, 'Jason Statham': 1, 'Steve Buscemi': 1}), 'Tommy Wirkola': defaultdict(<class 'int'>, {'Jeremy Renner': 1, 'Bjørn Sundquist': 1}), 'Adrian Lyne': defaultdict(<class 'int'>, {'Olivier Martinez': 1, 'David Margulies': 1, 'Fred Gwynne': 1, 'Michael Nouri': 1}), 'Stephen Gaghan': defaultdict(<class 'int'>, {'Matt Damon': 1, 'Charlie Hunnam': 1}), 'Jorge R. Gutiérrez': defaultdict(<class 'int'>, {'Channing Tatum': 1}), 'Richard Loncraine': defaultdict(<class 'int'>, {'Jimmy Bennett': 1, 'Kirsten Dunst': 1, 'Robert Downey Jr.': 1}), 'Christophe Gans': defaultdict(<class 'int'>, {'Radha Mitchell': 1}), 'Howard Deutch': defaultdict(<class 'int'>, {'Keanu Reeves': 1, 'Bruce Willis': 1, 'Dane Cook': 1}), 'Jon Hurwitz': defaultdict(<class 'int'>, {'Alyson Hannigan': 1, 'Danneel Ackles': 1}), 'Steven Quale': defaultdict(<class 'int'>, {'Matt Walsh': 1, 'Emma Bell': 1}), 'John Landis': defaultdict(<class 'int'>, {'Louis Lombardi': 1, 'John Belushi': 2, 'Don Ameche': 1, 'David Zucker': 1}), 'Alexander Witt': defaultdict(<class 'int'>, {'Milla Jovovich': 1}), 'Beeban Kidron': defaultdict(<class 'int'>, {'Colin Firth': 1}), 'Carl Franklin': defaultdict(<class 'int'>, {'Denzel Washington': 1, 'Morgan Freeman': 1, 'Meryl Streep': 1}), 'Steven Seagal': defaultdict(<class 'int'>, {'Mike Starr': 1}), 'Danny Boyle': defaultdict(<class 'int'>, {'Leonardo DiCaprio': 1, 'Chris Evans': 1, 'James Franco': 1, 'Kate Winslet': 1, 'Rosario Dawson': 1, 'Anil Kapoor': 1, 'Noah Huntley': 1, 'Kelly Macdonald': 1}), 'Andrew Bergman': defaultdict(<class 'int'>, {'Demi Moore': 1, 'Stockard Channing': 1}), 'Barbet Schroeder': defaultdict(<class 'int'>, {'Ryan Gosling': 1, 'Nicolas Cage': 1}), 'Peter Webber': defaultdict(<class 'int'>, {'Li Gong': 1, 'Scarlett Johansson': 1}), 'Andrew Niccol': defaultdict(<class 'int'>, {'J.D. Evermore': 1, 'Nicolas Cage': 1, 'Blair Underwood': 1, 'Matt Bomer': 1, 'Bruce Greenwood': 1}), 'John Carpenter': defaultdict(<class 'int'>, {'Steve Buscemi': 1, 'Richard Epcar': 1, 'Wilford Brimley': 1, 'Jason Statham': 1, 'Victor Wong': 1, 'Sheryl Lee': 1, 'Jamie Lee Curtis': 2, 'Donald Pleasence': 1, 'Meg Foster': 1}), 'Wes Anderson': defaultdict(<class 'int'>, {'Bill Murray': 5, 'Bruce Willis': 1, 'Andrew Wilson': 1}), 'David Cronenberg': defaultdict(<class 'int'>, {'Viggo Mortensen': 2, 'Jennifer Jason Leigh': 1, 'Michael Fassbender': 1, 'Tom Skerritt': 1, 'Miranda Richardson': 1, 'Debbie Harry': 1}), 'John Stockwell': defaultdict(<class 'int'>, {'Paul Walker': 1, 'Faizon Love': 1, 'Kirsten Dunst': 1, 'Matthew Ziff': 1}), 'David Gordon Green': defaultdict(<class 'int'>, {'Natalie Portman': 1, 'Dominic Flores': 1, 'James Franco': 1, 'Ari Graynor': 1, 'Nicolas Cage': 1, 'Michael Angarano': 1, 'Zooey Deschanel': 1, 'Paul Schneider': 1}), 'Jim Sheridan': defaultdict(<class 'int'>, {'Naomi Watts': 1, '50 Cent': 1, 'Natalie Portman': 1}), 'Costa-Gavras': defaultdict(<class 'int'>, {'Mia Kirshner': 1, 'Sebastian Koch': 1}), 'Patrick Read Johnson': defaultdict(<class 'int'>, {'Joe Mantegna': 1, 'Ariana Richards': 1}), 'Richard LaGravenese': defaultdict(<class 'int'>, {'Alden Ehrenreich': 1, 'Gerard Butler': 1, 'Hunter Parrish': 1, 'Holly Hunter': 1, 'Anna Kendrick': 1}), 'Danny DeVito': defaultdict(<class 'int'>, {'Robin Williams': 1, 'Justin Theroux': 1, 'Frank Whaley': 1}), 'George Armitage': defaultdict(<class 'int'>, {'Morgan Freeman': 1, 'Minnie Driver': 1}), 'Patrick Lussier': defaultdict(<class 'int'>, {'Nicolas Cage': 1, 'Gerard Butler': 1, 'Jensen Ackles': 1, 'Teryl Rothery': 1}), 'James Wong': defaultdict(<class 'int'>, {'Jason Statham': 1, 'Ian Whyte': 1, 'Chelan Simmons': 1, 'Daniel Roebuck': 1}), 'Richard Curtis': defaultdict(<class 'int'>, {'Philip Seymour Hoffman': 1, 'Colin Firth': 1, 'Tom Hughes': 1}), 'Chuck Bowman': defaultdict(<class 'int'>, {'P.J. Soles': 1}), 'Olivier Megaton': defaultdict(<class 'int'>, {'Liam Neeson': 2, 'Jordi Mollà': 1}), 'Deepa Mehta': defaultdict(<class 'int'>, {'Nandita Das': 1, 'John Abraham': 1}), 'Warren Beatty': defaultdict(<class 'int'>, {'Charlie Korsmo': 1, 'Paul Sorvino': 1, 'Warren Beatty': 1}), 'Penny Marshall': defaultdict(<class 'int'>, {'Rosie Perez': 1, 'Tom Hanks': 2, 'Ed Begley Jr.': 1}), 'Ted Kotcheff': defaultdict(<class 'int'>, {'Sylvester Stallone': 1}), 'Andrei Tarkovsky': defaultdict(<class 'int'>, {'Donatas Banionis': 1}), 'Paul Bolger': defaultdict(<class 'int'>, {'Sarah Michelle Gellar': 1}), 'Stephen Frears': defaultdict(<class 'int'>, {'Julia Roberts': 1, 'Meryl Streep': 1, 'Keanu Reeves': 1, 'Tom Burke': 1, 'Drake Bell': 1, 'Bob Hoskins': 1, 'Roger Allam': 1, 'Steve Coogan': 1, 'Sophie Okonedo': 1, 'Saeed Jaffrey': 1}), 'P.J. Hogan': defaultdict(<class 'int'>, {'Julia Roberts': 1}), 'Brad Furman': defaultdict(<class 'int'>, {'Joseph Gilgun': 1, 'Matthew McConaughey': 1, 'Justin Timberlake': 1}), 'Terence Young': defaultdict(<class 'int'>, {'Laurence Olivier': 1, 'Desmond Llewelyn': 1, 'Robert Shaw': 1, 'Ursula Andress': 1}), 'David Zucker': defaultdict(<class 'int'>, {'Regina Hall': 1, 'Beau Mirchoff': 1, 'George Kennedy': 1, 'Chriss Anglin': 1, 'Carmen Electra': 1}), 'Denis Villeneuve': defaultdict(<class 'int'>, {'Hugh Jackman': 1, 'Edgar Arreola': 1, 'Lubna Azabal': 1}), 'Thomas Carter': defaultdict(<class 'int'>, {'Channing Tatum': 1, 'Jessie T. Usher': 1, 'Sean Patrick Thomas': 1}), 'Roger Michell': defaultdict(<class 'int'>, {'Sydney Pollack': 1, 'Julia Roberts': 1, 'Noah Bean': 1}), 'Luis Llosa': defaultdict(<class 'int'>, {'Frank Welker': 1, 'Sylvester Stallone': 1}), 'Melville Shavelson': defaultdict(<class 'int'>, {'Lucille Ball': 1}), 'Garth Jennings': defaultdict(<class 'int'>, {'Zooey Deschanel': 1}), 'Joel Zwick': defaultdict(<class 'int'>, {'Dania Ramirez': 1, 'Nia Vardalos': 1}), 'Russell Mulcahy': defaultdict(<class 'int'>, {'Milla Jovovich': 1, 'Jonathan Winters': 1, 'Christopher Lambert': 1, 'Christopher Heyerdahl': 1}), 'David R. Ellis': defaultdict(<class 'int'>, {'Richard Burgi': 1, 'Krista Allen': 1, 'Lin Shaye': 1, 'Sarah Carter': 1, 'Chris Zylka': 1}), 'Peter Howitt': defaultdict(<class 'int'>, {'Kevin McNally': 1, 'Frances Fisher': 1, 'Tyler Labine': 1, 'Jeanne Tripplehorn': 1}), 'John A. Davis': defaultdict(<class 'int'>, {'Nicolas Cage': 1, 'Martin Short': 1}), 'David Lynch': defaultdict(<class 'int'>, {'Virginia Madsen': 1, 'Naomi Watts': 1, 'Sissy Spacek': 1, 'Anthony Hopkins': 1, 'Hal Landon Jr.': 1}), 'Julie Taymor': defaultdict(<class 'int'>, {'Jim Sturgess': 1, 'Djimon Hounsou': 1, 'Salma Hayek': 1}), 'Mathieu Kassovitz': defaultdict(<class 'int'>, {'Vin Diesel': 1, 'Robert Downey Jr.': 1}), 'John Gray': defaultdict(<class 'int'>, {'Alexa PenaVega': 1}), 'John Schultz': defaultdict(<class 'int'>, {'Malese Jow': 1, 'Brenda Song': 1, 'Stephen Collins': 1}), 'Sean Penn': defaultdict(<class 'int'>, {'Costas Mandylor': 1, 'Kristen Stewart': 1}), 'Susan Stroman': defaultdict(<class 'int'>, {'Jon Lovitz': 1}), 'Simon Wincer': defaultdict(<class 'int'>, {'Cary-Hiroyuki Tagawa': 1, 'Jere Burns': 1, 'Vanessa Williams': 1, 'Alan Rickman': 1}), 'Billy Bob Thornton': defaultdict(<class 'int'>, {'Matt Damon': 1, 'Robert Duvall': 1}), 'Danny Pang': defaultdict(<class 'int'>, {'Nicolas Cage': 1, 'Louis Koo': 1}), 'George P. Cosmatos': defaultdict(<class 'int'>, {'Sam Waterston': 1, 'Sylvester Stallone': 1, 'Michael Biehn': 1}), 'Oliver Parker': defaultdict(<class 'int'>, {'Daniel Kaluuya': 1, 'Colin Firth': 1, 'Lily Cole': 1, 'Minnie Driver': 1}), 'Lawrence Kasanoff': defaultdict(<class 'int'>, {'Jerry Stiller': 1}), 'Ben Affleck': defaultdict(<class 'int'>, {'Clea DuVall': 1, 'Jeremy Renner': 1}), 'Brian Gibson': defaultdict(<class 'int'>, {'Joseph Gordon-Levitt': 1, \"Rae'Ven Kelly\": 1}), 'Norman Ferguson': defaultdict(<class 'int'>, {'Mel Blanc': 1}), 'Michael Cimino': defaultdict(<class 'int'>, {'Jeff Bridges': 1, 'Robert De Niro': 1}), 'Paul McGuigan': defaultdict(<class 'int'>, {'Daniel Radcliffe': 1, 'Jessica Paré': 1, 'Bruce Willis': 1}), 'Gus Van Sant': defaultdict(<class 'int'>, {'F. Murray Abraham': 1, 'James Franco': 1, 'Kurtwood Smith': 1, 'Matt Damon': 2, 'Robin Williams': 1, 'Keanu Reeves': 1}), 'Roger Kumble': defaultdict(<class 'int'>, {'Judith Chapman': 1, 'Brendan Fraser': 1, 'Sarah Michelle Gellar': 1}), 'Burr Steers': defaultdict(<class 'int'>, {'Augustus Prew': 1, 'Matthew Perry': 1, 'Matt Smith': 1, 'Kieran Culkin': 1}), 'John Hamburg': defaultdict(<class 'int'>, {'Philip Seymour Hoffman': 1, 'J.K. Simmons': 1, 'Harvey Fierstein': 1}), 'Reginald Hudlin': defaultdict(<class 'int'>, {'John Witherspoon': 1, 'Matthew Perry': 1, 'Will Ferrell': 1}), 'Joseph L. Mankiewicz': defaultdict(<class 'int'>, {'Martin Landau': 1}), 'Barbra Streisand': defaultdict(<class 'int'>, {'Jeff Bridges': 1, 'George Carlin': 1, 'Miriam Margolyes': 1}), 'Mark Pellington': defaultdict(<class 'int'>, {'Debra Messing': 1, 'Jeff Bridges': 1}), 'John Glen': defaultdict(<class 'int'>, {'Robert Davi': 1, 'Joe Don Baker': 1, 'Patrick Macnee': 1, 'Julian Glover': 1, 'Louis Jourdan': 1}), 'Catherine Hardwicke': defaultdict(<class 'int'>, {'Gary Oldman': 1, 'Kristen Stewart': 1, 'Keisha Castle-Hughes': 1, 'Heath Ledger': 1, 'Holly Hunter': 1, 'Frances Fisher': 1}), 'John Herzfeld': defaultdict(<class 'int'>, {'Robert De Niro': 1, 'Paul Walker': 1}), 'Annabel Jankel': defaultdict(<class 'int'>, {'Bob Hoskins': 1}), 'Julie Anne Robinson': defaultdict(<class 'int'>, {'Fisher Stevens': 1, 'Kelly Preston': 1}), 'Evan Goldberg': defaultdict(<class 'int'>, {'James Franco': 1, 'Channing Tatum': 1}), 'Sngmoo Lee': defaultdict(<class 'int'>, {'Tony Cox': 1}), 'Jamel Debbouze': defaultdict(<class 'int'>, {'Jamel Debbouze': 1}), 'Gordon Chan': defaultdict(<class 'int'>, {'Julian Sands': 1}), 'Asger Leth': defaultdict(<class 'int'>, {'Robert Clohessy': 1}), 'John G. Avildsen': defaultdict(<class 'int'>, {'Martin Kove': 1, 'Sylvester Stallone': 1}), 'Anne Fletcher': defaultdict(<class 'int'>, {'Ryan Reynolds': 1, 'Miriam Margolyes': 1, 'Jim Gaffigan': 1, 'Judy Greer': 1, 'Channing Tatum': 1}), 'Bruce Beresford': defaultdict(<class 'int'>, {'Bruce Greenwood': 2, 'Mckenna Grace': 1, 'Morgan Freeman': 1}), 'Sam Taylor-Johnson': defaultdict(<class 'int'>, {'Jennifer Ehle': 1, 'Kristin Scott Thomas': 1}), 'Ken Kwapis': defaultdict(<class 'int'>, {'Carmen Perez': 1, 'Ted Danson': 1, 'Robin Williams': 1, 'Mike Vogel': 1}), 'Wes Craven': defaultdict(<class 'int'>, {'Kelly Rutherford': 1, 'Alison Brie': 1, 'Johnny Depp': 1, 'Shannon Elizabeth': 1, 'Robert Pine': 1, 'Frank Grillo': 1, 'Omar Epps': 1, 'David Arquette': 1, 'John Witherspoon': 1, 'Miko Hughes': 1}), 'Etan Cohen': defaultdict(<class 'int'>, {'Will Ferrell': 1}), 'Nick Cassavetes': defaultdict(<class 'int'>, {'Don Johnson': 1, 'Denzel Washington': 1, 'Ryan Gosling': 1, 'Jason Patric': 1}), 'Nicholas Stoller': defaultdict(<class 'int'>, {'Pink': 1, 'Chloë Grace Moretz': 1, 'Mila Kunis': 1, 'Alison Brie': 1, 'Craig Roberts': 1}), 'Mark A.Z. Dippé': defaultdict(<class 'int'>, {'Michael Jai White': 1}), 'Cal Brunker': defaultdict(<class 'int'>, {'Brendan Fraser': 1}), 'Nimród Antal': defaultdict(<class 'int'>, {'Topher Grace': 1, 'Andrew Fiscella': 1, 'James Hetfield': 1}), 'Alejandro Agresti': defaultdict(<class 'int'>, {'Keanu Reeves': 1}), 'Peter Hedges': defaultdict(<class 'int'>, {'Jennifer Garner': 1, 'Oliver Platt': 1}), 'Paul Weiland': defaultdict(<class 'int'>, {'Busy Philipps': 1}), 'Colin Strause': defaultdict(<class 'int'>, {'Sam Trammell': 1, 'David Zayas': 1}), 'Joan Chen': defaultdict(<class 'int'>, {'J.K. Simmons': 1}), 'Greg Mottola': defaultdict(<class 'int'>, {'Bobby Lee': 1, 'Emma Stone': 1, 'Kristen Stewart': 1}), 'Jake Kasdan': defaultdict(<class 'int'>, {'James Wilcox': 1, 'Tim Meadows': 1, 'Justin Timberlake': 1, 'Kim Dickens': 1}), 'Diane Keaton': defaultdict(<class 'int'>, {'Adam Arkin': 1}), 'Kelly Makin': defaultdict(<class 'int'>, {'Jeanne Tripplehorn': 1}), 'Stephen Daldry': defaultdict(<class 'int'>, {'Tom Hanks': 1, 'Kate Winslet': 1, 'Meryl Streep': 1, 'Wagner Moura': 1, 'Julie Walters': 1}), 'Christian Duguay': defaultdict(<class 'int'>, {'Michael Biehn': 1, 'Rufus Sewell': 1}), 'Justin Chadwick': defaultdict(<class 'int'>, {'Natalie Portman': 1, 'Terry Pheto': 1}), \"Pat O'Connor\": defaultdict(<class 'int'>, {'Keanu Reeves': 1}), 'Frederik Du Chau': defaultdict(<class 'int'>, {'Gary Oldman': 1, 'Bruce Greenwood': 1}), 'Irwin Winkler': defaultdict(<class 'int'>, {'Mira Sorvino': 1, 'Ken Howard': 1, 'Ian Somerhalder': 1, 'Kevin McNally': 1}), 'Joseph Kahn': defaultdict(<class 'int'>, {'Dane Cook': 1, 'Josh Hutcherson': 1}), 'Sofia Coppola': defaultdict(<class 'int'>, {'Kirsten Dunst': 2, 'Nathalie Fay': 1, 'Scarlett Johansson': 1}), 'Stephen Kay': defaultdict(<class 'int'>, {'Sylvester Stallone': 1, 'Barry Watson': 1, 'Keanu Reeves': 1}), 'J.A. Bayona': defaultdict(<class 'int'>, {'Naomi Watts': 1, 'Geraldine Chaplin': 1}), 'Elaine May': defaultdict(<class 'int'>, {'Carol Kane': 1}), 'Dennie Gordon': defaultdict(<class 'int'>, {'Mary-Kate Olsen': 1, 'Colin Firth': 1, 'Brittany Daniel': 1, 'Leehom Wang': 1}), 'Charles Shyer': defaultdict(<class 'int'>, {'Omar Epps': 1}), 'Ulu Grosbard': defaultdict(<class 'int'>, {'Alexa PenaVega': 1}), 'William Malone': defaultdict(<class 'int'>, {'Natascha McElhone': 1, 'Jeffrey Combs': 1}), 'Malcolm D. Lee': defaultdict(<class 'int'>, {'Bernie Mac': 1, \"Mo'Nique\": 1, 'Dave Chappelle': 1, 'Marisa Saks': 1, 'Harold Perrineau': 2, 'Jurnee Smollett-Bell': 1}), 'Jerry Jameson': defaultdict(<class 'int'>, {'M. Emmet Walsh': 1, 'David Oyelowo': 1}), 'Mic Rodgers': defaultdict(<class 'int'>, {'Michael Jai White': 1}), 'Christian Alvart': defaultdict(<class 'int'>, {'Norman Reedus': 1, 'Bradley Cooper': 1}), 'Jean-Marie Poiré': defaultdict(<class 'int'>, {'Bridgette Wilson-Sampras': 1, 'Christian Clavier': 2}), 'Marc F. Adler': defaultdict(<class 'int'>, {'Eric Idle': 1}), 'Geoffrey Sax': defaultdict(<class 'int'>, {'Alex Pettyfer': 1, 'Deborah Kara Unger': 1}), 'Richard Shepard': defaultdict(<class 'int'>, {'James Brolin': 1, 'Adam Scott': 1, 'Richard E. Grant': 1}), 'Peter Ho-Sun Chan': defaultdict(<class 'int'>, {'Jet Li': 1}), 'Joon-ho Bong': defaultdict(<class 'int'>, {'Chris Evans': 1, 'Doona Bae': 1}), 'Jeff Nathanson': defaultdict(<class 'int'>, {'Matthew Broderick': 1}), 'S.S. Rajamouli': defaultdict(<class 'int'>, {'Tamannaah Bhatia': 1}), 'Charles S. Dutton': defaultdict(<class 'int'>, {'Omar Epps': 1}), 'Jonathan Lynn': defaultdict(<class 'int'>, {'Austin Pendleton': 1, 'Bruce Willis': 1, 'Fred Gwynne': 1, 'Rupert Grint': 1}), 'David Carson': defaultdict(<class 'int'>, {'LeVar Burton': 1}), 'Kar-Wai Wong': defaultdict(<class 'int'>, {'Tony Chiu Wai Leung': 1, 'Li Gong': 1, 'Natalie Portman': 1}), 'Yuefeng Song': defaultdict(<class 'int'>, {'Blythe Auffarth': 1}), 'Norman Jewison': defaultdict(<class 'int'>, {'Denzel Washington': 1, 'Haley Joel Osment': 1, 'Charlotte Rampling': 1, 'Sylvester Stallone': 1, 'Topol': 1}), 'David Mirkin': defaultdict(<class 'int'>, {'Sarah Silverman': 1}), 'Luis Mandoki': defaultdict(<class 'int'>, {'Sonia Braga': 1, 'Robin Wright': 1}), 'Lee Daniels': defaultdict(<class 'int'>, {\"Mo'Nique\": 1, 'Alex Pettyfer': 1}), 'Jeb Stuart': defaultdict(<class 'int'>, {'Gregory Scott Cummins': 1, 'Ricky Schroder': 1}), 'Steve Miner': defaultdict(<class 'int'>, {'Tom Skerritt': 1, 'Oliver Platt': 1, 'Julian Sands': 1, 'Richard Brooker': 1, 'Betsy Palmer': 1}), 'Paul Thomas Anderson': defaultdict(<class 'int'>, {'Mike Howard': 1, 'Patton Oswalt': 1, 'Jim Meskimen': 1, 'Adam Sandler': 1, 'Martin Dew': 1, 'Don Cheadle': 1}), 'David Leland': defaultdict(<class 'int'>, {'Hayden Christensen': 1, 'Anna Friel': 1}), 'J Blakeson': defaultdict(<class 'int'>, {'Chloë Grace Moretz': 1}), 'Ryan Coogler': defaultdict(<class 'int'>, {'Sylvester Stallone': 1, \"Ahna O'Reilly\": 1}), 'Kirk Jones': defaultdict(<class 'int'>, {'Anna Kendrick': 1, 'Colin Firth': 1, 'Robert De Niro': 1, 'Nia Vardalos': 1, 'James Nesbitt': 1}), 'Ethan Coen': defaultdict(<class 'int'>, {'J.K. Simmons': 2, 'Matt Damon': 1, 'Kelly Macdonald': 1, 'Scarlett Johansson': 1, 'Justin Timberlake': 1, 'Michael Stuhlbarg': 1}), 'Jennifer Flackett': defaultdict(<class 'int'>, {'Gerard Butler': 1}), 'Kevin Smith': defaultdict(<class 'int'>, {'Bruce Willis': 1, 'Stephen Root': 1, 'Gerry Bednob': 1, 'Will Ferrell': 1, 'Matt Damon': 2, 'Ethan Suplee': 2, 'Johnny Depp': 2, 'Anna Gunn': 1, 'Jason Mewes': 1}), 'Christian Ditter': defaultdict(<class 'int'>, {'Alison Brie': 1}), 'Charles Martin Smith': defaultdict(<class 'int'>, {'Morgan Freeman': 2, 'Kevin Zegers': 1}), 'Fedor Bondarchuk': defaultdict(<class 'int'>, {'Yuliya Snigir': 1}), 'Irvin Kershner': defaultdict(<class 'int'>, {'Bernie Casey': 1, 'Harrison Ford': 1}), 'Steve Pink': defaultdict(<class 'int'>, {'Charlie McDermott': 1, 'Adam Scott': 1, 'Joe Lo Truglio': 1}), 'Scott Hicks': defaultdict(<class 'int'>, {'Rick Yune': 1, 'Anthony Hopkins': 1, 'Zoë Kravitz': 1, 'Blythe Danner': 1, 'Noah Taylor': 1}), 'Chris Rock': defaultdict(<class 'int'>, {'Bernie Mac': 1, 'Steve Buscemi': 1, 'Rosario Dawson': 1}), 'Wilson Yip': defaultdict(<class 'int'>, {'Mike Tyson': 1}), 'Robert Wise': defaultdict(<class 'int'>, {'Leonard Nimoy': 1, 'Eleanor Parker': 1, 'David Wayne': 1}), 'Kevin Rodney Sullivan': defaultdict(<class 'int'>, {'Bernie Mac': 1, 'Richard Lawson': 1, 'Harry Lennix': 1}), 'Kevin Munroe': defaultdict(<class 'int'>, {'Chris Evans': 1, 'Marco St. John': 1}), 'Michael Tollin': defaultdict(<class 'int'>, {'Alfre Woodard': 1, 'Marc Blucas': 1}), 'Patrick Tatopoulos': defaultdict(<class 'int'>, {'Craig Parker': 1}), 'Gary David Goldberg': defaultdict(<class 'int'>, {'Stockard Channing': 1}), 'Tobe Hooper': defaultdict(<class 'int'>, {\"Heather O'Rourke\": 1, 'Frank Finlay': 1, 'Louise Fletcher': 1, 'Gunnar Hansen': 1, 'Bill Johnson': 1}), 'Alan Poul': defaultdict(<class 'int'>, {'Danneel Ackles': 1}), 'Luke Greenfield': defaultdict(<class 'int'>, {'Ashley Williams': 1, 'Chris Marquette': 1, 'Louis Lombardi': 1, 'Rob Riggle': 1}), 'Gil Junger': defaultdict(<class 'int'>, {'Tom Wilkinson': 1, 'Joseph Gordon-Levitt': 1}), 'Michael Ritchie': defaultdict(<class 'int'>, {\"Tatum O'Neal\": 1, 'Mara Wilson': 1, 'Victor Wong': 1}), 'Steven E. de Souza': defaultdict(<class 'int'>, {'Ming-Na Wen': 1}), 'Alexandre Aja': defaultdict(<class 'int'>, {'Jason Flemyng': 1, 'Adam Scott': 1, 'Dan Byrd': 1, 'Cécile De France': 1}), 'Michael Rymer': defaultdict(<class 'int'>, {'Aaliyah': 1, 'LL Cool J': 1}), 'Hugh Wilson': defaultdict(<class 'int'>, {'Brendan Fraser': 2, 'Stockard Channing': 1, 'Steve Guttenberg': 1}), 'Mike Hodges': defaultdict(<class 'int'>, {'Brian Blessed': 1}), 'Scott Mann': defaultdict(<class 'int'>, {'Robert De Niro': 1}), 'Susanna White': defaultdict(<class 'int'>, {'Daniel Mays': 1, 'Radivoje Bukvic': 1}), 'Chris Carter': defaultdict(<class 'int'>, {'Mitch Pileggi': 1}), \"Tommy O'Haver\": defaultdict(<class 'int'>, {'Anne Hathaway': 1, 'Mila Kunis': 1}), 'Peter Landesman': defaultdict(<class 'int'>, {'Will Smith': 1}), 'Gary Chapman': defaultdict(<class 'int'>, {'Jim Broadbent': 1}), 'Craig Mazin': defaultdict(<class 'int'>, {'Drake Bell': 1, 'Judy Greer': 1}), 'Allen Hughes': defaultdict(<class 'int'>, {'Alona Tal': 1}), 'Kimble Rendall': defaultdict(<class 'int'>, {'Alex Russell': 1}), 'Peter Yates': defaultdict(<class 'int'>, {'Liam Neeson': 1}), 'Lasse Hallström': defaultdict(<class 'int'>, {'Kevin Spacey': 1, 'Morgan Freeman': 1, 'David Lyons': 1, 'Lena Olin': 1, 'Channing Tatum': 1, 'Hope Davis': 1, 'Manish Dayal': 1, 'Cary-Hiroyuki Tagawa': 1, 'Johnny Depp': 1}), 'Jean-Marc Vallée': defaultdict(<class 'int'>, {'Michiel Huisman': 2, 'Matthew McConaughey': 1}), 'Hark Tsui': defaultdict(<class 'int'>, {'Paul Sorvino': 1}), 'Lexi Alexander': defaultdict(<class 'int'>, {'Julie Benz': 1}), 'Ronny Yu': defaultdict(<class 'int'>, {'Marley Shelton': 1, 'Meat Loaf': 1, 'Katharine Isabelle': 1, 'Alexis Arquette': 1}), 'Bille August': defaultdict(<class 'int'>, {'Jim Broadbent': 1, 'Terry Pheto': 1}), 'Moustapha Akkad': defaultdict(<class 'int'>, {'Oliver Reed': 1}), 'Jean-Paul Rappeneau': defaultdict(<class 'int'>, {'Olivier Martinez': 1, 'Isabelle Adjani': 1}), 'Joachim Rønning': defaultdict(<class 'int'>, {'Salma Hayek': 1}), 'Tony Kaye': defaultdict(<class 'int'>, {'Bill Cobbs': 1, 'Ethan Suplee': 1, 'Noam Chomsky': 1}), 'Ken Scott': defaultdict(<class 'int'>, {'Tom Wilkinson': 1, 'Jack Reynor': 1}), 'Hugh Johnson': defaultdict(<class 'int'>, {'David Paymer': 1}), 'Hayao Miyazaki': defaultdict(<class 'int'>, {'Rumi Hiiragi': 1, 'Christian Bale': 1, 'Minnie Driver': 1, 'Bunta Sugawara': 1}), 'George Tillman Jr.': defaultdict(<class 'int'>, {'Tiago Riani': 1, 'Robert De Niro': 1, 'Dwayne Johnson': 1, 'Vanessa Williams': 1}), 'Rand Ravich': defaultdict(<class 'int'>, {'Johnny Depp': 1}), 'Hugh Hudson': defaultdict(<class 'int'>, {'Liam Aiken': 1, 'Alice Krige': 1}), 'Jeremy Degruson': defaultdict(<class 'int'>, {'Kyle Hebert': 1}), 'Chris Gorak': defaultdict(<class 'int'>, {'Max Minghella': 1}), 'Scott Speer': defaultdict(<class 'int'>, {'Ryan Guzman': 1}), 'Joe Charbanic': defaultdict(<class 'int'>, {'Keanu Reeves': 1}), 'Jonathan Hensleigh': defaultdict(<class 'int'>, {'Laura Harring': 1}), 'Danny Cannon': defaultdict(<class 'int'>, {'Sean Pertwee': 1, 'Muse Watson': 1}), 'Boaz Yakin': defaultdict(<class 'int'>, {'Jason Statham': 1, 'Ryan Gosling': 1, 'Jay Hernandez': 1}), 'Richard Marquand': defaultdict(<class 'int'>, {'Harrison Ford': 1}), 'Neil Marshall': defaultdict(<class 'int'>, {'Ryan Kruger': 1, 'Michael Fassbender': 1, 'MyAnna Buring': 1}), 'David Wain': defaultdict(<class 'int'>, {'Justin Theroux': 1, 'Joe Lo Truglio': 1, 'Jon Hamm': 1, 'Christopher Meloni': 1}), 'Jared Hess': defaultdict(<class 'int'>, {'Ana de la Reguera': 1, 'Jizelle Jade': 1, 'Jon Heder': 1}), 'Rupert Wainwright': defaultdict(<class 'int'>, {'Nia Long': 1}), 'John Luessenhop': defaultdict(<class 'int'>, {'Paul Walker': 1, 'Gunnar Hansen': 1}), 'Justin Zackham': defaultdict(<class 'int'>, {'Robin Williams': 1}), 'John Gatins': defaultdict(<class 'int'>, {'Ken Howard': 1}), 'Miguel Sapochnik': defaultdict(<class 'int'>, {'Alice Braga': 1}), 'Hyung-rae Shim': defaultdict(<class 'int'>, {'Robert Forster': 1, 'Jason Mewes': 1}), 'Don Scardino': defaultdict(<class 'int'>, {'Steve Buscemi': 1}), 'Tim Robbins': defaultdict(<class 'int'>, {'Bill Murray': 1, 'Lois Smith': 1}), 'Tom Reeve': defaultdict(<class 'int'>, {'Joan Plowright': 1}), 'Nanette Burstein': defaultdict(<class 'int'>, {'Rob Riggle': 1}), 'Ariel Vromen': defaultdict(<class 'int'>, {'Gary Oldman': 1, 'Chris Evans': 1}), 'Lewis Gilbert': defaultdict(<class 'int'>, {'Desmond Llewelyn': 1, 'Caroline Munro': 1, 'Donald Pleasence': 1}), 'John Francis Daley': defaultdict(<class 'int'>, {'Chris Hemsworth': 1}), 'J.B. Rogers': defaultdict(<class 'int'>, {'Alyson Hannigan': 1, 'Eddie Cibrian': 1}), 'Michael Sucsy': defaultdict(<class 'int'>, {'Channing Tatum': 1}), 'Tom Vaughan': defaultdict(<class 'int'>, {'Harrison Ford': 1, 'Treat Williams': 1}), 'Stephen Hillenburg': defaultdict(<class 'int'>, {'Scarlett Johansson': 1}), 'Stig Bergqvist': defaultdict(<class 'int'>, {'Elizabeth Daily': 1}), 'Jason Reitman': defaultdict(<class 'int'>, {'J.K. Simmons': 4, 'Charlize Theron': 1}), 'Alexander Payne': defaultdict(<class 'int'>, {'Hope Davis': 1, 'Shailene Woodley': 1, 'Virginia Madsen': 1, 'Devin Ratray': 1, 'Matthew Broderick': 1}), 'Jonathan Levine': defaultdict(<class 'int'>, {'Cory Hardrict': 1, 'Joseph Gordon-Levitt': 1, 'Mary-Kate Olsen': 1, 'Luke Grimes': 1}), 'Rian Johnson': defaultdict(<class 'int'>, {'Joseph Gordon-Levitt': 1, 'Zachary Gordon': 1}), 'Chris Noonan': defaultdict(<class 'int'>, {'Miriam Margolyes': 1, 'Emily Watson': 1}), 'Michael McCullers': defaultdict(<class 'int'>, {'Tina Fey': 1}), 'Forest Whitaker': defaultdict(<class 'int'>, {'Bill Cobbs': 1}), 'Woody Allen': defaultdict(<class 'int'>, {'Kurt Fuller': 1, 'Woody Allen': 10, 'Ornella Muti': 1, 'Jim Broadbent': 1, 'Natasha Lyonne': 1, 'Sally Hawkins': 1, 'Scarlett Johansson': 3, 'Mike Starr': 1, 'Larry David': 1, 'Anthony Hopkins': 1, 'Melanie Griffith': 1}), 'Peter Lepeniotis': defaultdict(<class 'int'>, {'Liam Neeson': 1}), 'Ted Demme': defaultdict(<class 'int'>, {'Johnny Depp': 1}), 'William Shatner': defaultdict(<class 'int'>, {'Leonard Nimoy': 1}), 'Steve Box': defaultdict(<class 'int'>, {'Mark Gatiss': 1}), 'James Gartner': defaultdict(<class 'int'>, {'Mehcad Brooks': 1}), 'Lee Toland Krieger': defaultdict(<class 'int'>, {'Harrison Ford': 1, 'Ari Graynor': 1}), 'Tim McCanlies': defaultdict(<class 'int'>, {'Haley Joel Osment': 1, 'Ethan Embry': 1}), 'Drew Goddard': defaultdict(<class 'int'>, {'Chris Hemsworth': 1}), 'Jason Friedberg': defaultdict(<class 'int'>, {'Carmen Electra': 2, 'David Carradine': 1, 'Diedrich Bader': 1}), 'Paul Michael Glaser': defaultdict(<class 'int'>, {'Yaphet Kotto': 1}), 'John R. Leonetti': defaultdict(<class 'int'>, {'Brian Thompson': 1, 'Alfre Woodard': 1}), 'Tom Hanks': defaultdict(<class 'int'>, {'Tom Hanks': 2}), 'Kimberly Peirce': defaultdict(<class 'int'>, {'Chloë Grace Moretz': 1, 'Joseph Gordon-Levitt': 1, 'Alicia Goranson': 1}), 'Liz Friedlander': defaultdict(<class 'int'>, {'Alfre Woodard': 1}), 'Phil Joanou': defaultdict(<class 'int'>, {'Dwayne Johnson': 1, 'Lily Rabe': 1}), 'Shane Acker': defaultdict(<class 'int'>, {'Martin Landau': 1}), 'Martha Coolidge': defaultdict(<class 'int'>, {'Devin Ratray': 1}), 'Stephen J. Anderson': defaultdict(<class 'int'>, {'Craig Ferguson': 1}), 'Troy Miller': defaultdict(<class 'int'>, {'Elden Henson': 1}), 'Tate Taylor': defaultdict(<class 'int'>, {'Tika Sumpter': 1, 'Emma Stone': 1}), 'Brett Leonard': defaultdict(<class 'int'>, {'Denzel Washington': 1, 'Jeff Fahey': 1}), 'Alister Grierson': defaultdict(<class 'int'>, {'Ioan Gruffudd': 1}), 'Nick Hurran': defaultdict(<class 'int'>, {'Holly Hunter': 1}), 'Charles Stone III': defaultdict(<class 'int'>, {'Bernie Mac': 1, 'Leonard Roberts': 1}), 'Paul Haggis': defaultdict(<class 'int'>, {'Olivia Wilde': 1, 'James Franco': 1, 'Don Cheadle': 1}), 'Kurt Wimmer': defaultdict(<class 'int'>, {'Milla Jovovich': 1, 'Christian Bale': 1}), 'Jean-François Richet': defaultdict(<class 'int'>, {'Brian Dennehy': 1}), 'Kevin Hooks': defaultdict(<class 'int'>, {'Salma Hayek': 1}), 'Ellory Elkayem': defaultdict(<class 'int'>, {'Scarlett Johansson': 1}), 'Niki Caro': defaultdict(<class 'int'>, {'Jeremy Renner': 1, 'Morgan Saylor': 1, 'Keisha Castle-Hughes': 1}), 'Vincenzo Natali': defaultdict(<class 'int'>, {'Sarah Polley': 1, 'David Hewlett': 3}), 'Willard Huyck': defaultdict(<class 'int'>, {'Lea Thompson': 1}), \"Gavin O'Connor\": defaultdict(<class 'int'>, {'Jennifer Ehle': 1, 'Eddie Cahill': 1, 'Tom Hardy': 1, 'Natalie Portman': 1, 'Kimberly J. Brown': 1}), 'Bruce Hunt': defaultdict(<class 'int'>, {'Eddie Cibrian': 1}), 'Chris Roberts': defaultdict(<class 'int'>, {'Saffron Burrows': 1}), 'Jee-woon Kim': defaultdict(<class 'int'>, {'Zach Gilford': 1, 'Kang-ho Song': 1}), 'Nick Hamm': defaultdict(<class 'int'>, {'Robert De Niro': 1}), 'Andy Cadiff': defaultdict(<class 'int'>, {'Annabella Sciorra': 1}), 'Mike Disa': defaultdict(<class 'int'>, {'Amy Poehler': 1}), 'Richard J. Lewis': defaultdict(<class 'int'>, {'Mark Addy': 1}), 'Sergio Leone': defaultdict(<class 'int'>, {'Robert De Niro': 1, 'Claudia Cardinale': 1, 'Clint Eastwood': 2}), 'Niels Arden Oplev': defaultdict(<class 'int'>, {'Dominic Cooper': 1, 'Michael Nyqvist': 1}), 'Michael Radford': defaultdict(<class 'int'>, {'Al Pacino': 1, 'Chris Noth': 1}), 'Steve Boyum': defaultdict(<class 'int'>, {'Channing Tatum': 1, 'Paul Walker': 1}), 'Kaige Chen': defaultdict(<class 'int'>, {'Dong-gun Jang': 1}), 'Corey Yuen': defaultdict(<class 'int'>, {'Steve Howey': 1}), 'Andrew Dominik': defaultdict(<class 'int'>, {'Brad Pitt': 2}), 'Li Zhang': defaultdict(<class 'int'>, {'Bingbing Li': 1}), 'Laurent Tirard': defaultdict(<class 'int'>, {'Louise Bourgoin': 1, 'Romain Duris': 1}), 'Reinhard Klooss': defaultdict(<class 'int'>, {'Jim Broadbent': 1}), 'Frédéric Auburtin': defaultdict(<class 'int'>, {'Fisher Stevens': 1}), 'Olivier Dahan': defaultdict(<class 'int'>, {'Paz Vega': 1}), 'Maksim Fadeev': defaultdict(<class 'int'>, {'Konstantin Khabenskiy': 1}), 'Liliana Cavani': defaultdict(<class 'int'>, {'Ray Winstone': 1}), 'Greg Tiernan': defaultdict(<class 'int'>, {'James Franco': 1}), 'Elizabeth Banks': defaultdict(<class 'int'>, {'Anna Kendrick': 1, 'Hugh Jackman': 1}), 'Edward Norton': defaultdict(<class 'int'>, {'Lisa Edelstein': 1}), 'Ben Falcone': defaultdict(<class 'int'>, {'Peter Dinklage': 1, 'Gary Cole': 1}), 'Richard Attenborough': defaultdict(<class 'int'>, {'Denzel Washington': 1, \"Ryan O'Neal\": 1, 'Candice Bergen': 1, 'Anthony Hopkins': 1}), 'Don Mancini': defaultdict(<class 'int'>, {'Jason Flemyng': 1}), 'John Maybury': defaultdict(<class 'int'>, {'Jennifer Jason Leigh': 1}), 'Igor Kovalyov': defaultdict(<class 'int'>, {'Elizabeth Daily': 1}), 'Shinji Aramaki': defaultdict(<class 'int'>, {'Shun Oguri': 1}), 'Miguel Arteta': defaultdict(<class 'int'>, {'Bella Thorne': 1, 'Steve Buscemi': 1, 'Kurtwood Smith': 1, 'Jake Gyllenhaal': 1, 'Lupe Ontiveros': 1}), 'James Gray': defaultdict(<class 'int'>, {'Robert Duvall': 1, 'Charlize Theron': 1, 'Jeremy Renner': 1, 'Isabella Rossellini': 1}), 'Janusz Kaminski': defaultdict(<class 'int'>, {'Philip Baker Hall': 1}), 'Robert B. Weide': defaultdict(<class 'int'>, {'James Corden': 1}), 'Jeff Wadlow': defaultdict(<class 'int'>, {'Chloë Grace Moretz': 1, 'Djimon Hounsou': 1, 'Julian Morris': 1}), 'Agustín Díaz Yanes': defaultdict(<class 'int'>, {'Viggo Mortensen': 1}), 'Camille Delamarre': defaultdict(<class 'int'>, {'Paul Walker': 1, 'Ed Skrein': 1}), 'David Lean': defaultdict(<class 'int'>, {'Richard Wilson': 1, 'Claude Rains': 1, 'Julie Christie': 1, 'William Holden': 1}), 'Richard Eyre': defaultdict(<class 'int'>, {'Phil Davis': 1, 'Kate Winslet': 1}), 'Nicholas Meyer': defaultdict(<class 'int'>, {'Leonard Nimoy': 2}), 'Callie Khouri': defaultdict(<class 'int'>, {'Ellen Burstyn': 1, 'Stephen Root': 1}), 'Sanaa Hamri': defaultdict(<class 'int'>, {'America Ferrera': 1, 'Common': 1}), 'Todd Graff': defaultdict(<class 'int'>, {'Dolly Parton': 1, 'Scott Porter': 1}), 'Philip Kaufman': defaultdict(<class 'int'>, {'Dennis Quaid': 1, 'Kate Winslet': 1}), 'Saul Dibb': defaultdict(<class 'int'>, {'Dominic Cooper': 1}), 'Walter Murch': defaultdict(<class 'int'>, {'Piper Laurie': 1}), 'Richard Linklater': defaultdict(<class 'int'>, {'Matthew McConaughey': 2, 'Zoe Kazan': 1, 'Miranda Cosgrove': 1, 'Robert Downey Jr.': 1, 'Milla Jovovich': 1, 'Ellar Coltrane': 1, 'Seamus Davey-Fitzpatrick': 1, 'Hanno Pöschl': 1, 'Vernon Dobtcheff': 1, 'Tommy Pallotta': 1}), 'E. Elias Merhige': defaultdict(<class 'int'>, {'Harry Lennix': 1, 'Eddie Izzard': 1}), 'Menno Meyjes': defaultdict(<class 'int'>, {'Oliver Platt': 1}), 'Jodie Foster': defaultdict(<class 'int'>, {'Julia Roberts': 1, 'Jennifer Lawrence': 1, 'Robert Downey Jr.': 1}), 'Scott Frank': defaultdict(<class 'int'>, {'Liam Neeson': 1}), 'Kevin Allen': defaultdict(<class 'int'>, {'Daniel Roebuck': 1, 'Craig Ferguson': 1}), 'Michael Cristofer': defaultdict(<class 'int'>, {'Angelina Jolie Pitt': 1}), 'Andrew Morahan': defaultdict(<class 'int'>, {'Christopher Lambert': 1}), 'Bob Rafelson': defaultdict(<class 'int'>, {'Harold Perrineau': 1, 'Anjelica Huston': 1}), 'Michael Cohn': defaultdict(<class 'int'>, {'David Conrad': 1}), 'Alan Shapiro': defaultdict(<class 'int'>, {'Paul Hogan': 1}), 'Fernando Meirelles': defaultdict(<class 'int'>, {'Archie Panjabi': 1, 'Don McKellar': 1, 'Alice Braga': 1}), 'Michael Hoffman': defaultdict(<class 'int'>, {'Luke Bracey': 1, 'David Masterson': 1, 'Gabriel Millman': 1}), 'Oleg Stepchenko': defaultdict(<class 'int'>, {'Jason Flemyng': 1}), 'Michael Winterbottom': defaultdict(<class 'int'>, {'Cara Delevingne': 1, 'Angelina Jolie Pitt': 1, 'Milla Jovovich': 1, 'Liam Aiken': 1, 'Samantha Morton': 1, 'Steve Coogan': 1}), 'Michael Pressman': defaultdict(<class 'int'>, {'Kevin Nash': 1}), 'Sharon Maguire': defaultdict(<class 'int'>, {'Colin Firth': 1}), 'Charles Herman-Wurmfeld': defaultdict(<class 'int'>, {'Mary Lynn Rajskub': 1, 'Scott Cohen': 1, 'John Enos III': 1}), 'Gabor Csupo': defaultdict(<class 'int'>, {'Josh Hutcherson': 1}), 'Tyler Perry': defaultdict(<class 'int'>, {'Alicia Witt': 1, 'Omari Hardwick': 1, 'Michael Jai White': 2, 'John Amos': 1, 'Eric Mendenhall': 1, 'Vanessa Ferlito': 1, 'Eddie Cibrian': 1, 'Boris Kodjoe': 1}), 'Joe Carnahan': defaultdict(<class 'int'>, {'Liam Neeson': 1, 'Ryan Reynolds': 1, 'Jason Patric': 1}), 'John Polson': defaultdict(<class 'int'>, {'Robert De Niro': 1, 'Erika Christensen': 1}), 'Bernardo Bertolucci': defaultdict(<class 'int'>, {'Cary-Hiroyuki Tagawa': 1, 'Jean-Louis Trintignant': 1}), 'Cathy Malkasian': defaultdict(<class 'int'>, {'Alfre Woodard': 1}), 'John Eng': defaultdict(<class 'int'>, {'Elizabeth Daily': 1}), 'Chris Nahon': defaultdict(<class 'int'>, {'Jet Li': 1}), 'Fred Wolf': defaultdict(<class 'int'>, {'Emma Stone': 1, 'Kevin Alejandro': 1}), 'Bille Woodruff': defaultdict(<class 'int'>, {'Alfre Woodard': 1, 'Christian Monzon': 1, 'Boris Kodjoe': 1, 'Donald Faison': 1}), 'Victor Salva': defaultdict(<class 'int'>, {'Nicki Aycox': 1, 'Eileen Brennan': 1, 'Scott Mechlowicz': 1}), 'Mark Helfrich': defaultdict(<class 'int'>, {'Dane Cook': 1}), 'Steve Bendelack': defaultdict(<class 'int'>, {'Lily Atkinson': 1}), 'Dwight H. Little': defaultdict(<class 'int'>, {'Nicholas Gonzalez': 1, 'Donald Pleasence': 1}), 'Guillaume Canet': defaultdict(<class 'int'>, {'Mila Kunis': 1, 'François Cluzet': 1}), 'Kirsten Sheridan': defaultdict(<class 'int'>, {'Robin Williams': 1}), 'Richard Fleischer': defaultdict(<class 'int'>, {'Joseph Cotten': 1, 'Mako': 1, 'Ernie Reyes Jr.': 1, 'James Mason': 1}), 'Bob Spiers': defaultdict(<class 'int'>, {'Jason Flemyng': 1}), 'Damien Dante Wayans': defaultdict(<class 'int'>, {'Damon Wayans Jr.': 1}), 'John Wells': defaultdict(<class 'int'>, {'Benedict Cumberbatch': 1, 'Bradley Cooper': 1}), 'Tim Fywell': defaultdict(<class 'int'>, {'Connie Ray': 1}), 'Nigel Cole': defaultdict(<class 'int'>, {'Aimee Garcia': 1, 'Bob Hoskins': 1}), 'Dexter Fletcher': defaultdict(<class 'int'>, {'Hugh Jackman': 1}), 'Jeremy Leven': defaultdict(<class 'int'>, {'Johnny Depp': 1}), 'Sylvain White': defaultdict(<class 'int'>, {'Chris Evans': 1, 'Chris Brown': 1}), 'Troy Nixey': defaultdict(<class 'int'>, {'Bailee Madison': 1}), 'Philip G. Atwell': defaultdict(<class 'int'>, {'Jason Statham': 1}), 'Jeff Schaffer': defaultdict(<class 'int'>, {'Matt Damon': 1}), 'Don Michael Paul': defaultdict(<class 'int'>, {'Claudia Christian': 1, 'Jeffrey Jones': 1}), 'James Bridges': defaultdict(<class 'int'>, {'Dianne Wiest': 1}), 'Steve Barron': defaultdict(<class 'int'>, {'Martin Landau': 1}), 'Bill Paxton': defaultdict(<class 'int'>, {'Stephen Dillane': 1, 'Matthew McConaughey': 1}), 'Richard Kelly': defaultdict(<class 'int'>, {'Frank Langella': 1, 'Janeane Garofalo': 1, 'Jake Gyllenhaal': 1}), 'Carter Smith': defaultdict(<class 'int'>, {'Laura Ramsey': 1}), 'John Schlesinger': defaultdict(<class 'int'>, {'Mark Valley': 1, 'Joe Mantegna': 1, 'Brenda Vaccaro': 1}), 'Ringo Lam': defaultdict(<class 'int'>, {'Natasha Henstridge': 1}), 'Bruce McCulloch': defaultdict(<class 'int'>, {'Martin Starr': 1, 'Will Ferrell': 1}), 'Patricia Riggen': defaultdict(<class 'int'>, {'Marco Treviño': 1, 'Jennifer Garner': 1, 'America Ferrera': 1}), 'Pascal Chaumeil': defaultdict(<class 'int'>, {'Dany Boon': 1}), 'Jonathan Kaplan': defaultdict(<class 'int'>, {'John Doe': 1}), 'Ole Bornedal': defaultdict(<class 'int'>, {'Kyra Sedgwick': 1}), 'Richard Benjamin': defaultdict(<class 'int'>, {'Brendan Fraser': 1, 'Damon Wayans': 1, 'Jon Lovitz': 1}), 'Craig R. Baxley': defaultdict(<class 'int'>, {'Brian Bosworth': 1, 'Bill Duke': 1}), 'John Hillcoat': defaultdict(<class 'int'>, {'Viggo Mortensen': 1, 'Kate Winslet': 1, 'Ray Winstone': 1}), 'John Guillermin': defaultdict(<class 'int'>, {'Tanya Roberts': 1}), 'Marcos Siega': defaultdict(<class 'int'>, {'Cheech Marin': 1}), 'Rachel Talalay': defaultdict(<class 'int'>, {'Naomi Watts': 1, 'Johnny Depp': 1}), 'Jeffrey W. Byrd': defaultdict(<class 'int'>, {'Donald Faison': 1}), 'Atom Egoyan': defaultdict(<class 'int'>, {'Colin Firth': 1, 'David Alpay': 1, 'Bob Hoskins': 1, 'Liam Neeson': 1, 'Bruce Greenwood': 2}), 'Robert Towne': defaultdict(<class 'int'>, {'Billy Burke': 1}), 'Giuseppe Tornatore': defaultdict(<class 'int'>, {'Jim Sturgess': 1}), 'Werner Herzog': defaultdict(<class 'int'>, {'Nicolas Cage': 1, 'Christian Bale': 1}), 'Ben Stassen': defaultdict(<class 'int'>, {'Ed Begley Jr.': 1}), 'Jérôme Deschamps': defaultdict(<class 'int'>, {'Yolande Moreau': 1}), 'Inna Evlannikova': defaultdict(<class 'int'>, {'Sergey Garmash': 1}), 'Jonathan English': defaultdict(<class 'int'>, {'Jason Flemyng': 1}), 'Sergey Bondarchuk': defaultdict(<class 'int'>, {'Rod Steiger': 1}), 'Teddy Chan': defaultdict(<class 'int'>, {'Siu-Wong Fan': 1, 'Bingbing Fan': 1}), 'Mario Van Peebles': defaultdict(<class 'int'>, {'Martin Kove': 1, 'Tom Skerritt': 1}), 'Leonard Nimoy': defaultdict(<class 'int'>, {'Leonard Nimoy': 2, 'Tom Selleck': 1}), 'Herbert Ross': defaultdict(<class 'int'>, {'Dianne Wiest': 1}), 'Bonnie Hunt': defaultdict(<class 'int'>, {'Minnie Driver': 1}), 'Neil LaBute': defaultdict(<class 'int'>, {'Morgan Freeman': 1, 'Jay Hernandez': 1, 'Stacy Edwards': 1}), 'Grant Heslov': defaultdict(<class 'int'>, {'Kevin Spacey': 1}), 'George Gallo': defaultdict(<class 'int'>, {'Daniel Roebuck': 1, 'Eddie Griffin': 1}), 'Sidney Lumet': defaultdict(<class 'int'>, {'Lena Horne': 1, 'Charlotte Rampling': 1, 'Peter Dinklage': 1, 'Kyra Sedgwick': 1, 'Robert Duvall': 1, 'Jack Warden': 1}), 'Douglas McGrath': defaultdict(<class 'int'>, {'Olivia Munn': 1, 'Toby Jones': 1, 'Charlie Hunnam': 1}), 'Kevin Spacey': defaultdict(<class 'int'>, {'Kevin Spacey': 1, 'Viggo Mortensen': 1}), 'Richard Williams': defaultdict(<class 'int'>, {'Donald Pleasence': 1}), 'Mary McGuckian': defaultdict(<class 'int'>, {'Robert De Niro': 1}), 'Tony Goldwyn': defaultdict(<class 'int'>, {'Hugh Jackman': 1, 'Viggo Mortensen': 1}), 'Jonathan Newman': defaultdict(<class 'int'>, {'Ioan Gruffudd': 1}), 'Michael Dinner': defaultdict(<class 'int'>, {'Seymour Cassel': 1}), 'Joseph Sargent': defaultdict(<class 'int'>, {'Judith Barsi': 1}), 'Jerry Zaks': defaultdict(<class 'int'>, {'Leonardo DiCaprio': 1}), 'Fred Durst': defaultdict(<class 'int'>, {'Tasha Smith': 1}), 'Anne Fontaine': defaultdict(<class 'int'>, {'Alessandro Nivola': 1, 'Robin Wright': 1}), 'Jon Cassar': defaultdict(<class 'int'>, {'Demi Moore': 1}), 'Mira Nair': defaultdict(<class 'int'>, {'Romola Garai': 1, 'Anjelica Huston': 1, 'Jacinda Barrett': 1, 'Indira Varma': 1, 'Naseeruddin Shah': 1}), 'Mel Brooks': defaultdict(<class 'int'>, {'Joan Rivers': 1, 'Madeline Kahn': 4, 'Sid Caesar': 1}), 'Russell Crowe': defaultdict(<class 'int'>, {'Cem Yilmaz': 1}), 'Jessie Nelson': defaultdict(<class 'int'>, {'Dianne Wiest': 1, 'Olivia Wilde': 1}), 'Christopher Spencer': defaultdict(<class 'int'>, {'Roma Downey': 1}), 'Mike Bigelow': defaultdict(<class 'int'>, {'Carlos Ponce': 1}), 'Daniel Sackheim': defaultdict(<class 'int'>, {'Chris Noth': 1}), 'Harry Elfont': defaultdict(<class 'int'>, {'Rosario Dawson': 1, 'Ethan Embry': 1}), 'Uli Edel': defaultdict(<class 'int'>, {'Richard E. Grant': 1, 'Moritz Bleibtreu': 1}), 'Fred Dekker': defaultdict(<class 'int'>, {'CCH Pounder': 1}), 'Brian Trenchard-Smith': defaultdict(<class 'int'>, {'Michael Biehn': 1, 'Zoe Ventoura': 1, 'David Keith': 1}), 'Blake Edwards': defaultdict(<class 'int'>, {'Rock Hudson': 1, 'Burt Kwouk': 1}), 'Laurence Dunmore': defaultdict(<class 'int'>, {'Johnny Depp': 1}), 'Christian Carion': defaultdict(<class 'int'>, {'Gary Lewis': 1}), 'David Palmer': defaultdict(<class 'int'>, {'Bradley Cooper': 1}), 'Rowan Joffe': defaultdict(<class 'int'>, {'Colin Firth': 1, 'Sam Riley': 1}), 'John Curran': defaultdict(<class 'int'>, {'Robert De Niro': 1, 'Toby Jones': 1}), 'Juan José Campanella': defaultdict(<class 'int'>, {'Pablo Rago': 1, 'Ricardo Darín': 1}), 'Trey Parker': defaultdict(<class 'int'>, {'Minnie Driver': 1, 'Jeremy Shada': 1, 'Trey Parker': 1}), 'Stuart Gillard': defaultdict(<class 'int'>, {'Paige Turco': 1}), 'Katt Shea': defaultdict(<class 'int'>, {'Jason London': 1}), 'Joshua Michael Stern': defaultdict(<class 'int'>, {'Madeline Carroll': 1}), 'Tomas Alfredson': defaultdict(<class 'int'>, {'Benedict Cumberbatch': 1}), 'John Duigan': defaultdict(<class 'int'>, {'Elaine Hendrix': 1}), 'Colin Higgins': defaultdict(<class 'int'>, {'Dolly Parton': 1}), 'Jim Sonzero': defaultdict(<class 'int'>, {'Ian Somerhalder': 1}), 'Penelope Spheeris': defaultdict(<class 'int'>, {'Tia Carrere': 1}), 'Jeff Tremaine': defaultdict(<class 'int'>, {'Bam Margera': 3, 'Jackson Nicoll': 1}), 'Jeannot Szwarc': defaultdict(<class 'int'>, {'Roy Scheider': 1, 'Teresa Wright': 1}), 'Steve McQueen': defaultdict(<class 'int'>, {'Quvenzhané Wallis': 1, 'Michael Fassbender': 1}), 'Thea Sharrock': defaultdict(<class 'int'>, {'Sam Claflin': 1}), 'Jon Lucas': defaultdict(<class 'int'>, {'Mila Kunis': 1, 'Justin Chon': 1}), 'Aaron Seltzer': defaultdict(<class 'int'>, {'Alyson Hannigan': 1}), 'Robin Budd': defaultdict(<class 'int'>, {'Roger Rees': 1}), 'Ava DuVernay': defaultdict(<class 'int'>, {'David Oyelowo': 1, 'Omari Hardwick': 1}), 'Steve Trenbirth': defaultdict(<class 'int'>, {'Haley Joel Osment': 1}), 'Mennan Yapo': defaultdict(<class 'int'>, {'Nia Long': 1}), 'Jun Falkenstein': defaultdict(<class 'int'>, {'Kath Soucie': 1}), 'Tom McCarthy': defaultdict(<class 'int'>, {'Billy Crudup': 1, 'Peter Dinklage': 1}), 'Takashi Shimizu': defaultdict(<class 'int'>, {'Sarah Michelle Gellar': 2}), 'Gary Nelson': defaultdict(<class 'int'>, {'Robert Forster': 1}), 'Anton Corbijn': defaultdict(<class 'int'>, {'Violante Placido': 1, 'Philip Seymour Hoffman': 1, 'Sam Riley': 1}), 'Gregory Nava': defaultdict(<class 'int'>, {'Jon Seda': 1}), 'John Patrick Shanley': defaultdict(<class 'int'>, {'Philip Seymour Hoffman': 1}), 'Joshua Logan': defaultdict(<class 'int'>, {'Clint Eastwood': 1}), 'Steve Beck': defaultdict(<class 'int'>, {'Isaiah Washington': 1, 'Shannon Elizabeth': 1}), 'Todd Strauss-Schulson': defaultdict(<class 'int'>, {'Patton Oswalt': 1}), 'John McNaughton': defaultdict(<class 'int'>, {'Bill Murray': 1}), 'Nelson McCormick': defaultdict(<class 'int'>, {'Sela Ward': 1, 'Ming-Na Wen': 1}), 'Eric Valette': defaultdict(<class 'int'>, {'Johnny Lewis': 1, 'Melanie Papalia': 1}), 'Andrew Fleming': defaultdict(<class 'int'>, {'Kay Panabaker': 1, 'Christine Taylor': 1, 'Ryan Reynolds': 1, 'Steve Coogan': 1}), 'Michael Spierig': defaultdict(<class 'int'>, {\"Jay Laga'aia\": 1}), 'Jim Field Smith': defaultdict(<class 'int'>, {'Mike Vogel': 1}), 'Thomas Bezucha': defaultdict(<class 'int'>, {'Leighton Meester': 1, 'Craig T. Nelson': 1}), 'William Brent Bell': defaultdict(<class 'int'>, {'Adam Goldberg': 1, 'Lauren Cohan': 1, 'Fernanda Andrade': 1}), 'Anthony Bell': defaultdict(<class 'int'>, {'Kevin Sussman': 1}), 'Jessica Bendinger': defaultdict(<class 'int'>, {'Jeff Bridges': 1}), 'Henry Joost': defaultdict(<class 'int'>, {'Samira Wiley': 1, 'Johanna Braddy': 1, 'Matt Shively': 1}), 'Ed Harris': defaultdict(<class 'int'>, {'Viggo Mortensen': 1, 'John Heard': 1}), 'Alfred Hitchcock': defaultdict(<class 'int'>, {'Janet Leigh': 1, 'Roscoe Lee Browne': 1, 'Bernard Cribbins': 1, 'Ed Lauter': 1, 'Tamara Toumanova': 1, 'Norman Lloyd': 1, 'Laurence Olivier': 1, 'Jerry Mathers': 1}), 'Shana Feste': defaultdict(<class 'int'>, {'Alex Pettyfer': 1, 'Leighton Meester': 1, 'Jennifer Ehle': 1}), 'Steve Rash': defaultdict(<class 'int'>, {'Mako': 1, 'Barry Corbin': 1}), 'Mike Binder': defaultdict(<class 'int'>, {'Adam Sandler': 1, 'Alicia Witt': 1, 'Jennifer Ehle': 1}), 'Michael J. Bassett': defaultdict(<class 'int'>, {'Radha Mitchell': 1}), 'Frank Nissen': defaultdict(<class 'int'>, {'Kath Soucie': 1}), 'Stephen Chow': defaultdict(<class 'int'>, {'Shengyi Huang': 1, 'Jiao Xu': 1, 'Wei Zhao': 1}), 'Peter Hastings': defaultdict(<class 'int'>, {'Haley Joel Osment': 1}), 'Paul Abascal': defaultdict(<class 'int'>, {'Cole Hauser': 1}), 'Chris Koch': defaultdict(<class 'int'>, {'Thomas Lennon': 1, 'Chris Elliott': 1}), 'Amy Heckerling': defaultdict(<class 'int'>, {'Andy Dick': 1, 'Taylor Negron': 1, 'Donald Faison': 1, 'Jennifer Jason Leigh': 1}), 'Michael Moore': defaultdict(<class 'int'>, {'Ronald Reagan': 1, 'Michael Moore': 4, 'Osama bin Laden': 1}), 'George Stevens': defaultdict(<class 'int'>, {'Martin Landau': 1}), 'Billy Ray': defaultdict(<class 'int'>, {'Julia Roberts': 1, 'Hayden Christensen': 1}), 'Mark Mylod': defaultdict(<class 'int'>, {'Chris Evans': 1}), 'James Mather': defaultdict(<class 'int'>, {'Joseph Gilgun': 1}), 'Michael O. Sajbel': defaultdict(<class 'int'>, {'James Callis': 1, 'Bill Cobbs': 1}), 'Charles T. Kanganis': defaultdict(<class 'int'>, {'Victor Wong': 1}), 'Damon Santostefano': defaultdict(<class 'int'>, {'Matthew Perry': 1}), 'Bob Clark': defaultdict(<class 'int'>, {'Scott Baio': 1, 'Kathleen Turner': 1, 'Art Hindle': 1, 'Zack Ward': 1}), 'Dave Borthwick': defaultdict(<class 'int'>, {'Jimmy Fallon': 1}), 'Benson Lee': defaultdict(<class 'int'>, {'Chris Brown': 1}), 'Glen Morgan': defaultdict(<class 'int'>, {'Laura Harring': 1, 'Oliver Hudson': 1}), 'Mike Leigh': defaultdict(<class 'int'>, {'Jim Broadbent': 2, 'Lesley Manville': 2, 'Eddie Marsan': 1}), 'Alejandro Monteverde': defaultdict(<class 'int'>, {'Tom Wilkinson': 1, 'Armando Riesco': 1}), 'Jonathan Glazer': defaultdict(<class 'int'>, {'Cameron Bright': 1, 'Scarlett Johansson': 1, 'Ray Winstone': 1}), 'J.C. Chandor': defaultdict(<class 'int'>, {'David Oyelowo': 1, 'Robert Redford': 1, 'Kevin Spacey': 1}), 'Paul Gross': defaultdict(<class 'int'>, {'Landon Liboiron': 1, 'Molly Parker': 1}), 'Marc Abraham': defaultdict(<class 'int'>, {'Dylan Authors': 1}), 'Todd Haynes': defaultdict(<class 'int'>, {'Christian Bale': 2, 'Dennis Quaid': 1}), 'Mabrouk El Mechri': defaultdict(<class 'int'>, {'Henry Cavill': 1}), 'Charlie Kaufman': defaultdict(<class 'int'>, {'Philip Seymour Hoffman': 1}), 'Nancy Walker': defaultdict(<class 'int'>, {'Steve Guttenberg': 1}), 'Angelo Pizzo': defaultdict(<class 'int'>, {'Donny Boaz': 1}), 'Matthew Diamond': defaultdict(<class 'int'>, {'Chazz Palminteri': 1}), 'Katsuhiro Ôtomo': defaultdict(<class 'int'>, {'William Hootkins': 1, 'Mitsuo Iwata': 1}), 'David Anspaugh': defaultdict(<class 'int'>, {'Gerard Butler': 1}), 'Andrew Jarecki': defaultdict(<class 'int'>, {'Ryan Gosling': 1}), 'Daniel Algrant': defaultdict(<class 'int'>, {'Al Pacino': 1}), 'Jane Clark': defaultdict(<class 'int'>, {'Necar Zadegan': 1}), 'Mike Barker': defaultdict(<class 'int'>, {'Gerard Butler': 1}), 'Wayne Thornley': defaultdict(<class 'int'>, {'Leonard Nimoy': 1}), 'Gnana Rajasekaran': defaultdict(<class 'int'>, {'Mani Bharathi': 1}), 'Tom Walsh': defaultdict(<class 'int'>, {'Joey D. Vieira': 1}), 'Jonathan Jakubowicz': defaultdict(<class 'int'>, {'Robert De Niro': 1}), 'Scott Walker': defaultdict(<class 'int'>, {'Nicolas Cage': 1}), 'Mark Rosman': defaultdict(<class 'int'>, {'Dan Byrd': 1, 'Ben Feldman': 1}), 'Rob Hawk': defaultdict(<class 'int'>, {'Kari J. Kramer': 1}), 'Britt Allcroft': defaultdict(<class 'int'>, {'Mara Wilson': 1}), 'Alan Yuen': defaultdict(<class 'int'>, {'Andy Lau': 1}), 'Brian Percival': defaultdict(<class 'int'>, {'Emily Watson': 1}), 'Anand Tucker': defaultdict(<class 'int'>, {'Adam Scott': 1, 'Colin Firth': 1, 'Frances Conroy': 1}), 'Anthony Mann': defaultdict(<class 'int'>, {'James Mason': 1}), 'Michael Dowse': defaultdict(<class 'int'>, {'Topher Grace': 1, 'Paul Kaye': 1}), 'Daniel Barnz': defaultdict(<class 'int'>, {'Holly Hunter': 1, 'Alex Pettyfer': 1}), 'Emile Ardolino': defaultdict(<class 'int'>, {'Darci Kistler': 1}), 'Robert Altman': defaultdict(<class 'int'>, {'Steve Buscemi': 1, 'Kristin Scott Thomas': 1, 'Meryl Streep': 1}), 'James Schamus': defaultdict(<class 'int'>, {'Logan Lerman': 1}), 'Andrew Douglas': defaultdict(<class 'int'>, {'Jimmy Bennett': 1}), 'Ricky Gervais': defaultdict(<class 'int'>, {'Jennifer Garner': 1}), 'Vic Armstrong': defaultdict(<class 'int'>, {'Nicolas Cage': 1}), 'Terry Zwigoff': defaultdict(<class 'int'>, {'Bernie Mac': 1, 'Scarlett Johansson': 1}), 'Audrey Wells': defaultdict(<class 'int'>, {'Raoul Bova': 1}), 'Rick Friedberg': defaultdict(<class 'int'>, {'Hulk Hogan': 1}), 'Sean McNamara': defaultdict(<class 'int'>, {'Dennis Quaid': 1, 'Oliver James': 1}), 'Jody Hill': defaultdict(<class 'int'>, {'Collette Wolfe': 1}), 'Brandon Camp': defaultdict(<class 'int'>, {'Judy Greer': 1}), 'Kevin Tancharoen': defaultdict(<class 'int'>, {'Kelsey Grammer': 1, 'Lea Michele': 1}), 'Nicholas Hytner': defaultdict(<class 'int'>, {'Amanda Schull': 1, 'Liam Aiken': 1, 'Dominic Cooper': 1}), 'Bart Freundlich': defaultdict(<class 'int'>, {'Kristen Stewart': 1, 'Billy Crudup': 1}), 'William A. Fraker': defaultdict(<class 'int'>, {'Jason Robards': 1}), 'John Boorman': defaultdict(<class 'int'>, {'Daniel Radcliffe': 1, 'Linda Blair': 1, 'Lee Marvin': 1}), 'Courtney Solomon': defaultdict(<class 'int'>, {'Rebecca Budig': 1, 'Sissy Spacek': 1}), 'Jeff Kanew': defaultdict(<class 'int'>, {'Craig T. Nelson': 1}), 'István Szabó': defaultdict(<class 'int'>, {'Miriam Margolyes': 1}), 'Matthew Robbins': defaultdict(<class 'int'>, {'Ian McDiarmid': 1}), 'Hal Needham': defaultdict(<class 'int'>, {'Barry Bostwick': 1}), 'Jeff Nichols': defaultdict(<class 'int'>, {'Kirsten Dunst': 1, 'Matthew McConaughey': 1, 'Katy Mixon': 1, 'Michael Abbott Jr.': 1}), 'Jonathan Teplitzky': defaultdict(<class 'int'>, {'Jeremy Irvine': 1}), 'Michael Haneke': defaultdict(<class 'int'>, {'Ulrich Tukur': 1, 'Naomi Watts': 1, 'Isabelle Huppert': 1}), 'Zack Ward': defaultdict(<class 'int'>, {'Zack Ward': 1}), 'Mike Marvin': defaultdict(<class 'int'>, {'Clint Howard': 1}), 'Gregor Jordan': defaultdict(<class 'int'>, {'Austin Nichols': 1, 'Dean Stockwell': 1}), 'Tran Anh Hung': defaultdict(<class 'int'>, {'Takuya Kimura': 1}), 'Lance Hool': defaultdict(<class 'int'>, {'Tom Berenger': 1}), 'Christian Volckman': defaultdict(<class 'int'>, {'Romola Garai': 1}), 'Rodrigo Cortés': defaultdict(<class 'int'>, {'Robert De Niro': 1, 'Ryan Reynolds': 1}), 'David Hayter': defaultdict(<class 'int'>, {'Jason Momoa': 1}), 'Cory Edwards': defaultdict(<class 'int'>, {'Anne Hathaway': 1}), 'Terry George': defaultdict(<class 'int'>, {'Don Cheadle': 1}), 'Xavier Gens': defaultdict(<class 'int'>, {'Henry Ian Cusick': 1, 'Michael Biehn': 1}), 'Kasi Lemmons': defaultdict(<class 'int'>, {'Jennifer Hudson': 1, 'Colm Feore': 1, 'Jurnee Smollett-Bell': 1}), 'Brian A Miller': defaultdict(<class 'int'>, {'Bruce Willis': 1}), 'Matt Dillon': defaultdict(<class 'int'>, {'Kirk Fox': 1}), 'George Cukor': defaultdict(<class 'int'>, {'Jeremy Brett': 1}), 'John Hoffman': defaultdict(<class 'int'>, {'Liam Aiken': 1}), 'Kevin Greutert': defaultdict(<class 'int'>, {'Costas Mandylor': 2}), 'John Fortenberry': defaultdict(<class 'int'>, {'Will Ferrell': 1}), 'Erik White': defaultdict(<class 'int'>, {'Brandon T. Jackson': 1}), 'Chris Robinson': defaultdict(<class 'int'>, {'T.I.': 1}), 'Jason Moore': defaultdict(<class 'int'>, {'Anna Kendrick': 1}), 'Robert Harmon': defaultdict(<class 'int'>, {'Alexander Gould': 1, 'Kieran Culkin': 1}), 'Trent Cooper': defaultdict(<class 'int'>, {'Thomas F. Wilson': 1}), 'Gary Halvorson': defaultdict(<class 'int'>, {'Vanessa Williams': 1}), 'Nicholas Ray': defaultdict(<class 'int'>, {'Ava Gardner': 1}), 'Fede Alvarez': defaultdict(<class 'int'>, {'Lou Taylor Pucci': 1}), 'Sidney J. Furie': defaultdict(<class 'int'>, {'Jim Broadbent': 1}), 'Ian Iqbal Rashid': defaultdict(<class 'int'>, {'DeRay Davis': 1}), 'Wayne Kramer': defaultdict(<class 'int'>, {'Paul Walker': 1, 'Estella Warren': 1}), 'Rowdy Herrington': defaultdict(<class 'int'>, {'Aidan Quinn': 1, 'Ben Gazzara': 1}), 'Jim Goddard': defaultdict(<class 'int'>, {'Victor Wong': 1}), 'Noel Marshall': defaultdict(<class 'int'>, {'Tippi Hedren': 1}), 'Andrea Di Stefano': defaultdict(<class 'int'>, {'Josh Hutcherson': 1}), 'Guillaume Ivernel': defaultdict(<class 'int'>, {'Rob Paulsen': 1}), 'Jack Smight': defaultdict(<class 'int'>, {'George Peppard': 1, 'Janet Leigh': 1}), 'Todd Lincoln': defaultdict(<class 'int'>, {'Julianna Guill': 1}), 'Howard Zieff': defaultdict(<class 'int'>, {'Macaulay Culkin': 1, 'Eileen Brennan': 1}), 'Steven Shainberg': defaultdict(<class 'int'>, {'Robert Downey Jr.': 1, 'Jeremy Davies': 1}), 'Julian Jarrold': defaultdict(<class 'int'>, {'Anne Hathaway': 1, 'Andrew Garfield': 1}), 'Joe Nussbaum': defaultdict(<class 'int'>, {'Danny Strong': 1, 'Steve Carell': 1, 'Cameron Monaghan': 1}), 'Vadim Perelman': defaultdict(<class 'int'>, {'Frances Fisher': 1, 'Eva Amurri Martino': 1}), 'Peter Farrelly': defaultdict(<class 'int'>, {'Lauren Holly': 1}), 'Michel Hazanavicius': defaultdict(<class 'int'>, {'Bérénice Bejo': 1}), 'Cyrus Nowrasteh': defaultdict(<class 'int'>, {'Clive Russell': 1}), 'Perry Andelin Blake': defaultdict(<class 'int'>, {'Jennifer Esposito': 1}), 'Christian E. Christiansen': defaultdict(<class 'int'>, {'Leighton Meester': 1}), 'Sheldon Lettich': defaultdict(<class 'int'>, {'Bolo Yeung': 1, 'Antoni Corone': 1}), 'Diane English': defaultdict(<class 'int'>, {'Jada Pinkett Smith': 1}), 'Peter Flinth': defaultdict(<class 'int'>, {'Gustaf Skarsgård': 1}), 'Robert Iscove': defaultdict(<class 'int'>, {'Alyson Hannigan': 1, 'Anika Noni Rose': 1, 'Paul Walker': 1}), 'Peter Kosminsky': defaultdict(<class 'int'>, {'Patrick Fugit': 1}), 'Nick Gomez': defaultdict(<class 'int'>, {'Will Ferrell': 1}), 'Allen Coulter': defaultdict(<class 'int'>, {'Robert Pattinson': 1}), 'Clare Kilner': defaultdict(<class 'int'>, {'Dylan Baker': 1, 'Jack Davenport': 1}), 'Josef Rusnak': defaultdict(<class 'int'>, {'Gretchen Mol': 1}), 'Lance Rivera': defaultdict(<class 'int'>, {'Farrah Fawcett': 1}), 'Ronald Neame': defaultdict(<class 'int'>, {'Martin Landau': 1}), 'Bruce Paltrow': defaultdict(<class 'int'>, {'Lochlyn Munro': 1}), 'Adam Rifkin': defaultdict(<class 'int'>, {'Natasha Lyonne': 1, 'Marri Savinar': 1}), 'Susanne Bier': defaultdict(<class 'int'>, {'Alison Lohman': 1}), 'Kenneth Johnson': defaultdict(<class 'int'>, {'Charles Napier': 1}), 'James Ivory': defaultdict(<class 'int'>, {'Vanessa Redgrave': 1, 'Anthony Hopkins': 2, 'Seth Gilliam': 1, 'Alexandra Maria Lara': 1, 'Julian Sands': 1, 'Rupert Graves': 1}), 'Jessy Terrero': defaultdict(<class 'int'>, {\"Mo'Nique\": 1}), 'Dany Boon': defaultdict(<class 'int'>, {'Dany Boon': 1}), 'Vicente Amorim': defaultdict(<class 'int'>, {'Viggo Mortensen': 1}), 'Gaspar Noé': defaultdict(<class 'int'>, {'Paz de la Huerta': 1, 'Philippe Nahon': 1}), 'Jérôme Salle': defaultdict(<class 'int'>, {'Orlando Bloom': 1}), 'Tommy Lee Jones': defaultdict(<class 'int'>, {'Barry Corbin': 1, 'Levon Helm': 1}), 'Jesse Vaughan': defaultdict(<class 'int'>, {'Vivica A. Fox': 1}), 'William Bindley': defaultdict(<class 'int'>, {'Bruce Dern': 1}), 'Wayne Beach': defaultdict(<class 'int'>, {'Mekhi Phifer': 1}), 'Gérard Krawczyk': defaultdict(<class 'int'>, {'Carole Bouquet': 1}), 'Udayan Prasad': defaultdict(<class 'int'>, {'Kristen Stewart': 1}), 'JK Youn': defaultdict(<class 'int'>, {'Nicole Dionne': 1}), 'Morten Tyldum': defaultdict(<class 'int'>, {'Benedict Cumberbatch': 1, 'Aksel Hennie': 1}), 'Andrés Muschietti': defaultdict(<class 'int'>, {'Javier Botet': 1}), 'Gillian Armstrong': defaultdict(<class 'int'>, {'Christian Bale': 1, 'Tom Wilkinson': 1}), 'James Watkins': defaultdict(<class 'int'>, {'Daniel Radcliffe': 1, 'Michael Fassbender': 1}), 'Jim Fall': defaultdict(<class 'int'>, {'Clayton Snyder': 1}), 'Ric Roman Waugh': defaultdict(<class 'int'>, {'Dwayne Johnson': 1}), 'Michael Dougherty': defaultdict(<class 'int'>, {'Adam Scott': 1}), 'Joel Gallen': defaultdict(<class 'int'>, {'Chris Evans': 1}), 'James Marsh': defaultdict(<class 'int'>, {'Eddie Redmayne': 1, 'Paul McGill': 1}), 'Matt Williams': defaultdict(<class 'int'>, {'Natalie Portman': 1}), 'Rob Zombie': defaultdict(<class 'int'>, {'Scout Taylor-Compton': 1, 'Sid Haig': 3}), 'Dennis Iliadis': defaultdict(<class 'int'>, {'Tony Goldwyn': 1}), 'Rick Rosenthal': defaultdict(<class 'int'>, {'Jamie Lee Curtis': 1}), 'Denzel Washington': defaultdict(<class 'int'>, {'Denzel Washington': 2}), 'Nicolas Winding Refn': defaultdict(<class 'int'>, {'Ryan Gosling': 2, 'Keanu Reeves': 1, 'Tom Hardy': 1}), 'Sara Sugarman': defaultdict(<class 'int'>, {'Adam Garcia': 1}), 'Juan Carlos Fresnadillo': defaultdict(<class 'int'>, {'Jeremy Renner': 1}), 'Gina Prince-Bythewood': defaultdict(<class 'int'>, {'Alfre Woodard': 1, 'Nate Parker': 1, 'Minnie Driver': 1}), 'Phil Traill': defaultdict(<class 'int'>, {'Bradley Cooper': 1}), 'Joe Berlinger': defaultdict(<class 'int'>, {'Kim Director': 1}), 'Elizabeth Allen Rosenbaum': defaultdict(<class 'int'>, {'Sierra McCormick': 1, 'Tammin Sursok': 1}), 'Michael Mayer': defaultdict(<class 'int'>, {'Alison Lohman': 1, 'Robin Wright': 1}), 'Martin Weisz': defaultdict(<class 'int'>, {'Jeff Kober': 1}), 'John Ottman': defaultdict(<class 'int'>, {'Loretta Devine': 1}), 'John Bonito': defaultdict(<class 'int'>, {'Kelly Carlson': 1}), 'Peter Atencio': defaultdict(<class 'int'>, {'Nia Long': 1}), 'David Nutter': defaultdict(<class 'int'>, {'Bruce Greenwood': 1}), 'Derek Cianfrance': defaultdict(<class 'int'>, {'Ryan Gosling': 2}), 'Stephan Elliott': defaultdict(<class 'int'>, {'Jason Priestley': 1, 'Colin Firth': 1}), 'Mark L. Lester': defaultdict(<class 'int'>, {'Heather Locklear': 1, 'Bill Duke': 1, 'Cary-Hiroyuki Tagawa': 1, 'Roddy McDowall': 1}), 'Tom Green': defaultdict(<class 'int'>, {'Rip Torn': 1}), 'Mike Nawrocki': defaultdict(<class 'int'>, {'Yuri Lowenthal': 1, 'Phil Vischer': 1}), 'Catherine Owens': defaultdict(<class 'int'>, {'Bono': 1}), 'Douglas Aarniokoski': defaultdict(<class 'int'>, {'Christopher Lambert': 1, 'Boris Kodjoe': 1}), 'Bryan Barber': defaultdict(<class 'int'>, {'Cicely Tyson': 1}), 'Lone Scherfig': defaultdict(<class 'int'>, {'Anne Hathaway': 1, 'Dominic Cooper': 1}), 'Drew Barrymore': defaultdict(<class 'int'>, {'Daniel Stern': 1}), 'Brian Koppelman': defaultdict(<class 'int'>, {'Vin Diesel': 1, 'Jenna Fischer': 1}), 'James Foley': defaultdict(<class 'int'>, {'Louis Lombardi': 1, 'Kevin Spacey': 1, 'Byron Mann': 1}), 'Albert Brooks': defaultdict(<class 'int'>, {'Jeff Bridges': 1}), 'Steve Gomer': defaultdict(<class 'int'>, {'Trevor Morgan': 1}), 'RZA': defaultdict(<class 'int'>, {'Rick Yune': 1}), 'Mark Piznarski': defaultdict(<class 'int'>, {'Bruce Greenwood': 1}), 'Craig Brewer': defaultdict(<class 'int'>, {'Justin Timberlake': 1, 'Isaac Hayes': 1}), 'David Raynr': defaultdict(<class 'int'>, {'James Franco': 1, \"Nancy O'Dell\": 1, 'Donald Faison': 1}), 'Mort Nathan': defaultdict(<class 'int'>, {'Vivica A. Fox': 1}), 'Dan Curtis': defaultdict(<class 'int'>, {'Jennifer Jason Leigh': 1}), 'Wil Shriner': defaultdict(<class 'int'>, {'Logan Lerman': 1}), 'Martin McDonagh': defaultdict(<class 'int'>, {'Elizabeth Berrington': 1, 'Abbie Cornish': 1}), 'Tina Gordon Chism': defaultdict(<class 'int'>, {'Tyler James Williams': 1}), 'Peter Cattaneo': defaultdict(<class 'int'>, {'Emma Stone': 1, 'Jacqueline McKenzie': 1, 'James Nesbitt': 1, 'Tom Wilkinson': 1}), 'Vicky Jenson': defaultdict(<class 'int'>, {'J.K. Simmons': 1}), 'Mary Lambert': defaultdict(<class 'int'>, {'Matthew Settle': 1, 'Miko Hughes': 1}), 'Peter Kassovitz': defaultdict(<class 'int'>, {'Robin Williams': 1}), 'Rodman Flender': defaultdict(<class 'int'>, {'Vivica A. Fox': 1}), 'Katja von Garnier': defaultdict(<class 'int'>, {'Olivier Martinez': 1}), 'Mark Romanek': defaultdict(<class 'int'>, {'Andrew Garfield': 1, 'Robin Williams': 1}), 'Brad Anderson': defaultdict(<class 'int'>, {'Thomas Kretschmann': 1, 'Michael Imperioli': 1, 'Christian Bale': 1, 'Paul Guilfoyle': 1, 'Philip Seymour Hoffman': 1}), 'Michael Chapman': defaultdict(<class 'int'>, {'Curtis Armstrong': 1}), 'Antonio Banderas': defaultdict(<class 'int'>, {'Meat Loaf': 1}), 'Khalil Sullins': defaultdict(<class 'int'>, {'Thomas Stroppel': 1}), 'Fritz Lang': defaultdict(<class 'int'>, {'Brigitte Helm': 1}), 'Hsiao-Hsien Hou': defaultdict(<class 'int'>, {'Qi Shu': 1}), 'Andrey Zvyagintsev': defaultdict(<class 'int'>, {'Konstantin Lavronenko': 1}), 'Tony Jaa': defaultdict(<class 'int'>, {'Nirut Sirichanya': 1}), 'Ryûhei Kitamura': defaultdict(<class 'int'>, {'Bradley Cooper': 1}), 'Darrell Roodt': defaultdict(<class 'int'>, {'Jennifer Hudson': 1}), 'Dito Montiel': defaultdict(<class 'int'>, {'Channing Tatum': 1}), 'Stefan Ruzowitzky': defaultdict(<class 'int'>, {'Eddie Izzard': 1, 'Charlie Hunnam': 1, 'Benno Fürmann': 1}), 'Jake Paltrow': defaultdict(<class 'int'>, {'Stephen Graham': 1}), 'Juraj Jakubisko': defaultdict(<class 'int'>, {'Anna Friel': 1}), 'Anthony Silverston': defaultdict(<class 'int'>, {'Liam Neeson': 1}), 'Gabe Ibáñez': defaultdict(<class 'int'>, {'Birgitte Hjort Sørensen': 1}), 'Gerry Lively': defaultdict(<class 'int'>, {'Bruce Payne': 1}), 'Daniele Luchetti': defaultdict(<class 'int'>, {'Maximilian Dirr': 1}), 'Tung-Shing Yee': defaultdict(<class 'int'>, {'Bingbing Fan': 1}), 'Julien Temple': defaultdict(<class 'int'>, {'Samantha Morton': 1}), 'Gregory Jacobs': defaultdict(<class 'int'>, {'Matt Bomer': 1}), 'Gilles Paquet-Brenner': defaultdict(<class 'int'>, {'Kristin Scott Thomas': 1}), 'Peter Cousens': defaultdict(<class 'int'>, {'Sharon Leal': 1}), 'Lars von Trier': defaultdict(<class 'int'>, {'Bryce Dallas Howard': 1, 'Catherine Deneuve': 1, 'Alexander Skarsgård': 1}), 'John Blanchard': defaultdict(<class 'int'>, {'Martin Short': 1}), 'John Cornell': defaultdict(<class 'int'>, {'Paul Hogan': 1}), 'Vidhu Vinod Chopra': defaultdict(<class 'int'>, {'María Valverde': 1}), 'Jamie Blanks': defaultdict(<class 'int'>, {'Alicia Witt': 1, 'Marley Shelton': 1}), 'Randal Kleiser': defaultdict(<class 'int'>, {'Seymour Cassel': 1, 'Olivia Newton-John': 1, 'Brooke Shields': 1}), 'Rick Famuyiwa': defaultdict(<class 'int'>, {'America Ferrera': 1, 'Boris Kodjoe': 1, 'Kimberly Elise': 1, 'Omar Epps': 1}), 'Alan Cohn': defaultdict(<class 'int'>, {'Alyson Hannigan': 1}), 'Franco Zeffirelli': defaultdict(<class 'int'>, {'Lily Tomlin': 1}), 'Tom Holland': defaultdict(<class 'int'>, {'Joe Mantegna': 1, 'Catherine Hicks': 1}), 'James Isaac': defaultdict(<class 'int'>, {'Peter Mensah': 1}), 'Emilio Estevez': defaultdict(<class 'int'>, {'Anthony Hopkins': 1}), 'Josh Schwartz': defaultdict(<class 'int'>, {'Thomas McDonell': 1}), 'Julian Schnabel': defaultdict(<class 'int'>, {'Emmanuelle Seigner': 1, 'Gary Oldman': 1}), 'Todd Field': defaultdict(<class 'int'>, {'Kate Winslet': 1, 'Tom Wilkinson': 1}), 'Davis Guggenheim': defaultdict(<class 'int'>, {'Norman Reedus': 1, 'Emma Bell': 1, 'Billy West': 1}), 'Stephen Carpenter': defaultdict(<class 'int'>, {'Melissa Sagemiller': 1}), 'James Fargo': defaultdict(<class 'int'>, {'Christopher Lee': 1}), 'Alain Resnais': defaultdict(<class 'int'>, {'Mathieu Amalric': 1}), 'Chao-Bin Su': defaultdict(<class 'int'>, {'Woo-sung Jung': 1}), 'Kenneth Lonergan': defaultdict(<class 'int'>, {'Matt Damon': 1, 'Matthew Broderick': 1}), 'Bo Zenga': defaultdict(<class 'int'>, {'Steve Howey': 1}), 'Danny Leiner': defaultdict(<class 'int'>, {'Jennifer Garner': 1, 'Ethan Embry': 1}), 'Christopher Cain': defaultdict(<class 'int'>, {'Jack Palance': 1, 'Jon Gries': 1}), 'Theodore Melfi': defaultdict(<class 'int'>, {'Bill Murray': 1}), 'Ed Decter': defaultdict(<class 'int'>, {'Zooey Deschanel': 1}), 'Gene Quintano': defaultdict(<class 'int'>, {'Jon Lovitz': 1}), 'Eric Bress': defaultdict(<class 'int'>, {'Logan Lerman': 1}), 'Preston A. Whitmore II': defaultdict(<class 'int'>, {'Mekhi Phifer': 1, 'Wesley Jonathan': 1}), 'Kirk Wong': defaultdict(<class 'int'>, {'Bokeem Woodbine': 1}), 'Bronwen Hughes': defaultdict(<class 'int'>, {'Gregory Smith': 1}), 'John Lafia': defaultdict(<class 'int'>, {'Jenny Agutter': 1}), 'Sam Miller': defaultdict(<class 'int'>, {'Leslie Bibb': 1, 'Rachel Griffiths': 1}), 'Alex Garland': defaultdict(<class 'int'>, {'Elina Alminas': 1}), 'Mark Brown': defaultdict(<class 'int'>, {\"Mo'Nique\": 1, 'Vivica A. Fox': 1}), 'Michael Polish': defaultdict(<class 'int'>, {'J.K. Simmons': 1, 'Hayden Christensen': 1, 'Olivia Rose Keegan': 1, 'Peter Coyote': 1, 'Sasha Alexander': 1}), 'Daisy von Scherler Mayer': defaultdict(<class 'int'>, {'LL Cool J': 1, 'Michael McKean': 1}), 'Lenny Abrahamson': defaultdict(<class 'int'>, {'Joan Allen': 1}), 'Bob Saget': defaultdict(<class 'int'>, {'Don Rickles': 1, 'Alyson Hannigan': 1}), 'John Waters': defaultdict(<class 'int'>, {'Kathleen Turner': 1, 'Alicia Witt': 1, 'Divine': 1}), 'Craig Bolotin': defaultdict(<class 'int'>, {'Rosario Dawson': 1}), 'Mark Christopher': defaultdict(<class 'int'>, {'Salma Hayek': 1}), 'Blair Hayes': defaultdict(<class 'int'>, {'Jake Gyllenhaal': 1}), 'Jez Butterworth': defaultdict(<class 'int'>, {'Mark Gatiss': 1}), 'Olivier Assayas': defaultdict(<class 'int'>, {'Steve Buscemi': 1, 'Maggie Cheung': 1}), 'Patrice Leconte': defaultdict(<class 'int'>, {'Emir Kusturica': 1}), 'Paul Mazursky': defaultdict(<class 'int'>, {'Chazz Palminteri': 1}), 'Stephen Chbosky': defaultdict(<class 'int'>, {'Logan Lerman': 1}), 'Jon Hess': defaultdict(<class 'int'>, {'Burt Young': 1}), 'Joe Cornish': defaultdict(<class 'int'>, {'John Boyega': 1}), 'John H. Lee': defaultdict(<class 'int'>, {'Liam Neeson': 1}), 'John Stainton': defaultdict(<class 'int'>, {'Steve Irwin': 1}), 'Benedek Fliegauf': defaultdict(<class 'int'>, {'Eva Green': 1}), 'Paul Schrader': defaultdict(<class 'int'>, {'Ed Begley Jr.': 2, 'Veronica Ferres': 1, 'Dana Delany': 1, 'Nicolas Cage': 1, 'Nolan Gerard Funk': 1}), 'Stewart Hendler': defaultdict(<class 'int'>, {'Julian Morris': 1}), 'John Cromwell': defaultdict(<class 'int'>, {'David Niven': 1}), 'Mark Herman': defaultdict(<class 'int'>, {'Richard Johnson': 1, 'Jim Broadbent': 1}), 'Abel Ferrara': defaultdict(<class 'int'>, {'Isabella Rossellini': 1}), 'Ethan Maniquis': defaultdict(<class 'int'>, {'Robert De Niro': 1}), 'George Hickenlooper': defaultdict(<class 'int'>, {'Kevin Spacey': 1, 'Hayden Christensen': 1}), 'Je-kyu Kang': defaultdict(<class 'int'>, {'Min-sik Choi': 1}), 'William Dear': defaultdict(<class 'int'>, {'Clifton Collins Jr.': 1, 'Madison Pettis': 1}), 'Stéphane Aubier': defaultdict(<class 'int'>, {'Mackenzie Foy': 1}), 'John Badham': defaultdict(<class 'int'>, {'Matthew Broderick': 1}), 'Mike McCoy': defaultdict(<class 'int'>, {'Alex Veadov': 1}), 'Mike Judge': defaultdict(<class 'int'>, {'Bruce Willis': 1, 'Gary Cole': 1, 'J.K. Simmons': 1, \"Anthony 'Citric' Campos\": 1}), 'Tamra Davis': defaultdict(<class 'int'>, {'Britney Spears': 1, 'Dave Chappelle': 1}), 'Nima Nourizadeh': defaultdict(<class 'int'>, {'Dax Flame': 1}), 'Franklin J. Schaffner': defaultdict(<class 'int'>, {'George C. Scott': 1, 'Laurence Olivier': 1, 'Frank Langella': 1}), 'John Erick Dowdle': defaultdict(<class 'int'>, {'Andrew Fiscella': 1, 'Bojana Novakovic': 1, 'Ben Feldman': 1, 'Sterling Jerins': 1}), 'David Moreau': defaultdict(<class 'int'>, {'Chloë Grace Moretz': 1}), 'Christopher Erskin': defaultdict(<class 'int'>, {'Vanessa Williams': 1}), 'Brian Henson': defaultdict(<class 'int'>, {'Steven Mackintosh': 1}), 'Dan Cutforth': defaultdict(<class 'int'>, {'Lexie Contursi': 1}), 'Josh Boone': defaultdict(<class 'int'>, {'Shailene Woodley': 1}), 'Jake Schreier': defaultdict(<class 'int'>, {'Nat Wolff': 1, 'Frank Langella': 1}), 'Cheryl Dunye': defaultdict(<class 'int'>, {'Michael Imperioli': 1}), 'Ernest R. Dickerson': defaultdict(<class 'int'>, {'CCH Pounder': 1}), 'Lionel C. Martin': defaultdict(<class 'int'>, {'Bernie Mac': 1}), 'Wallace Wolodarsky': defaultdict(<class 'int'>, {'Heather Matarazzo': 1}), 'Nicholas Jarecki': defaultdict(<class 'int'>, {'Nate Parker': 1}), 'Dean Israelite': defaultdict(<class 'int'>, {'Gary Weeks': 1}), 'Darnell Martin': defaultdict(<class 'int'>, {'Cedric the Entertainer': 1}), 'Scott Alexander': defaultdict(<class 'int'>, {'Sarah Silverman': 1}), 'Stuart Gordon': defaultdict(<class 'int'>, {'Christopher Lambert': 1, 'Joe Mantegna': 1}), 'Christopher Guest': defaultdict(<class 'int'>, {'John Michael Higgins': 2, 'Michael McKean': 1, \"Catherine O'Hara\": 1}), 'Jane Campion': defaultdict(<class 'int'>, {'Jennifer Jason Leigh': 1, 'Abbie Cornish': 1, 'Holly Hunter': 1}), 'Fred Schepisi': defaultdict(<class 'int'>, {'Bob Hoskins': 1}), 'Antonia Bird': defaultdict(<class 'int'>, {'Jeremy Davies': 1}), 'Jon Poll': defaultdict(<class 'int'>, {'Robert Downey Jr.': 1}), 'Paolo Sorrentino': defaultdict(<class 'int'>, {'Toni Servillo': 1}), 'Peter Care': defaultdict(<class 'int'>, {'Kieran Culkin': 1}), 'Chan-wook Park': defaultdict(<class 'int'>, {'Mia Wasikowska': 1, 'Min-sik Choi': 2}), 'Ira Sachs': defaultdict(<class 'int'>, {'David Richmond-Peck': 1, 'Rip Torn': 1}), 'Carroll Ballard': defaultdict(<class 'int'>, {'Eamonn Walker': 1, 'Teri Garr': 1}), 'Takeshi Kitano': defaultdict(<class 'int'>, {'Omar Epps': 1}), 'Marco Kreuzpaintner': defaultdict(<class 'int'>, {'Zack Ward': 1, 'Alicja Bachleda': 1}), 'Lajos Koltai': defaultdict(<class 'int'>, {'Marcell Nagy': 1}), 'Alan Rudolph': defaultdict(<class 'int'>, {'Bruce Willis': 1}), 'Chuan Lu': defaultdict(<class 'int'>, {'Ye Liu': 1}), 'Lijun Sun': defaultdict(<class 'int'>, {'Jon Heder': 1}), 'Takashi Yamazaki': defaultdict(<class 'int'>, {'Takuya Kimura': 1}), 'Christopher Smith': defaultdict(<class 'int'>, {'Rachael Carpani': 1, 'Danny Dyer': 1}), 'Timothy Hines': defaultdict(<class 'int'>, {'Christopher Lambert': 1}), 'David Winters': defaultdict(<class 'int'>, {'Gary Daniels': 1}), 'Akira Kurosawa': defaultdict(<class 'int'>, {'Tatsuo Matsumura': 1, 'Takashi Shimura': 1}), 'Jamie Thraves': defaultdict(<class 'int'>, {'Paddy Considine': 1}), 'Mabel Cheung': defaultdict(<class 'int'>, {'Wei Tang': 1}), 'Dan Mazer': defaultdict(<class 'int'>, {'Robert De Niro': 1}), 'R.J. Cutler': defaultdict(<class 'int'>, {'Chloë Grace Moretz': 1}), 'David S. Ward': defaultdict(<class 'int'>, {'Corbin Bernsen': 1}), 'Rob Pritts': defaultdict(<class 'int'>, {'Vincent Pastore': 1}), 'John Crowley': defaultdict(<class 'int'>, {'Julie Walters': 1}), 'Brendan Malloy': defaultdict(<class 'int'>, {'Lee Majors': 1}), 'Dustin Hoffman': defaultdict(<class 'int'>, {'Luke Newberry': 1}), 'Gregory Poirier': defaultdict(<class 'int'>, {'Shannon Elizabeth': 1}), 'Simon Curtis': defaultdict(<class 'int'>, {'Ryan Reynolds': 1, 'Eddie Redmayne': 1}), 'Dewey Nicks': defaultdict(<class 'int'>, {'Jaime King': 1}), 'Philip Saville': defaultdict(<class 'int'>, {'Henry Ian Cusick': 1}), 'Tim Blake Nelson': defaultdict(<class 'int'>, {'Mekhi Phifer': 1}), 'William A. Graham': defaultdict(<class 'int'>, {'Milla Jovovich': 1}), 'Martin Ritt': defaultdict(<class 'int'>, {'Frank Finlay': 1, 'Patricia Neal': 1}), 'John Turturro': defaultdict(<class 'int'>, {'Kate Winslet': 1, \"Beverly D'Angelo\": 1}), 'Agnieszka Holland': defaultdict(<class 'int'>, {'Phyllida Law': 1}), 'David Hackl': defaultdict(<class 'int'>, {'Julie Benz': 1, 'Scott Glenn': 1}), 'Giuliano Montaldo': defaultdict(<class 'int'>, {'John Cassavetes': 1}), 'Lisa Azuelos': defaultdict(<class 'int'>, {'Nora Dunn': 1}), 'Ray Lawrence': defaultdict(<class 'int'>, {'John Howard': 1}), 'Karan Johar': defaultdict(<class 'int'>, {'Shah Rukh Khan': 2}), 'Ruairi Robinson': defaultdict(<class 'int'>, {'Romola Garai': 1}), 'Jaume Balagueró': defaultdict(<class 'int'>, {'Lena Olin': 1, 'Jonathan D. Mellor': 1, 'Luis Tosar': 1, 'Manuela Velasco': 1}), 'Jon Kasdan': defaultdict(<class 'int'>, {'Kristen Stewart': 1}), 'Léa Pool': defaultdict(<class 'int'>, {'William Hurt': 1, '': 1}), 'Floyd Mutrux': defaultdict(<class 'int'>, {'Ricky Schroder': 1}), 'Sajid Khan': defaultdict(<class 'int'>, {'Arjun Rampal': 1}), 'Dean Wright': defaultdict(<class 'int'>, {'Santiago Cabrera': 1}), 'Eric Lartigau': defaultdict(<class 'int'>, {'Karin Viard': 1}), 'Shintaro Shimosawa': defaultdict(<class 'int'>, {'Al Pacino': 1}), 'Darren Lynn Bousman': defaultdict(<class 'int'>, {'Costas Mandylor': 2, 'Alexa PenaVega': 1, 'Emmanuelle Vaugier': 1, 'Paul Sorvino': 1}), 'James DeMonaco': defaultdict(<class 'int'>, {'Frank Grillo': 1, 'Noel Gugliemi': 1, 'Rhys Wakefield': 1}), 'Ken Annakin': defaultdict(<class 'int'>, {'Richard Burton': 1}), 'Carol Reed': defaultdict(<class 'int'>, {'Oliver Reed': 1, 'Gina Lollobrigida': 1}), 'Chuck Sheetz': defaultdict(<class 'int'>, {'Diedrich Bader': 1}), 'Marcus Raboy': defaultdict(<class 'int'>, {'John Witherspoon': 1, 'Mike Epps': 1}), 'Leigh Whannell': defaultdict(<class 'int'>, {'Lin Shaye': 1}), 'Michael Schultz': defaultdict(<class 'int'>, {'Mike Starr': 1, 'Blair Underwood': 1, 'Loretta Devine': 1}), 'Peter Sollett': defaultdict(<class 'int'>, {'Ari Graynor': 1, 'Steve Carell': 1, 'Victor Rasuk': 1}), 'Bob Dolman': defaultdict(<class 'int'>, {'Erika Christensen': 1}), 'Greg Coolidge': defaultdict(<class 'int'>, {'Dane Cook': 1}), 'David Lowery': defaultdict(<class 'int'>, {'Bryce Dallas Howard': 1}), 'Ciarán Foy': defaultdict(<class 'int'>, {'Laila Haley': 1}), 'Salim Akil': defaultdict(<class 'int'>, {'Omari Hardwick': 1, 'Gary Dourdan': 1}), 'Olatunde Osunsanmi': defaultdict(<class 'int'>, {'Milla Jovovich': 1}), 'Leon Ichaso': defaultdict(<class 'int'>, {'Khandi Alexander': 1}), 'Joseph Zito': defaultdict(<class 'int'>, {'Billy Drago': 1, 'Judie Aronson': 1}), 'Patricia Rozema': defaultdict(<class 'int'>, {'Julia Ormond': 1}), 'Rob Schmidt': defaultdict(<class 'int'>, {'Kevin Zegers': 1}), 'Robert Ben Garant': defaultdict(<class 'int'>, {'Wendi McLendon-Covey': 1}), 'Morgan Spurlock': defaultdict(<class 'int'>, {'Harry Styles': 1, 'Quentin Tarantino': 1, 'Chemeeka Walker': 1}), 'Neal Brennan': defaultdict(<class 'int'>, {'Rob Riggle': 1}), 'Tuck Tucker': defaultdict(<class 'int'>, {'Jennifer Jason Leigh': 1}), 'Theodore Witcher': defaultdict(<class 'int'>, {'Leonard Roberts': 1}), 'Joel Edgerton': defaultdict(<class 'int'>, {'Busy Philipps': 1}), 'Jim Hanon': defaultdict(<class 'int'>, {'Chase Ellison': 1}), 'Michael Patrick Jann': defaultdict(<class 'int'>, {'Kirsten Dunst': 1}), 'Jorma Taccone': defaultdict(<class 'int'>, {'Jasper Cole': 1}), 'Jeff Lowell': defaultdict(<class 'int'>, {'Stephen Root': 1}), 'Lorene Scafaria': defaultdict(<class 'int'>, {'Steve Carell': 1}), 'Marcus Dunstan': defaultdict(<class 'int'>, {'Daniel Sharman': 1}), 'Timothy Björklund': defaultdict(<class 'int'>, {'Nathan Lane': 1}), 'François Girard': defaultdict(<class 'int'>, {'Johannes Silberschneider': 1}), 'Scott Kalvert': defaultdict(<class 'int'>, {'Norman Reedus': 1}), 'Jason Bateman': defaultdict(<class 'int'>, {'Beth Grant': 1}), 'David Schwimmer': defaultdict(<class 'int'>, {'Dylan Moran': 1, 'Noah Emmerich': 1}), 'Allan Arkush': defaultdict(<class 'int'>, {'Bernadette Peters': 1}), 'Eric Bross': defaultdict(<class 'int'>, {'Jerry Stiller': 1, 'Teri Polo': 1}), 'Dan Fogelman': defaultdict(<class 'int'>, {'Al Pacino': 1}), 'Jay Duplass': defaultdict(<class 'int'>, {'Judy Greer': 1, 'Matt Walsh': 1, 'Greta Gerwig': 1, 'Mark Duplass': 1}), 'Luca Guadagnino': defaultdict(<class 'int'>, {'Flavio Parenti': 1}), 'John Putch': defaultdict(<class 'int'>, {'Robert Picardo': 1}), 'Peter Medak': defaultdict(<class 'int'>, {'Gary Oldman': 1}), 'Terence Davies': defaultdict(<class 'int'>, {'Eric Stoltz': 1}), 'Harley Cokeliss': defaultdict(<class 'int'>, {'Cliff Robertson': 1}), 'Tom Brady': defaultdict(<class 'int'>, {'Don Johnson': 1}), 'Jason Zada': defaultdict(<class 'int'>, {'Eoin Macken': 1}), 'Noah Baumbach': defaultdict(<class 'int'>, {'Naomi Watts': 1, 'Greta Gerwig': 1, 'William Baldwin': 1}), 'Eric Blakeney': defaultdict(<class 'int'>, {'Liam Neeson': 1}), 'Rakesh Roshan': defaultdict(<class 'int'>, {'Naseeruddin Shah': 1}), 'Derrick Borte': defaultdict(<class 'int'>, {'Demi Moore': 1}), 'Richard Kwietniowski': defaultdict(<class 'int'>, {'Philip Seymour Hoffman': 1, 'Jason Priestley': 1}), 'Bob Odenkirk': defaultdict(<class 'int'>, {'Jenna Fischer': 1, 'Dylan Baker': 1}), 'Joshua Seftel': defaultdict(<class 'int'>, {'Bashar Rahal': 1}), 'Vincent Gallo': defaultdict(<class 'int'>, {'Vincent Gallo': 1, 'Anjelica Huston': 1}), 'Claude Chabrol': defaultdict(<class 'int'>, {'Isabelle Huppert': 1, 'Benoît Magimel': 1}), 'Jon Stewart': defaultdict(<class 'int'>, {'Numan Acar': 1}), 'Bigas Luna': defaultdict(<class 'int'>, {'Olivier Martinez': 1}), 'Ralph Fiennes': defaultdict(<class 'int'>, {'Gerard Butler': 1}), 'Dan Harris': defaultdict(<class 'int'>, {'Kip Pardue': 1}), 'Mel Smith': defaultdict(<class 'int'>, {'Minnie Driver': 1}), 'Bobcat Goldthwait': defaultdict(<class 'int'>, {'Robin Williams': 1}), 'Jake Scott': defaultdict(<class 'int'>, {'Kristen Stewart': 1}), 'Alan Metter': defaultdict(<class 'int'>, {'Christopher Lee': 1}), 'Rafa Lara': defaultdict(<class 'int'>, {'Jorge Luis Moreno': 1}), 'Arthur Hiller': defaultdict(<class 'int'>, {'Eric Idle': 1}), 'Michael Meredith': defaultdict(<class 'int'>, {'Jeff Bridges': 1}), 'Julio DePietro': defaultdict(<class 'int'>, {'Adrian Martinez': 1}), 'Katherine Dieckmann': defaultdict(<class 'int'>, {'Stephanie Szostak': 1}), 'Kim Farrant': defaultdict(<class 'int'>, {'Nicholas Hamilton': 1}), 'Scott Marshall': defaultdict(<class 'int'>, {'Drew Fuller': 1, 'Miranda Cosgrove': 1}), 'Álex de la Iglesia': defaultdict(<class 'int'>, {'Jim Carter': 1}), 'Andrew Traucki': defaultdict(<class 'int'>, {'Damian Walshe-Howling': 1}), 'Michael Clancy': defaultdict(<class 'int'>, {'Zooey Deschanel': 1}), 'Robert Adetuyi': defaultdict(<class 'int'>, {'Shane Pollard': 1}), 'Kari Skogland': defaultdict(<class 'int'>, {'Jim Sturgess': 1}), 'Taedong Park': defaultdict(<class 'int'>, {'Drake Bell': 1}), 'Benedikt Erlingsson': defaultdict(<class 'int'>, {'Ingvar Eggert Sigurðsson': 1}), 'Gurinder Chadha': defaultdict(<class 'int'>, {'Sendhil Ramamurthy': 1, 'Indira Varma': 1, 'Archie Panjabi': 1}), 'Jason Connery': defaultdict(<class 'int'>, {'Ray Winstone': 1}), 'Vic Sarin': defaultdict(<class 'int'>, {'Jimi Mistry': 1, 'Connie Nielsen': 1}), 'Jim Issa': defaultdict(<class 'int'>, {'Elaine Hendrix': 1}), 'William Phillips': defaultdict(<class 'int'>, {'Tyler Mane': 1}), 'Andy Garcia': defaultdict(<class 'int'>, {'Danny Pino': 1}), 'Sarik Andreasyan': defaultdict(<class 'int'>, {'Hayden Christensen': 1}), 'Julian Gilbey': defaultdict(<class 'int'>, {'Mem Ferda': 1, 'Ed Speleers': 1}), 'Gary Sherman': defaultdict(<class 'int'>, {'Tom Skerritt': 1}), 'Valeri Milev': defaultdict(<class 'int'>, {'Daniella Alonso': 1}), 'Stanley Kramer': defaultdict(<class 'int'>, {'Jonathan Winters': 1, 'Maximilian Schell': 1}), 'Pedro Almodóvar': defaultdict(<class 'int'>, {'Carmen Maura': 1}), 'Gerald Potterton': defaultdict(<class 'int'>, {'John Vernon': 1}), 'Anurag Basu': defaultdict(<class 'int'>, {'Bárbara Mori': 1}), 'Kriv Stenders': defaultdict(<class 'int'>, {'Noah Taylor': 1}), 'Yash Chopra': defaultdict(<class 'int'>, {'Shah Rukh Khan': 2}), 'Floria Sigismondi': defaultdict(<class 'int'>, {'Kristen Stewart': 1}), 'Ferzan Ozpetek': defaultdict(<class 'int'>, {'Riccardo Scamarcio': 1}), 'Kris Isacsson': defaultdict(<class 'int'>, {'Rosario Dawson': 1}), 'Ben Younger': defaultdict(<class 'int'>, {'Vin Diesel': 1}), 'Daniel Taplitz': defaultdict(<class 'int'>, {'Jennifer Esposito': 1}), 'Tamara Jenkins': defaultdict(<class 'int'>, {'Philip Seymour Hoffman': 1, 'Natasha Lyonne': 1}), 'Linda Mendoza': defaultdict(<class 'int'>, {'Carlos Ponce': 1}), 'Hart Bochner': defaultdict(<class 'int'>, {'Jon Favreau': 1}), 'Stewart Raffill': defaultdict(<class 'int'>, {'Anjelica Huston': 1, 'Kayla Jackson': 1}), 'Hong-jin Na': defaultdict(<class 'int'>, {'Jung-min Hwang': 1}), 'Chatrichalerm Yukol': defaultdict(<class 'int'>, {'Sarunyu Wongkrachang': 1}), 'Dario Argento': defaultdict(<class 'int'>, {'John Amos': 1}), 'Eric Lavaine': defaultdict(<class 'int'>, {'Lambert Wilson': 1}), 'Marc Forby': defaultdict(<class 'int'>, {\"Q'orianka Kilcher\": 1}), 'Ole Christian Madsen': defaultdict(<class 'int'>, {'Lars Mikkelsen': 1}), 'Meiert Avis': defaultdict(<class 'int'>, {'Fisher Stevens': 1}), 'André Téchiné': defaultdict(<class 'int'>, {'Catherine Deneuve': 1}), 'Emily Young': defaultdict(<class 'int'>, {'Sarah Michelle Gellar': 1}), 'Peter Faiman': defaultdict(<class 'int'>, {'Paul Hogan': 1}), 'Martyn Pick': defaultdict(<class 'int'>, {'Sean Pertwee': 1}), 'Roland Suso Richter': defaultdict(<class 'int'>, {'Stephen Graham': 1}), 'Jeremy Sims': defaultdict(<class 'int'>, {'Harrison Gilbertson': 1}), 'Maïwenn': defaultdict(<class 'int'>, {'Riccardo Scamarcio': 1}), 'Joby Harold': defaultdict(<class 'int'>, {'Hayden Christensen': 1}), 'Ekachai Uekrongtham': defaultdict(<class 'int'>, {'Michael Jai White': 1}), 'Mark Rydell': defaultdict(<class 'int'>, {'David Keith': 1}), 'David E. Talbert': defaultdict(<class 'int'>, {'Djimon Hounsou': 1}), 'Roger Vadim': defaultdict(<class 'int'>, {'Jane Fonda': 1}), 'Nils Gaup': defaultdict(<class 'int'>, {'Bjørn Sundquist': 1}), 'Ari Sandel': defaultdict(<class 'int'>, {'Bella Thorne': 1}), 'Vondie Curtis-Hall': defaultdict(<class 'int'>, {'Mariah Carey': 1}), 'Tom Elkins': defaultdict(<class 'int'>, {'Abigail Spencer': 1}), 'Woo-Suk Kang': defaultdict(<class 'int'>, {'Yu-mi Jeong': 1}), 'John Sayles': defaultdict(<class 'int'>, {'Mary Elizabeth Mastrantonio': 1, 'Miguel Ferrer': 1, 'Matthew McConaughey': 1, 'Brian Lee Franklin': 1}), 'Vipul Amrutlal Shah': defaultdict(<class 'int'>, {'Katrina Kaif': 1}), 'Ken Loach': defaultdict(<class 'int'>, {'Padraic Delaney': 1}), 'Ayan Mukerji': defaultdict(<class 'int'>, {'Ranbir Kapoor': 1}), 'Mervyn LeRoy': defaultdict(<class 'int'>, {'Peter Ustinov': 1}), 'Serdar Akar': defaultdict(<class 'int'>, {'Necati Sasmaz': 1}), 'James Frawley': defaultdict(<class 'int'>, {'Madeline Kahn': 1}), 'Dan Gilroy': defaultdict(<class 'int'>, {'Jake Gyllenhaal': 1}), 'Jonathan Dayton': defaultdict(<class 'int'>, {'Steve Carell': 1}), 'Chris Stokes': defaultdict(<class 'int'>, {'Jennifer Freeman': 1, 'Kristen Quintrall': 1}), 'Don Siegel': defaultdict(<class 'int'>, {'Clint Eastwood': 1}), 'Martin Lawrence': defaultdict(<class 'int'>, {'Faizon Love': 1}), 'Masayuki Ochiai': defaultdict(<class 'int'>, {'James Kyson': 1}), 'Tom Gormican': defaultdict(<class 'int'>, {'Mackenzie Davis': 1}), 'Ken Shapiro': defaultdict(<class 'int'>, {'Brian Doyle-Murray': 1}), 'Justin Tipping': defaultdict(<class 'int'>, {'Tina Gilton': 1}), 'Peter R. Hunt': defaultdict(<class 'int'>, {'Telly Savalas': 1}), 'Doug Atchison': defaultdict(<class 'int'>, {'Curtis Armstrong': 1}), 'Jonas Elmer': defaultdict(<class 'int'>, {'J.K. Simmons': 1}), 'Mary Harron': defaultdict(<class 'int'>, {'Christian Bale': 1}), 'Erik Canuel': defaultdict(<class 'int'>, {'Colm Feore': 1}), 'Troy Duffy': defaultdict(<class 'int'>, {'Norman Reedus': 2}), 'Nicole Holofcener': defaultdict(<class 'int'>, {'Christopher Nicholas Smith': 1, 'Greg Germann': 1, 'Oliver Platt': 1, 'Kevin Corrigan': 1, 'Aunjanue Ellis': 1}), 'Matty Rich': defaultdict(<class 'int'>, {'Jada Pinkett Smith': 1, 'Lawrence Gilliard Jr.': 1}), 'Fina Torres': defaultdict(<class 'int'>, {'Harold Perrineau': 1}), 'Duke Johnson': defaultdict(<class 'int'>, {'Jennifer Jason Leigh': 1}), 'François Ozon': defaultdict(<class 'int'>, {'Catherine Deneuve': 1, 'Charlotte Rampling': 1}), 'Anna Boden': defaultdict(<class 'int'>, {'Zoë Kravitz': 1}), 'Steve James': defaultdict(<class 'int'>, {'Kurtwood Smith': 1, 'William Gates': 1}), 'Michael Winner': defaultdict(<class 'int'>, {'Faye Dunaway': 1}), 'Tomm Moore': defaultdict(<class 'int'>, {'Sean Lennon': 1}), 'John Carney': defaultdict(<class 'int'>, {'James Corden': 1, 'Glen Hansard': 1}), 'David Jacobson': defaultdict(<class 'int'>, {'Hunter Parrish': 1}), 'Michael Corrente': defaultdict(<class 'int'>, {'Jerry Ferrara': 1, 'Jonathan Brandis': 1}), 'Edward Hall': defaultdict(<class 'int'>, {'Rufus Sewell': 1}), 'Keith Gordon': defaultdict(<class 'int'>, {'Robert Downey Jr.': 1}), 'Andrew Currie': defaultdict(<class 'int'>, {'Alexia Fast': 1}), 'Andrew Wilson': defaultdict(<class 'int'>, {'Will Ferrell': 1}), 'Marc Schölermann': defaultdict(<class 'int'>, {'John de Lancie': 1}), 'Robert Moresco': defaultdict(<class 'int'>, {'Brian Dennehy': 1}), 'Thomas Vinterberg': defaultdict(<class 'int'>, {'Michael Angarano': 1, 'Thomas Bo Larsen': 1, 'Ulrich Thomsen': 1}), 'Claudia Llosa': defaultdict(<class 'int'>, {'Ian Tracey': 1}), 'Charles Binamé': defaultdict(<class 'int'>, {'Stephen McHattie': 1}), 'Keith Parmer': defaultdict(<class 'int'>, {'Rachel Ann Mullins': 1}), 'Ol Parker': defaultdict(<class 'int'>, {'Celia Imrie': 1, 'Jeremy Irvine': 1}), 'James Nunn': defaultdict(<class 'int'>, {'Spencer Wilding': 1}), 'David Webb Peoples': defaultdict(<class 'int'>, {'Delroy Lindo': 1}), 'Michael Winnick': defaultdict(<class 'int'>, {'Scott Takeda': 1}), 'Stanley Tong': defaultdict(<class 'int'>, {'Françoise Yip': 1}), 'David Oelhoffen': defaultdict(<class 'int'>, {'Viggo Mortensen': 1}), 'Eli Roth': defaultdict(<class 'int'>, {'Jay Hernandez': 2, 'Daryl Sabara': 1}), 'Tony Richardson': defaultdict(<class 'int'>, {'Joely Richardson': 1, 'Albert Finney': 1}), 'Charles Robert Carner': defaultdict(<class 'int'>, {'Ivana Milicevic': 1}), 'Russell Holt': defaultdict(<class 'int'>, {'Eric Johnson': 1}), 'Claude Miller': defaultdict(<class 'int'>, {'Sandrine Kiberlain': 1}), 'Sacha Bennett': defaultdict(<class 'int'>, {'Bob Hoskins': 1}), 'Rodrigo García': defaultdict(<class 'int'>, {'Mia Wasikowska': 1, 'Naomi Watts': 1}), 'Jeta Amata': defaultdict(<class 'int'>, {'Akon': 1}), 'Siddharth Anand': defaultdict(<class 'int'>, {'Saif Ali Khan': 1}), 'Vincent Paronnaud': defaultdict(<class 'int'>, {'Catherine Deneuve': 1}), 'Dennis Gansel': defaultdict(<class 'int'>, {'Max Riemelt': 1}), 'Daniel Barber': defaultdict(<class 'int'>, {'Joseph Gilgun': 1}), 'Robert Marcarelli': defaultdict(<class 'int'>, {'George Coe': 1}), 'Ernie Barbarash': defaultdict(<class 'int'>, {'Darren Shahlavi': 1, 'Michael Jai White': 1}), 'Guy Hamilton': defaultdict(<class 'int'>, {'Desmond Llewelyn': 1, 'Yaphet Kotto': 1, 'Christopher Lee': 1, 'Harrison Ford': 1, 'Honor Blackman': 1, 'Oliver Reed': 1}), 'Adam Brooks': defaultdict(<class 'int'>, {'Ryan Reynolds': 1}), 'Michael Anderson': defaultdict(<class 'int'>, {'Farrah Fawcett': 1}), 'Don Kempf': defaultdict(<class 'int'>, {'Bill Murray': 1}), 'Matt Bettinelli-Olpin': defaultdict(<class 'int'>, {'Zach Gilford': 1}), 'Sharron Miller': defaultdict(<class 'int'>, {'Bernard Fox': 1}), 'Aaron Schneider': defaultdict(<class 'int'>, {'Bill Murray': 1}), 'Tom Ford': defaultdict(<class 'int'>, {'Colin Firth': 1}), 'Tony Maylam': defaultdict(<class 'int'>, {'Michael J. Pollard': 1}), 'Mitch Davis': defaultdict(<class 'int'>, {'Anne Hathaway': 1, 'Gary Cole': 1}), 'Kevin Brodie': defaultdict(<class 'int'>, {'Bruce McGill': 1}), 'Lynne Ramsay': defaultdict(<class 'int'>, {'Ezra Miller': 1, 'Samantha Morton': 1}), 'John Stephenson': defaultdict(<class 'int'>, {'Samantha Barks': 1}), 'Tim Chambers': defaultdict(<class 'int'>, {'Ellen Burstyn': 1}), 'Dick Richards': defaultdict(<class 'int'>, {'Catherine Deneuve': 1}), 'Bob Gosse': defaultdict(<class 'int'>, {'Geoff Stults': 1}), 'Alex Zamm': defaultdict(<class 'int'>, {'Taylor Negron': 1}), 'Spencer Susser': defaultdict(<class 'int'>, {'Joseph Gordon-Levitt': 1}), \"Thaddeus O'Sullivan\": defaultdict(<class 'int'>, {'Olivia Williams': 1}), 'Shari Springer Berman': defaultdict(<class 'int'>, {'Lynn Cohen': 1, 'Josh Hutcherson': 1}), 'Aleksey German': defaultdict(<class 'int'>, {'Leonid Yarmolnik': 1}), 'Stephen Milburn Anderson': defaultdict(<class 'int'>, {'Chris Hemsworth': 1}), 'Richard E. Grant': defaultdict(<class 'int'>, {'Emily Watson': 1}), 'David Lam': defaultdict(<class 'int'>, {'Michael Wong': 1}), 'Vladlen Barbe': defaultdict(<class 'int'>, {'Erin Fitzgerald': 1}), 'Richard Rich': defaultdict(<class 'int'>, {'Debi Derryberry': 1}), 'Robert C. Cooper': defaultdict(<class 'int'>, {'Ben Browder': 1}), 'Kim Nguyen': defaultdict(<class 'int'>, {'Gordon Pinsent': 1}), 'Jackie Earle Haley': defaultdict(<class 'int'>, {'Rex Baker': 1}), 'Max Färberböck': defaultdict(<class 'int'>, {'Heike Makatsch': 1}), 'Arie Posin': defaultdict(<class 'int'>, {'Rory Culkin': 1}), 'Damian Nieman': defaultdict(<class 'int'>, {'Glenn Plummer': 1}), 'Mark Tonderai': defaultdict(<class 'int'>, {'Jennifer Lawrence': 1}), 'Ian Fitzgibbon': defaultdict(<class 'int'>, {'Jim Broadbent': 1}), 'Rachel Perkins': defaultdict(<class 'int'>, {'Deborah Mailman': 1}), 'Luis Valdez': defaultdict(<class 'int'>, {'Esai Morales': 1}), 'Alan Alda': defaultdict(<class 'int'>, {'Rita Moreno': 1}), 'Louis Morneau': defaultdict(<class 'int'>, {'Leon': 1}), 'Caroline Link': defaultdict(<class 'int'>, {'Merab Ninidze': 1}), 'Sterling Van Wagenen': defaultdict(<class 'int'>, {'Emily Podleski': 1}), 'Zal Batmanglij': defaultdict(<class 'int'>, {'Alexander Skarsgård': 1, 'Christopher Denham': 1}), 'Hans Petter Moland': defaultdict(<class 'int'>, {'Charlotte Rampling': 1}), 'Oren Moverman': defaultdict(<class 'int'>, {'Steve Buscemi': 1}), 'Ian Sharp': defaultdict(<class 'int'>, {'Ray Winstone': 1}), 'Wolfgang Becker': defaultdict(<class 'int'>, {'Florian Lukas': 1}), \"Dan O'Bannon\": defaultdict(<class 'int'>, {'Linnea Quigley': 1}), 'George Roy Hill': defaultdict(<class 'int'>, {'Katharine Ross': 1, 'Eileen Brennan': 1}), 'Robert Stevenson': defaultdict(<class 'int'>, {'Ed Wynn': 1}), 'Jerome Robbins': defaultdict(<class 'int'>, {'Rita Moreno': 1}), 'Gary Hardwick': defaultdict(<class 'int'>, {'Julie Benz': 1}), 'King Vidor': defaultdict(<class 'int'>, {'Joseph Cotten': 1, 'Gina Lollobrigida': 1, 'John Gilbert': 1}), 'Fred Savage': defaultdict(<class 'int'>, {'Lochlyn Munro': 1}), 'Sammo Kam-Bo Hung': defaultdict(<class 'int'>, {'Sammo Kam-Bo Hung': 1}), 'Rusty Cundieff': defaultdict(<class 'int'>, {'Corbin Bernsen': 1}), 'Dominique Othenin-Girard': defaultdict(<class 'int'>, {'Donald Pleasence': 1}), 'Jean-Jacques Mantello': defaultdict(<class 'int'>, {'Charlotte Rampling': 1}), 'Risa Bramon Garcia': defaultdict(<class 'int'>, {'Janeane Garofalo': 1}), 'Brian Klugman': defaultdict(<class 'int'>, {'J.K. Simmons': 1}), 'Matt Piedmont': defaultdict(<class 'int'>, {'Will Ferrell': 1}), 'Raymond De Felitta': defaultdict(<class 'int'>, {'Ezra Miller': 1}), 'John Michael McDonagh': defaultdict(<class 'int'>, {'Don Cheadle': 1}), 'Deb Hagan': defaultdict(<class 'int'>, {'Drake Bell': 1}), 'Zach Cregger': defaultdict(<class 'int'>, {'Hugh M. Hefner': 1}), 'Zach Braff': defaultdict(<class 'int'>, {'Jim Parsons': 1, 'Armando Riesco': 1}), 'Mark Tarlov': defaultdict(<class 'int'>, {'Sarah Michelle Gellar': 1}), 'John Cameron Mitchell': defaultdict(<class 'int'>, {'John Cameron Mitchell': 1, 'Dianne Wiest': 1, 'Sook-Yin Lee': 1}), 'Jon Knautz': defaultdict(<class 'int'>, {'Rachel Alig': 1, 'Rachel Skarsten': 1, 'Camren Bicondova': 1}), 'David Atkins': defaultdict(<class 'int'>, {'Chelcie Ross': 1}), 'Patrick Stettner': defaultdict(<class 'int'>, {'Stockard Channing': 1, 'Robin Williams': 1}), 'Sam Peckinpah': defaultdict(<class 'int'>, {'William Holden': 1, 'James Coburn': 2, 'Slim Pickens': 1}), 'Michael Crichton': defaultdict(<class 'int'>, {'Lesley-Anne Down': 1}), 'Sylvio Tabet': defaultdict(<class 'int'>, {'Michael Berryman': 1}), 'Rick Bieber': defaultdict(<class 'int'>, {'Aidan Quinn': 1}), 'Joey Lauren Adams': defaultdict(<class 'int'>, {'Tim Blake Nelson': 1}), 'Fred Zinnemann': defaultdict(<class 'int'>, {'Meryl Streep': 1, 'Robert Shaw': 1, 'Colleen Dewhurst': 1, 'Montgomery Clift': 1, 'Gary Cooper': 1}), 'S.R. Bindler': defaultdict(<class 'int'>, {'Matthew McConaughey': 1}), 'Greg Marcks': defaultdict(<class 'int'>, {'Henry Thomas': 1}), 'Perry Lang': defaultdict(<class 'int'>, {'Catherine Bell': 1}), 'Jake Goldberger': defaultdict(<class 'int'>, {'Pruitt Taylor Vince': 1}), 'William Kaufman': defaultdict(<class 'int'>, {'Drew Waters': 1, 'Paul McGillion': 1}), 'Cédric Klapisch': defaultdict(<class 'int'>, {'Romain Duris': 1, 'Simon Abkarian': 1}), 'Kate Barker-Froyland': defaultdict(<class 'int'>, {'Anne Hathaway': 1}), 'Martin Koolhoven': defaultdict(<class 'int'>, {'Yorick van Wageningen': 1}), 'Charles Matthau': defaultdict(<class 'int'>, {'Billy Burke': 1}), 'Christopher M. Bessette': defaultdict(<class 'int'>, {'Mira Sorvino': 1}), 'Prachya Pinkaew': defaultdict(<class 'int'>, {'Jon Foo': 1}), 'Gary Sinyor': defaultdict(<class 'int'>, {'Sean Pertwee': 1}), 'Ashish R. Mohan': defaultdict(<class 'int'>, {'Asin': 1}), 'Darren Grant': defaultdict(<class 'int'>, {'Cicely Tyson': 1}), 'Joseph Gordon-Levitt': defaultdict(<class 'int'>, {'Joseph Gordon-Levitt': 1}), 'William Sachs': defaultdict(<class 'int'>, {'Stephen Macht': 1}), 'Christophe Barratier': defaultdict(<class 'int'>, {'Jean-Baptiste Maunier': 1}), 'Émile Gaudreault': defaultdict(<class 'int'>, {'Paul Sorvino': 1}), 'James Cox': defaultdict(<class 'int'>, {'Alexis Dziena': 1, 'Jake Gyllenhaal': 1, 'Jon Mack': 1}), 'James Toback': defaultdict(<class 'int'>, {'Sarah Michelle Gellar': 1, 'Robert Downey Jr.': 1}), 'Aki Kaurismäki': defaultdict(<class 'int'>, {'Jean-Pierre Léaud': 1}), 'Hitoshi Matsumoto': defaultdict(<class 'int'>, {'Lindsay Kay Hayward': 1}), 'Rakeysh Omprakash Mehra': defaultdict(<class 'int'>, {'Anupam Kher': 1}), 'Collin Schiffli': defaultdict(<class 'int'>, {'Kim Shaw': 1}), 'George Ratliff': defaultdict(<class 'int'>, {'Jim Gaffigan': 1}), 'Shane Meadows': defaultdict(<class 'int'>, {'Bob Hoskins': 2, 'Stephen Graham': 1, 'Paddy Considine': 1}), 'Jon Wright': defaultdict(<class 'int'>, {'Russell Tovey': 1}), 'Michael McGowan': defaultdict(<class 'int'>, {'Campbell Scott': 1}), 'Liv Ullmann': defaultdict(<class 'int'>, {'Samantha Morton': 1}), 'Rohan Sippy': defaultdict(<class 'int'>, {'Abhishek Bachchan': 1}), 'Dan Trachtenberg': defaultdict(<class 'int'>, {'Bradley Cooper': 1}), 'David F. Sandberg': defaultdict(<class 'int'>, {'Billy Burke': 1}), 'Stiles White': defaultdict(<class 'int'>, {'Lin Shaye': 1}), 'Eugenio Derbez': defaultdict(<class 'int'>, {'Eugenio Derbez': 1}), 'Henry Koster': defaultdict(<class 'int'>, {'Richard Burton': 1}), 'Patty Jenkins': defaultdict(<class 'int'>, {'Charlize Theron': 1}), 'Christopher Landon': defaultdict(<class 'int'>, {'Richard Cabral': 1}), 'David Gelb': defaultdict(<class 'int'>, {'Olivia Wilde': 1}), 'Mike Flanagan': defaultdict(<class 'int'>, {'James Lafferty': 1, 'Justin Gordon': 1}), 'Nat Faxon': defaultdict(<class 'int'>, {'Steve Carell': 1}), 'George Jackson': defaultdict(<class 'int'>, {'William Schallert': 1}), 'Maurice Joyce': defaultdict(<class 'int'>, {'Frank Welker': 1}), 'Robert Duvall': defaultdict(<class 'int'>, {'John Beasley': 1}), 'Frank Perry': defaultdict(<class 'int'>, {'Faye Dunaway': 1}), 'Jesse Peretz': defaultdict(<class 'int'>, {'Zooey Deschanel': 1, 'Robert John Burke': 1}), 'Ice Cube': defaultdict(<class 'int'>, {'Bernie Mac': 1}), 'Richard Glatzer': defaultdict(<class 'int'>, {'Kristen Stewart': 1, 'Emily Rios': 1}), 'Michael Curtiz': defaultdict(<class 'int'>, {'Gene Tierney': 1, 'Errol Flynn': 1, 'Humphrey Bogart': 1}), 'Bruce Malmuth': defaultdict(<class 'int'>, {'Sylvester Stallone': 1}), 'Rob Hedden': defaultdict(<class 'int'>, {'Kane Hodder': 1}), 'Harmony Korine': defaultdict(<class 'int'>, {'James Franco': 1}), 'Joe Chappelle': defaultdict(<class 'int'>, {'Donald Pleasence': 1}), 'Mickey Liddell': defaultdict(<class 'int'>, {'Jessica Lowndes': 1}), 'Fred Walton': defaultdict(<class 'int'>, {'Thomas F. Wilson': 1}), 'Steve Carver': defaultdict(<class 'int'>, {'David Carradine': 1}), 'Gonzalo López-Gallego': defaultdict(<class 'int'>, {'Warren Christie': 1}), 'Christine Jeffs': defaultdict(<class 'int'>, {'Clifton Collins Jr.': 1}), 'Don Coscarelli': defaultdict(<class 'int'>, {'Vanna Bonta': 1, 'Angus Scrimm': 1, 'Daniel Roebuck': 1}), 'Michael Tiddes': defaultdict(<class 'int'>, {'Fred Willard': 1, 'Ashley Rickards': 1, 'Essence Atkins': 1}), 'Bill Duke': defaultdict(<class 'int'>, {'Eddie Cibrian': 1}), 'Frank Borzage': defaultdict(<class 'int'>, {'Gary Cooper': 1}), 'Mamoru Hosoda': defaultdict(<class 'int'>, {'Lara Jill Miller': 1}), 'Brian Dannelly': defaultdict(<class 'int'>, {'Macaulay Culkin': 1}), 'Denys Arcand': defaultdict(<class 'int'>, {'Marie-Josée Croze': 1}), 'J.S. Cardone': defaultdict(<class 'int'>, {'Brendan Fehr': 1}), 'Jay Levey': defaultdict(<class 'int'>, {'Fran Drescher': 1}), 'Nicholaus Goossen': defaultdict(<class 'int'>, {'Linda Cardellini': 1}), 'Ronan Chapalain': defaultdict(<class 'int'>, {'Norbert Ferrer': 1}), 'Xavier Beauvois': defaultdict(<class 'int'>, {'Lambert Wilson': 1}), 'Randall Miller': defaultdict(<class 'int'>, {'Alan Rickman': 1, 'William Hurt': 1}), 'Jerry Belson': defaultdict(<class 'int'>, {'Cassandra Peterson': 1}), 'Dan Rush': defaultdict(<class 'int'>, {'Will Ferrell': 1}), 'Michael Cuesta': defaultdict(<class 'int'>, {'Jeremy Renner': 1, 'Adam LeFevre': 1}), 'Fenton Bailey': defaultdict(<class 'int'>, {'Macaulay Culkin': 1, 'Hugh M. Hefner': 1}), 'Jeremy Saulnier': defaultdict(<class 'int'>, {'Alia Shawkat': 1, 'Devin Ratray': 1}), 'Billy Kent': defaultdict(<class 'int'>, {'Liza Minnelli': 1}), 'James Manera': defaultdict(<class 'int'>, {'Joaquim de Almeida': 1}), 'Feroz Abbas Khan': defaultdict(<class 'int'>, {'Akshaye Khanna': 1}), 'Errol Morris': defaultdict(<class 'int'>, {'Jeffrey Frost': 1}), 'Dennis Hopper': defaultdict(<class 'int'>, {'Raymond Burr': 1}), 'Eli Craig': defaultdict(<class 'int'>, {'Katrina Bowden': 1}), 'Nicholas Fackler': defaultdict(<class 'int'>, {'Adam Scott': 1}), 'Richard Wallace': defaultdict(<class 'int'>, {'Judith Anderson': 1}), 'Morgan J. Freeman': defaultdict(<class 'int'>, {'Ethan Suplee': 1, 'Edie Falco': 1}), 'Matthew Hastings': defaultdict(<class 'int'>, {'Meghan Ory': 1}), 'Klaus Menzel': defaultdict(<class 'int'>, {'Adam Garcia': 1}), 'Oren Peli': defaultdict(<class 'int'>, {'Glenn Campbell': 1, 'Micah Sloat': 1}), 'Paul Andrew Williams': defaultdict(<class 'int'>, {'Dave Legeno': 1, 'Lorraine Stanley': 1}), 'Jim Amatulli': defaultdict(<class 'int'>, {'Heather Locklear': 1}), 'William H. Macy': defaultdict(<class 'int'>, {'Billy Crudup': 1}), 'Barrett Esposito': defaultdict(<class 'int'>, {'Chazz Palminteri': 1}), 'Vicky Jewson': defaultdict(<class 'int'>, {'James Frain': 1}), 'Marc Bennett': defaultdict(<class 'int'>, {'Michael Rapaport': 1}), 'Mike Mayhall': defaultdict(<class 'int'>, {'David Raizor': 1}), 'Stanton Barrett': defaultdict(<class 'int'>, {'Mikal Vega': 1}), 'Jirí Menzel': defaultdict(<class 'int'>, {'Julia Jentsch': 1}), 'Fatih Akin': defaultdict(<class 'int'>, {'Udo Kier': 1}), 'Nick Murphy': defaultdict(<class 'int'>, {'Isaac Hempstead Wright': 1}), 'Frank LaLoggia': defaultdict(<class 'int'>, {'Alex Rocco': 1}), 'Jeremy Brock': defaultdict(<class 'int'>, {'Rupert Grint': 1}), 'Scott Foley': defaultdict(<class 'int'>, {'Donald Faison': 1}), 'Christophe Ali': defaultdict(<class 'int'>, {'Denis Lavant': 1}), 'Gabriela Tagliavini': defaultdict(<class 'int'>, {'Maria Conchita Alonso': 1}), 'Shekar': defaultdict(<class 'int'>, {'Bhama': 1}), 'Shona Auerbach': defaultdict(<class 'int'>, {'Gerard Butler': 1}), 'Leonard Farlinger': defaultdict(<class 'int'>, {'Keith Carradine': 1}), 'Michel Leclerc': defaultdict(<class 'int'>, {'Sara Forestier': 1}), 'Analeine Cal y Mayor': defaultdict(<class 'int'>, {'Zoë Kravitz': 1}), 'Tom Kalin': defaultdict(<class 'int'>, {'Eddie Redmayne': 1}), 'Robert Sarkies': defaultdict(<class 'int'>, {'William Kircher': 1}), 'John Huston': defaultdict(<class 'int'>, {'Royal Dano': 1, 'Montgomery Clift': 1}), 'Walter Lang': defaultdict(<class 'int'>, {'Dana Andrews': 1, 'Spring Byington': 1}), 'Carlos Saura': defaultdict(<class 'int'>, {'Mía Maestro': 1}), 'Andrew Erwin': defaultdict(<class 'int'>, {'Alex Kendrick': 1, 'Rachel Hendrix': 1}), 'Beto Gómez': defaultdict(<class 'int'>, {'Jaime Camil': 1}), 'Mike van Diem': defaultdict(<class 'int'>, {'Jan Decleir': 1}), 'Jonas Åkerlund': defaultdict(<class 'int'>, {'Patrick Fugit': 1, 'Noel Gugliemi': 1}), 'Todd Solondz': defaultdict(<class 'int'>, {'Rich Pecci': 1, 'Philip Seymour Hoffman': 1, 'Heather Matarazzo': 1}), 'René Féret': defaultdict(<class 'int'>, {'Nicolas Giraud': 1}), 'Barry Skolnick': defaultdict(<class 'int'>, {'Jason Statham': 1}), 'Johnnie To': defaultdict(<class 'int'>, {'Simon Yam': 1}), 'Mateo Gil': defaultdict(<class 'int'>, {'Sam Shepard': 1}), 'Lukas Moodysson': defaultdict(<class 'int'>, {'Oksana Akinshina': 1}), 'Agnieszka Wojtowicz-Vosloo': defaultdict(<class 'int'>, {'Liam Neeson': 1}), 'Kabir Sadanand': defaultdict(<class 'int'>, {'Jimmy Shergill': 1}), 'Peter DeLuise': defaultdict(<class 'int'>, {'Katherine McNamara': 1}), 'Raja Menon': defaultdict(<class 'int'>, {'Nimrat Kaur': 1}), 'Nick Love': defaultdict(<class 'int'>, {'Hayley Atwell': 1, 'Eddie Griffin': 1}), 'R. Balki': defaultdict(<class 'int'>, {'Vidya Balan': 1}), 'Ivan Engler': defaultdict(<class 'int'>, {'Yangzom Brauen': 1}), 'Cecil B. DeMille': defaultdict(<class 'int'>, {'Gloria Grahame': 1}), 'Henry Hobson': defaultdict(<class 'int'>, {'Joely Richardson': 1}), 'Mike Figgis': defaultdict(<class 'int'>, {'Nicolas Cage': 1, 'Kelly Macdonald': 1}), 'Duane Journey': defaultdict(<class 'int'>, {'Molly C. Quinn': 1}), 'Billy Wilder': defaultdict(<class 'int'>, {'Austin Pendleton': 1, 'Fred MacMurray': 1, 'Nehemiah Persoff': 1, 'Ray Milland': 1}), 'Lisa Cholodenko': defaultdict(<class 'int'>, {'Josh Hutcherson': 1}), 'John Sturges': defaultdict(<class 'int'>, {'James Coburn': 1}), 'William Arntz': defaultdict(<class 'int'>, {'Marlee Matlin': 1}), 'Ed Gass-Donnelly': defaultdict(<class 'int'>, {'Muse Watson': 1}), 'DJ Pooh': defaultdict(<class 'int'>, {'Angell Conwell': 1, \"Mo'Nique\": 1}), 'James Melkonian': defaultdict(<class 'int'>, {'Vincent Pastore': 1}), 'Roger Avary': defaultdict(<class 'int'>, {'Ian Somerhalder': 1, 'Eric Stoltz': 1}), 'Allison Anders': defaultdict(<class 'int'>, {'Salma Hayek': 1, 'Ally Sheedy': 1}), 'Rick de Oliveira': defaultdict(<class 'int'>, {'Laura Ramsey': 1}), 'Jeff Franklin': defaultdict(<class 'int'>, {'Ivana Milicevic': 1}), 'Mike Mills': defaultdict(<class 'int'>, {'Kelli Garner': 1, 'Goran Visnjic': 1}), 'Dave McKean': defaultdict(<class 'int'>, {'Stephanie Leonidas': 1}), 'Ron Fricke': defaultdict(<class 'int'>, {'Collin Alfredo St. Dic': 1}), 'Ruggero Deodato': defaultdict(<class 'int'>, {'Michael Berryman': 1}), 'Gavin Wiesen': defaultdict(<class 'int'>, {'Michael Angarano': 1}), 'Mora Stephens': defaultdict(<class 'int'>, {'Ray Winstone': 1}), 'Mars Callahan': defaultdict(<class 'int'>, {'Chazz Palminteri': 1}), 'Leos Carax': defaultdict(<class 'int'>, {'Kylie Minogue': 1}), 'Stefan Schwartz': defaultdict(<class 'int'>, {'Peter McNamara': 1}), 'Robert Lee King': defaultdict(<class 'int'>, {'Lauren Ambrose': 1}), 'Jorge Ramírez Suárez': defaultdict(<class 'int'>, {'Hector Kotsifakis': 1}), 'Dan Ireland': defaultdict(<class 'int'>, {'Salma Hayek': 1}), 'Fernando León de Aranoa': defaultdict(<class 'int'>, {'Luis Tosar': 1}), 'Jim Mickle': defaultdict(<class 'int'>, {'Connor Paolo': 1}), 'Karim Aïnouz': defaultdict(<class 'int'>, {'Wagner Moura': 1}), 'Sam Levinson': defaultdict(<class 'int'>, {'George Kennedy': 1}), 'Aleksandr Veledinskiy': defaultdict(<class 'int'>, {'Konstantin Khabenskiy': 1}), 'Peter H. Hunt': defaultdict(<class 'int'>, {'Blythe Danner': 1}), 'Ruba Nadda': defaultdict(<class 'int'>, {'Saad Siddiqui': 1}), 'Howard Hughes': defaultdict(<class 'int'>, {'Jean Harlow': 1}), 'Edward Burns': defaultdict(<class 'int'>, {'Debra Messing': 1, 'John Mahoney': 1, 'Shari Albert': 1, 'Kerry Bishé': 1}), 'Sean Byrne': defaultdict(<class 'int'>, {'Robin McLeavy': 1}), 'Mark Griffiths': defaultdict(<class 'int'>, {'Eric Mabius': 1}), 'Bruce Macdonald': defaultdict(<class 'int'>, {'Rachel Hendrix': 1}), 'Victor Fleming': defaultdict(<class 'int'>, {'Hattie McDaniel': 1, 'Margaret Hamilton': 1, 'Spencer Tracy': 1}), 'Richard Raymond': defaultdict(<class 'int'>, {'Tom Cullen': 1}), 'Alan Jacobs': defaultdict(<class 'int'>, {'Snoop Dogg': 1}), 'George Sidney': defaultdict(<class 'int'>, {'Keenan Wynn': 1, 'Esther Williams': 1, 'Agnes Moorehead': 1}), 'Christopher Morris': defaultdict(<class 'int'>, {'Kayvan Novak': 1}), 'Andrucha Waddington': defaultdict(<class 'int'>, {'Fernanda Montenegro': 1}), 'Peter Stebbings': defaultdict(<class 'int'>, {'Michael Kelly': 1}), 'Vincente Minnelli': defaultdict(<class 'int'>, {'Gladys Cooper': 1}), 'Dagur Kári': defaultdict(<class 'int'>, {'Alice Olivia Clarke': 1}), 'Jim Abrahams': defaultdict(<class 'int'>, {'Peter Graves': 1}), 'Kevin Carraway': defaultdict(<class 'int'>, {'Michael Jai White': 1}), 'Michael Gornick': defaultdict(<class 'int'>, {'George Kennedy': 1}), 'Richard Brooks': defaultdict(<class 'int'>, {'John Forsythe': 1, 'Burl Ives': 1, 'Shirley Jones': 1, 'Humphrey Bogart': 1}), 'Robert Eggers': defaultdict(<class 'int'>, {'Julian Richings': 1}), 'Michael Martin': defaultdict(<class 'int'>, {'Joe Estevez': 1}), 'Gideon Raff': defaultdict(<class 'int'>, {'Gideon Emery': 1}), 'Louis C.K.': defaultdict(<class 'int'>, {'Wanda Sykes': 1}), 'Anthony C. Ferrante': defaultdict(<class 'int'>, {'Ian Ziering': 1}), 'Salvador Carrasco': defaultdict(<class 'int'>, {'Elpidia Carrillo': 1}), 'André Øvredal': defaultdict(<class 'int'>, {'Otto Jespersen': 1}), 'Robert Cary': defaultdict(<class 'int'>, {'Frances Conroy': 1}), 'Adam Rapp': defaultdict(<class 'int'>, {'Zooey Deschanel': 1}), 'Warren P. Sonoda': defaultdict(<class 'int'>, {'Diahann Carroll': 1}), 'Amanda Gusack': defaultdict(<class 'int'>, {'Alice Krige': 1}), 'Avi Nesher': defaultdict(<class 'int'>, {'Fisher Stevens': 1}), 'Charles Adelman': defaultdict(<class 'int'>, {'Teri Polo': 1}), 'Jay Oliva': defaultdict(<class 'int'>, {'Michael Emerson': 1}), 'Charles Ferguson': defaultdict(<class 'int'>, {'Jane Goodall': 1, 'Matt Damon': 1, 'Campbell Scott': 1}), 'Mark Young': defaultdict(<class 'int'>, {'Alexa PenaVega': 1}), 'Daniel Petrie Jr.': defaultdict(<class 'int'>, {'Chris Brochu': 1}), 'Antonio Simoncini': defaultdict(<class 'int'>, {'Ray Winstone': 1}), 'Luc Jacquet': defaultdict(<class 'int'>, {'Morgan Freeman': 1}), 'Eldar Rapaport': defaultdict(<class 'int'>, {'Murray Bartlett': 1}), 'Clark Gregg': defaultdict(<class 'int'>, {'Anjelica Huston': 1}), 'Damien Chazelle': defaultdict(<class 'int'>, {'J.K. Simmons': 1}), 'Justin Kerrigan': defaultdict(<class 'int'>, {'Danny Dyer': 1}), 'Nathan Frankowski': defaultdict(<class 'int'>, {'Corbin Bleu': 1}), 'Karen Moncrieff': defaultdict(<class 'int'>, {'James Franco': 1, 'Frances Fisher': 1}), 'Jennifer Finnigan': defaultdict(<class 'int'>, {'Geoff Stults': 1}), 'Eric Styles': defaultdict(<class 'int'>, {'Samantha Morton': 1}), 'Laurent Cantet': defaultdict(<class 'int'>, {'François Bégaudeau': 1}), 'John Ford': defaultdict(<class 'int'>, {'Lee Marvin': 2, 'Harry Carey Jr.': 1, 'Roddy McDowall': 1}), 'Max Mayer': defaultdict(<class 'int'>, {'Peter Gallagher': 1}), 'Joshua Marston': defaultdict(<class 'int'>, {'Catalina Sandino Moreno': 1}), 'John Gulager': defaultdict(<class 'int'>, {'Krista Allen': 1}), 'Brandon Cronenberg': defaultdict(<class 'int'>, {'Sarah Gadon': 1}), 'Frank Capra': defaultdict(<class 'int'>, {'Donna Reed': 1, 'Ann-Margret': 1, 'Jean Arthur': 1, 'Claude Rains': 1, 'Claudette Colbert': 1}), 'Tod Williams': defaultdict(<class 'int'>, {'Sprague Grayden': 1}), 'Jack Sholder': defaultdict(<class 'int'>, {'Clu Gulager': 1}), 'Ted Post': defaultdict(<class 'int'>, {'Linda Harrison': 1, 'Clint Eastwood': 1}), 'Kunihiko Yuyama': defaultdict(<class 'int'>, {'Veronica Taylor': 1}), 'Tom McLoughlin': defaultdict(<class 'int'>, {'Tony Goldwyn': 1}), 'Adam Marcus': defaultdict(<class 'int'>, {'Kane Hodder': 1}), 'John Maclean': defaultdict(<class 'int'>, {'Michael Fassbender': 1}), 'Benny Boom': defaultdict(<class 'int'>, {'Omari Hardwick': 1}), 'Howard Hawks': defaultdict(<class 'int'>, {'Montgomery Clift': 1}), 'Nnegest Likké': defaultdict(<class 'int'>, {\"Mo'Nique\": 1}), 'Christopher Leitch': defaultdict(<class 'int'>, {'John Astin': 1}), 'Patricia Cardoso': defaultdict(<class 'int'>, {'America Ferrera': 1, 'Rosie Perez': 1}), \"Damien O'Donnell\": defaultdict(<class 'int'>, {'Archie Panjabi': 1}), 'Peter M. Cohen': defaultdict(<class 'int'>, {'Callie Thorne': 1}), 'Mel Stuart': defaultdict(<class 'int'>, {'Peter Ostrum': 1}), 'Anthony Hickox': defaultdict(<class 'int'>, {'Julian Sands': 1}), 'Tom Schulman': defaultdict(<class 'int'>, {'Kristy Swanson': 1}), 'Jill Sprecher': defaultdict(<class 'int'>, {'Matthew McConaughey': 1, 'Alanna Ubach': 1}), 'Darren Stein': defaultdict(<class 'int'>, {'Julie Benz': 1, 'Frances Bay': 1}), 'David Nixon': defaultdict(<class 'int'>, {'Robyn Lively': 1}), 'Jason Eisener': defaultdict(<class 'int'>, {'Gregory Smith': 1}), 'Enrique Begne': defaultdict(<class 'int'>, {'Kevin Pollak': 1}), 'Matthew Bright': defaultdict(<class 'int'>, {'Bokeem Woodbine': 1}), 'Michael Landon Jr.': defaultdict(<class 'int'>, {'William Morgan Sheppard': 1, 'Henry Thomas': 1}), 'Andrea Arnold': defaultdict(<class 'int'>, {'Michael Fassbender': 1}), 'Whit Stillman': defaultdict(<class 'int'>, {'Greta Gerwig': 1, 'Chris Eigeman': 1}), 'Leslye Headland': defaultdict(<class 'int'>, {'Kirsten Dunst': 1}), 'Bobby Roth': defaultdict(<class 'int'>, {'Virginia Madsen': 1}), 'Tim Heidecker': defaultdict(<class 'int'>, {'Michael Gross': 1}), 'Kate Connor': defaultdict(<class 'int'>, {'Johnny Pacar': 1}), 'Deon Taylor': defaultdict(<class 'int'>, {'Matt Cohen': 1}), 'Jason Alexander': defaultdict(<class 'int'>, {'Gretchen Mol': 1}), 'Conor McPherson': defaultdict(<class 'int'>, {'Aidan Quinn': 1}), 'Will Canon': defaultdict(<class 'int'>, {'Frank Grillo': 1}), 'Philip Zlotorynski': defaultdict(<class 'int'>, {'Neil Hopkins': 1}), 'Lance Kawas': defaultdict(<class 'int'>, {'Taylor Negron': 1}), 'Francesca Gregorini': defaultdict(<class 'int'>, {'Tom Everett Scott': 1}), 'Marcio Garcia': defaultdict(<class 'int'>, {'John Savage': 1}), 'Craig Moss': defaultdict(<class 'int'>, {'French Stewart': 1, 'Noureen DeWulf': 1}), 'Michael Jai White': defaultdict(<class 'int'>, {'Michael Jai White': 1}), 'Paolo Monico': defaultdict(<class 'int'>, {'Stephanie Szostak': 1}), 'Youssef Delara': defaultdict(<class 'int'>, {'Noel Gugliemi': 2}), 'Darin Scott': defaultdict(<class 'int'>, {'Julian Morris': 1}), 'Christian Sesma': defaultdict(<class 'int'>, {'Bokeem Woodbine': 1}), 'Monte Hellman': defaultdict(<class 'int'>, {'Everett McGill': 1}), 'Brian Caunter': defaultdict(<class 'int'>, {'Mike Starr': 1}), \"Chris D'Arienzo\": defaultdict(<class 'int'>, {'Judy Greer': 1}), 'Isaac Florentine': defaultdict(<class 'int'>, {'Anthony L. Fernandez': 1}), 'Susan Seidelman': defaultdict(<class 'int'>, {'Dyan Cannon': 1}), 'Heidi Ewing': defaultdict(<class 'int'>, {'Greg Crowe': 1}), 'Leon Ford': defaultdict(<class 'int'>, {'Maeve Dermody': 1}), 'Hank Braxtan': defaultdict(<class 'int'>, {\"Q'orianka Kilcher\": 1}), 'John Carl Buechler': defaultdict(<class 'int'>, {'Kane Hodder': 1}), 'Rajkumar Hirani': defaultdict(<class 'int'>, {'Vidya Balan': 1}), 'Victor Nunez': defaultdict(<class 'int'>, {'Peter Fonda': 1, 'Allison Dean': 1}), 'Rohit Jugraj': defaultdict(<class 'int'>, {'Bhavkhandan Singh Rakhra': 1}), 'Thorbjørn Christoffersen': defaultdict(<class 'int'>, {'Iben Hjejle': 1}), 'Alex van Warmerdam': defaultdict(<class 'int'>, {'Rijk de Gooyer': 1}), 'Pawel Pawlikowski': defaultdict(<class 'int'>, {'Joanna Kulig': 1, 'Paddy Considine': 1}), 'Frank Sebastiano': defaultdict(<class 'int'>, {'Joe Lo Truglio': 1}), 'Stacy Peralta': defaultdict(<class 'int'>, {'Gerry Lopez': 1, 'Tony Alva': 1}), 'Nacho Vigalondo': defaultdict(<class 'int'>, {'Karra Elejalde': 1}), 'Hao Ning': defaultdict(<class 'int'>, {'Jack Kao': 1, 'Bo Huang': 1}), 'Tony Giglio': defaultdict(<class 'int'>, {'Brianna Brown': 1}), 'Stanley Donen': defaultdict(<class 'int'>, {'Rita Moreno': 1}), 'Joe Cross': defaultdict(<class 'int'>, {'Joe Cross': 1}), \"Dinesh D'Souza\": defaultdict(<class 'int'>, {'Barack Obama': 1}), 'Tommy Lee Wallace': defaultdict(<class 'int'>, {'Tom Atkins': 1}), 'Don Taylor': defaultdict(<class 'int'>, {'Roddy McDowall': 1}), 'Leslie Small': defaultdict(<class 'int'>, {'David Jason Perez': 1, 'Isaac C. Singleton Jr.': 1}), 'Éric Tessier': defaultdict(<class 'int'>, {'Patrick Huard': 1}), 'Alison Maclean': defaultdict(<class 'int'>, {'Billy Crudup': 1}), 'Alice Wu': defaultdict(<class 'int'>, {'Joan Chen': 1}), 'Sarah Gavron': defaultdict(<class 'int'>, {'Satish Kaushik': 1}), 'Isabel Coixet': defaultdict(<class 'int'>, {'Sarah Polley': 1}), 'James Ponsoldt': defaultdict(<class 'int'>, {'Shailene Woodley': 1}), 'Joshua Tickell': defaultdict(<class 'int'>, {'Larry David': 1}), 'Tim Boxell': defaultdict(<class 'int'>, {'Bruce McGill': 1}), 'Michael D. Sellers': defaultdict(<class 'int'>, {'Katharine Ross': 1}), 'Reed Cowan': defaultdict(<class 'int'>, {'Dustin Lance Black': 1}), 'James Dodson': defaultdict(<class 'int'>, {'Larry Miller': 1}), 'Alex Rivera': defaultdict(<class 'int'>, {'Leonor Varela': 1}), 'John Murlowski': defaultdict(<class 'int'>, {'Ashley Scott': 1}), 'Benni Diez': defaultdict(<class 'int'>, {'Clifton Collins Jr.': 1}), 'Danny Perez': defaultdict(<class 'int'>, {'Natasha Lyonne': 1}), 'Robby Henson': defaultdict(<class 'int'>, {'Marc Blucas': 1}), 'Zackary Adler': defaultdict(<class 'int'>, {'Simon Merrells': 1}), 'Dominic Burns': defaultdict(<class 'int'>, {'Julian Glover': 1}), 'Carmen Marron': defaultdict(<class 'int'>, {'Jossara Jinaro': 1}), 'Jason Stone': defaultdict(<class 'int'>, {'Topher Grace': 1}), 'Jerry Rees': defaultdict(<class 'int'>, {'Jon Lovitz': 1}), 'Jaco Booyens': defaultdict(<class 'int'>, {'Nicole Smolen': 1}), 'Danny Steinmann': defaultdict(<class 'int'>, {'Tiffany Helm': 1}), 'Jon Gunn': defaultdict(<class 'int'>, {'Alexa PenaVega': 1, 'Stacy Keach': 1, 'John August': 1}), 'Hayley Cloake': defaultdict(<class 'int'>, {'Brian Austin Green': 1}), 'Tay Garnett': defaultdict(<class 'int'>, {'Jessica Tandy': 1}), 'Shyam Madiraju': defaultdict(<class 'int'>, {'Jessica Lowndes': 1}), 'Harmage Singh Kalirai': defaultdict(<class 'int'>, {'Saeed Jaffrey': 1}), 'Rita Merson': defaultdict(<class 'int'>, {'Ryan Guzman': 1}), 'William Wyler': defaultdict(<class 'int'>, {'Myrna Loy': 1}), 'Larry Clark': defaultdict(<class 'int'>, {'Kelli Garner': 1, 'Rosario Dawson': 1}), 'Petter Næss': defaultdict(<class 'int'>, {'Jørgen Langhelle': 1}), 'Robert Fontaine': defaultdict(<class 'int'>, {'Michael Derek': 1}), 'Dan Perri': defaultdict(<class 'int'>, {'Travis Myers': 1}), 'Neil Mcenery-West': defaultdict(<class 'int'>, {'Walter Hendrix III': 1}), \"Anthony O'Brien\": defaultdict(<class 'int'>, {'James Ransone': 1}), 'Michael Herz': defaultdict(<class 'int'>, {'Phoebe Legere': 1, 'Patrick Kilpatrick': 1}), 'David Robert Mitchell': defaultdict(<class 'int'>, {'Maika Monroe': 1}), 'Robert Mulligan': defaultdict(<class 'int'>, {'Robert Duvall': 1}), 'Chia-Liang Liu': defaultdict(<class 'int'>, {'Andy Lau': 1}), 'Chris Kentis': defaultdict(<class 'int'>, {'Eric Sheffer Stevens': 1, 'Blanchard Ryan': 1}), 'Alex Kendrick': defaultdict(<class 'int'>, {'Ben Davies': 1, 'Kirk Cameron': 1, 'Alex Kendrick': 1, 'Shannen Fields': 1}), 'Robert Rossen': defaultdict(<class 'int'>, {'George C. Scott': 1}), 'Jack Conway': defaultdict(<class 'int'>, {'Hedy Lamarr': 1}), 'Sylvain Chomet': defaultdict(<class 'int'>, {'Michel Robin': 1}), 'Chris Eyre': defaultdict(<class 'int'>, {'Michael Greyeyes': 1}), 'Elia Kazan': defaultdict(<class 'int'>, {'Dean Stockwell': 1, 'Marlon Brando': 2}), 'Debra Granik': defaultdict(<class 'int'>, {'Jennifer Lawrence': 1}), 'Henry King': defaultdict(<class 'int'>, {'Tyrone Power': 1}), 'Miranda July': defaultdict(<class 'int'>, {'Najarra Townsend': 1}), 'Max Joseph': defaultdict(<class 'int'>, {'Vanessa Lengies': 1}), 'Jim Jarmusch': defaultdict(<class 'int'>, {'Henry Silva': 1}), 'Kevin Tenney': defaultdict(<class 'int'>, {'Kathleen Wilhoite': 1}), 'Ari Folman': defaultdict(<class 'int'>, {'Ari Folman': 1}), 'Gary Rogers': defaultdict(<class 'int'>, {'Noah Danby': 1}), 'Marielle Heller': defaultdict(<class 'int'>, {'Alexander Skarsgård': 1}), 'David Sington': defaultdict(<class 'int'>, {'John F. Kennedy': 1}), 'Kelly Reichardt': defaultdict(<class 'int'>, {'Bruce Greenwood': 1, 'Daniel London': 1, 'John Robinson': 1}), 'Bob Giraldi': defaultdict(<class 'int'>, {'Danny Aiello': 1}), 'Huck Botko': defaultdict(<class 'int'>, {'Matt Bennett': 1}), 'David Duchovny': defaultdict(<class 'int'>, {'Robin Williams': 1}), 'Mitchell Lichtenstein': defaultdict(<class 'int'>, {'Jess Weixler': 1}), 'Lance Mungia': defaultdict(<class 'int'>, {'Jeffrey Falcon': 1}), 'Kundan Shah': defaultdict(<class 'int'>, {'Karisma Kapoor': 1}), 'Hue Rhodes': defaultdict(<class 'int'>, {'Peter Dinklage': 1}), 'Jugal Hansraj': defaultdict(<class 'int'>, {'Saif Ali Khan': 1}), 'Danny Provenzano': defaultdict(<class 'int'>, {'Vincent Pastore': 1}), 'Bill Muir': defaultdict(<class 'int'>, {'Alex Kendrick': 1}), 'Noah Buschel': defaultdict(<class 'int'>, {'Merritt Wever': 1}), 'Brian Yuzna': defaultdict(<class 'int'>, {'Melinda Clarke': 1}), 'Hunter Richards': defaultdict(<class 'int'>, {'Jason Statham': 1}), 'Laurie Collyer': defaultdict(<class 'int'>, {'Brad William Henke': 1}), 'Aaron Hann': defaultdict(<class 'int'>, {'Jordi Vilasuso': 1}), 'Phil Claydon': defaultdict(<class 'int'>, {'MyAnna Buring': 1}), 'Ralph Ziman': defaultdict(<class 'int'>, {'Rapulana Seiphemo': 1}), 'John Simpson': defaultdict(<class 'int'>, {'Colin Salmon': 1}), 'Colin Minihan': defaultdict(<class 'int'>, {'Mackenzie Gray': 1}), 'Conor McMahon': defaultdict(<class 'int'>, {'Peter McQuinn': 1}), 'Chris Shadley': defaultdict(<class 'int'>, {'Daniel Baldwin': 1}), 'Simon Napier-Bell': defaultdict(<class 'int'>, {'Alice Cooper': 1}), 'Simon Yin': defaultdict(<class 'int'>, {'Paul Sheehan': 1}), 'Jeff Crook': defaultdict(<class 'int'>, {'Nicholas Gonzalez': 1}), 'Orson Welles': defaultdict(<class 'int'>, {'Rita Hayworth': 1}), 'Dave Payne': defaultdict(<class 'int'>, {'Mircea Monroe': 1}), 'Brad Copeland': defaultdict(<class 'int'>, {'Sunil Narkar': 1}), 'Paul Bunnell': defaultdict(<class 'int'>, {'Kate Maberly': 1}), 'Phil Morrison': defaultdict(<class 'int'>, {'Sally Hawkins': 1}), 'Harald Reinl': defaultdict(<class 'int'>, {'Christopher Lee': 1}), 'Tanner Beard': defaultdict(<class 'int'>, {'William McNamara': 1}), 'Scott Dow': defaultdict(<class 'int'>, {'Trenton Rostedt': 1}), 'Derick Martini': defaultdict(<class 'int'>, {'Kevin Zegers': 1}), 'Jerry Dugan': defaultdict(<class 'int'>, {'Melissa Bolona': 1}), 'Tim Hunter': defaultdict(<class 'int'>, {'Keanu Reeves': 1}), 'Richard Ayoade': defaultdict(<class 'int'>, {'Craig Roberts': 1}), 'Jehane Noujaim': defaultdict(<class 'int'>, {'Khalid Abdalla': 1}), 'Pascal Arnold': defaultdict(<class 'int'>, {'Karl E. Landler': 1}), 'Remo': defaultdict(<class 'int'>, {'Lauren Gottlieb': 1}), 'John Laing': defaultdict(<class 'int'>, {'Siobhan Marshall': 1}), 'Jamal Hill': defaultdict(<class 'int'>, {'Logan Browning': 1}), 'Daniel Stamm': defaultdict(<class 'int'>, {'Caleb Landry Jones': 1}), 'Carlos Carrera': defaultdict(<class 'int'>, {'Damián Alcázar': 1}), 'Benh Zeitlin': defaultdict(<class 'int'>, {'Quvenzhané Wallis': 1}), 'J. Lee Thompson': defaultdict(<class 'int'>, {'Roddy McDowall': 2}), 'Maggie Greenwald': defaultdict(<class 'int'>, {'Aidan Quinn': 1}), 'Vera Farmiga': defaultdict(<class 'int'>, {'Donna Murphy': 1}), 'Vijay Chandar': defaultdict(<class 'int'>, {'Hansika Motwani': 1}), 'Jonathan Wacks': defaultdict(<class 'int'>, {'Steve Buscemi': 1}), 'Khyentse Norbu': defaultdict(<class 'int'>, {'Tshewang Dendup': 1}), 'Tony Krantz': defaultdict(<class 'int'>, {'George Newbern': 1}), 'Mitchell Altieri': defaultdict(<class 'int'>, {'Kimberley Crossman': 1}), 'W.D. Hogan': defaultdict(<class 'int'>, {'Tom Everett Scott': 1}), 'Corey Grant': defaultdict(<class 'int'>, {'Christian Keyes': 1}), 'Lucky McKee': defaultdict(<class 'int'>, {'James Duval': 1}), 'Richard Boddington': defaultdict(<class 'int'>, {'Natasha Henstridge': 1}), 'David Hunt': defaultdict(<class 'int'>, {'Matthew Alan': 1}), 'Steven R. Monroe': defaultdict(<class 'int'>, {'Sarah Butler': 1}), 'Mark Illsley': defaultdict(<class 'int'>, {'Ally Walker': 1}), 'Ritesh Batra': defaultdict(<class 'int'>, {'Nawazuddin Siddiqui': 1}), 'Sally Potter': defaultdict(<class 'int'>, {'Shirley Henderson': 1}), 'Brad J. Silverman': defaultdict(<class 'int'>, {'Shawnee Smith': 1}), 'Dave Meyers': defaultdict(<class 'int'>, {'Eddie Griffin': 1}), 'David M. Matthews': defaultdict(<class 'int'>, {'Essence Atkins': 1}), 'Nadine Labaki': defaultdict(<class 'int'>, {'Yasmine Al Massri': 1}), 'Lluís Quílez': defaultdict(<class 'int'>, {'Stephen Rea': 1}), 'Eytan Fox': defaultdict(<class 'int'>, {'Ohad Knoller': 1}), 'Romesh Sharma': defaultdict(<class 'int'>, {'Annabelle Wallis': 1}), 'François Truffaut': defaultdict(<class 'int'>, {'Catherine Deneuve': 1}), 'Adam Goldberg': defaultdict(<class 'int'>, {'Judy Greer': 1}), 'Travis Zariwny': defaultdict(<class 'int'>, {'Dustin Ingram': 1}), 'Adrienne Shelly': defaultdict(<class 'int'>, {'Lew Temple': 1}), 'Newt Arnold': defaultdict(<class 'int'>, {'Bolo Yeung': 1}), 'Alex Cox': defaultdict(<class 'int'>, {'Del Zamora': 1}), 'Fabián Bielinsky': defaultdict(<class 'int'>, {'Ricardo Darín': 1}), 'Dror Moreh': defaultdict(<class 'int'>, {'Ami Ayalon': 1}), 'Rebecca Miller': defaultdict(<class 'int'>, {'Beau Bridges': 1}), 'Maggie Carey': defaultdict(<class 'int'>, {'Donald Glover': 1}), 'Henry Bean': defaultdict(<class 'int'>, {'Ryan Gosling': 1}), 'Simeon Rice': defaultdict(<class 'int'>, {'Ward G. Smith': 1}), 'Jeff Garlin': defaultdict(<class 'int'>, {'Jessy Schram': 1}), 'Qasim Basir': defaultdict(<class 'int'>, {'Dorian Missick': 1}), 'Adam Green': defaultdict(<class 'int'>, {'Joel David Moore': 1}), 'Charles Chaplin': defaultdict(<class 'int'>, {'Paulette Goddard': 1}), 'Pete Jones': defaultdict(<class 'int'>, {'Brian Dennehy': 1}), 'Bruce Campbell': defaultdict(<class 'int'>, {'Ted Raimi': 1}), 'Adam Carolla': defaultdict(<class 'int'>, {'Jay Mohr': 1}), 'Bruce McDonald': defaultdict(<class 'int'>, {'Stephen McHattie': 1}), 'James Mottern': defaultdict(<class 'int'>, {'Jimmy Bennett': 1}), 'Jaime Zevallos': defaultdict(<class 'int'>, {'Angela Sarafyan': 1}), 'Gerard Johnstone': defaultdict(<class 'int'>, {\"Morgana O'Reilly\": 1}), 'Robert Greenwald': defaultdict(<class 'int'>, {'Lee Scott': 1, 'Scott Helvenston': 1}), 'David Ray': defaultdict(<class 'int'>, {'Nicole Muñoz': 1}), 'Dave Rodriguez': defaultdict(<class 'int'>, {'Chazz Palminteri': 1}), 'Nae Caranfil': defaultdict(<class 'int'>, {'Monica Barladeanu': 1}), 'David Winning': defaultdict(<class 'int'>, {'Ashanti': 1}), 'Frank Lotito': defaultdict(<class 'int'>, {'Brighton Sharbino': 1}), 'Timothy Woodward Jr.': defaultdict(<class 'int'>, {'Katrina Law': 1}), 'Tara Subkoff': defaultdict(<class 'int'>, {'Timothy Hutton': 1}), 'Russell Friedenberg': defaultdict(<class 'int'>, {'Rudy Youngblood': 1}), 'William Cottrell': defaultdict(<class 'int'>, {'Adriana Caselotti': 1}), 'Lucrecia Martel': defaultdict(<class 'int'>, {'Mía Maestro': 1}), 'Edward Dmytryk': defaultdict(<class 'int'>, {'Brigitte Bardot': 1}), 'Zak Penn': defaultdict(<class 'int'>, {'Zak Penn': 1}), 'Alex Ranarivelo': defaultdict(<class 'int'>, {'Lea Thompson': 1}), 'Mathieu Amalric': defaultdict(<class 'int'>, {'Mathieu Amalric': 1}), 'David Worth': defaultdict(<class 'int'>, {'Jessica Szohr': 1}), 'Leslie H. Martinson': defaultdict(<class 'int'>, {'Burgess Meredith': 1}), 'Robert M. Young': defaultdict(<class 'int'>, {'Barry Corbin': 1}), 'Steve Buscemi': defaultdict(<class 'int'>, {'Steve Buscemi': 1, 'Kevin Corrigan': 1}), 'Ham Tran': defaultdict(<class 'int'>, {'Long Nguyen': 1}), 'Rich Cowan': defaultdict(<class 'int'>, {'Eric Dane': 1}), 'Boris Rodriguez': defaultdict(<class 'int'>, {'Stephen McHattie': 1}), 'Sadyk Sher-Niyaz': defaultdict(<class 'int'>, {'Elina Abai Kyzy': 1}), 'Paul Donovan': defaultdict(<class 'int'>, {'Maury Chaykin': 1}), 'Jonathan Kesselman': defaultdict(<class 'int'>, {'Judy Greer': 1}), 'Arjun Sablok': defaultdict(<class 'int'>, {'Abhishek Bachchan': 1}), 'Tyler Oliver': defaultdict(<class 'int'>, {'Bella Thorne': 1}), 'Douglas Cheek': defaultdict(<class 'int'>, {'Daniel Stern': 1}), 'Deryck Broom': defaultdict(<class 'int'>, {'Vic Mignogna': 1}), 'Henry Hathaway': defaultdict(<class 'int'>, {'Joseph Cotten': 1}), 'Giovanni Zelko': defaultdict(<class 'int'>, {'Zuhair Haddad': 1}), 'Claudia Sainte-Luce': defaultdict(<class 'int'>, {'Ximena Ayala': 1}), 'Jamie Babbit': defaultdict(<class 'int'>, {'Natasha Lyonne': 1, 'Katy Mixon': 1}), 'David Boyd': defaultdict(<class 'int'>, {'Vivica A. Fox': 1}), 'Anna Muylaert': defaultdict(<class 'int'>, {'Alex Huszar': 1}), 'Steve Taylor': defaultdict(<class 'int'>, {'Jason Marsden': 1}), 'Kurt Voss': defaultdict(<class 'int'>, {'Lemmy': 1}), 'James David Pasternak': defaultdict(<class 'int'>, {'Robin Williams': 1}), 'Laurent Bouhnik': defaultdict(<class 'int'>, {'Déborah Révy': 1}), 'Tom Sanchez': defaultdict(<class 'int'>, {'Nataniel Sánchez': 1}), 'David Caffrey': defaultdict(<class 'int'>, {'Marley Shelton': 1}), 'Adam Jay Epstein': defaultdict(<class 'int'>, {'Rich Ceraulo': 1}), 'Justin Thomas Ostensen': defaultdict(<class 'int'>, {'Michael Berryman': 1}), 'Brenton Spencer': defaultdict(<class 'int'>, {'Christie Burke': 1}), 'Ossie Davis': defaultdict(<class 'int'>, {'Redd Foxx': 1}), 'Jay Alaimo': defaultdict(<class 'int'>, {'William McNamara': 1}), 'Dylan Bank': defaultdict(<class 'int'>, {\"Seregon O'Dassey\": 1}), 'Rob McKittrick': defaultdict(<class 'int'>, {'Ryan Reynolds': 1}), 'Jeff Burr': defaultdict(<class 'int'>, {'Terry Kiser': 1}), 'Harry Gantz': defaultdict(<class 'int'>, {'': 1}), 'Guy Maddin': defaultdict(<class 'int'>, {'Sarah Murphy-Dyson': 1}), 'Regardt van den Bergh': defaultdict(<class 'int'>, {'Sean Cameron Michael': 1}), 'Panos Cosmatos': defaultdict(<class 'int'>, {'Chris Gauthier': 1}), 'Gareth Evans': defaultdict(<class 'int'>, {'Iko Uwais': 1}), 'Matthew R. Anderson': defaultdict(<class 'int'>, {'Johnny Pacar': 1}), 'Joe Marino': defaultdict(<class 'int'>, {'Piero Maggiò': 1}), 'Joel Anderson': defaultdict(<class 'int'>, {'Talia Zucker': 1}), 'Shimit Amin': defaultdict(<class 'int'>, {'Ranbir Kapoor': 1}), 'Douglas Trumbull': defaultdict(<class 'int'>, {'Bruce Dern': 1}), 'Mona Fastvold': defaultdict(<class 'int'>, {'Christopher Abbott': 1}), 'Levan Gabriadze': defaultdict(<class 'int'>, {'Shelley Hennig': 1}), 'Bradley Parker': defaultdict(<class 'int'>, {'Jesse McCartney': 1}), 'Clive Barker': defaultdict(<class 'int'>, {'Andrew Robinson': 1}), 'Harold Cronk': defaultdict(<class 'int'>, {'Benjamin A. Onyango': 1}), 'Takao Okawara': defaultdict(<class 'int'>, {'Hiroshi Abe': 1}), 'Duncan Tucker': defaultdict(<class 'int'>, {'Kevin Zegers': 1}), 'Russ Meyer': defaultdict(<class 'int'>, {'Charles Napier': 1}), 'Robert D. Webb': defaultdict(<class 'int'>, {'James Drury': 1}), 'Allan Dwan': defaultdict(<class 'int'>, {'James Brown': 1}), 'Andrew Steggall': defaultdict(<class 'int'>, {'Juliet Stevenson': 1}), 'Ben Lewin': defaultdict(<class 'int'>, {'W. Earl Brown': 1}), 'Robert Kenner': defaultdict(<class 'int'>, {'Michael Pollan': 1}), 'Craig Johnson': defaultdict(<class 'int'>, {'Ty Burrell': 1}), 'Sean Durkin': defaultdict(<class 'int'>, {'Christopher Abbott': 1}), 'Gillian Robespierre': defaultdict(<class 'int'>, {'Gaby Hoffmann': 1}), 'Courtney Hunt': defaultdict(<class 'int'>, {'Charlie McDermott': 1}), 'Morgan Neville': defaultdict(<class 'int'>, {'Sheryl Crow': 1}), 'Chris Paine': defaultdict(<class 'int'>, {'Ed Begley Jr.': 1}), 'Greg Berlanti': defaultdict(<class 'int'>, {'Justin Theroux': 1}), 'Marc Levin': defaultdict(<class 'int'>, {'Sonja Sohn': 1}), 'Richard Dutcher': defaultdict(<class 'int'>, {'Wilford Brimley': 1}), 'Khalid Mohamed': defaultdict(<class 'int'>, {'Karisma Kapoor': 1}), 'Finn Taylor': defaultdict(<class 'int'>, {'David Arquette': 1}), 'José Luis Valenzuela': defaultdict(<class 'int'>, {'Cheech Marin': 1}), 'Gia Coppola': defaultdict(<class 'int'>, {'James Franco': 1}), 'Scandar Copti': defaultdict(<class 'int'>, {'Shahir Kabaha': 1}), 'Goran Dukic': defaultdict(<class 'int'>, {'Leslie Bibb': 1}), 'Mike Cahill': defaultdict(<class 'int'>, {'Steven Yeun': 1, 'Robin Lord Taylor': 1}), 'Efram Potelle': defaultdict(<class 'int'>, {'Shiri Appleby': 1}), 'Joshua Oppenheimer': defaultdict(<class 'int'>, {'Anwar Congo': 1}), 'Alex Gibney': defaultdict(<class 'int'>, {'Alex Gibney': 1}), 'Paul Crowder': defaultdict(<class 'int'>, {'Pelé': 1}), 'Rohit Jagessar': defaultdict(<class 'int'>, {'Kumar Gaurav': 1}), 'Anthony Powell': defaultdict(<class 'int'>, {'Josh Swanson': 1}), 'Kief Davidson': defaultdict(<class 'int'>, {'G.W. Krauss': 1}), 'Johnny Remo': defaultdict(<class 'int'>, {'Matthew Ziff': 1}), 'Vivek Agnihotri': defaultdict(<class 'int'>, {'Emraan Hashmi': 1}), 'Ti West': defaultdict(<class 'int'>, {'Lena Dunham': 2}), 'Nick Tomnay': defaultdict(<class 'int'>, {'David Hyde Pierce': 1}), 'Nickolas Perry': defaultdict(<class 'int'>, {'Patrick Renna': 1}), 'Dan Zukovic': defaultdict(<class 'int'>, {'Yul Vazquez': 1}), 'Becky Smith': defaultdict(<class 'int'>, {'Will Rothhaar': 1}), 'Eric Nicholas': defaultdict(<class 'int'>, {'Jordana Spiro': 1}), 'Benjamin Dickinson': defaultdict(<class 'int'>, {'Nora Zehetner': 1}), 'Hal Haberman': defaultdict(<class 'int'>, {'Michael Rapaport': 1}), 'A. Raven Cruz': defaultdict(<class 'int'>, {'Scott Levy': 1}), 'Frank Whaley': defaultdict(<class 'int'>, {'Lynn Cohen': 1}), 'Amat Escalante': defaultdict(<class 'int'>, {'Kenny Johnston': 1}), 'Wajahat Rauf': defaultdict(<class 'int'>, {'Rasheed Naz': 1}), 'Katherine Brooks': defaultdict(<class 'int'>, {'Ilene Graff': 1}), 'David Cross': defaultdict(<class 'int'>, {'Jason Ritter': 1}), 'Randall Rubin': defaultdict(<class 'int'>, {'Nicole Randall Johnson': 1}), 'Robert Bennett': defaultdict(<class 'int'>, {'Randy Wayne': 1}), 'Mary Pat Kelly': defaultdict(<class 'int'>, {'Aidan Quinn': 1}), 'Lori Petty': defaultdict(<class 'int'>, {'Jennifer Lawrence': 1}), 'Charlie Levi': defaultdict(<class 'int'>, {'Joe Mantegna': 1}), 'Kevin Hamedani': defaultdict(<class 'int'>, {'Russell Hodgkinson': 1}), 'David DeCoteau': defaultdict(<class 'int'>, {'Maureen McCormick': 1, 'William McNamara': 1}), 'Mikel Rueda': defaultdict(<class 'int'>, {'Álex Angulo': 1}), 'Stefan C. Schaefer': defaultdict(<class 'int'>, {'Nicole Beharie': 1}), 'Michael Taliferro': defaultdict(<class 'int'>, {'Wesley Jonathan': 1}), 'Katie Aselton': defaultdict(<class 'int'>, {'Katie Aselton': 1}), 'Robert Heath': defaultdict(<class 'int'>, {'David Oakes': 1}), 'D. Stevens': defaultdict(<class 'int'>, {'Magi Avila': 1}), 'Jeffrey St. Jules': defaultdict(<class 'int'>, {'Boyd Banks': 1}), 'Robert Hall': defaultdict(<class 'int'>, {'Angelina Armani': 1}), 'K. King': defaultdict(<class 'int'>, {'Jason K. Wixom': 1}), 'Jonathan Meyers': defaultdict(<class 'int'>, {'Justin Baldoni': 1}), 'Ralph Nelson': defaultdict(<class 'int'>, {'Cliff Robertson': 1}), 'Blair Erickson': defaultdict(<class 'int'>, {'Monique Candelaria': 1}), 'Allison Burnett': defaultdict(<class 'int'>, {'Kimberly Williams-Paisley': 1}), 'Richard Schenkman': defaultdict(<class 'int'>, {'Vanessa Williams': 1, 'William Katt': 1}), 'Sanjay Rawal': defaultdict(<class 'int'>, {'Alma Martinez': 1}), 'Kat Coiro': defaultdict(<class 'int'>, {'Justin Kirk': 1}), 'Cristian Mungiu': defaultdict(<class 'int'>, {'Anamaria Marinca': 1}), 'Brian Dorton': defaultdict(<class 'int'>, {'Javier Botet': 1}), 'Maryam Keshavarz': defaultdict(<class 'int'>, {'Sarah Kazemy': 1}), 'Ramaa Mosley': defaultdict(<class 'int'>, {'Jack McBrayer': 1}), 'C. Jay Cox': defaultdict(<class 'int'>, {'Joseph Gordon-Levitt': 1, 'Tori Spelling': 1}), 'Mariette Monpierre': defaultdict(<class 'int'>, {'Stana Roumillac': 1}), 'Tommy Oliver': defaultdict(<class 'int'>, {'Bokeem Woodbine': 1}), 'Jamie Travis': defaultdict(<class 'int'>, {'James Wolk': 1}), 'Rich Christiano': defaultdict(<class 'int'>, {'Gavin MacLeod': 1}), \"Natalie Bible'\": defaultdict(<class 'int'>, {\"Tommy O'Reilly\": 1}), 'Asghar Farhadi': defaultdict(<class 'int'>, {'Shahab Hosseini': 1}), 'Justin Molotnikov': defaultdict(<class 'int'>, {'Jo Hartley': 1}), 'Georg Wilhelm Pabst': defaultdict(<class 'int'>, {'Louise Brooks': 1}), 'Daniel Davila': defaultdict(<class 'int'>, {'Martin Landau': 1}), 'Jorge Gaggero': defaultdict(<class 'int'>, {'Norma Aleandro': 1}), 'Michael Burke': defaultdict(<class 'int'>, {'Zachary Knighton': 1}), 'Catherine Jelski': defaultdict(<class 'int'>, {'Leslie Bibb': 1}), 'Shane Dawson': defaultdict(<class 'int'>, {'Shane Dawson': 1}), 'Ryan Little': defaultdict(<class 'int'>, {'Corbin Allred': 1}), 'Clark Baker': defaultdict(<class 'int'>, {'Taylor Pigeon': 1}), 'Matt Maiellaro': defaultdict(<class 'int'>, {'Tina Fey': 1}), 'Ben Wheatley': defaultdict(<class 'int'>, {'MyAnna Buring': 1, 'Michael Smiley': 1}), 'Oliver Blackburn': defaultdict(<class 'int'>, {'Julian Morris': 1}), 'Christopher Hutson': defaultdict(<class 'int'>, {'Dichen Lachman': 1}), 'David LaChapelle': defaultdict(<class 'int'>, {'Kevin Scott Richardson': 1}), 'Caryn Waechter': defaultdict(<class 'int'>, {'Laura Fraser': 1}), 'Emily Dell': defaultdict(<class 'int'>, {'Aimee Garcia': 1}), 'Ryan Fleck': defaultdict(<class 'int'>, {'Ryan Gosling': 1}), 'Jennifer Wynne Farmer': defaultdict(<class 'int'>, {'Irene Bedard': 1}), 'Christopher Scott Cherot': defaultdict(<class 'int'>, {'Hill Harper': 1}), 'H.M. Coakley': defaultdict(<class 'int'>, {'Mehcad Brooks': 1}), 'Randy Moore': defaultdict(<class 'int'>, {'Trey Loney': 1}), 'Chris Atkins': defaultdict(<class 'int'>, {'Richard Curtis': 1}), 'Bill Benenson': defaultdict(<class 'int'>, {'Alfre Woodard': 1}), 'Ryan Smith': defaultdict(<class 'int'>, {'Sandra Ellis Lafferty': 1}), 'Travis Romero': defaultdict(<class 'int'>, {'Matthew Ziff': 1}), 'Anna Mastro': defaultdict(<class 'int'>, {'Leven Rambin': 1}), 'Mark Sandrich': defaultdict(<class 'int'>, {'Ginger Rogers': 1}), 'Daniel Myrick': defaultdict(<class 'int'>, {'Heather Donahue': 1}), 'Michael Wadleigh': defaultdict(<class 'int'>, {'Joe Cocker': 1}), 'Gene Teigland': defaultdict(<class 'int'>, {'Kendyl Joi': 1}), 'Scott Ziehl': defaultdict(<class 'int'>, {'William Smith': 1}), 'Richard Montoya': defaultdict(<class 'int'>, {'Nicholas Gonzalez': 1}), 'Johanna Schwartz': defaultdict(<class 'int'>, {'Aliou Touré': 1}), 'William Gazecki': defaultdict(<class 'int'>, {'Karen Alexander': 1, 'Carol Channing': 1}), 'Lance McDaniel': defaultdict(<class 'int'>, {'Russell Wong': 1}), 'Thomas Lilti': defaultdict(<class 'int'>, {'François Cluzet': 1}), 'Michael Walker': defaultdict(<class 'int'>, {'Paula Garcés': 1}), 'U. Roberto Romano': defaultdict(<class 'int'>, {'': 1}), 'Amy Holden Jones': defaultdict(<class 'int'>, {'Jamie Lee Curtis': 1}), 'Blaz Zavrsnik': defaultdict(<class 'int'>, {'Dario Nozic Serini': 1}), 'Pan Nalin': defaultdict(<class 'int'>, {'Bhole Baba': 1, '': 1}), 'Joe Camp': defaultdict(<class 'int'>, {'Frances Bavier': 1}), 'Matt Walsh': defaultdict(<class 'int'>, {'Joe Lo Truglio': 1}), \"John 'Bud' Cardos\": defaultdict(<class 'int'>, {'Woody Strode': 1}), 'Marilyn Agrelo': defaultdict(<class 'int'>, {'Heather Berman': 1}), 'Brian Baugh': defaultdict(<class 'int'>, {'Randy Wayne': 1}), 'Patrick Creadon': defaultdict(<class 'int'>, {'Ken Burns': 1}), 'Barry W. Blaustein': defaultdict(<class 'int'>, {'Terry Funk': 1}), 'Kurt Hale': defaultdict(<class 'int'>, {'Kirby Heyborne': 2}), 'Siddiq Barmak': defaultdict(<class 'int'>, {'Marina Golbahari': 1}), 'Joseph Dorman': defaultdict(<class 'int'>, {'Rachel Dratch': 1}), 'Greg Harrison': defaultdict(<class 'int'>, {'Rachel True': 1, 'Amir Talai': 1}), 'Jacob Aaron Estes': defaultdict(<class 'int'>, {'Rory Culkin': 1}), 'Eric Schaeffer': defaultdict(<class 'int'>, {'Peter Dinklage': 1}), 'Neema Barnette': defaultdict(<class 'int'>, {'Monica Calhoun': 1}), 'Joe Swanberg': defaultdict(<class 'int'>, {'Olivia Wilde': 1, 'Anna Kendrick': 1}), 'Molly Bernstein': defaultdict(<class 'int'>, {'David Mamet': 1}), 'Marius A. Markevicius': defaultdict(<class 'int'>, {'Tommy Sheppard': 1}), 'Tom DiCillo': defaultdict(<class 'int'>, {'Brad Pitt': 1}), 'Quentin Dupieux': defaultdict(<class 'int'>, {'Haley Ramm': 1}), 'Alex Smith': defaultdict(<class 'int'>, {'Ryan Gosling': 1}), 'Gareth Edwards': defaultdict(<class 'int'>, {'Scoot McNairy': 1}), 'Jonathan Parker': defaultdict(<class 'int'>, {'Keith Carradine': 1}), 'Sol Tryon': defaultdict(<class 'int'>, {'Jim Gaffigan': 1}), 'Alex Craig Mann': defaultdict(<class 'int'>, {'Justin Chon': 1}), 'Stephen Kijak': defaultdict(<class 'int'>, {'Brian Eno': 1}), 'Daston Kalili': defaultdict(<class 'int'>, {'Daston Kalili': 1}), 'Michael Hoffman Jr.': defaultdict(<class 'int'>, {'Vincent Chimato': 1}), 'Patrick Gilles': defaultdict(<class 'int'>, {'Emma Caulfield': 1}), 'Georgia Hilton': defaultdict(<class 'int'>, {'Mike Beckingham': 1}), 'Jack Heller': defaultdict(<class 'int'>, {'Shaun Sipos': 1}), 'Fernando Baez Mella': defaultdict(<class 'int'>, {'Manny Perez': 1}), 'Warren Sheppard': defaultdict(<class 'int'>, {'Jennifer Hale': 1}), 'Justin Paul Miller': defaultdict(<class 'int'>, {'Mary Kate Wiles': 1}), 'Joel Paul Reisig': defaultdict(<class 'int'>, {'Carrie Bradstreet': 1, 'Joshua Ray Bell': 1}), 'Catherine Gund': defaultdict(<class 'int'>, {'Elizabeth Streb': 1}), 'Luke Dye': defaultdict(<class 'int'>, {'Mike Stanley': 1}), 'Alec Asten': defaultdict(<class 'int'>, {'Luis Sanchez': 1}), 'Hans Canosa': defaultdict(<class 'int'>, {'Olivia Wilde': 1}), 'Lloyd Kaufman': defaultdict(<class 'int'>, {'John Karyus': 1}), 'Matthew Watts': defaultdict(<class 'int'>, {'Jennifer Lafleur': 1}), 'Lloyd Bacon': defaultdict(<class 'int'>, {'Ginger Rogers': 1}), 'Joe Kenemore': defaultdict(<class 'int'>, {'Bob Proctor': 1}), 'Kay Pollak': defaultdict(<class 'int'>, {'Michael Nyqvist': 1}), 'Eric England': defaultdict(<class 'int'>, {'Jack E. Curenton': 1}), 'Sue Corcoran': defaultdict(<class 'int'>, {'Tony Doupe': 1}), 'Jonathan Caouette': defaultdict(<class 'int'>, {'Greg Ayres': 1}), 'Ray Griggs': defaultdict(<class 'int'>, {'Bill Farmer': 1}), 'Matt Jackson': defaultdict(<class 'int'>, {'Kane Hodder': 1}), 'Lucio Fulci': defaultdict(<class 'int'>, {'Catriona MacColl': 1}), 'Paul Fox': defaultdict(<class 'int'>, {'Dov Tiefenbach': 1}), 'Ari Kirschenbaum': defaultdict(<class 'int'>, {'R. Brandon Johnson': 1}), 'Cassandra Nicolaou': defaultdict(<class 'int'>, {'Katharine Isabelle': 1}), 'Ingmar Bergman': defaultdict(<class 'int'>, {'Liv Ullmann': 1}), 'D.W. Griffith': defaultdict(<class 'int'>, {'Lillian Gish': 1}), 'Roger Nygard': defaultdict(<class 'int'>, {'Walter Koenig': 1}), 'Harry Beaumont': defaultdict(<class 'int'>, {'Anita Page': 1}), 'Franck Khalfoun': defaultdict(<class 'int'>, {'America Olivo': 1}), 'Mor Loushy': defaultdict(<class 'int'>, {'Amos Oz': 1}), 'Henry Alex Rubin': defaultdict(<class 'int'>, {'Mark Zupan': 1}), 'Sam Firstenberg': defaultdict(<class 'int'>, {'Michael Dudikoff': 1}), 'Doug Block': defaultdict(<class 'int'>, {'Carol Block': 1}), 'Chad Kapper': defaultdict(<class 'int'>, {'Tom E. Nicholson': 1}), 'Paul Fierlinger': defaultdict(<class 'int'>, {'Isabella Rossellini': 1}), 'Yorgos Lanthimos': defaultdict(<class 'int'>, {'Angeliki Papoulia': 1}), 'Lauren Lazin': defaultdict(<class 'int'>, {'James Cagney': 1}), 'Gregory Widen': defaultdict(<class 'int'>, {'Viggo Mortensen': 1}), 'Niall Johnson': defaultdict(<class 'int'>, {'Kevin Howarth': 1}), 'Eric Mendelsohn': defaultdict(<class 'int'>, {'Embeth Davidtz': 1}), 'Jean-Luc Godard': defaultdict(<class 'int'>, {'Jean-Paul Belmondo': 1, 'Philippe Leroy': 1}), 'Florence Ayisi': defaultdict(<class 'int'>, {'Vera Ngassa': 1}), 'Michael Roemer': defaultdict(<class 'int'>, {'Yaphet Kotto': 1}), \"Eddie O'Flaherty\": defaultdict(<class 'int'>, {'Don Wallace': 1}), 'Babar Ahmed': defaultdict(<class 'int'>, {'Lalaine': 1}), 'John D. Hancock': defaultdict(<class 'int'>, {'Trish Basinger': 1}), 'Paul Bartel': defaultdict(<class 'int'>, {'Sylvester Stallone': 1}), 'Bruce Dellis': defaultdict(<class 'int'>, {'Tatyana Ali': 1}), 'Pece Dingo': defaultdict(<class 'int'>, {'Michael Des Barres': 1}), 'Jerome Elston Scott': defaultdict(<class 'int'>, {'Taran Killam': 1}), 'Étienne Faure': defaultdict(<class 'int'>, {'Rumi Missabu': 1}), 'Herb Freed': defaultdict(<class 'int'>, {'Linnea Quigley': 1}), 'Jack Perez': defaultdict(<class 'int'>, {'Kevin Corrigan': 1}), 'Craig Zobel': defaultdict(<class 'int'>, {'Dreama Walker': 1}), 'Ken Del Conte': defaultdict(<class 'int'>, {'Hector Echavarria': 1}), 'Maria Maggenti': defaultdict(<class 'int'>, {'Nicole Ari Parker': 1}), 'Piyush Dinker Pandya': defaultdict(<class 'int'>, {'Purva Bedi': 1}), 'Daniel Columbie': defaultdict(<class 'int'>, {'Keri Maletto': 1}), 'Emma-Kate Croghan': defaultdict(<class 'int'>, {'Radha Mitchell': 1}), 'Bill Plympton': defaultdict(<class 'int'>, {'Charis Michelsen': 1}), 'Drake Doremus': defaultdict(<class 'int'>, {'Jennifer Lawrence': 1}), 'Al Franklin': defaultdict(<class 'int'>, {'Marshal Hilton': 1}), 'Michael Kang': defaultdict(<class 'int'>, {'Samantha Futerman': 1}), 'Lori Silverbush': defaultdict(<class 'int'>, {'Judy Marte': 1}), 'Stuart Hazeldine': defaultdict(<class 'int'>, {'Colin Salmon': 1}), 'Hilary Brougher': defaultdict(<class 'int'>, {'James Urbaniak': 1}), 'Rachel Goldenberg': defaultdict(<class 'int'>, {'Dustin Fitzsimons': 1}), 'Corbin Bernsen': defaultdict(<class 'int'>, {'Corbin Bernsen': 1}), 'Jamin Winans': defaultdict(<class 'int'>, {'Eme Ikwuakor': 1}), 'Tom Seidman': defaultdict(<class 'int'>, {'Florence Henderson': 1}), 'Jason Naumann': defaultdict(<class 'int'>, {'Victoria Jackson': 1}), 'Matt Cimber': defaultdict(<class 'int'>, {'Stacy Keach': 1}), 'Sam Martin': defaultdict(<class 'int'>, {'Sam Adams': 1}), 'Andrew Hyatt': defaultdict(<class 'int'>, {'Noah Segan': 1}), 'Kristin Rizzo': defaultdict(<class 'int'>, {'Esai Morales': 1}), 'Ward Roberts': defaultdict(<class 'int'>, {'Sid Haig': 1}), 'Zoran Lisinac': defaultdict(<class 'int'>, {'Matthew Emerick': 1}), \"James O'Brien\": defaultdict(<class 'int'>, {'Mark Fantasia': 1}), 'Tom Putnam': defaultdict(<class 'int'>, {'Brendan Doogie Milewski': 1}), 'Jon Shear': defaultdict(<class 'int'>, {'Dan Futterman': 1}), 'Al Silliman Jr.': defaultdict(<class 'int'>, {'Christina Hart': 1}), 'Eugène Lourié': defaultdict(<class 'int'>, {'Kenneth Tobey': 1}), 'Lowell Sherman': defaultdict(<class 'int'>, {'Mae West': 1}), 'Maurizio Benazzo': defaultdict(<class 'int'>, {'The Dalai Lama': 1}), 'David G. Evans': defaultdict(<class 'int'>, {'Michael Joiner': 1}), 'Sherman Alexie': defaultdict(<class 'int'>, {'William Joseph Elk III': 1}), 'Justin Dillon': defaultdict(<class 'int'>, {'Matisyahu': 1}), 'Stevan Mena': defaultdict(<class 'int'>, {'R. Brandon Johnson': 1}), 'Livingston Oden': defaultdict(<class 'int'>, {'Susan Chambers': 1}), 'Chris Marker': defaultdict(<class 'int'>, {'Marina Vlady': 1}), 'Carl Theodor Dreyer': defaultdict(<class 'int'>, {'Hanne Aagesen': 1}), 'Marianna Palka': defaultdict(<class 'int'>, {'Bryce Dallas Howard': 1}), 'Ricki Stern': defaultdict(<class 'int'>, {'Darryl Hunt': 1}), 'Nadia Tass': defaultdict(<class 'int'>, {'Mia Farrow': 1}), 'James Kerwin': defaultdict(<class 'int'>, {'John Newton': 1}), 'C. Fraser Press': defaultdict(<class 'int'>, {'Elaine Bromka': 1}), 'Rania Attieh': defaultdict(<class 'int'>, {'Paul Hickert': 1}), 'Sharon Greytak': defaultdict(<class 'int'>, {'Sally Kirkland': 1}), 'Majid Majidi': defaultdict(<class 'int'>, {'Bahare Seddiqi': 1}), 'Andrew Haigh': defaultdict(<class 'int'>, {'Tom Cullen': 1}), 'Cary Bell': defaultdict(<class 'int'>, {'Abigail Evans': 1}), 'Nicolae Constantin Tanase': defaultdict(<class 'int'>, {'Iulia Ciochina': 1}), 'Melvin Van Peebles': defaultdict(<class 'int'>, {'John Amos': 1}), 'Ken Roht': defaultdict(<class 'int'>, {'Charla Cochran': 1}), 'Robinson Devor': defaultdict(<class 'int'>, {'Marilyn Rising': 1}), 'Michel Orion Scott': defaultdict(<class 'int'>, {'Temple Grandin': 1}), 'Pat Holden': defaultdict(<class 'int'>, {'Alan Brent': 1}), 'Eric Bugbee': defaultdict(<class 'int'>, {'Joel Moody': 1}), 'Bill Melendez': defaultdict(<class 'int'>, {'Peter Robbins': 1}), 'Dena Seidel': defaultdict(<class 'int'>, {'Naderev Sano': 1}), 'Deborah Anderson': defaultdict(<class 'int'>, {'Lisa Ann': 1}), 'Sara Newens': defaultdict(<class 'int'>, {'Ariel Hsing': 1}), 'Sai Varadan': defaultdict(<class 'int'>, {'J.D. Williams': 1}), 'Amal Al-Agroobi': defaultdict(<class 'int'>, {'': 1}), 'Andrew Berends': defaultdict(<class 'int'>, {'': 1}), 'Lynn Shelton': defaultdict(<class 'int'>, {'Mark Duplass': 1}), 'Valentine': defaultdict(<class 'int'>, {'Diane Sorrentino': 1}), 'David Hewlett': defaultdict(<class 'int'>, {'Christopher Judge': 1}), 'Nate Parker': defaultdict(<class 'int'>, {'Jason Stuart': 1}), 'Nathan Smith Jones': defaultdict(<class 'int'>, {'Richard Moll': 1}), 'Travis Cluff': defaultdict(<class 'int'>, {'Pfeifer Brown': 1}), 'Harry F. Millarde': defaultdict(<class 'int'>, {'Stephen Carr': 1}), 'Robert Townsend': defaultdict(<class 'int'>, {'Robert Townsend': 1}), 'Jamaa Fanaka': defaultdict(<class 'int'>, {'Leon Isaac Kennedy': 1}), 'Larry Blamire': defaultdict(<class 'int'>, {'Fay Masterson': 1}), 'Stephen Langford': defaultdict(<class 'int'>, {'Kevin P. Farley': 1}), 'E.L. Katz': defaultdict(<class 'int'>, {'Brighton Sharbino': 1}), 'Lisanne Pajot': defaultdict(<class 'int'>, {'Jonathan Blow': 1}), 'Dan Reed': defaultdict(<class 'int'>, {'Danny Dyer': 1}), 'John Reinhardt': defaultdict(<class 'int'>, {'Sheldon Leonard': 1}), 'Patrick Ryan Sims': defaultdict(<class 'int'>, {'Claire Gordon-Harper': 1}), 'Laslo Benedek': defaultdict(<class 'int'>, {'Liv Ullmann': 1}), 'Jason Miller': defaultdict(<class 'int'>, {'Jon Brion': 1}), 'Sut Jhally': defaultdict(<class 'int'>, {'Noam Chomsky': 1}), 'Julie Davis': defaultdict(<class 'int'>, {'Jack McGee': 1}), 'Myles Berkowitz': defaultdict(<class 'int'>, {'Tia Carrere': 1}), 'Brett Piper': defaultdict(<class 'int'>, {'Michelle Simone Miller': 1}), 'Brandon Trost': defaultdict(<class 'int'>, {'Clifton Collins Jr.': 1}), 'Joseph Green': defaultdict(<class 'int'>, {'Virginia Leith': 1}), 'Wade Gasque': defaultdict(<class 'int'>, {'Ty Parker': 1}), 'Daniel Schechter': defaultdict(<class 'int'>, {'Lena Dunham': 1}), 'Matt Johnson': defaultdict(<class 'int'>, {'Paul Daniel Ayotte': 1}), 'Bruno Barreto': defaultdict(<class 'int'>, {'Marcello Mastroianni': 1}), 'Lena Dunham': defaultdict(<class 'int'>, {'Lena Dunham': 1}), 'Terron R. Parsons': defaultdict(<class 'int'>, {'Richard Tyson': 1}), 'Daniel Mellitz': defaultdict(<class 'int'>, {'Corbin Bernsen': 1}), 'Jem Cohen': defaultdict(<class 'int'>, {'': 1}), 'Andrew Leman': defaultdict(<class 'int'>, {'Dan Novy': 1}), 'Dave Carroll': defaultdict(<class 'int'>, {\"Chris 'Wonder' Schoeck\": 1}), 'William Eubank': defaultdict(<class 'int'>, {'Lin Shaye': 1}), 'Patrick Meaney': defaultdict(<class 'int'>, {'Taliesin Jaffe': 1}), 'Chad Hartigan': defaultdict(<class 'int'>, {'Jan Haley': 1}), 'Malcolm Goodwin': defaultdict(<class 'int'>, {'Katrina Bowden': 1}), 'Kevin Jordan': defaultdict(<class 'int'>, {'Derick Martini': 1}), 'Kirk Loudon': defaultdict(<class 'int'>, {'Barry Corbin': 1}), 'Travis Legge': defaultdict(<class 'int'>, {'Elissa Dowling': 1, 'Kristen Seavey': 1}), 'Collin Joseph Neal': defaultdict(<class 'int'>, {'Julianne Gabert': 1}), 'Bradley Rust Gray': defaultdict(<class 'int'>, {'Zoe Kazan': 1}), 'Mike Bruce': defaultdict(<class 'int'>, {'Joseph Campanella': 1}), 'Andrew Bujalski': defaultdict(<class 'int'>, {'Andrew Bujalski': 2}), 'Damir Catic': defaultdict(<class 'int'>, {'Nichole Ceballos': 1}), 'James Bidgood': defaultdict(<class 'int'>, {'Don Brooks': 1}), 'Eric Eason': defaultdict(<class 'int'>, {'Franky G': 1}), 'Joseph Mazzella': defaultdict(<class 'int'>, {'Tjasa Ferme': 1}), 'Marcus Nispel': defaultdict(<class 'int'>, {'Ashley Tramonte': 1}), 'Brandon Landers': defaultdict(<class 'int'>, {'Robbie Barnes': 1}), 'Jim Chuchu': defaultdict(<class 'int'>, {'Paul Ogola': 1}), 'Daryl Wein': defaultdict(<class 'int'>, {'Zoe Lister-Jones': 1}), 'Jason Trost': defaultdict(<class 'int'>, {'Sean Whalen': 1}), 'Jafar Panahi': defaultdict(<class 'int'>, {'Fereshteh Sadre Orafaiy': 1}), 'Ivan Kavanagh': defaultdict(<class 'int'>, {\"Patrick O'Donnell\": 1}), 'Kiyoshi Kurosawa': defaultdict(<class 'int'>, {'Kôji Yakusho': 1}), 'Tadeo Garcia': defaultdict(<class 'int'>, {'Tatiana Suarez-Pico': 1}), 'Thomas L. Phillips': defaultdict(<class 'int'>, {'Julianna Pitt': 1}), 'Ash Baron-Cohen': defaultdict(<class 'int'>, {'Peter Greene': 1}), 'Shane Carruth': defaultdict(<class 'int'>, {'Shane Carruth': 1}), 'Neill Dela Llana': defaultdict(<class 'int'>, {'Ian Gamazon': 1}), 'Anthony Vallone': defaultdict(<class 'int'>, {'Richard Jewell': 1}), 'Scott Smith': defaultdict(<class 'int'>, {'Eric Mabius': 1}), 'Benjamin Roberds': defaultdict(<class 'int'>, {'Eva Boehnke': 1}), 'Daniel Hsia': defaultdict(<class 'int'>, {'Alan Ruck': 1})})\n"
     ]
    }
   ],
   "source": [
    "# Test de funcionamiento\n",
    "\n",
    "num_collaborations = actor_directors(main_dict_data)\n",
    "\n",
    "print(type(num_collaborations))\n",
    "key_a, value_a = list(num_collaborations.items())[0]\n",
    "print(type(key_a), type(value_a))\n",
    "key_b, value_b = list(value_a.items())[0]\n",
    "print(type(key_b), type(value_b))\n",
    "\n",
    "print()\n",
    "\n",
    "print(num_collaborations)"
   ]
  },
  {
   "cell_type": "markdown",
   "metadata": {},
   "source": [
    "### B.4. Print seleccionado\n",
    "\n",
    "Demasiada información. Deseamos imprimir únicamente, para cada actor, las colaboraciones que superen un mínimo, dato entrada. Si un actor no tiene ninguna colaboración que supere dicho mínimo, lógicamente no debe mostrarse."
   ]
  },
  {
   "cell_type": "code",
   "execution_count": 175,
   "metadata": {},
   "outputs": [],
   "source": [
    "# Esta celda debe ser completada por el estudiante\n",
    "def print_collaborations_min(conteo_colaboraciones, colaboraciones_minimas):\n",
    "    colaboraciones_por_actor = defaultdict(list)\n",
    "\n",
    "    for director, actores in(conteo_colaboraciones.items()):\n",
    "        for actor, colabs in actores.items():\n",
    "            if colabs >= colaboraciones_minimas:\n",
    "                colaboraciones_por_actor[actor].append((director, colabs))\n",
    "    \n",
    "    for actor, apariciones in colaboraciones_por_actor.items():\n",
    "        print(f\"{actor}  ->  {apariciones}\")\n"
   ]
  },
  {
   "cell_type": "code",
   "execution_count": 146,
   "metadata": {},
   "outputs": [
    {
     "name": "stdout",
     "output_type": "stream",
     "text": [
      "Johnny Depp  ->  [('Gore Verbinski', 5), ('Tim Burton', 6)]\n",
      "Leonardo DiCaprio  ->  [('Martin Scorsese', 5)]\n",
      "Robert De Niro  ->  [('Martin Scorsese', 7)]\n",
      "Clint Eastwood  ->  [('Clint Eastwood', 10)]\n",
      "Bill Murray  ->  [('Wes Anderson', 5)]\n",
      "Woody Allen  ->  [('Woody Allen', 10)]\n"
     ]
    }
   ],
   "source": [
    "# Test de funcionamiento\n",
    "\n",
    "print_collaborations_min(num_collaborations, 5)"
   ]
  },
  {
   "cell_type": "markdown",
   "metadata": {},
   "source": [
    "# C. Algunos gráficos sencillos [1 punto]\n",
    "\n",
    "\n",
    "### C.1 Un modelo de gráfica\n",
    "\n",
    "Vamos a diseñar un modelo de gráfica sencillo que nos sirva para las siguientes representaciones. Tomará como parámetro una lista de pares $(x, y)$, y opcionalmente los tres rótulos explicativos que necesitamos incluir. Además, queremos que las etiquetas de las abcisas aparezcan inclinadas, para poder luego mostrar intervalos de edad.\n",
    "\n",
    "Las pruebas de funcionamiento te darán más información que las explicaciones que pueda yo dar aquí.  "
   ]
  },
  {
   "cell_type": "code",
   "execution_count": null,
   "metadata": {},
   "outputs": [
    {
     "ename": "SyntaxError",
     "evalue": "invalid syntax (3177305745.py, line 3)",
     "output_type": "error",
     "traceback": [
      "\u001b[1;36m  Cell \u001b[1;32mIn[6], line 3\u001b[1;36m\u001b[0m\n\u001b[1;33m    def representar_xxx_yyy(lista_puntos, [titulo, ejey, ejex]):\u001b[0m\n\u001b[1;37m                                          ^\u001b[0m\n\u001b[1;31mSyntaxError\u001b[0m\u001b[1;31m:\u001b[0m invalid syntax\n"
     ]
    }
   ],
   "source": [
    "# Esta celda debe ser completada por el estudiante\n",
    "\n",
    "def representar_xxx_yyy(lista_puntos, titulos):\n",
    "    print(titulo)"
   ]
  },
  {
   "cell_type": "code",
   "execution_count": null,
   "metadata": {},
   "outputs": [
    {
     "data": {
      "image/png": "[encoded data removed]",
      "text/plain": [
       "<Figure size 750x350 with 1 Axes>"
      ]
     },
     "metadata": {},
     "output_type": "display_data"
    },
    {
     "data": {
      "image/png": "[encoded data removed]",
      "text/plain": [
       "<Figure size 750x350 with 1 Axes>"
      ]
     },
     "metadata": {},
     "output_type": "display_data"
    }
   ],
   "source": [
    "# Pruebas de funcionamiento:\n",
    "\n",
    "representar_xxx_yyy([(1, 8), (2, 4), (3, 2), (4, 1), (5, 0.5), (6, 0.25)], [\"Serie descendente\", \"Ordenadas\", \"Abcisas\"])\n",
    "\n",
    "representar_xxx_yyy([(1, 1), (2, 2), (3, 4), (4, 8), (5, 16), (6, 32)])"
   ]
  },
  {
   "cell_type": "markdown",
   "metadata": {},
   "source": [
    "### Una gráfica concreta\n",
    "\n",
    "Deseamos representar el número de películas de nuestra base de datos que se han producido en un intervalo de años dado."
   ]
  },
  {
   "cell_type": "code",
   "execution_count": null,
   "metadata": {},
   "outputs": [],
   "source": [
    "# Esta celda debe ser completada por el estudiante\n",
    "\n"
   ]
  },
  {
   "cell_type": "code",
   "execution_count": null,
   "metadata": {},
   "outputs": [
    {
     "data": {
      "image/png": "[encoded data removed]",
      "text/plain": [
       "<Figure size 750x350 with 1 Axes>"
      ]
     },
     "metadata": {},
     "output_type": "display_data"
    },
    {
     "data": {
      "image/png": "[encoded data removed]",
      "text/plain": [
       "<Figure size 750x350 with 1 Axes>"
      ]
     },
     "metadata": {},
     "output_type": "display_data"
    }
   ],
   "source": [
    "# Test de funcionamiento\n",
    "\n",
    "repr_movies_years(main_dict_data, 2000, 2010)\n",
    "repr_movies_years(main_dict_data, 2005, 2015)"
   ]
  },
  {
   "cell_type": "markdown",
   "metadata": {},
   "source": [
    "# D. Acceso a las urls de imdb y webscraping [2 puntos]\n",
    "\n",
    "### D.1. Recuperación de las URLs\n",
    "\n",
    "Con sencillas instrucciones, deseamos recuperar todas las *urls* de las películas de nuestro archivo, mostrando cuántas son, la primera de ellas o las diez primeras por ejemplo:"
   ]
  },
  {
   "cell_type": "code",
   "execution_count": null,
   "metadata": {},
   "outputs": [],
   "source": [
    "# Esta celda debe ser completada por el estudiante\n",
    "\n"
   ]
  },
  {
   "cell_type": "code",
   "execution_count": null,
   "metadata": {},
   "outputs": [
    {
     "name": "stdout",
     "output_type": "stream",
     "text": [
      "4919\n",
      "\n",
      "http://www.imdb.com/title/tt0499549/\n",
      "\n",
      "['http://www.imdb.com/title/tt0499549/', 'http://www.imdb.com/title/tt0449088/', 'http://www.imdb.com/title/tt2379713/', 'http://www.imdb.com/title/tt1345836/', 'http://www.imdb.com/title/tt5289954/', 'http://www.imdb.com/title/tt0401729/', 'http://www.imdb.com/title/tt0413300/', 'http://www.imdb.com/title/tt0398286/', 'http://www.imdb.com/title/tt2395427/', 'http://www.imdb.com/title/tt0417741/']\n"
     ]
    }
   ],
   "source": [
    "# Test de funcionamiento\n",
    "\n",
    "print(len(urls))\n",
    "\n",
    "print()\n",
    "\n",
    "print(first_url_movie)\n",
    "\n",
    "print()\n",
    "\n",
    "print(first_ten_urls)"
   ]
  },
  {
   "cell_type": "code",
   "execution_count": null,
   "metadata": {},
   "outputs": [],
   "source": [
    "# Una forma de evitar el error \"Requests 403 forbidden\" al hacer web scraping en las siguientes celdas:\n",
    "\n",
    "HEADERS = {\n",
    "        \"User-Agent\": \"Mozilla/5.0 (Windows NT 10.0; Win64; x64; rv:98.0) Gecko/20100101 Firefox/98.0\",\n",
    "        \"Accept\": \"text/html,application/xhtml+xml,application/xml;q=0.9,image/avif,image/webp,*/*;q=0.8\",\n",
    "        \"Accept-Language\": \"en-US,en;q=0.5\",\n",
    "        \"Accept-Encoding\": \"gzip, deflate\",\n",
    "        \"Connection\": \"keep-alive\",\n",
    "        \"Upgrade-Insecure-Requests\": \"1\",\n",
    "        \"Sec-Fetch-Dest\": \"document\",\n",
    "        \"Sec-Fetch-Mode\": \"navigate\",\n",
    "        \"Sec-Fetch-Site\": \"none\",\n",
    "        \"Sec-Fetch-User\": \"?1\",\n",
    "        \"Cache-Control\": \"max-age=0\",\n",
    "    }"
   ]
  },
  {
   "cell_type": "markdown",
   "metadata": {},
   "source": [
    "### D.2. Carga de la estructura sintáctica de una URL\n",
    "\n",
    "Ahora, deseamos extraer el código `html` de una película."
   ]
  },
  {
   "cell_type": "code",
   "execution_count": null,
   "metadata": {},
   "outputs": [],
   "source": [
    "# Esta celda debe ser completada por el estudiante\n",
    "\n"
   ]
  },
  {
   "cell_type": "code",
   "execution_count": null,
   "metadata": {},
   "outputs": [
    {
     "name": "stdout",
     "output_type": "stream",
     "text": [
      "<!DOCTYPE html>\n",
      "<html lang=\"en-US\" xmlns:fb=\"http://www.facebook.com/2008/fbml\" xmlns:og=\"http://opengraphprotocol.org/schema/\"><head><meta charset=\"utf-8\"/><meta content=\"width=device-width\" name=\"viewport\"/><script>if(typeof uet === 'function'){ uet('bb', 'LoadTitle', {wb: 1}); }</script><script>window.addEventListener('load', (event) => {\n",
      "        if (typeof window.csa !== 'undefined' && typeof window.csa === 'function') {\n",
      "            var csaLatencyPlugin = window.csa('Content', {\n",
      "                element: {\n",
      "                    slotId: 'LoadTitle',\n",
      "                    type: 'service-call'\n",
      "                }\n",
      "            });\n",
      "            csaLatencyPlugin('mark', 'clickToBodyBegin', 1724918213361);\n",
      "        }\n",
      "    })</script><title>Avatar (2009) - IMDb</title><meta content=\"Avatar: Directed by James Cameron. With Sam Worthington, Zoe Saldana, Sigourney Weaver, Stephen Lang. A paraplegic Marine dispatched to the moon Pandora on a unique mission becomes torn between following his orders and pr\n",
      "\n",
      "... ... ... ... ... ... ... ... ... ... ... ... ... ... ... ... ... ... ... ... ... ... ... ... ...\n",
      "\n",
      "g(e+c);return!!e}function n(){for(var e=RegExp(\"^https://(.*\\.(images|ssl-images|media)-amazon\\.com|\"+c.location.hostname+\")/images/\",\"i\"),d={},h=0,k=c.performance.getEntriesByType(\"resource\"),l=!1,b,a,m,f=0;f<k.length;f++)if(a=k[f],0<a.transferSize&&a.transferSize>=a.encodedBodySize&&(b=e.exec(String(a.name)))&&3===b.length){a:{b=a.serverTiming||[];for(a=0;a<b.length;a++)if(\"provider\"===b[a].name){b=b[a].description;break a}b=void 0}b&&(l||(l=g(b,\"_cdn_fr\")),\n",
      "a=d[b]=(d[b]||0)+1,a>h&&(m=b,h=a))}g(m,\"_cdn_mp\")}d.ue&&\"function\"===typeof d.ue.tag&&c.performance&&c.location&&n()},\"cdnTagging\")(ue_csm,window);\n",
      "\n",
      "\n",
      "}\n",
      "\n",
      "/* ◬ */\n",
      "</script>\n",
      "</div>\n",
      "<noscript>\n",
      "<img alt=\"\" height=\"1\" src=\"//fls-na.amazon.com/1/batch/1/OP/A1EVAM02EL8SFB:143-8406919-7416635:WKYP1V6N2RW327XH73XJ$uedata=s:%2Fuedata%2Fuedata%3Fnoscript%26id%3DWKYP1V6N2RW327XH73XJ:0\" style=\"display:none;visibility:hidden;\" width=\"1\"/>\n",
      "</noscript>\n",
      "<script>window.ue && ue.count && ue.count('CSMLibrarySize', 60231)</script></div></body></html>\n"
     ]
    }
   ],
   "source": [
    "# Test de funcionamiento\n",
    "\n",
    "soup = soup_movie(first_url_movie)\n",
    "\n",
    "print(str(soup)[:1000])\n",
    "print()\n",
    "print(\"... ... ... ... ... ... ... ... ... ... ... ... ... ... ... ... ... ... ... ... ... ... ... ... ...\")\n",
    "print()\n",
    "print(str(soup)[-1000:])"
   ]
  },
  {
   "cell_type": "markdown",
   "metadata": {},
   "source": [
    "### D.3. Extracción de algunas piezas de información de una URL\n",
    "\n",
    "Y ahora, con dicho código, deseamos extraer la siguiente información, referida a la película `first_url_movie`:\n",
    "\n",
    "- La etiqueta completa del título de la película\n",
    "- La descripción (sólo el contenido).\n",
    "- La lista de los actores del *reparto principal*\n",
    "- La información sobre el presupuesto"
   ]
  },
  {
   "cell_type": "code",
   "execution_count": null,
   "metadata": {},
   "outputs": [
    {
     "name": "stdout",
     "output_type": "stream",
     "text": [
      "<title>Avatar (2009) - IMDb</title>\n",
      "\n",
      "Avatar: Directed by James Cameron. With Sam Worthington, Zoe Saldana, Sigourney Weaver, Stephen Lang. A paraplegic Marine dispatched to the moon Pandora on a unique mission becomes torn between following his orders and protecting the world he feels is his home.\n",
      "\n",
      "['Sam Worthington', 'Zoe Saldana', 'Sigourney Weaver', 'Michelle Rodriguez', 'Stephen Lang', 'Giovanni Ribisi', 'Joel David Moore', 'CCH Pounder', 'Wes Studi', 'Laz Alonso', 'Dileep Rao', 'Matt Gerald', 'Sean Anthony Moran', 'Jason Whyte', 'Scott Lawrence', 'Kelly Kilgour', 'James Patrick Pitt', 'Sean Patrick Murphy']\n",
      "\n",
      "$237,000,000 (estimated)\n"
     ]
    }
   ],
   "source": [
    "# Esta celda debe ser completada por el estudiante\n",
    "\n"
   ]
  },
  {
   "cell_type": "markdown",
   "metadata": {},
   "source": [
    "### D.4. Actores que intervienen en una lista de URLs\n",
    "\n",
    "Necesitamos crear un archivo con los actores del reparto principal de las películas de IMDB, dada la lista de sus URLs."
   ]
  },
  {
   "cell_type": "code",
   "execution_count": null,
   "metadata": {},
   "outputs": [],
   "source": [
    "# Esta celda debe ser completada por el estudiante\n",
    "\n"
   ]
  },
  {
   "cell_type": "code",
   "execution_count": null,
   "metadata": {},
   "outputs": [
    {
     "name": "stdout",
     "output_type": "stream",
     "text": [
      "Sam Worthington\n",
      "Zoe Saldana\n",
      "Sigourney Weaver\n",
      "Michelle Rodriguez\n",
      "Stephen Lang\n",
      "Giovanni Ribisi\n",
      "Joel David Moore\n",
      "CCH Pounder\n",
      "Wes Studi\n",
      "Laz Alonso\n",
      "Dileep Rao\n",
      "Matt Gerald\n",
      "Sean Anthony Moran\n",
      "Jason Whyte\n",
      "Scott Lawrence\n",
      "Kelly Kilgour\n",
      "James Patrick Pitt\n",
      "Sean Patrick Murphy\n",
      "Johnny Depp\n",
      "Orlando Bloom\n",
      "Keira Knightley\n",
      "Geoffrey Rush\n",
      "Jack Davenport\n",
      "Bill Nighy\n",
      "Jonathan Pryce\n",
      "Lee Arenberg\n",
      "Mackenzie Crook\n",
      "Kevin McNally\n",
      "David Bailie\n",
      "Stellan Skarsgård\n",
      "Tom Hollander\n",
      "Naomie Harris\n",
      "Martin Klebba\n",
      "David Schofield\n",
      "Lauren Maher\n",
      "Dermot Keaney\n",
      "Daniel Craig\n",
      "Christoph Waltz\n",
      "Léa Seydoux\n",
      "Ralph Fiennes\n",
      "Monica Bellucci\n",
      "Ben Whishaw\n",
      "Naomie Harris\n",
      "Dave Bautista\n",
      "Andrew Scott\n",
      "Rory Kinnear\n",
      "Jesper Christensen\n",
      "Alessandro Cremona\n",
      "Stephanie Sigman\n",
      "Tenoch Huerta\n",
      "Adriana Paz\n",
      "Domenico Fortunato\n",
      "Marco Zingaro\n",
      "Stefano Elfi DiClaudia\n"
     ]
    }
   ],
   "source": [
    "# Test de funcionamiento\n",
    "\n",
    "# OJO: esta operación puede llevar bastante tiempo.\n",
    "# Para esta prueba, usamos un número limitado de películas.\n",
    "\n",
    "gather_actors(\"actors_3_first_movies.txt\", urls[:3])\n",
    "\n",
    "! type actors_3_first_movies.txt"
   ]
  },
  {
   "cell_type": "code",
   "execution_count": null,
   "metadata": {},
   "outputs": [],
   "source": [
    "# La siguente llamada llevaría un tiempo realmente largo:\n",
    "\n",
    "# import time # para cronometrar esta función, que tarda mucho\n",
    "\n",
    "# reloj_inicio = time.time()\n",
    "# gather_actors(\"actors_all_movies.txt\", urls)\n",
    "# reloj_fin = time.time()\n",
    "\n",
    "# print(\"Tiempo invertido: %s segundos.\" % (reloj_fin - reloj_inicio))"
   ]
  },
  {
   "cell_type": "markdown",
   "metadata": {},
   "source": [
    "# E. Pandas [2 puntos]\n",
    "\n",
    "### E.1. El primer paso es la carga del archivo en un dataframe"
   ]
  },
  {
   "cell_type": "code",
   "execution_count": null,
   "metadata": {},
   "outputs": [],
   "source": [
    "# Esta celda debe ser completada por el estudiante\n",
    "\n"
   ]
  },
  {
   "cell_type": "code",
   "execution_count": null,
   "metadata": {},
   "outputs": [
    {
     "data": {
      "text/html": [
       "<div>\n",
       "<style scoped>\n",
       "    .dataframe tbody tr th:only-of-type {\n",
       "        vertical-align: middle;\n",
       "    }\n",
       "\n",
       "    .dataframe tbody tr th {\n",
       "        vertical-align: top;\n",
       "    }\n",
       "\n",
       "    .dataframe thead th {\n",
       "        text-align: right;\n",
       "    }\n",
       "</style>\n",
       "<table border=\"1\" class=\"dataframe\">\n",
       "  <thead>\n",
       "    <tr style=\"text-align: right;\">\n",
       "      <th></th>\n",
       "      <th>color</th>\n",
       "      <th>director_name</th>\n",
       "      <th>num_critic_for_reviews</th>\n",
       "      <th>duration</th>\n",
       "      <th>director_facebook_likes</th>\n",
       "      <th>actor_3_facebook_likes</th>\n",
       "      <th>actor_2_name</th>\n",
       "      <th>actor_1_facebook_likes</th>\n",
       "      <th>gross</th>\n",
       "      <th>genres</th>\n",
       "      <th>...</th>\n",
       "      <th>num_user_for_reviews</th>\n",
       "      <th>language</th>\n",
       "      <th>country</th>\n",
       "      <th>content_rating</th>\n",
       "      <th>budget</th>\n",
       "      <th>title_year</th>\n",
       "      <th>actor_2_facebook_likes</th>\n",
       "      <th>imdb_score</th>\n",
       "      <th>aspect_ratio</th>\n",
       "      <th>movie_facebook_likes</th>\n",
       "    </tr>\n",
       "  </thead>\n",
       "  <tbody>\n",
       "    <tr>\n",
       "      <th>0</th>\n",
       "      <td>Color</td>\n",
       "      <td>James Cameron</td>\n",
       "      <td>723.0</td>\n",
       "      <td>178.0</td>\n",
       "      <td>0.0</td>\n",
       "      <td>855.0</td>\n",
       "      <td>Joel David Moore</td>\n",
       "      <td>1000.0</td>\n",
       "      <td>760505847.0</td>\n",
       "      <td>Action|Adventure|Fantasy|Sci-Fi</td>\n",
       "      <td>...</td>\n",
       "      <td>3054.0</td>\n",
       "      <td>English</td>\n",
       "      <td>USA</td>\n",
       "      <td>PG-13</td>\n",
       "      <td>237000000.0</td>\n",
       "      <td>2009.0</td>\n",
       "      <td>936.0</td>\n",
       "      <td>7.9</td>\n",
       "      <td>1.78</td>\n",
       "      <td>33000</td>\n",
       "    </tr>\n",
       "    <tr>\n",
       "      <th>1</th>\n",
       "      <td>Color</td>\n",
       "      <td>Gore Verbinski</td>\n",
       "      <td>302.0</td>\n",
       "      <td>169.0</td>\n",
       "      <td>563.0</td>\n",
       "      <td>1000.0</td>\n",
       "      <td>Orlando Bloom</td>\n",
       "      <td>40000.0</td>\n",
       "      <td>309404152.0</td>\n",
       "      <td>Action|Adventure|Fantasy</td>\n",
       "      <td>...</td>\n",
       "      <td>1238.0</td>\n",
       "      <td>English</td>\n",
       "      <td>USA</td>\n",
       "      <td>PG-13</td>\n",
       "      <td>300000000.0</td>\n",
       "      <td>2007.0</td>\n",
       "      <td>5000.0</td>\n",
       "      <td>7.1</td>\n",
       "      <td>2.35</td>\n",
       "      <td>0</td>\n",
       "    </tr>\n",
       "    <tr>\n",
       "      <th>2</th>\n",
       "      <td>Color</td>\n",
       "      <td>Sam Mendes</td>\n",
       "      <td>602.0</td>\n",
       "      <td>148.0</td>\n",
       "      <td>0.0</td>\n",
       "      <td>161.0</td>\n",
       "      <td>Rory Kinnear</td>\n",
       "      <td>11000.0</td>\n",
       "      <td>200074175.0</td>\n",
       "      <td>Action|Adventure|Thriller</td>\n",
       "      <td>...</td>\n",
       "      <td>994.0</td>\n",
       "      <td>English</td>\n",
       "      <td>UK</td>\n",
       "      <td>PG-13</td>\n",
       "      <td>245000000.0</td>\n",
       "      <td>2015.0</td>\n",
       "      <td>393.0</td>\n",
       "      <td>6.8</td>\n",
       "      <td>2.35</td>\n",
       "      <td>85000</td>\n",
       "    </tr>\n",
       "    <tr>\n",
       "      <th>3</th>\n",
       "      <td>Color</td>\n",
       "      <td>Christopher Nolan</td>\n",
       "      <td>813.0</td>\n",
       "      <td>164.0</td>\n",
       "      <td>22000.0</td>\n",
       "      <td>23000.0</td>\n",
       "      <td>Christian Bale</td>\n",
       "      <td>27000.0</td>\n",
       "      <td>448130642.0</td>\n",
       "      <td>Action|Thriller</td>\n",
       "      <td>...</td>\n",
       "      <td>2701.0</td>\n",
       "      <td>English</td>\n",
       "      <td>USA</td>\n",
       "      <td>PG-13</td>\n",
       "      <td>250000000.0</td>\n",
       "      <td>2012.0</td>\n",
       "      <td>23000.0</td>\n",
       "      <td>8.5</td>\n",
       "      <td>2.35</td>\n",
       "      <td>164000</td>\n",
       "    </tr>\n",
       "    <tr>\n",
       "      <th>4</th>\n",
       "      <td>NaN</td>\n",
       "      <td>Doug Walker</td>\n",
       "      <td>NaN</td>\n",
       "      <td>NaN</td>\n",
       "      <td>131.0</td>\n",
       "      <td>NaN</td>\n",
       "      <td>Rob Walker</td>\n",
       "      <td>131.0</td>\n",
       "      <td>NaN</td>\n",
       "      <td>Documentary</td>\n",
       "      <td>...</td>\n",
       "      <td>NaN</td>\n",
       "      <td>NaN</td>\n",
       "      <td>NaN</td>\n",
       "      <td>NaN</td>\n",
       "      <td>NaN</td>\n",
       "      <td>NaN</td>\n",
       "      <td>12.0</td>\n",
       "      <td>7.1</td>\n",
       "      <td>NaN</td>\n",
       "      <td>0</td>\n",
       "    </tr>\n",
       "    <tr>\n",
       "      <th>...</th>\n",
       "      <td>...</td>\n",
       "      <td>...</td>\n",
       "      <td>...</td>\n",
       "      <td>...</td>\n",
       "      <td>...</td>\n",
       "      <td>...</td>\n",
       "      <td>...</td>\n",
       "      <td>...</td>\n",
       "      <td>...</td>\n",
       "      <td>...</td>\n",
       "      <td>...</td>\n",
       "      <td>...</td>\n",
       "      <td>...</td>\n",
       "      <td>...</td>\n",
       "      <td>...</td>\n",
       "      <td>...</td>\n",
       "      <td>...</td>\n",
       "      <td>...</td>\n",
       "      <td>...</td>\n",
       "      <td>...</td>\n",
       "      <td>...</td>\n",
       "    </tr>\n",
       "    <tr>\n",
       "      <th>5038</th>\n",
       "      <td>Color</td>\n",
       "      <td>Scott Smith</td>\n",
       "      <td>1.0</td>\n",
       "      <td>87.0</td>\n",
       "      <td>2.0</td>\n",
       "      <td>318.0</td>\n",
       "      <td>Daphne Zuniga</td>\n",
       "      <td>637.0</td>\n",
       "      <td>NaN</td>\n",
       "      <td>Comedy|Drama</td>\n",
       "      <td>...</td>\n",
       "      <td>6.0</td>\n",
       "      <td>English</td>\n",
       "      <td>Canada</td>\n",
       "      <td>NaN</td>\n",
       "      <td>NaN</td>\n",
       "      <td>2013.0</td>\n",
       "      <td>470.0</td>\n",
       "      <td>7.7</td>\n",
       "      <td>NaN</td>\n",
       "      <td>84</td>\n",
       "    </tr>\n",
       "    <tr>\n",
       "      <th>5039</th>\n",
       "      <td>Color</td>\n",
       "      <td>NaN</td>\n",
       "      <td>43.0</td>\n",
       "      <td>43.0</td>\n",
       "      <td>NaN</td>\n",
       "      <td>319.0</td>\n",
       "      <td>Valorie Curry</td>\n",
       "      <td>841.0</td>\n",
       "      <td>NaN</td>\n",
       "      <td>Crime|Drama|Mystery|Thriller</td>\n",
       "      <td>...</td>\n",
       "      <td>359.0</td>\n",
       "      <td>English</td>\n",
       "      <td>USA</td>\n",
       "      <td>TV-14</td>\n",
       "      <td>NaN</td>\n",
       "      <td>NaN</td>\n",
       "      <td>593.0</td>\n",
       "      <td>7.5</td>\n",
       "      <td>16.00</td>\n",
       "      <td>32000</td>\n",
       "    </tr>\n",
       "    <tr>\n",
       "      <th>5040</th>\n",
       "      <td>Color</td>\n",
       "      <td>Benjamin Roberds</td>\n",
       "      <td>13.0</td>\n",
       "      <td>76.0</td>\n",
       "      <td>0.0</td>\n",
       "      <td>0.0</td>\n",
       "      <td>Maxwell Moody</td>\n",
       "      <td>0.0</td>\n",
       "      <td>NaN</td>\n",
       "      <td>Drama|Horror|Thriller</td>\n",
       "      <td>...</td>\n",
       "      <td>3.0</td>\n",
       "      <td>English</td>\n",
       "      <td>USA</td>\n",
       "      <td>NaN</td>\n",
       "      <td>1400.0</td>\n",
       "      <td>2013.0</td>\n",
       "      <td>0.0</td>\n",
       "      <td>6.3</td>\n",
       "      <td>NaN</td>\n",
       "      <td>16</td>\n",
       "    </tr>\n",
       "    <tr>\n",
       "      <th>5041</th>\n",
       "      <td>Color</td>\n",
       "      <td>Daniel Hsia</td>\n",
       "      <td>14.0</td>\n",
       "      <td>100.0</td>\n",
       "      <td>0.0</td>\n",
       "      <td>489.0</td>\n",
       "      <td>Daniel Henney</td>\n",
       "      <td>946.0</td>\n",
       "      <td>10443.0</td>\n",
       "      <td>Comedy|Drama|Romance</td>\n",
       "      <td>...</td>\n",
       "      <td>9.0</td>\n",
       "      <td>English</td>\n",
       "      <td>USA</td>\n",
       "      <td>PG-13</td>\n",
       "      <td>NaN</td>\n",
       "      <td>2012.0</td>\n",
       "      <td>719.0</td>\n",
       "      <td>6.3</td>\n",
       "      <td>2.35</td>\n",
       "      <td>660</td>\n",
       "    </tr>\n",
       "    <tr>\n",
       "      <th>5042</th>\n",
       "      <td>Color</td>\n",
       "      <td>Jon Gunn</td>\n",
       "      <td>43.0</td>\n",
       "      <td>90.0</td>\n",
       "      <td>16.0</td>\n",
       "      <td>16.0</td>\n",
       "      <td>Brian Herzlinger</td>\n",
       "      <td>86.0</td>\n",
       "      <td>85222.0</td>\n",
       "      <td>Documentary</td>\n",
       "      <td>...</td>\n",
       "      <td>84.0</td>\n",
       "      <td>English</td>\n",
       "      <td>USA</td>\n",
       "      <td>PG</td>\n",
       "      <td>1100.0</td>\n",
       "      <td>2004.0</td>\n",
       "      <td>23.0</td>\n",
       "      <td>6.6</td>\n",
       "      <td>1.85</td>\n",
       "      <td>456</td>\n",
       "    </tr>\n",
       "  </tbody>\n",
       "</table>\n",
       "<p>5043 rows × 28 columns</p>\n",
       "</div>"
      ],
      "text/plain": [
       "      color      director_name  num_critic_for_reviews  duration  \\\n",
       "0     Color      James Cameron                   723.0     178.0   \n",
       "1     Color     Gore Verbinski                   302.0     169.0   \n",
       "2     Color         Sam Mendes                   602.0     148.0   \n",
       "3     Color  Christopher Nolan                   813.0     164.0   \n",
       "4       NaN        Doug Walker                     NaN       NaN   \n",
       "...     ...                ...                     ...       ...   \n",
       "5038  Color        Scott Smith                     1.0      87.0   \n",
       "5039  Color                NaN                    43.0      43.0   \n",
       "5040  Color   Benjamin Roberds                    13.0      76.0   \n",
       "5041  Color        Daniel Hsia                    14.0     100.0   \n",
       "5042  Color           Jon Gunn                    43.0      90.0   \n",
       "\n",
       "      director_facebook_likes  actor_3_facebook_likes      actor_2_name  \\\n",
       "0                         0.0                   855.0  Joel David Moore   \n",
       "1                       563.0                  1000.0     Orlando Bloom   \n",
       "2                         0.0                   161.0      Rory Kinnear   \n",
       "3                     22000.0                 23000.0    Christian Bale   \n",
       "4                       131.0                     NaN        Rob Walker   \n",
       "...                       ...                     ...               ...   \n",
       "5038                      2.0                   318.0     Daphne Zuniga   \n",
       "5039                      NaN                   319.0     Valorie Curry   \n",
       "5040                      0.0                     0.0     Maxwell Moody   \n",
       "5041                      0.0                   489.0     Daniel Henney   \n",
       "5042                     16.0                    16.0  Brian Herzlinger   \n",
       "\n",
       "      actor_1_facebook_likes        gross                           genres  \\\n",
       "0                     1000.0  760505847.0  Action|Adventure|Fantasy|Sci-Fi   \n",
       "1                    40000.0  309404152.0         Action|Adventure|Fantasy   \n",
       "2                    11000.0  200074175.0        Action|Adventure|Thriller   \n",
       "3                    27000.0  448130642.0                  Action|Thriller   \n",
       "4                      131.0          NaN                      Documentary   \n",
       "...                      ...          ...                              ...   \n",
       "5038                   637.0          NaN                     Comedy|Drama   \n",
       "5039                   841.0          NaN     Crime|Drama|Mystery|Thriller   \n",
       "5040                     0.0          NaN            Drama|Horror|Thriller   \n",
       "5041                   946.0      10443.0             Comedy|Drama|Romance   \n",
       "5042                    86.0      85222.0                      Documentary   \n",
       "\n",
       "      ... num_user_for_reviews language  country  content_rating       budget  \\\n",
       "0     ...               3054.0  English      USA           PG-13  237000000.0   \n",
       "1     ...               1238.0  English      USA           PG-13  300000000.0   \n",
       "2     ...                994.0  English       UK           PG-13  245000000.0   \n",
       "3     ...               2701.0  English      USA           PG-13  250000000.0   \n",
       "4     ...                  NaN      NaN      NaN             NaN          NaN   \n",
       "...   ...                  ...      ...      ...             ...          ...   \n",
       "5038  ...                  6.0  English   Canada             NaN          NaN   \n",
       "5039  ...                359.0  English      USA           TV-14          NaN   \n",
       "5040  ...                  3.0  English      USA             NaN       1400.0   \n",
       "5041  ...                  9.0  English      USA           PG-13          NaN   \n",
       "5042  ...                 84.0  English      USA              PG       1100.0   \n",
       "\n",
       "      title_year actor_2_facebook_likes imdb_score  aspect_ratio  \\\n",
       "0         2009.0                  936.0        7.9          1.78   \n",
       "1         2007.0                 5000.0        7.1          2.35   \n",
       "2         2015.0                  393.0        6.8          2.35   \n",
       "3         2012.0                23000.0        8.5          2.35   \n",
       "4            NaN                   12.0        7.1           NaN   \n",
       "...          ...                    ...        ...           ...   \n",
       "5038      2013.0                  470.0        7.7           NaN   \n",
       "5039         NaN                  593.0        7.5         16.00   \n",
       "5040      2013.0                    0.0        6.3           NaN   \n",
       "5041      2012.0                  719.0        6.3          2.35   \n",
       "5042      2004.0                   23.0        6.6          1.85   \n",
       "\n",
       "     movie_facebook_likes  \n",
       "0                   33000  \n",
       "1                       0  \n",
       "2                   85000  \n",
       "3                  164000  \n",
       "4                       0  \n",
       "...                   ...  \n",
       "5038                   84  \n",
       "5039                32000  \n",
       "5040                   16  \n",
       "5041                  660  \n",
       "5042                  456  \n",
       "\n",
       "[5043 rows x 28 columns]"
      ]
     },
     "execution_count": 44,
     "metadata": {},
     "output_type": "execute_result"
    }
   ],
   "source": [
    "# Test de funcionamiento\n",
    "\n",
    "tabla_completa = load_dataframe(MOVIES_DATA)\n",
    "\n",
    "tabla_completa"
   ]
  },
  {
   "cell_type": "markdown",
   "metadata": {},
   "source": [
    "### E.2. Tabla de los campos principales\n",
    "\n",
    "A pertir de la tabla anterior, construimos otra con sólo algumos de los campos:"
   ]
  },
  {
   "cell_type": "code",
   "execution_count": null,
   "metadata": {
    "scrolled": true
   },
   "outputs": [],
   "source": [
    "# Esta celda debe ser completada por el estudiante\n",
    "\n"
   ]
  },
  {
   "cell_type": "code",
   "execution_count": null,
   "metadata": {
    "scrolled": true
   },
   "outputs": [
    {
     "data": {
      "text/html": [
       "<div>\n",
       "<style scoped>\n",
       "    .dataframe tbody tr th:only-of-type {\n",
       "        vertical-align: middle;\n",
       "    }\n",
       "\n",
       "    .dataframe tbody tr th {\n",
       "        vertical-align: top;\n",
       "    }\n",
       "\n",
       "    .dataframe thead th {\n",
       "        text-align: right;\n",
       "    }\n",
       "</style>\n",
       "<table border=\"1\" class=\"dataframe\">\n",
       "  <thead>\n",
       "    <tr style=\"text-align: right;\">\n",
       "      <th></th>\n",
       "      <th>movie_title</th>\n",
       "      <th>color</th>\n",
       "      <th>director_name</th>\n",
       "      <th>language</th>\n",
       "      <th>country</th>\n",
       "      <th>actor_1_name</th>\n",
       "      <th>movie_imdb_link</th>\n",
       "    </tr>\n",
       "  </thead>\n",
       "  <tbody>\n",
       "    <tr>\n",
       "      <th>0</th>\n",
       "      <td>Avatar</td>\n",
       "      <td>Color</td>\n",
       "      <td>James Cameron</td>\n",
       "      <td>English</td>\n",
       "      <td>USA</td>\n",
       "      <td>CCH Pounder</td>\n",
       "      <td>http://www.imdb.com/title/tt0499549/?ref_=fn_t...</td>\n",
       "    </tr>\n",
       "    <tr>\n",
       "      <th>1</th>\n",
       "      <td>Pirates of the Caribbean: At World's End</td>\n",
       "      <td>Color</td>\n",
       "      <td>Gore Verbinski</td>\n",
       "      <td>English</td>\n",
       "      <td>USA</td>\n",
       "      <td>Johnny Depp</td>\n",
       "      <td>http://www.imdb.com/title/tt0449088/?ref_=fn_t...</td>\n",
       "    </tr>\n",
       "    <tr>\n",
       "      <th>2</th>\n",
       "      <td>Spectre</td>\n",
       "      <td>Color</td>\n",
       "      <td>Sam Mendes</td>\n",
       "      <td>English</td>\n",
       "      <td>UK</td>\n",
       "      <td>Christoph Waltz</td>\n",
       "      <td>http://www.imdb.com/title/tt2379713/?ref_=fn_t...</td>\n",
       "    </tr>\n",
       "    <tr>\n",
       "      <th>3</th>\n",
       "      <td>The Dark Knight Rises</td>\n",
       "      <td>Color</td>\n",
       "      <td>Christopher Nolan</td>\n",
       "      <td>English</td>\n",
       "      <td>USA</td>\n",
       "      <td>Tom Hardy</td>\n",
       "      <td>http://www.imdb.com/title/tt1345836/?ref_=fn_t...</td>\n",
       "    </tr>\n",
       "    <tr>\n",
       "      <th>4</th>\n",
       "      <td>Star Wars: Episode VII - The Force Awakens    ...</td>\n",
       "      <td>NaN</td>\n",
       "      <td>Doug Walker</td>\n",
       "      <td>NaN</td>\n",
       "      <td>NaN</td>\n",
       "      <td>Doug Walker</td>\n",
       "      <td>http://www.imdb.com/title/tt5289954/?ref_=fn_t...</td>\n",
       "    </tr>\n",
       "    <tr>\n",
       "      <th>...</th>\n",
       "      <td>...</td>\n",
       "      <td>...</td>\n",
       "      <td>...</td>\n",
       "      <td>...</td>\n",
       "      <td>...</td>\n",
       "      <td>...</td>\n",
       "      <td>...</td>\n",
       "    </tr>\n",
       "    <tr>\n",
       "      <th>5038</th>\n",
       "      <td>Signed Sealed Delivered</td>\n",
       "      <td>Color</td>\n",
       "      <td>Scott Smith</td>\n",
       "      <td>English</td>\n",
       "      <td>Canada</td>\n",
       "      <td>Eric Mabius</td>\n",
       "      <td>http://www.imdb.com/title/tt3000844/?ref_=fn_t...</td>\n",
       "    </tr>\n",
       "    <tr>\n",
       "      <th>5039</th>\n",
       "      <td>The Following</td>\n",
       "      <td>Color</td>\n",
       "      <td>NaN</td>\n",
       "      <td>English</td>\n",
       "      <td>USA</td>\n",
       "      <td>Natalie Zea</td>\n",
       "      <td>http://www.imdb.com/title/tt2071645/?ref_=fn_t...</td>\n",
       "    </tr>\n",
       "    <tr>\n",
       "      <th>5040</th>\n",
       "      <td>A Plague So Pleasant</td>\n",
       "      <td>Color</td>\n",
       "      <td>Benjamin Roberds</td>\n",
       "      <td>English</td>\n",
       "      <td>USA</td>\n",
       "      <td>Eva Boehnke</td>\n",
       "      <td>http://www.imdb.com/title/tt2107644/?ref_=fn_t...</td>\n",
       "    </tr>\n",
       "    <tr>\n",
       "      <th>5041</th>\n",
       "      <td>Shanghai Calling</td>\n",
       "      <td>Color</td>\n",
       "      <td>Daniel Hsia</td>\n",
       "      <td>English</td>\n",
       "      <td>USA</td>\n",
       "      <td>Alan Ruck</td>\n",
       "      <td>http://www.imdb.com/title/tt2070597/?ref_=fn_t...</td>\n",
       "    </tr>\n",
       "    <tr>\n",
       "      <th>5042</th>\n",
       "      <td>My Date with Drew</td>\n",
       "      <td>Color</td>\n",
       "      <td>Jon Gunn</td>\n",
       "      <td>English</td>\n",
       "      <td>USA</td>\n",
       "      <td>John August</td>\n",
       "      <td>http://www.imdb.com/title/tt0378407/?ref_=fn_t...</td>\n",
       "    </tr>\n",
       "  </tbody>\n",
       "</table>\n",
       "<p>5043 rows × 7 columns</p>\n",
       "</div>"
      ],
      "text/plain": [
       "                                            movie_title  color  \\\n",
       "0                                               Avatar   Color   \n",
       "1             Pirates of the Caribbean: At World's End   Color   \n",
       "2                                              Spectre   Color   \n",
       "3                                The Dark Knight Rises   Color   \n",
       "4     Star Wars: Episode VII - The Force Awakens    ...    NaN   \n",
       "...                                                 ...    ...   \n",
       "5038                           Signed Sealed Delivered   Color   \n",
       "5039                         The Following               Color   \n",
       "5040                              A Plague So Pleasant   Color   \n",
       "5041                                  Shanghai Calling   Color   \n",
       "5042                                 My Date with Drew   Color   \n",
       "\n",
       "          director_name language country     actor_1_name  \\\n",
       "0         James Cameron  English     USA      CCH Pounder   \n",
       "1        Gore Verbinski  English     USA      Johnny Depp   \n",
       "2            Sam Mendes  English      UK  Christoph Waltz   \n",
       "3     Christopher Nolan  English     USA        Tom Hardy   \n",
       "4           Doug Walker      NaN     NaN      Doug Walker   \n",
       "...                 ...      ...     ...              ...   \n",
       "5038        Scott Smith  English  Canada      Eric Mabius   \n",
       "5039                NaN  English     USA      Natalie Zea   \n",
       "5040   Benjamin Roberds  English     USA      Eva Boehnke   \n",
       "5041        Daniel Hsia  English     USA        Alan Ruck   \n",
       "5042           Jon Gunn  English     USA      John August   \n",
       "\n",
       "                                        movie_imdb_link  \n",
       "0     http://www.imdb.com/title/tt0499549/?ref_=fn_t...  \n",
       "1     http://www.imdb.com/title/tt0449088/?ref_=fn_t...  \n",
       "2     http://www.imdb.com/title/tt2379713/?ref_=fn_t...  \n",
       "3     http://www.imdb.com/title/tt1345836/?ref_=fn_t...  \n",
       "4     http://www.imdb.com/title/tt5289954/?ref_=fn_t...  \n",
       "...                                                 ...  \n",
       "5038  http://www.imdb.com/title/tt3000844/?ref_=fn_t...  \n",
       "5039  http://www.imdb.com/title/tt2071645/?ref_=fn_t...  \n",
       "5040  http://www.imdb.com/title/tt2107644/?ref_=fn_t...  \n",
       "5041  http://www.imdb.com/title/tt2070597/?ref_=fn_t...  \n",
       "5042  http://www.imdb.com/title/tt0378407/?ref_=fn_t...  \n",
       "\n",
       "[5043 rows x 7 columns]"
      ]
     },
     "execution_count": 46,
     "metadata": {},
     "output_type": "execute_result"
    }
   ],
   "source": [
    "# test de comprobación\n",
    "\n",
    "tabla_breve = fields_selected_dataframe(tabla_completa)\n",
    "\n",
    "tabla_breve"
   ]
  },
  {
   "cell_type": "markdown",
   "metadata": {},
   "source": [
    "### E.3. Columnas de una tabla\n",
    "\n",
    "¿Cuáles son las columnas de nuestrsa `tabla_breve`?"
   ]
  },
  {
   "cell_type": "code",
   "execution_count": null,
   "metadata": {},
   "outputs": [
    {
     "data": {
      "text/plain": [
       "Index(['movie_title', 'color', 'director_name', 'language', 'country',\n",
       "       'actor_1_name', 'movie_imdb_link'],\n",
       "      dtype='object')"
      ]
     },
     "execution_count": 47,
     "metadata": {},
     "output_type": "execute_result"
    }
   ],
   "source": [
    "# Esta celda debe ser completada por el estudiante\n",
    "\n"
   ]
  },
  {
   "cell_type": "markdown",
   "metadata": {},
   "source": [
    "### E.4. Campos missing\n",
    "\n",
    "Algunos campos muestran un valod `NaN`. Deseamos cambiarlo por una cadena de caracteres: `\"Desc\"`."
   ]
  },
  {
   "cell_type": "code",
   "execution_count": null,
   "metadata": {
    "scrolled": true
   },
   "outputs": [],
   "source": [
    "# Esta celda debe ser completada por el estudiante\n",
    "\n"
   ]
  },
  {
   "cell_type": "code",
   "execution_count": null,
   "metadata": {
    "scrolled": true
   },
   "outputs": [
    {
     "data": {
      "text/html": [
       "<div>\n",
       "<style scoped>\n",
       "    .dataframe tbody tr th:only-of-type {\n",
       "        vertical-align: middle;\n",
       "    }\n",
       "\n",
       "    .dataframe tbody tr th {\n",
       "        vertical-align: top;\n",
       "    }\n",
       "\n",
       "    .dataframe thead th {\n",
       "        text-align: right;\n",
       "    }\n",
       "</style>\n",
       "<table border=\"1\" class=\"dataframe\">\n",
       "  <thead>\n",
       "    <tr style=\"text-align: right;\">\n",
       "      <th></th>\n",
       "      <th>movie_title</th>\n",
       "      <th>color</th>\n",
       "      <th>director_name</th>\n",
       "      <th>language</th>\n",
       "      <th>country</th>\n",
       "      <th>actor_1_name</th>\n",
       "      <th>movie_imdb_link</th>\n",
       "    </tr>\n",
       "  </thead>\n",
       "  <tbody>\n",
       "    <tr>\n",
       "      <th>0</th>\n",
       "      <td>Avatar</td>\n",
       "      <td>Color</td>\n",
       "      <td>James Cameron</td>\n",
       "      <td>English</td>\n",
       "      <td>USA</td>\n",
       "      <td>CCH Pounder</td>\n",
       "      <td>http://www.imdb.com/title/tt0499549/?ref_=fn_t...</td>\n",
       "    </tr>\n",
       "    <tr>\n",
       "      <th>1</th>\n",
       "      <td>Pirates of the Caribbean: At World's End</td>\n",
       "      <td>Color</td>\n",
       "      <td>Gore Verbinski</td>\n",
       "      <td>English</td>\n",
       "      <td>USA</td>\n",
       "      <td>Johnny Depp</td>\n",
       "      <td>http://www.imdb.com/title/tt0449088/?ref_=fn_t...</td>\n",
       "    </tr>\n",
       "    <tr>\n",
       "      <th>2</th>\n",
       "      <td>Spectre</td>\n",
       "      <td>Color</td>\n",
       "      <td>Sam Mendes</td>\n",
       "      <td>English</td>\n",
       "      <td>UK</td>\n",
       "      <td>Christoph Waltz</td>\n",
       "      <td>http://www.imdb.com/title/tt2379713/?ref_=fn_t...</td>\n",
       "    </tr>\n",
       "    <tr>\n",
       "      <th>3</th>\n",
       "      <td>The Dark Knight Rises</td>\n",
       "      <td>Color</td>\n",
       "      <td>Christopher Nolan</td>\n",
       "      <td>English</td>\n",
       "      <td>USA</td>\n",
       "      <td>Tom Hardy</td>\n",
       "      <td>http://www.imdb.com/title/tt1345836/?ref_=fn_t...</td>\n",
       "    </tr>\n",
       "    <tr>\n",
       "      <th>4</th>\n",
       "      <td>Star Wars: Episode VII - The Force Awakens    ...</td>\n",
       "      <td>Desc</td>\n",
       "      <td>Doug Walker</td>\n",
       "      <td>Desc</td>\n",
       "      <td>Desc</td>\n",
       "      <td>Doug Walker</td>\n",
       "      <td>http://www.imdb.com/title/tt5289954/?ref_=fn_t...</td>\n",
       "    </tr>\n",
       "    <tr>\n",
       "      <th>...</th>\n",
       "      <td>...</td>\n",
       "      <td>...</td>\n",
       "      <td>...</td>\n",
       "      <td>...</td>\n",
       "      <td>...</td>\n",
       "      <td>...</td>\n",
       "      <td>...</td>\n",
       "    </tr>\n",
       "    <tr>\n",
       "      <th>5038</th>\n",
       "      <td>Signed Sealed Delivered</td>\n",
       "      <td>Color</td>\n",
       "      <td>Scott Smith</td>\n",
       "      <td>English</td>\n",
       "      <td>Canada</td>\n",
       "      <td>Eric Mabius</td>\n",
       "      <td>http://www.imdb.com/title/tt3000844/?ref_=fn_t...</td>\n",
       "    </tr>\n",
       "    <tr>\n",
       "      <th>5039</th>\n",
       "      <td>The Following</td>\n",
       "      <td>Color</td>\n",
       "      <td>Desc</td>\n",
       "      <td>English</td>\n",
       "      <td>USA</td>\n",
       "      <td>Natalie Zea</td>\n",
       "      <td>http://www.imdb.com/title/tt2071645/?ref_=fn_t...</td>\n",
       "    </tr>\n",
       "    <tr>\n",
       "      <th>5040</th>\n",
       "      <td>A Plague So Pleasant</td>\n",
       "      <td>Color</td>\n",
       "      <td>Benjamin Roberds</td>\n",
       "      <td>English</td>\n",
       "      <td>USA</td>\n",
       "      <td>Eva Boehnke</td>\n",
       "      <td>http://www.imdb.com/title/tt2107644/?ref_=fn_t...</td>\n",
       "    </tr>\n",
       "    <tr>\n",
       "      <th>5041</th>\n",
       "      <td>Shanghai Calling</td>\n",
       "      <td>Color</td>\n",
       "      <td>Daniel Hsia</td>\n",
       "      <td>English</td>\n",
       "      <td>USA</td>\n",
       "      <td>Alan Ruck</td>\n",
       "      <td>http://www.imdb.com/title/tt2070597/?ref_=fn_t...</td>\n",
       "    </tr>\n",
       "    <tr>\n",
       "      <th>5042</th>\n",
       "      <td>My Date with Drew</td>\n",
       "      <td>Color</td>\n",
       "      <td>Jon Gunn</td>\n",
       "      <td>English</td>\n",
       "      <td>USA</td>\n",
       "      <td>John August</td>\n",
       "      <td>http://www.imdb.com/title/tt0378407/?ref_=fn_t...</td>\n",
       "    </tr>\n",
       "  </tbody>\n",
       "</table>\n",
       "<p>5043 rows × 7 columns</p>\n",
       "</div>"
      ],
      "text/plain": [
       "                                            movie_title  color  \\\n",
       "0                                               Avatar   Color   \n",
       "1             Pirates of the Caribbean: At World's End   Color   \n",
       "2                                              Spectre   Color   \n",
       "3                                The Dark Knight Rises   Color   \n",
       "4     Star Wars: Episode VII - The Force Awakens    ...   Desc   \n",
       "...                                                 ...    ...   \n",
       "5038                           Signed Sealed Delivered   Color   \n",
       "5039                         The Following               Color   \n",
       "5040                              A Plague So Pleasant   Color   \n",
       "5041                                  Shanghai Calling   Color   \n",
       "5042                                 My Date with Drew   Color   \n",
       "\n",
       "          director_name language country     actor_1_name  \\\n",
       "0         James Cameron  English     USA      CCH Pounder   \n",
       "1        Gore Verbinski  English     USA      Johnny Depp   \n",
       "2            Sam Mendes  English      UK  Christoph Waltz   \n",
       "3     Christopher Nolan  English     USA        Tom Hardy   \n",
       "4           Doug Walker     Desc    Desc      Doug Walker   \n",
       "...                 ...      ...     ...              ...   \n",
       "5038        Scott Smith  English  Canada      Eric Mabius   \n",
       "5039               Desc  English     USA      Natalie Zea   \n",
       "5040   Benjamin Roberds  English     USA      Eva Boehnke   \n",
       "5041        Daniel Hsia  English     USA        Alan Ruck   \n",
       "5042           Jon Gunn  English     USA      John August   \n",
       "\n",
       "                                        movie_imdb_link  \n",
       "0     http://www.imdb.com/title/tt0499549/?ref_=fn_t...  \n",
       "1     http://www.imdb.com/title/tt0449088/?ref_=fn_t...  \n",
       "2     http://www.imdb.com/title/tt2379713/?ref_=fn_t...  \n",
       "3     http://www.imdb.com/title/tt1345836/?ref_=fn_t...  \n",
       "4     http://www.imdb.com/title/tt5289954/?ref_=fn_t...  \n",
       "...                                                 ...  \n",
       "5038  http://www.imdb.com/title/tt3000844/?ref_=fn_t...  \n",
       "5039  http://www.imdb.com/title/tt2071645/?ref_=fn_t...  \n",
       "5040  http://www.imdb.com/title/tt2107644/?ref_=fn_t...  \n",
       "5041  http://www.imdb.com/title/tt2070597/?ref_=fn_t...  \n",
       "5042  http://www.imdb.com/title/tt0378407/?ref_=fn_t...  \n",
       "\n",
       "[5043 rows x 7 columns]"
      ]
     },
     "execution_count": 49,
     "metadata": {},
     "output_type": "execute_result"
    }
   ],
   "source": [
    "# Test de comprobación\n",
    "\n",
    "tabla_breve"
   ]
  },
  {
   "cell_type": "markdown",
   "metadata": {},
   "source": [
    "### E.5. Director $\\rightarrow$ películas y número de películas"
   ]
  },
  {
   "cell_type": "markdown",
   "metadata": {},
   "source": [
    "Función que averigua la lista de títulos de películas de un director dado:"
   ]
  },
  {
   "cell_type": "code",
   "execution_count": null,
   "metadata": {},
   "outputs": [],
   "source": [
    "# Esta celda debe ser completada por el estudiante\n",
    "\n"
   ]
  },
  {
   "cell_type": "code",
   "execution_count": null,
   "metadata": {},
   "outputs": [
    {
     "data": {
      "text/html": [
       "<div>\n",
       "<style scoped>\n",
       "    .dataframe tbody tr th:only-of-type {\n",
       "        vertical-align: middle;\n",
       "    }\n",
       "\n",
       "    .dataframe tbody tr th {\n",
       "        vertical-align: top;\n",
       "    }\n",
       "\n",
       "    .dataframe thead th {\n",
       "        text-align: right;\n",
       "    }\n",
       "</style>\n",
       "<table border=\"1\" class=\"dataframe\">\n",
       "  <thead>\n",
       "    <tr style=\"text-align: right;\">\n",
       "      <th></th>\n",
       "      <th>movie_title</th>\n",
       "    </tr>\n",
       "  </thead>\n",
       "  <tbody>\n",
       "    <tr>\n",
       "      <th>0</th>\n",
       "      <td>Avatar</td>\n",
       "    </tr>\n",
       "    <tr>\n",
       "      <th>26</th>\n",
       "      <td>Titanic</td>\n",
       "    </tr>\n",
       "    <tr>\n",
       "      <th>288</th>\n",
       "      <td>Terminator 2: Judgment Day</td>\n",
       "    </tr>\n",
       "    <tr>\n",
       "      <th>291</th>\n",
       "      <td>True Lies</td>\n",
       "    </tr>\n",
       "    <tr>\n",
       "      <th>606</th>\n",
       "      <td>The Abyss</td>\n",
       "    </tr>\n",
       "    <tr>\n",
       "      <th>2486</th>\n",
       "      <td>Aliens</td>\n",
       "    </tr>\n",
       "    <tr>\n",
       "      <th>3575</th>\n",
       "      <td>The Terminator</td>\n",
       "    </tr>\n",
       "  </tbody>\n",
       "</table>\n",
       "</div>"
      ],
      "text/plain": [
       "                      movie_title\n",
       "0                         Avatar \n",
       "26                       Titanic \n",
       "288   Terminator 2: Judgment Day \n",
       "291                    True Lies \n",
       "606                    The Abyss \n",
       "2486                      Aliens \n",
       "3575              The Terminator "
      ]
     },
     "execution_count": 51,
     "metadata": {},
     "output_type": "execute_result"
    }
   ],
   "source": [
    "# Test de comprobación:\n",
    "\n",
    "tabla_tits = titulos_de_director_df(tabla_breve, \"James Cameron\")\n",
    "tabla_tits"
   ]
  },
  {
   "cell_type": "code",
   "execution_count": null,
   "metadata": {},
   "outputs": [
    {
     "name": "stdout",
     "output_type": "stream",
     "text": [
      "['Avatar\\xa0', 'Titanic\\xa0', 'Terminator 2: Judgment Day\\xa0', 'True Lies\\xa0', 'The Abyss\\xa0', 'Aliens\\xa0', 'The Terminator\\xa0']\n"
     ]
    }
   ],
   "source": [
    "list_tits = tabla_tits[\"movie_title\"].to_list()\n",
    "print(list_tits)"
   ]
  },
  {
   "cell_type": "markdown",
   "metadata": {},
   "source": [
    "Deseamos saber qué directores han dirigido el máximo número de películas, junto con ese número de películas."
   ]
  },
  {
   "cell_type": "code",
   "execution_count": null,
   "metadata": {},
   "outputs": [],
   "source": [
    "# Esta celda debe ser completada por el estudiante\n",
    "\n"
   ]
  },
  {
   "cell_type": "code",
   "execution_count": null,
   "metadata": {},
   "outputs": [
    {
     "data": {
      "text/plain": [
       "(['Steven Spielberg'], 26)"
      ]
     },
     "execution_count": 54,
     "metadata": {},
     "output_type": "execute_result"
    }
   ],
   "source": [
    "# test de comprobación:\n",
    "\n",
    "directors_max_movies_df(tabla_breve)"
   ]
  },
  {
   "cell_type": "markdown",
   "metadata": {
    "collapsed": true,
    "jupyter": {
     "outputs_hidden": true
    }
   },
   "source": [
    "# Parte F. Un cálculo masivo con map-reduce [0,5 puntos]\n",
    "\n",
    "En este apartado se ha de realizar un programa aparte, *basado en la técnica de map-reduce*, que calcule, para cada idioma, en qué países en que se han producido películas y la suma de los presupuestos de dichas películas. Cuando el idioma o el país o el presupuesto no se conozcan, no se considerará esta película.\n",
    "\n",
    "    C:\\...> python language_budget_countries.py -q algunos_campos.txt\n",
    "\n",
    "El programa funcionará necesariamente con la técnica map-reduce, que podemos poner en juego con la librería `mrjob`.\n",
    "\n",
    "El funcionamiento del mismo se puede activar también desde aquí:"
   ]
  },
  {
   "cell_type": "code",
   "execution_count": null,
   "metadata": {
    "scrolled": true
   },
   "outputs": [
    {
     "name": "stdout",
     "output_type": "stream",
     "text": [
      "\"Aboriginal\"\t[[\"UK\",\"Australia\"],86000000]\n",
      "\"Arabic\"\t[[\"Turkey\",\"Egypt\",\"France\",\"United Arab Emirates\"],11225000]\n",
      "\"Aramaic\"\t[[\"USA\"],30000000]\n",
      "\"Bosnian\"\t[[\"USA\"],13000000]\n",
      "\"Cantonese\"\t[[\"Hong Kong\",\"China\"],154500000]\n",
      "\"Chinese\"\t[[\"China\"],12000000]\n",
      "\"Czech\"\t[[\"Czech Republic\"],84450000]\n",
      "\"Danish\"\t[[\"Denmark\"],50100000]\n",
      "\"Dari\"\t[[\"USA\",\"Afghanistan\"],20046000]\n",
      "\"Dutch\"\t[[\"Netherlands\"],32150000]\n",
      "\"Dzongkha\"\t[[\"Australia\"],1800000]\n",
      "\"English\"\t[[\"USA\",\"UK\",\"New Zealand\",\"Canada\",\"Australia\",\"Germany\",\"China\",\"New Line\",\"France\",\"Japan\",\"Spain\",\"Hong Kong\",\"Czech Republic\",\"South Korea\",\"Peru\",\"Italy\",\"Aruba\",\"Denmark\",\"Libya\",\"Belgium\",\"Ireland\",\"South Africa\",\"Switzerland\",\"Romania\",\"West Germany\",\"Chile\",\"Hungary\",\"Russia\",\"Mexico\",\"Panama\",\"Greece\",\"Netherlands\",\"Norway\",\"Official site\",\"Bulgaria\",\"Iran\",\"Georgia\",\"India\",\"Thailand\",\"Nigeria\",\"Bahamas\",\"Iceland\",\"Brazil\",\"Poland\",\"Kyrgyzstan\",\"Philippines\"],141954875246]\n",
      "\"Filipino\"\t[[\"USA\"],80000000]\n",
      "\"French\"\t[[\"France\",\"Canada\",\"Finland\",\"UK\"],1039754500]\n",
      "\"German\"\t[[\"Germany\",\"West Germany\",\"Switzerland\",\"Mexico\"],119400000]\n",
      "\"Hebrew\"\t[[\"Israel\"],3450000]\n",
      "\"Hindi\"\t[[\"India\",\"USA\"],1027667600]\n",
      "\"Hungarian\"\t[[\"Hungary\"],2500000000]\n",
      "\"Icelandic\"\t[[\"Iceland\"],10000000]\n",
      "\"Indonesian\"\t[[\"Indonesia\",\"UK\"],2100000]\n",
      "\"Italian\"\t[[\"UK\",\"Italy\"],54750000]\n",
      "\"Japanese\"\t[[\"Japan\",\"USA\"],6801919898]\n",
      "\"Kazakh\"\t[[\"France\"],25000000]\n",
      "\"Korean\"\t[[\"South Korea\"],16449300000]\n",
      "\"Mandarin\"\t[[\"China\",\"Hong Kong\",\"Taiwan\"],1199632000]\n",
      "\"Maya\"\t[[\"USA\"],40000000]\n",
      "\"Mongolian\"\t[[\"Russia\"],20000000]\n",
      "\"None\"\t[[\"Canada\",\"USA\"],16500000]\n",
      "\"Norwegian\"\t[[\"Norway\"],66500000]\n",
      "\"Panjabi\"\t[[\"Canada\"],3000000]\n",
      "\"Persian\"\t[[\"Iran\"],690000]\n",
      "\"Portuguese\"\t[[\"Brazil\"],26200000]\n",
      "\"Romanian\"\t[[\"Romania\"],758000]\n",
      "\"Russian\"\t[[\"Soviet Union\",\"Russia\"],133700000]\n",
      "\"Slovenian\"\t[[\"Slovenia\"],500000]\n",
      "\"Spanish\"\t[[\"USA\",\"Mexico\",\"Spain\",\"Italy\",\"Argentina\",\"Colombia\",\"Dominican Republic\"],951325775]\n",
      "\"Swahili\"\t[[\"Kenya\"],15000]\n",
      "\"Swedish\"\t[[\"Sweden\"],50400000]\n",
      "\"Tamil\"\t[[\"India\"],150000000]\n",
      "\"Telugu\"\t[[\"India\"],18026148]\n",
      "\"Thai\"\t[[\"Thailand\"],900000000]\n",
      "\"Urdu\"\t[[\"Pakistan\"],1000000]\n",
      "\"Vietnamese\"\t[[\"USA\"],1592000]\n",
      "\"Zulu\"\t[[\"UK\",\"South Africa\"],13000000]\n"
     ]
    }
   ],
   "source": [
    "# Hagamos una llamada al programa de consola desde aquí:\n",
    "\n",
    "! python language_budget_countries.py -q algunos_campos.txt"
   ]
  },
  {
   "cell_type": "code",
   "execution_count": null,
   "metadata": {},
   "outputs": [],
   "source": [
    "# Para que el resultado se almacene en un archivo:\n",
    "\n",
    "! python language_budget_countries.py -q algunos_campos.txt > language_countries_budgets.txt"
   ]
  },
  {
   "cell_type": "markdown",
   "metadata": {
    "collapsed": true,
    "jupyter": {
     "outputs_hidden": true
    }
   },
   "source": [
    "La siguiente celda me permite ver tu programa cómodamente desde aquí."
   ]
  },
  {
   "cell_type": "code",
   "execution_count": null,
   "metadata": {
    "scrolled": true
   },
   "outputs": [],
   "source": [
    "def print_file(filename):\n",
    "    with open(filename, \"r\") as f:\n",
    "        for line in f:\n",
    "            print(line, end=\"\")\n",
    "            \n",
    "print_file(\"language_budget_countries.py\")"
   ]
  },
  {
   "cell_type": "markdown",
   "metadata": {
    "collapsed": true,
    "jupyter": {
     "outputs_hidden": true
    }
   },
   "source": [
    "# Parte G. Un apartado libre [0.5 puntos]\n",
    "\n",
    "<br>\n",
    "\n",
    "<font color=\"green\">\n",
    "Dejo este apartado a tu voluntad. Inventa tú mismo el enunciado y resuélvelo.\n",
    "El enunciado deberá estar\n",
    "<b>relacionado con el análisis de datos y con el tema de este proyecto</b>.\n",
    "También, la idea es mostrar algún aspecto de programación en Python no contemplado o alguna técnica o librería que no has puesto en juego en los apartados anteriores. Concretamente, se valorará el uso de <b>la librería pandas</b>,\n",
    "que hemos estudiado de un modo bastante sucinto en este módulo y tratado de forma insuficiente en este proyecto de programación,\n",
    "o quizá puedes también usar alguna otra librería gráfica,\n",
    "distinta de matplotlib.\n",
    "    \n",
    "En la evaluación, si este apartado está bien o muy bien, anota un 0,3 o 0,4. El 0,5 lo reservaremos para las situaciones en que se presente algo brillante, con alguna idea original o alguna técnica novedosa o complejidad especial o algún gráfico vistoso. Especialmente quien opta a un 9,5 o más, debe esmerarse en plantear este apartado a la altura de esa calificación.\n",
    "</font>\n",
    "\n",
    "<br>\n",
    "\n",
    "<font color=\"darkblue\">\n",
    "Tras eliminar el párrafo anterior, en verde, sustituye éste por tu enunciado, cuya fuente aparecerá en azul oscuro.\n",
    "</font>"
   ]
  },
  {
   "cell_type": "code",
   "execution_count": null,
   "metadata": {},
   "outputs": [],
   "source": [
    "# Este apartado debe ser completado por el estudiante\n",
    "\n"
   ]
  },
  {
   "cell_type": "code",
   "execution_count": null,
   "metadata": {},
   "outputs": [],
   "source": [
    "# Pruebas de funcionamiento, también tarea del estudiante:\n",
    "\n"
   ]
  },
  {
   "cell_type": "markdown",
   "metadata": {
    "collapsed": true,
    "jupyter": {
     "outputs_hidden": true
    }
   },
   "source": [
    "# Datos personales\n",
    "\n",
    "<br>\n",
    "\n",
    "<font color=\"darkblue\">\n",
    "\n",
    "-   **Apellidos:** ......................................\n",
    "-   **Nombre:** ......................................\n",
    "-   **Email:** ......................................\n",
    "-   **Fecha:** ......................................\n",
    "\n",
    "<br>\n",
    "\n",
    "<font color=\"black\">\n",
    "    \n",
    "### Ficha de autoevaluación\n",
    "\n",
    "<br>\n",
    "\n",
    "<font color=\"green\">\n",
    "Aquí vienen comentarios del estudiante. Lo siguiente es un ejemplo posible obviamente ... elimina este párrafo y redacta el tuyo propio, en azul.\n",
    "</font>\n",
    "\n",
    "<br>\n",
    "\n",
    "<font color=\"darkblue\">\n",
    "    \n",
    "|Apartado|Calificación|Comentario|\n",
    "|-|-|-|\n",
    "|a)  |2.0  / 2.5  |Completamente resuelto |\n",
    "|b)  |0.0  / 2.0  |No lo he conseguido |\n",
    "|c)  |0.0  / 1.5  |No he entendido el enunciado |\n",
    "|d)  |0.25 / 1.0  |Sólo he conseguido una parte mínima |\n",
    "|e)  |0.0  / 2.0  |No lo he conseguido |\n",
    "|f)  |0.5  / 0.5  |No lo he conseguido más que mínimamente |\n",
    "|g)  |0.0  / 0.5  |No he logrado el correcto funcionamiento |\n",
    "|**Total** |**2.75** / 10.0|**Suspenso**|\n",
    "</font>\n",
    "\n",
    "<br>\n",
    "\n",
    "<font color=\"black\">\n",
    "   \n",
    "### Ayuda recibida y fuentes utilizadas\n",
    "    \n",
    "</font>\n",
    "\n",
    "<br>\n",
    "\n",
    "<font color=\"green\">\n",
    "... comentarios del estudiante ...\n",
    "Pon tú este párrafo con tus propias observaciones. Elimina este párrafo en verde.\n",
    "</font>\n",
    "\n",
    "<br>\n",
    "\n",
    "<font color=\"black\">\n",
    "    \n",
    "### Comentario adicional\n",
    "\n",
    "</font>\n",
    "\n",
    "<br>\n",
    "\n",
    "<font color=\"green\">\n",
    "... Este apartado es optativo. Si lo completas, ponlo en azul; si no, suprímelo con su título.\n",
    "\n",
    "<br>"
   ]
  },
  {
   "cell_type": "code",
   "execution_count": null,
   "metadata": {},
   "outputs": [],
   "source": [
    "# Esta celda se ha de respetar: está aquí para comprobar\n",
    "# el funcionamiento de algunas funciones por parte de tu profesor\n"
   ]
  }
 ],
 "metadata": {
  "kernelspec": {
   "display_name": "testvenv",
   "language": "python",
   "name": "python3"
  },
  "language_info": {
   "codemirror_mode": {
    "name": "ipython",
    "version": 3
   },
   "file_extension": ".py",
   "mimetype": "text/x-python",
   "name": "python",
   "nbconvert_exporter": "python",
   "pygments_lexer": "ipython3",
   "version": "3.11.10"
  }
 },
 "nbformat": 4,
 "nbformat_minor": 4
}
